{
  "cells": [
    {
      "cell_type": "markdown",
      "metadata": {
        "id": "hWqkkw_jDy8m"
      },
      "source": [
        "#### Vivian Xia\n",
        "\n",
        "## Assignment 3: Regression Based Models\n",
        "\n",
        "\n"
      ]
    },
    {
      "cell_type": "code",
      "execution_count": null,
      "metadata": {
        "id": "AbH7UErVDy8o"
      },
      "outputs": [],
      "source": [
        "import math\n",
        "import pandas as pd\n",
        "import numpy as np\n",
        "from operator import itemgetter\n",
        "\n",
        "\n",
        "import matplotlib.pyplot as plt\n",
        "import seaborn as sns\n",
        "\n",
        "\n",
        "from sklearn.model_selection import train_test_split\n",
        "import sklearn.metrics as metrics\n",
        "\n",
        "\n",
        "from sklearn import tree\n",
        "from sklearn.tree import _tree\n",
        "\n",
        "from sklearn.ensemble import RandomForestRegressor \n",
        "from sklearn.ensemble import RandomForestClassifier \n",
        "\n",
        "from sklearn.ensemble import GradientBoostingRegressor \n",
        "from sklearn.ensemble import GradientBoostingClassifier\n",
        "\n",
        "from sklearn.linear_model import LinearRegression\n",
        "from sklearn.linear_model import LogisticRegression\n",
        "from sklearn.metrics import classification_report, confusion_matrix\n",
        "\n",
        "from mlxtend.feature_selection import SequentialFeatureSelector as SFS\n",
        "from mlxtend.plotting import plot_sequential_feature_selection as plot_sfs\n",
        "\n",
        "import warnings\n",
        "warnings.filterwarnings(\"ignore\")"
      ]
    },
    {
      "cell_type": "code",
      "execution_count": null,
      "metadata": {
        "id": "UmL9Ai8QDy8p"
      },
      "outputs": [],
      "source": [
        "sns.set()\n",
        "pd.set_option('display.max_rows', None)\n",
        "pd.set_option('display.max_columns', None)\n",
        "pd.set_option('display.width', None)\n",
        "pd.set_option('display.max_colwidth', None)"
      ]
    },
    {
      "cell_type": "code",
      "execution_count": null,
      "metadata": {
        "id": "vBhpd0y5Dy8r"
      },
      "outputs": [],
      "source": [
        "TARGET_FLAG = 'TARGET_BAD_FLAG'\n",
        "TARGET_LOSS = 'TARGET_LOSS_AMT'"
      ]
    },
    {
      "cell_type": "code",
      "execution_count": null,
      "metadata": {
        "id": "0JE34WcHDy8r",
        "outputId": "01d4b45d-685f-4f1b-ad7c-1c57c30b0fec"
      },
      "outputs": [
        {
          "data": {
            "text/html": [
              "<div>\n",
              "<style scoped>\n",
              "    .dataframe tbody tr th:only-of-type {\n",
              "        vertical-align: middle;\n",
              "    }\n",
              "\n",
              "    .dataframe tbody tr th {\n",
              "        vertical-align: top;\n",
              "    }\n",
              "\n",
              "    .dataframe thead th {\n",
              "        text-align: right;\n",
              "    }\n",
              "</style>\n",
              "<table border=\"1\" class=\"dataframe\">\n",
              "  <thead>\n",
              "    <tr style=\"text-align: right;\">\n",
              "      <th></th>\n",
              "      <th>0</th>\n",
              "      <th>1</th>\n",
              "      <th>2</th>\n",
              "      <th>3</th>\n",
              "      <th>4</th>\n",
              "    </tr>\n",
              "  </thead>\n",
              "  <tbody>\n",
              "    <tr>\n",
              "      <th>TARGET_BAD_FLAG</th>\n",
              "      <td>1</td>\n",
              "      <td>1</td>\n",
              "      <td>1</td>\n",
              "      <td>1</td>\n",
              "      <td>0</td>\n",
              "    </tr>\n",
              "    <tr>\n",
              "      <th>TARGET_LOSS_AMT</th>\n",
              "      <td>641</td>\n",
              "      <td>1109</td>\n",
              "      <td>767</td>\n",
              "      <td>1425</td>\n",
              "      <td>NaN</td>\n",
              "    </tr>\n",
              "    <tr>\n",
              "      <th>LOAN</th>\n",
              "      <td>1100</td>\n",
              "      <td>1300</td>\n",
              "      <td>1500</td>\n",
              "      <td>1500</td>\n",
              "      <td>1700</td>\n",
              "    </tr>\n",
              "    <tr>\n",
              "      <th>MORTDUE</th>\n",
              "      <td>25860</td>\n",
              "      <td>70053</td>\n",
              "      <td>13500</td>\n",
              "      <td>NaN</td>\n",
              "      <td>97800</td>\n",
              "    </tr>\n",
              "    <tr>\n",
              "      <th>VALUE</th>\n",
              "      <td>39025</td>\n",
              "      <td>68400</td>\n",
              "      <td>16700</td>\n",
              "      <td>NaN</td>\n",
              "      <td>112000</td>\n",
              "    </tr>\n",
              "    <tr>\n",
              "      <th>REASON</th>\n",
              "      <td>HomeImp</td>\n",
              "      <td>HomeImp</td>\n",
              "      <td>HomeImp</td>\n",
              "      <td>NaN</td>\n",
              "      <td>HomeImp</td>\n",
              "    </tr>\n",
              "    <tr>\n",
              "      <th>JOB</th>\n",
              "      <td>Other</td>\n",
              "      <td>Other</td>\n",
              "      <td>Other</td>\n",
              "      <td>NaN</td>\n",
              "      <td>Office</td>\n",
              "    </tr>\n",
              "    <tr>\n",
              "      <th>YOJ</th>\n",
              "      <td>10.5</td>\n",
              "      <td>7</td>\n",
              "      <td>4</td>\n",
              "      <td>NaN</td>\n",
              "      <td>3</td>\n",
              "    </tr>\n",
              "    <tr>\n",
              "      <th>DEROG</th>\n",
              "      <td>0</td>\n",
              "      <td>0</td>\n",
              "      <td>0</td>\n",
              "      <td>NaN</td>\n",
              "      <td>0</td>\n",
              "    </tr>\n",
              "    <tr>\n",
              "      <th>DELINQ</th>\n",
              "      <td>0</td>\n",
              "      <td>2</td>\n",
              "      <td>0</td>\n",
              "      <td>NaN</td>\n",
              "      <td>0</td>\n",
              "    </tr>\n",
              "    <tr>\n",
              "      <th>CLAGE</th>\n",
              "      <td>94.3667</td>\n",
              "      <td>121.833</td>\n",
              "      <td>149.467</td>\n",
              "      <td>NaN</td>\n",
              "      <td>93.3333</td>\n",
              "    </tr>\n",
              "    <tr>\n",
              "      <th>NINQ</th>\n",
              "      <td>1</td>\n",
              "      <td>0</td>\n",
              "      <td>1</td>\n",
              "      <td>NaN</td>\n",
              "      <td>0</td>\n",
              "    </tr>\n",
              "    <tr>\n",
              "      <th>CLNO</th>\n",
              "      <td>9</td>\n",
              "      <td>14</td>\n",
              "      <td>10</td>\n",
              "      <td>NaN</td>\n",
              "      <td>14</td>\n",
              "    </tr>\n",
              "    <tr>\n",
              "      <th>DEBTINC</th>\n",
              "      <td>NaN</td>\n",
              "      <td>NaN</td>\n",
              "      <td>NaN</td>\n",
              "      <td>NaN</td>\n",
              "      <td>NaN</td>\n",
              "    </tr>\n",
              "  </tbody>\n",
              "</table>\n",
              "</div>"
            ],
            "text/plain": [
              "                       0        1        2     3        4\n",
              "TARGET_BAD_FLAG        1        1        1     1        0\n",
              "TARGET_LOSS_AMT      641     1109      767  1425      NaN\n",
              "LOAN                1100     1300     1500  1500     1700\n",
              "MORTDUE            25860    70053    13500   NaN    97800\n",
              "VALUE              39025    68400    16700   NaN   112000\n",
              "REASON           HomeImp  HomeImp  HomeImp   NaN  HomeImp\n",
              "JOB                Other    Other    Other   NaN   Office\n",
              "YOJ                 10.5        7        4   NaN        3\n",
              "DEROG                  0        0        0   NaN        0\n",
              "DELINQ                 0        2        0   NaN        0\n",
              "CLAGE            94.3667  121.833  149.467   NaN  93.3333\n",
              "NINQ                   1        0        1   NaN        0\n",
              "CLNO                   9       14       10   NaN       14\n",
              "DEBTINC              NaN      NaN      NaN   NaN      NaN"
            ]
          },
          "execution_count": 62,
          "metadata": {},
          "output_type": "execute_result"
        }
      ],
      "source": [
        "df = pd.read_csv('HMEQ_Loss.csv')\n",
        "df.head().T"
      ]
    },
    {
      "cell_type": "markdown",
      "metadata": {
        "id": "IkMnHOq2Dy8r"
      },
      "source": [
        "### EDA and Fill in Missing Values\n",
        "Simplified version of Assignment 1"
      ]
    },
    {
      "cell_type": "code",
      "execution_count": null,
      "metadata": {
        "id": "u9-HlnF0Dy8s",
        "outputId": "97e90bdd-4c46-449a-a881-9aa22b7bb095"
      },
      "outputs": [
        {
          "name": "stdout",
          "output_type": "stream",
          "text": [
            "                  count           mean           std          min  \\\n",
            "TARGET_BAD_FLAG  5960.0       0.199497      0.399656     0.000000   \n",
            "TARGET_LOSS_AMT  1189.0   13414.576955  10839.455965   224.000000   \n",
            "LOAN             5960.0   18607.969799  11207.480417  1100.000000   \n",
            "MORTDUE          5442.0   73760.817200  44457.609458  2063.000000   \n",
            "VALUE            5848.0  101776.048741  57385.775334  8000.000000   \n",
            "YOJ              5445.0       8.922268      7.573982     0.000000   \n",
            "DEROG            5252.0       0.254570      0.846047     0.000000   \n",
            "DELINQ           5380.0       0.449442      1.127266     0.000000   \n",
            "CLAGE            5652.0     179.766275     85.810092     0.000000   \n",
            "NINQ             5450.0       1.186055      1.728675     0.000000   \n",
            "CLNO             5738.0      21.296096     10.138933     0.000000   \n",
            "DEBTINC          4693.0      33.779915      8.601746     0.524499   \n",
            "\n",
            "                          25%           50%            75%            max  \n",
            "TARGET_BAD_FLAG      0.000000      0.000000       0.000000       1.000000  \n",
            "TARGET_LOSS_AMT   5639.000000  11003.000000   17634.000000   78987.000000  \n",
            "LOAN             11100.000000  16300.000000   23300.000000   89900.000000  \n",
            "MORTDUE          46276.000000  65019.000000   91488.000000  399550.000000  \n",
            "VALUE            66075.500000  89235.500000  119824.250000  855909.000000  \n",
            "YOJ                  3.000000      7.000000      13.000000      41.000000  \n",
            "DEROG                0.000000      0.000000       0.000000      10.000000  \n",
            "DELINQ               0.000000      0.000000       0.000000      15.000000  \n",
            "CLAGE              115.116702    173.466667     231.562278    1168.233561  \n",
            "NINQ                 0.000000      1.000000       2.000000      17.000000  \n",
            "CLNO                15.000000     20.000000      26.000000      71.000000  \n",
            "DEBTINC             29.140031     34.818262      39.003141     203.312149  \n"
          ]
        }
      ],
      "source": [
        "dt = df.dtypes\n",
        "x = df.describe().T \n",
        "print(x)"
      ]
    },
    {
      "cell_type": "code",
      "execution_count": null,
      "metadata": {
        "id": "1uKesD4HDy8s",
        "outputId": "c5395d4f-b464-4cf3-fd3f-1e6d3e60294c"
      },
      "outputs": [
        {
          "name": "stdout",
          "output_type": "stream",
          "text": [
            "-- OBJECTS --\n",
            "REASON\n",
            "JOB\n",
            "\n",
            "\n",
            "-- INTEGER --\n",
            "LOAN\n",
            "\n",
            "\n",
            "-- FLOAT --\n",
            "MORTDUE\n",
            "VALUE\n",
            "YOJ\n",
            "DEROG\n",
            "DELINQ\n",
            "CLAGE\n",
            "NINQ\n",
            "CLNO\n",
            "DEBTINC\n",
            "\n",
            "\n"
          ]
        }
      ],
      "source": [
        "#classiify variables into list based on their datatype\n",
        "objList = []\n",
        "intList = []\n",
        "floatList = []\n",
        "\n",
        "for i in dt.index:\n",
        "  if i in ([TARGET_FLAG, TARGET_LOSS]) : continue \n",
        "  if dt[i] in ([\"object\"]): objList.append(i)\n",
        "  if dt[i] in ([\"float64\"]): floatList.append(i)\n",
        "  if dt[i] in ([\"int64\"]): intList.append(i)\n",
        "\n",
        "\n",
        "print(\"-- OBJECTS --\")\n",
        "for i in objList:\n",
        "  print(i)\n",
        "print(\"\\n\")\n",
        "\n",
        "print(\"-- INTEGER --\")\n",
        "for i in intList: \n",
        "  print(i)\n",
        "print(\"\\n\")\n",
        "\n",
        "print(\"-- FLOAT --\")\n",
        "for i in floatList: \n",
        "  print(i)\n",
        "print(\"\\n\")"
      ]
    },
    {
      "cell_type": "code",
      "execution_count": null,
      "metadata": {
        "id": "derbIOWVDy8t"
      },
      "outputs": [],
      "source": [
        "#create new variable with filled in \"MISSING\" value for NaN values \n",
        "for i in objList :\n",
        "    if df[i].isna().sum() == 0 : continue\n",
        "    NAME = \"IMP_\"+i\n",
        "    df[NAME] = df[i]\n",
        "    df[NAME] = df[NAME].fillna(\"MISSING\")\n",
        "    g = df.groupby( NAME )\n",
        "    df = df.drop( i, axis=1 )"
      ]
    },
    {
      "cell_type": "code",
      "execution_count": null,
      "metadata": {
        "id": "K82Vjfi9Dy8t",
        "outputId": "6219bd93-4644-47d4-d559-222bc3a2e824"
      },
      "outputs": [
        {
          "name": "stdout",
          "output_type": "stream",
          "text": [
            " OBJECTS \n",
            " ------- \n",
            "IMP_REASON\n",
            "IMP_JOB\n",
            " ------- \n",
            "\n",
            "\n",
            " NUMBER \n",
            " ------- \n",
            "LOAN\n",
            "MORTDUE\n",
            "VALUE\n",
            "YOJ\n",
            "DEROG\n",
            "DELINQ\n",
            "CLAGE\n",
            "NINQ\n",
            "CLNO\n",
            "DEBTINC\n",
            " ------- \n"
          ]
        }
      ],
      "source": [
        "#create a new list of categorical and numerical variables\n",
        "dt = df.dtypes\n",
        "objList = []\n",
        "numList = []\n",
        "for i in dt.index :\n",
        "    if i in ( [ TARGET_FLAG, TARGET_LOSS ] ) : continue\n",
        "    if dt[i] in ([\"object\"]) : objList.append( i )\n",
        "    if dt[i] in ([\"float64\",\"int64\"]) : numList.append( i )\n",
        "\n",
        "\n",
        "print(\" OBJECTS \")\n",
        "print(\" ------- \")\n",
        "for i in objList :\n",
        "    print( i )\n",
        "print(\" ------- \\n\\n\")\n",
        "\n",
        "\n",
        "print(\" NUMBER \")\n",
        "print(\" ------- \")\n",
        "for i in numList :\n",
        "    print( i )\n",
        "print(\" ------- \")"
      ]
    },
    {
      "cell_type": "code",
      "execution_count": null,
      "metadata": {
        "id": "UAmL1utDDy8t"
      },
      "outputs": [],
      "source": [
        "#encode the objects IMP_REASON and IMP_JOB then drop the original columns\n",
        "for i in objList :\n",
        "    thePrefix = \"z_\" + i\n",
        "    y = pd.get_dummies( df[i], prefix=thePrefix, drop_first=True ) \n",
        "    df = pd.concat( [df, y], axis=1 )\n",
        "    df = df.drop( i, axis=1 )"
      ]
    },
    {
      "cell_type": "code",
      "execution_count": null,
      "metadata": {
        "id": "w0HecjcmDy8u",
        "outputId": "72fd29f3-7379-4a56-8d62-cfe80990960d"
      },
      "outputs": [
        {
          "name": "stdout",
          "output_type": "stream",
          "text": [
            "                                 0             1             2             3  \\\n",
            "TARGET_BAD_FLAG           1.000000      1.000000      1.000000      1.000000   \n",
            "TARGET_LOSS_AMT         641.000000   1109.000000    767.000000   1425.000000   \n",
            "LOAN                   1100.000000   1300.000000   1500.000000   1500.000000   \n",
            "z_IMP_REASON_HomeImp      1.000000      1.000000      1.000000      0.000000   \n",
            "z_IMP_REASON_MISSING      0.000000      0.000000      0.000000      1.000000   \n",
            "z_IMP_JOB_Mgr             0.000000      0.000000      0.000000      0.000000   \n",
            "z_IMP_JOB_Office          0.000000      0.000000      0.000000      0.000000   \n",
            "z_IMP_JOB_Other           1.000000      1.000000      1.000000      0.000000   \n",
            "z_IMP_JOB_ProfExe         0.000000      0.000000      0.000000      0.000000   \n",
            "z_IMP_JOB_Sales           0.000000      0.000000      0.000000      0.000000   \n",
            "z_IMP_JOB_Self            0.000000      0.000000      0.000000      0.000000   \n",
            "M_MORTDUE                 0.000000      0.000000      0.000000      1.000000   \n",
            "IMP_MORTDUE           25860.000000  70053.000000  13500.000000  65019.000000   \n",
            "M_VALUE                   0.000000      0.000000      0.000000      1.000000   \n",
            "IMP_VALUE             39025.000000  68400.000000  16700.000000  89235.500000   \n",
            "M_YOJ                     0.000000      0.000000      0.000000      1.000000   \n",
            "IMP_YOJ                  10.500000      7.000000      4.000000      7.000000   \n",
            "M_DEROG                   0.000000      0.000000      0.000000      1.000000   \n",
            "IMP_DEROG                 0.000000      0.000000      0.000000      0.000000   \n",
            "M_DELINQ                  0.000000      0.000000      0.000000      1.000000   \n",
            "IMP_DELINQ                0.000000      2.000000      0.000000      0.000000   \n",
            "M_CLAGE                   0.000000      0.000000      0.000000      1.000000   \n",
            "IMP_CLAGE                94.366667    121.833333    149.466667    173.466667   \n",
            "M_NINQ                    0.000000      0.000000      0.000000      1.000000   \n",
            "IMP_NINQ                  1.000000      0.000000      1.000000      1.000000   \n",
            "M_CLNO                    0.000000      0.000000      0.000000      1.000000   \n",
            "IMP_CLNO                  9.000000     14.000000     10.000000     20.000000   \n",
            "M_DEBTINC                 1.000000      1.000000      1.000000      1.000000   \n",
            "IMP_DEBTINC              34.818262     34.818262     34.818262     34.818262   \n",
            "\n",
            "                                  4  \n",
            "TARGET_BAD_FLAG            0.000000  \n",
            "TARGET_LOSS_AMT                 NaN  \n",
            "LOAN                    1700.000000  \n",
            "z_IMP_REASON_HomeImp       1.000000  \n",
            "z_IMP_REASON_MISSING       0.000000  \n",
            "z_IMP_JOB_Mgr              0.000000  \n",
            "z_IMP_JOB_Office           1.000000  \n",
            "z_IMP_JOB_Other            0.000000  \n",
            "z_IMP_JOB_ProfExe          0.000000  \n",
            "z_IMP_JOB_Sales            0.000000  \n",
            "z_IMP_JOB_Self             0.000000  \n",
            "M_MORTDUE                  0.000000  \n",
            "IMP_MORTDUE            97800.000000  \n",
            "M_VALUE                    0.000000  \n",
            "IMP_VALUE             112000.000000  \n",
            "M_YOJ                      0.000000  \n",
            "IMP_YOJ                    3.000000  \n",
            "M_DEROG                    0.000000  \n",
            "IMP_DEROG                  0.000000  \n",
            "M_DELINQ                   0.000000  \n",
            "IMP_DELINQ                 0.000000  \n",
            "M_CLAGE                    0.000000  \n",
            "IMP_CLAGE                 93.333333  \n",
            "M_NINQ                     0.000000  \n",
            "IMP_NINQ                   0.000000  \n",
            "M_CLNO                     0.000000  \n",
            "IMP_CLNO                  14.000000  \n",
            "M_DEBTINC                  1.000000  \n",
            "IMP_DEBTINC               34.818262  \n"
          ]
        }
      ],
      "source": [
        "for i in numList :\n",
        "    if df[i].isna().sum() == 0 : continue #if no values are missing then continue\n",
        "    FLAG = \"M_\" + i #notes that there was a missing value here -- highly predictive to know it was missing \n",
        "    IMP = \"IMP_\" + i\n",
        "    df[ FLAG ] = df[i].isna() + 0 #add zero and Python will know that if TRUE it's a 1 and FALSE it's a 0\n",
        "    df[ IMP ] = df[ i ] #create an exact copy of the column\n",
        "    df.loc[ df[IMP].isna(), IMP ] = df[i].median() #fill missing with the median of the variable\n",
        "    df = df.drop( i, axis=1 )\n",
        "\n",
        "print(df.head().T)"
      ]
    },
    {
      "cell_type": "markdown",
      "metadata": {
        "id": "dTTtmb24Dy8u"
      },
      "source": [
        "### Remove Outliers"
      ]
    },
    {
      "cell_type": "code",
      "execution_count": null,
      "metadata": {
        "id": "3_s9m70_Dy8u"
      },
      "outputs": [],
      "source": [
        "dt = df.dtypes\n",
        "numList = []\n",
        "for i in dt.index :\n",
        "    #print(i, dt[i])\n",
        "    if i in ( [ TARGET_FLAG, TARGET_LOSS ] ) : continue\n",
        "    if dt[i] in ([\"float64\",\"int64\"]) : numList.append( i )"
      ]
    },
    {
      "cell_type": "code",
      "execution_count": null,
      "metadata": {
        "scrolled": true,
        "id": "9KQ4LEfGDy8v",
        "outputId": "f8aeff65-b902-4799-8975-f694d84a507a"
      },
      "outputs": [
        {
          "data": {
            "text/html": [
              "<div>\n",
              "<style scoped>\n",
              "    .dataframe tbody tr th:only-of-type {\n",
              "        vertical-align: middle;\n",
              "    }\n",
              "\n",
              "    .dataframe tbody tr th {\n",
              "        vertical-align: top;\n",
              "    }\n",
              "\n",
              "    .dataframe thead th {\n",
              "        text-align: right;\n",
              "    }\n",
              "</style>\n",
              "<table border=\"1\" class=\"dataframe\">\n",
              "  <thead>\n",
              "    <tr style=\"text-align: right;\">\n",
              "      <th></th>\n",
              "      <th>count</th>\n",
              "      <th>mean</th>\n",
              "      <th>std</th>\n",
              "      <th>min</th>\n",
              "      <th>25%</th>\n",
              "      <th>50%</th>\n",
              "      <th>75%</th>\n",
              "      <th>max</th>\n",
              "    </tr>\n",
              "  </thead>\n",
              "  <tbody>\n",
              "    <tr>\n",
              "      <th>TARGET_BAD_FLAG</th>\n",
              "      <td>5960.0</td>\n",
              "      <td>0.199497</td>\n",
              "      <td>0.399656</td>\n",
              "      <td>0.000000</td>\n",
              "      <td>0.000000</td>\n",
              "      <td>0.000000</td>\n",
              "      <td>0.000000</td>\n",
              "      <td>1.000000</td>\n",
              "    </tr>\n",
              "    <tr>\n",
              "      <th>TARGET_LOSS_AMT</th>\n",
              "      <td>1189.0</td>\n",
              "      <td>13414.576955</td>\n",
              "      <td>10839.455965</td>\n",
              "      <td>224.000000</td>\n",
              "      <td>5639.000000</td>\n",
              "      <td>11003.000000</td>\n",
              "      <td>17634.000000</td>\n",
              "      <td>78987.000000</td>\n",
              "    </tr>\n",
              "    <tr>\n",
              "      <th>LOAN</th>\n",
              "      <td>5960.0</td>\n",
              "      <td>18607.969799</td>\n",
              "      <td>11207.480417</td>\n",
              "      <td>1100.000000</td>\n",
              "      <td>11100.000000</td>\n",
              "      <td>16300.000000</td>\n",
              "      <td>23300.000000</td>\n",
              "      <td>89900.000000</td>\n",
              "    </tr>\n",
              "    <tr>\n",
              "      <th>z_IMP_REASON_HomeImp</th>\n",
              "      <td>5960.0</td>\n",
              "      <td>0.298658</td>\n",
              "      <td>0.457708</td>\n",
              "      <td>0.000000</td>\n",
              "      <td>0.000000</td>\n",
              "      <td>0.000000</td>\n",
              "      <td>1.000000</td>\n",
              "      <td>1.000000</td>\n",
              "    </tr>\n",
              "    <tr>\n",
              "      <th>z_IMP_REASON_MISSING</th>\n",
              "      <td>5960.0</td>\n",
              "      <td>0.042282</td>\n",
              "      <td>0.201248</td>\n",
              "      <td>0.000000</td>\n",
              "      <td>0.000000</td>\n",
              "      <td>0.000000</td>\n",
              "      <td>0.000000</td>\n",
              "      <td>1.000000</td>\n",
              "    </tr>\n",
              "    <tr>\n",
              "      <th>z_IMP_JOB_Mgr</th>\n",
              "      <td>5960.0</td>\n",
              "      <td>0.128691</td>\n",
              "      <td>0.334886</td>\n",
              "      <td>0.000000</td>\n",
              "      <td>0.000000</td>\n",
              "      <td>0.000000</td>\n",
              "      <td>0.000000</td>\n",
              "      <td>1.000000</td>\n",
              "    </tr>\n",
              "    <tr>\n",
              "      <th>z_IMP_JOB_Office</th>\n",
              "      <td>5960.0</td>\n",
              "      <td>0.159060</td>\n",
              "      <td>0.365763</td>\n",
              "      <td>0.000000</td>\n",
              "      <td>0.000000</td>\n",
              "      <td>0.000000</td>\n",
              "      <td>0.000000</td>\n",
              "      <td>1.000000</td>\n",
              "    </tr>\n",
              "    <tr>\n",
              "      <th>z_IMP_JOB_Other</th>\n",
              "      <td>5960.0</td>\n",
              "      <td>0.400671</td>\n",
              "      <td>0.490076</td>\n",
              "      <td>0.000000</td>\n",
              "      <td>0.000000</td>\n",
              "      <td>0.000000</td>\n",
              "      <td>1.000000</td>\n",
              "      <td>1.000000</td>\n",
              "    </tr>\n",
              "    <tr>\n",
              "      <th>z_IMP_JOB_ProfExe</th>\n",
              "      <td>5960.0</td>\n",
              "      <td>0.214094</td>\n",
              "      <td>0.410227</td>\n",
              "      <td>0.000000</td>\n",
              "      <td>0.000000</td>\n",
              "      <td>0.000000</td>\n",
              "      <td>0.000000</td>\n",
              "      <td>1.000000</td>\n",
              "    </tr>\n",
              "    <tr>\n",
              "      <th>z_IMP_JOB_Sales</th>\n",
              "      <td>5960.0</td>\n",
              "      <td>0.018289</td>\n",
              "      <td>0.134004</td>\n",
              "      <td>0.000000</td>\n",
              "      <td>0.000000</td>\n",
              "      <td>0.000000</td>\n",
              "      <td>0.000000</td>\n",
              "      <td>1.000000</td>\n",
              "    </tr>\n",
              "    <tr>\n",
              "      <th>z_IMP_JOB_Self</th>\n",
              "      <td>5960.0</td>\n",
              "      <td>0.032383</td>\n",
              "      <td>0.177029</td>\n",
              "      <td>0.000000</td>\n",
              "      <td>0.000000</td>\n",
              "      <td>0.000000</td>\n",
              "      <td>0.000000</td>\n",
              "      <td>1.000000</td>\n",
              "    </tr>\n",
              "    <tr>\n",
              "      <th>M_MORTDUE</th>\n",
              "      <td>5960.0</td>\n",
              "      <td>0.086913</td>\n",
              "      <td>0.281731</td>\n",
              "      <td>0.000000</td>\n",
              "      <td>0.000000</td>\n",
              "      <td>0.000000</td>\n",
              "      <td>0.000000</td>\n",
              "      <td>1.000000</td>\n",
              "    </tr>\n",
              "    <tr>\n",
              "      <th>IMP_MORTDUE</th>\n",
              "      <td>5960.0</td>\n",
              "      <td>73001.041812</td>\n",
              "      <td>42552.726779</td>\n",
              "      <td>2063.000000</td>\n",
              "      <td>48139.000000</td>\n",
              "      <td>65019.000000</td>\n",
              "      <td>88200.250000</td>\n",
              "      <td>399550.000000</td>\n",
              "    </tr>\n",
              "    <tr>\n",
              "      <th>M_VALUE</th>\n",
              "      <td>5960.0</td>\n",
              "      <td>0.018792</td>\n",
              "      <td>0.135801</td>\n",
              "      <td>0.000000</td>\n",
              "      <td>0.000000</td>\n",
              "      <td>0.000000</td>\n",
              "      <td>0.000000</td>\n",
              "      <td>1.000000</td>\n",
              "    </tr>\n",
              "    <tr>\n",
              "      <th>IMP_VALUE</th>\n",
              "      <td>5960.0</td>\n",
              "      <td>101540.387423</td>\n",
              "      <td>56869.436682</td>\n",
              "      <td>8000.000000</td>\n",
              "      <td>66489.500000</td>\n",
              "      <td>89235.500000</td>\n",
              "      <td>119004.750000</td>\n",
              "      <td>855909.000000</td>\n",
              "    </tr>\n",
              "    <tr>\n",
              "      <th>M_YOJ</th>\n",
              "      <td>5960.0</td>\n",
              "      <td>0.086409</td>\n",
              "      <td>0.280991</td>\n",
              "      <td>0.000000</td>\n",
              "      <td>0.000000</td>\n",
              "      <td>0.000000</td>\n",
              "      <td>0.000000</td>\n",
              "      <td>1.000000</td>\n",
              "    </tr>\n",
              "    <tr>\n",
              "      <th>IMP_YOJ</th>\n",
              "      <td>5960.0</td>\n",
              "      <td>8.756166</td>\n",
              "      <td>7.259424</td>\n",
              "      <td>0.000000</td>\n",
              "      <td>3.000000</td>\n",
              "      <td>7.000000</td>\n",
              "      <td>12.000000</td>\n",
              "      <td>41.000000</td>\n",
              "    </tr>\n",
              "    <tr>\n",
              "      <th>M_DEROG</th>\n",
              "      <td>5960.0</td>\n",
              "      <td>0.118792</td>\n",
              "      <td>0.323571</td>\n",
              "      <td>0.000000</td>\n",
              "      <td>0.000000</td>\n",
              "      <td>0.000000</td>\n",
              "      <td>0.000000</td>\n",
              "      <td>1.000000</td>\n",
              "    </tr>\n",
              "    <tr>\n",
              "      <th>IMP_DEROG</th>\n",
              "      <td>5960.0</td>\n",
              "      <td>0.224329</td>\n",
              "      <td>0.798458</td>\n",
              "      <td>0.000000</td>\n",
              "      <td>0.000000</td>\n",
              "      <td>0.000000</td>\n",
              "      <td>0.000000</td>\n",
              "      <td>10.000000</td>\n",
              "    </tr>\n",
              "    <tr>\n",
              "      <th>M_DELINQ</th>\n",
              "      <td>5960.0</td>\n",
              "      <td>0.097315</td>\n",
              "      <td>0.296412</td>\n",
              "      <td>0.000000</td>\n",
              "      <td>0.000000</td>\n",
              "      <td>0.000000</td>\n",
              "      <td>0.000000</td>\n",
              "      <td>1.000000</td>\n",
              "    </tr>\n",
              "    <tr>\n",
              "      <th>IMP_DELINQ</th>\n",
              "      <td>5960.0</td>\n",
              "      <td>0.405705</td>\n",
              "      <td>1.079256</td>\n",
              "      <td>0.000000</td>\n",
              "      <td>0.000000</td>\n",
              "      <td>0.000000</td>\n",
              "      <td>0.000000</td>\n",
              "      <td>15.000000</td>\n",
              "    </tr>\n",
              "    <tr>\n",
              "      <th>M_CLAGE</th>\n",
              "      <td>5960.0</td>\n",
              "      <td>0.051678</td>\n",
              "      <td>0.221394</td>\n",
              "      <td>0.000000</td>\n",
              "      <td>0.000000</td>\n",
              "      <td>0.000000</td>\n",
              "      <td>0.000000</td>\n",
              "      <td>1.000000</td>\n",
              "    </tr>\n",
              "    <tr>\n",
              "      <th>IMP_CLAGE</th>\n",
              "      <td>5960.0</td>\n",
              "      <td>179.440725</td>\n",
              "      <td>83.574697</td>\n",
              "      <td>0.000000</td>\n",
              "      <td>117.371430</td>\n",
              "      <td>173.466667</td>\n",
              "      <td>227.143058</td>\n",
              "      <td>1168.233561</td>\n",
              "    </tr>\n",
              "    <tr>\n",
              "      <th>M_NINQ</th>\n",
              "      <td>5960.0</td>\n",
              "      <td>0.085570</td>\n",
              "      <td>0.279752</td>\n",
              "      <td>0.000000</td>\n",
              "      <td>0.000000</td>\n",
              "      <td>0.000000</td>\n",
              "      <td>0.000000</td>\n",
              "      <td>1.000000</td>\n",
              "    </tr>\n",
              "    <tr>\n",
              "      <th>IMP_NINQ</th>\n",
              "      <td>5960.0</td>\n",
              "      <td>1.170134</td>\n",
              "      <td>1.653866</td>\n",
              "      <td>0.000000</td>\n",
              "      <td>0.000000</td>\n",
              "      <td>1.000000</td>\n",
              "      <td>2.000000</td>\n",
              "      <td>17.000000</td>\n",
              "    </tr>\n",
              "    <tr>\n",
              "      <th>M_CLNO</th>\n",
              "      <td>5960.0</td>\n",
              "      <td>0.037248</td>\n",
              "      <td>0.189386</td>\n",
              "      <td>0.000000</td>\n",
              "      <td>0.000000</td>\n",
              "      <td>0.000000</td>\n",
              "      <td>0.000000</td>\n",
              "      <td>1.000000</td>\n",
              "    </tr>\n",
              "    <tr>\n",
              "      <th>IMP_CLNO</th>\n",
              "      <td>5960.0</td>\n",
              "      <td>21.247819</td>\n",
              "      <td>9.951308</td>\n",
              "      <td>0.000000</td>\n",
              "      <td>15.000000</td>\n",
              "      <td>20.000000</td>\n",
              "      <td>26.000000</td>\n",
              "      <td>71.000000</td>\n",
              "    </tr>\n",
              "    <tr>\n",
              "      <th>M_DEBTINC</th>\n",
              "      <td>5960.0</td>\n",
              "      <td>0.212584</td>\n",
              "      <td>0.409170</td>\n",
              "      <td>0.000000</td>\n",
              "      <td>0.000000</td>\n",
              "      <td>0.000000</td>\n",
              "      <td>0.000000</td>\n",
              "      <td>1.000000</td>\n",
              "    </tr>\n",
              "    <tr>\n",
              "      <th>IMP_DEBTINC</th>\n",
              "      <td>5960.0</td>\n",
              "      <td>34.000651</td>\n",
              "      <td>7.644528</td>\n",
              "      <td>0.524499</td>\n",
              "      <td>30.763159</td>\n",
              "      <td>34.818262</td>\n",
              "      <td>37.949892</td>\n",
              "      <td>203.312149</td>\n",
              "    </tr>\n",
              "  </tbody>\n",
              "</table>\n",
              "</div>"
            ],
            "text/plain": [
              "                       count           mean           std          min  \\\n",
              "TARGET_BAD_FLAG       5960.0       0.199497      0.399656     0.000000   \n",
              "TARGET_LOSS_AMT       1189.0   13414.576955  10839.455965   224.000000   \n",
              "LOAN                  5960.0   18607.969799  11207.480417  1100.000000   \n",
              "z_IMP_REASON_HomeImp  5960.0       0.298658      0.457708     0.000000   \n",
              "z_IMP_REASON_MISSING  5960.0       0.042282      0.201248     0.000000   \n",
              "z_IMP_JOB_Mgr         5960.0       0.128691      0.334886     0.000000   \n",
              "z_IMP_JOB_Office      5960.0       0.159060      0.365763     0.000000   \n",
              "z_IMP_JOB_Other       5960.0       0.400671      0.490076     0.000000   \n",
              "z_IMP_JOB_ProfExe     5960.0       0.214094      0.410227     0.000000   \n",
              "z_IMP_JOB_Sales       5960.0       0.018289      0.134004     0.000000   \n",
              "z_IMP_JOB_Self        5960.0       0.032383      0.177029     0.000000   \n",
              "M_MORTDUE             5960.0       0.086913      0.281731     0.000000   \n",
              "IMP_MORTDUE           5960.0   73001.041812  42552.726779  2063.000000   \n",
              "M_VALUE               5960.0       0.018792      0.135801     0.000000   \n",
              "IMP_VALUE             5960.0  101540.387423  56869.436682  8000.000000   \n",
              "M_YOJ                 5960.0       0.086409      0.280991     0.000000   \n",
              "IMP_YOJ               5960.0       8.756166      7.259424     0.000000   \n",
              "M_DEROG               5960.0       0.118792      0.323571     0.000000   \n",
              "IMP_DEROG             5960.0       0.224329      0.798458     0.000000   \n",
              "M_DELINQ              5960.0       0.097315      0.296412     0.000000   \n",
              "IMP_DELINQ            5960.0       0.405705      1.079256     0.000000   \n",
              "M_CLAGE               5960.0       0.051678      0.221394     0.000000   \n",
              "IMP_CLAGE             5960.0     179.440725     83.574697     0.000000   \n",
              "M_NINQ                5960.0       0.085570      0.279752     0.000000   \n",
              "IMP_NINQ              5960.0       1.170134      1.653866     0.000000   \n",
              "M_CLNO                5960.0       0.037248      0.189386     0.000000   \n",
              "IMP_CLNO              5960.0      21.247819      9.951308     0.000000   \n",
              "M_DEBTINC             5960.0       0.212584      0.409170     0.000000   \n",
              "IMP_DEBTINC           5960.0      34.000651      7.644528     0.524499   \n",
              "\n",
              "                               25%           50%            75%            max  \n",
              "TARGET_BAD_FLAG           0.000000      0.000000       0.000000       1.000000  \n",
              "TARGET_LOSS_AMT        5639.000000  11003.000000   17634.000000   78987.000000  \n",
              "LOAN                  11100.000000  16300.000000   23300.000000   89900.000000  \n",
              "z_IMP_REASON_HomeImp      0.000000      0.000000       1.000000       1.000000  \n",
              "z_IMP_REASON_MISSING      0.000000      0.000000       0.000000       1.000000  \n",
              "z_IMP_JOB_Mgr             0.000000      0.000000       0.000000       1.000000  \n",
              "z_IMP_JOB_Office          0.000000      0.000000       0.000000       1.000000  \n",
              "z_IMP_JOB_Other           0.000000      0.000000       1.000000       1.000000  \n",
              "z_IMP_JOB_ProfExe         0.000000      0.000000       0.000000       1.000000  \n",
              "z_IMP_JOB_Sales           0.000000      0.000000       0.000000       1.000000  \n",
              "z_IMP_JOB_Self            0.000000      0.000000       0.000000       1.000000  \n",
              "M_MORTDUE                 0.000000      0.000000       0.000000       1.000000  \n",
              "IMP_MORTDUE           48139.000000  65019.000000   88200.250000  399550.000000  \n",
              "M_VALUE                   0.000000      0.000000       0.000000       1.000000  \n",
              "IMP_VALUE             66489.500000  89235.500000  119004.750000  855909.000000  \n",
              "M_YOJ                     0.000000      0.000000       0.000000       1.000000  \n",
              "IMP_YOJ                   3.000000      7.000000      12.000000      41.000000  \n",
              "M_DEROG                   0.000000      0.000000       0.000000       1.000000  \n",
              "IMP_DEROG                 0.000000      0.000000       0.000000      10.000000  \n",
              "M_DELINQ                  0.000000      0.000000       0.000000       1.000000  \n",
              "IMP_DELINQ                0.000000      0.000000       0.000000      15.000000  \n",
              "M_CLAGE                   0.000000      0.000000       0.000000       1.000000  \n",
              "IMP_CLAGE               117.371430    173.466667     227.143058    1168.233561  \n",
              "M_NINQ                    0.000000      0.000000       0.000000       1.000000  \n",
              "IMP_NINQ                  0.000000      1.000000       2.000000      17.000000  \n",
              "M_CLNO                    0.000000      0.000000       0.000000       1.000000  \n",
              "IMP_CLNO                 15.000000     20.000000      26.000000      71.000000  \n",
              "M_DEBTINC                 0.000000      0.000000       0.000000       1.000000  \n",
              "IMP_DEBTINC              30.763159     34.818262      37.949892     203.312149  "
            ]
          },
          "execution_count": 70,
          "metadata": {},
          "output_type": "execute_result"
        }
      ],
      "source": [
        "df.describe().T"
      ]
    },
    {
      "cell_type": "code",
      "execution_count": null,
      "metadata": {
        "scrolled": true,
        "id": "j42_yk78Dy8v",
        "outputId": "50337fa7-63a8-485c-e152-73153b88c54d"
      },
      "outputs": [
        {
          "name": "stdout",
          "output_type": "stream",
          "text": [
            "LOAN\n"
          ]
        },
        {
          "data": {
            "image/png": "[encoded data removed]",
            "text/plain": [
              "<Figure size 432x288 with 1 Axes>"
            ]
          },
          "metadata": {},
          "output_type": "display_data"
        },
        {
          "name": "stdout",
          "output_type": "stream",
          "text": [
            "M_MORTDUE\n"
          ]
        },
        {
          "data": {
            "image/png": "[encoded data removed]",
            "text/plain": [
              "<Figure size 432x288 with 1 Axes>"
            ]
          },
          "metadata": {},
          "output_type": "display_data"
        },
        {
          "name": "stdout",
          "output_type": "stream",
          "text": [
            "IMP_MORTDUE\n"
          ]
        },
        {
          "data": {
            "image/png": "[encoded data removed]",
            "text/plain": [
              "<Figure size 432x288 with 1 Axes>"
            ]
          },
          "metadata": {},
          "output_type": "display_data"
        },
        {
          "name": "stdout",
          "output_type": "stream",
          "text": [
            "M_VALUE\n"
          ]
        },
        {
          "data": {
            "image/png": "[encoded data removed]",
            "text/plain": [
              "<Figure size 432x288 with 1 Axes>"
            ]
          },
          "metadata": {},
          "output_type": "display_data"
        },
        {
          "name": "stdout",
          "output_type": "stream",
          "text": [
            "IMP_VALUE\n"
          ]
        },
        {
          "data": {
            "image/png": "[encoded data removed]",
            "text/plain": [
              "<Figure size 432x288 with 1 Axes>"
            ]
          },
          "metadata": {},
          "output_type": "display_data"
        },
        {
          "name": "stdout",
          "output_type": "stream",
          "text": [
            "M_YOJ\n"
          ]
        },
        {
          "data": {
            "image/png": "[encoded data removed]",
            "text/plain": [
              "<Figure size 432x288 with 1 Axes>"
            ]
          },
          "metadata": {},
          "output_type": "display_data"
        },
        {
          "name": "stdout",
          "output_type": "stream",
          "text": [
            "IMP_YOJ\n"
          ]
        },
        {
          "data": {
            "image/png": "[encoded data removed]",
            "text/plain": [
              "<Figure size 432x288 with 1 Axes>"
            ]
          },
          "metadata": {},
          "output_type": "display_data"
        },
        {
          "name": "stdout",
          "output_type": "stream",
          "text": [
            "M_DEROG\n"
          ]
        },
        {
          "data": {
            "image/png": "[encoded data removed]",
            "text/plain": [
              "<Figure size 432x288 with 1 Axes>"
            ]
          },
          "metadata": {},
          "output_type": "display_data"
        },
        {
          "name": "stdout",
          "output_type": "stream",
          "text": [
            "IMP_DEROG\n"
          ]
        },
        {
          "data": {
            "image/png": "[encoded data removed]",
            "text/plain": [
              "<Figure size 432x288 with 1 Axes>"
            ]
          },
          "metadata": {},
          "output_type": "display_data"
        },
        {
          "name": "stdout",
          "output_type": "stream",
          "text": [
            "M_DELINQ\n"
          ]
        },
        {
          "data": {
            "image/png": "[encoded data removed]",
            "text/plain": [
              "<Figure size 432x288 with 1 Axes>"
            ]
          },
          "metadata": {},
          "output_type": "display_data"
        },
        {
          "name": "stdout",
          "output_type": "stream",
          "text": [
            "IMP_DELINQ\n"
          ]
        },
        {
          "data": {
            "image/png": "[encoded data removed]",
            "text/plain": [
              "<Figure size 432x288 with 1 Axes>"
            ]
          },
          "metadata": {},
          "output_type": "display_data"
        },
        {
          "name": "stdout",
          "output_type": "stream",
          "text": [
            "M_CLAGE\n"
          ]
        },
        {
          "data": {
            "image/png": "[encoded data removed]",
            "text/plain": [
              "<Figure size 432x288 with 1 Axes>"
            ]
          },
          "metadata": {},
          "output_type": "display_data"
        },
        {
          "name": "stdout",
          "output_type": "stream",
          "text": [
            "IMP_CLAGE\n"
          ]
        },
        {
          "data": {
            "image/png": "[encoded data removed]",
            "text/plain": [
              "<Figure size 432x288 with 1 Axes>"
            ]
          },
          "metadata": {},
          "output_type": "display_data"
        },
        {
          "name": "stdout",
          "output_type": "stream",
          "text": [
            "M_NINQ\n"
          ]
        },
        {
          "data": {
            "image/png": "[encoded data removed]",
            "text/plain": [
              "<Figure size 432x288 with 1 Axes>"
            ]
          },
          "metadata": {},
          "output_type": "display_data"
        },
        {
          "name": "stdout",
          "output_type": "stream",
          "text": [
            "IMP_NINQ\n"
          ]
        },
        {
          "data": {
            "image/png": "[encoded data removed]",
            "text/plain": [
              "<Figure size 432x288 with 1 Axes>"
            ]
          },
          "metadata": {},
          "output_type": "display_data"
        },
        {
          "name": "stdout",
          "output_type": "stream",
          "text": [
            "M_CLNO\n"
          ]
        },
        {
          "data": {
            "image/png": "[encoded data removed]",
            "text/plain": [
              "<Figure size 432x288 with 1 Axes>"
            ]
          },
          "metadata": {},
          "output_type": "display_data"
        },
        {
          "name": "stdout",
          "output_type": "stream",
          "text": [
            "IMP_CLNO\n"
          ]
        },
        {
          "data": {
            "image/png": "[encoded data removed]",
            "text/plain": [
              "<Figure size 432x288 with 1 Axes>"
            ]
          },
          "metadata": {},
          "output_type": "display_data"
        },
        {
          "name": "stdout",
          "output_type": "stream",
          "text": [
            "M_DEBTINC\n"
          ]
        },
        {
          "data": {
            "image/png": "[encoded data removed]",
            "text/plain": [
              "<Figure size 432x288 with 1 Axes>"
            ]
          },
          "metadata": {},
          "output_type": "display_data"
        },
        {
          "name": "stdout",
          "output_type": "stream",
          "text": [
            "IMP_DEBTINC\n"
          ]
        },
        {
          "data": {
            "image/png": "[encoded data removed]",
            "text/plain": [
              "<Figure size 432x288 with 1 Axes>"
            ]
          },
          "metadata": {},
          "output_type": "display_data"
        }
      ],
      "source": [
        "for i in numList :\n",
        "    print( i )\n",
        "    plt.hist( df[ i ] )\n",
        "    plt.xlabel( i )\n",
        "    plt.show()"
      ]
    },
    {
      "cell_type": "code",
      "execution_count": null,
      "metadata": {
        "id": "3gRrkNWjDy8v"
      },
      "outputs": [],
      "source": [
        "for i in numList :\n",
        "    theMean = df[i].mean()\n",
        "    theSD = df[i].std()\n",
        "    theMax = df[i].max()\n",
        "    theCutoff = round( theMean + 3*theSD )\n",
        "    if theMax < theCutoff : continue\n",
        "    FLAG = \"O_\" + i\n",
        "    TRUNC = \"TRUNC_\" + i\n",
        "    df[ FLAG ] = ( df[i] > theCutoff )+ 0\n",
        "    df[ TRUNC ] = df[ i ]\n",
        "    df.loc[ df[TRUNC] > theCutoff, TRUNC ] = theCutoff\n",
        "    df = df.drop( i, axis=1 )"
      ]
    },
    {
      "cell_type": "code",
      "execution_count": null,
      "metadata": {
        "id": "kHr8tAykDy8v"
      },
      "outputs": [],
      "source": [
        "#for i in objList:\n",
        "    #df = df.drop( i, axis=1 )"
      ]
    },
    {
      "cell_type": "code",
      "execution_count": null,
      "metadata": {
        "scrolled": true,
        "id": "3LYwaBUeDy8w",
        "outputId": "975f080a-14cd-4d3b-c01b-4b78088a77c5"
      },
      "outputs": [
        {
          "data": {
            "text/html": [
              "<div>\n",
              "<style scoped>\n",
              "    .dataframe tbody tr th:only-of-type {\n",
              "        vertical-align: middle;\n",
              "    }\n",
              "\n",
              "    .dataframe tbody tr th {\n",
              "        vertical-align: top;\n",
              "    }\n",
              "\n",
              "    .dataframe thead th {\n",
              "        text-align: right;\n",
              "    }\n",
              "</style>\n",
              "<table border=\"1\" class=\"dataframe\">\n",
              "  <thead>\n",
              "    <tr style=\"text-align: right;\">\n",
              "      <th></th>\n",
              "      <th>count</th>\n",
              "      <th>mean</th>\n",
              "      <th>std</th>\n",
              "      <th>min</th>\n",
              "      <th>25%</th>\n",
              "      <th>50%</th>\n",
              "      <th>75%</th>\n",
              "      <th>max</th>\n",
              "    </tr>\n",
              "  </thead>\n",
              "  <tbody>\n",
              "    <tr>\n",
              "      <th>TARGET_BAD_FLAG</th>\n",
              "      <td>5960.0</td>\n",
              "      <td>0.199497</td>\n",
              "      <td>0.399656</td>\n",
              "      <td>0.000000</td>\n",
              "      <td>0.000000</td>\n",
              "      <td>0.000000</td>\n",
              "      <td>0.000000</td>\n",
              "      <td>1.0</td>\n",
              "    </tr>\n",
              "    <tr>\n",
              "      <th>TARGET_LOSS_AMT</th>\n",
              "      <td>1189.0</td>\n",
              "      <td>13414.576955</td>\n",
              "      <td>10839.455965</td>\n",
              "      <td>224.000000</td>\n",
              "      <td>5639.000000</td>\n",
              "      <td>11003.000000</td>\n",
              "      <td>17634.000000</td>\n",
              "      <td>78987.0</td>\n",
              "    </tr>\n",
              "    <tr>\n",
              "      <th>z_IMP_REASON_HomeImp</th>\n",
              "      <td>5960.0</td>\n",
              "      <td>0.298658</td>\n",
              "      <td>0.457708</td>\n",
              "      <td>0.000000</td>\n",
              "      <td>0.000000</td>\n",
              "      <td>0.000000</td>\n",
              "      <td>1.000000</td>\n",
              "      <td>1.0</td>\n",
              "    </tr>\n",
              "    <tr>\n",
              "      <th>z_IMP_REASON_MISSING</th>\n",
              "      <td>5960.0</td>\n",
              "      <td>0.042282</td>\n",
              "      <td>0.201248</td>\n",
              "      <td>0.000000</td>\n",
              "      <td>0.000000</td>\n",
              "      <td>0.000000</td>\n",
              "      <td>0.000000</td>\n",
              "      <td>1.0</td>\n",
              "    </tr>\n",
              "    <tr>\n",
              "      <th>z_IMP_JOB_Mgr</th>\n",
              "      <td>5960.0</td>\n",
              "      <td>0.128691</td>\n",
              "      <td>0.334886</td>\n",
              "      <td>0.000000</td>\n",
              "      <td>0.000000</td>\n",
              "      <td>0.000000</td>\n",
              "      <td>0.000000</td>\n",
              "      <td>1.0</td>\n",
              "    </tr>\n",
              "    <tr>\n",
              "      <th>z_IMP_JOB_Office</th>\n",
              "      <td>5960.0</td>\n",
              "      <td>0.159060</td>\n",
              "      <td>0.365763</td>\n",
              "      <td>0.000000</td>\n",
              "      <td>0.000000</td>\n",
              "      <td>0.000000</td>\n",
              "      <td>0.000000</td>\n",
              "      <td>1.0</td>\n",
              "    </tr>\n",
              "    <tr>\n",
              "      <th>z_IMP_JOB_Other</th>\n",
              "      <td>5960.0</td>\n",
              "      <td>0.400671</td>\n",
              "      <td>0.490076</td>\n",
              "      <td>0.000000</td>\n",
              "      <td>0.000000</td>\n",
              "      <td>0.000000</td>\n",
              "      <td>1.000000</td>\n",
              "      <td>1.0</td>\n",
              "    </tr>\n",
              "    <tr>\n",
              "      <th>z_IMP_JOB_ProfExe</th>\n",
              "      <td>5960.0</td>\n",
              "      <td>0.214094</td>\n",
              "      <td>0.410227</td>\n",
              "      <td>0.000000</td>\n",
              "      <td>0.000000</td>\n",
              "      <td>0.000000</td>\n",
              "      <td>0.000000</td>\n",
              "      <td>1.0</td>\n",
              "    </tr>\n",
              "    <tr>\n",
              "      <th>z_IMP_JOB_Sales</th>\n",
              "      <td>5960.0</td>\n",
              "      <td>0.018289</td>\n",
              "      <td>0.134004</td>\n",
              "      <td>0.000000</td>\n",
              "      <td>0.000000</td>\n",
              "      <td>0.000000</td>\n",
              "      <td>0.000000</td>\n",
              "      <td>1.0</td>\n",
              "    </tr>\n",
              "    <tr>\n",
              "      <th>z_IMP_JOB_Self</th>\n",
              "      <td>5960.0</td>\n",
              "      <td>0.032383</td>\n",
              "      <td>0.177029</td>\n",
              "      <td>0.000000</td>\n",
              "      <td>0.000000</td>\n",
              "      <td>0.000000</td>\n",
              "      <td>0.000000</td>\n",
              "      <td>1.0</td>\n",
              "    </tr>\n",
              "    <tr>\n",
              "      <th>O_LOAN</th>\n",
              "      <td>5960.0</td>\n",
              "      <td>0.015940</td>\n",
              "      <td>0.125252</td>\n",
              "      <td>0.000000</td>\n",
              "      <td>0.000000</td>\n",
              "      <td>0.000000</td>\n",
              "      <td>0.000000</td>\n",
              "      <td>1.0</td>\n",
              "    </tr>\n",
              "    <tr>\n",
              "      <th>TRUNC_LOAN</th>\n",
              "      <td>5960.0</td>\n",
              "      <td>18362.256711</td>\n",
              "      <td>10148.976515</td>\n",
              "      <td>1100.000000</td>\n",
              "      <td>11100.000000</td>\n",
              "      <td>16300.000000</td>\n",
              "      <td>23300.000000</td>\n",
              "      <td>52230.0</td>\n",
              "    </tr>\n",
              "    <tr>\n",
              "      <th>O_M_MORTDUE</th>\n",
              "      <td>5960.0</td>\n",
              "      <td>0.000000</td>\n",
              "      <td>0.000000</td>\n",
              "      <td>0.000000</td>\n",
              "      <td>0.000000</td>\n",
              "      <td>0.000000</td>\n",
              "      <td>0.000000</td>\n",
              "      <td>0.0</td>\n",
              "    </tr>\n",
              "    <tr>\n",
              "      <th>TRUNC_M_MORTDUE</th>\n",
              "      <td>5960.0</td>\n",
              "      <td>0.086913</td>\n",
              "      <td>0.281731</td>\n",
              "      <td>0.000000</td>\n",
              "      <td>0.000000</td>\n",
              "      <td>0.000000</td>\n",
              "      <td>0.000000</td>\n",
              "      <td>1.0</td>\n",
              "    </tr>\n",
              "    <tr>\n",
              "      <th>O_IMP_MORTDUE</th>\n",
              "      <td>5960.0</td>\n",
              "      <td>0.018121</td>\n",
              "      <td>0.133400</td>\n",
              "      <td>0.000000</td>\n",
              "      <td>0.000000</td>\n",
              "      <td>0.000000</td>\n",
              "      <td>0.000000</td>\n",
              "      <td>1.0</td>\n",
              "    </tr>\n",
              "    <tr>\n",
              "      <th>TRUNC_IMP_MORTDUE</th>\n",
              "      <td>5960.0</td>\n",
              "      <td>72201.825034</td>\n",
              "      <td>39017.412773</td>\n",
              "      <td>2063.000000</td>\n",
              "      <td>48139.000000</td>\n",
              "      <td>65019.000000</td>\n",
              "      <td>88200.250000</td>\n",
              "      <td>200659.0</td>\n",
              "    </tr>\n",
              "    <tr>\n",
              "      <th>O_M_VALUE</th>\n",
              "      <td>5960.0</td>\n",
              "      <td>0.018792</td>\n",
              "      <td>0.135801</td>\n",
              "      <td>0.000000</td>\n",
              "      <td>0.000000</td>\n",
              "      <td>0.000000</td>\n",
              "      <td>0.000000</td>\n",
              "      <td>1.0</td>\n",
              "    </tr>\n",
              "    <tr>\n",
              "      <th>TRUNC_M_VALUE</th>\n",
              "      <td>5960.0</td>\n",
              "      <td>0.000000</td>\n",
              "      <td>0.000000</td>\n",
              "      <td>0.000000</td>\n",
              "      <td>0.000000</td>\n",
              "      <td>0.000000</td>\n",
              "      <td>0.000000</td>\n",
              "      <td>0.0</td>\n",
              "    </tr>\n",
              "    <tr>\n",
              "      <th>O_IMP_VALUE</th>\n",
              "      <td>5960.0</td>\n",
              "      <td>0.015101</td>\n",
              "      <td>0.121964</td>\n",
              "      <td>0.000000</td>\n",
              "      <td>0.000000</td>\n",
              "      <td>0.000000</td>\n",
              "      <td>0.000000</td>\n",
              "      <td>1.0</td>\n",
              "    </tr>\n",
              "    <tr>\n",
              "      <th>TRUNC_IMP_VALUE</th>\n",
              "      <td>5960.0</td>\n",
              "      <td>100462.133732</td>\n",
              "      <td>50412.742922</td>\n",
              "      <td>8000.000000</td>\n",
              "      <td>66489.500000</td>\n",
              "      <td>89235.500000</td>\n",
              "      <td>119004.750000</td>\n",
              "      <td>272149.0</td>\n",
              "    </tr>\n",
              "    <tr>\n",
              "      <th>O_M_YOJ</th>\n",
              "      <td>5960.0</td>\n",
              "      <td>0.000000</td>\n",
              "      <td>0.000000</td>\n",
              "      <td>0.000000</td>\n",
              "      <td>0.000000</td>\n",
              "      <td>0.000000</td>\n",
              "      <td>0.000000</td>\n",
              "      <td>0.0</td>\n",
              "    </tr>\n",
              "    <tr>\n",
              "      <th>TRUNC_M_YOJ</th>\n",
              "      <td>5960.0</td>\n",
              "      <td>0.086409</td>\n",
              "      <td>0.280991</td>\n",
              "      <td>0.000000</td>\n",
              "      <td>0.000000</td>\n",
              "      <td>0.000000</td>\n",
              "      <td>0.000000</td>\n",
              "      <td>1.0</td>\n",
              "    </tr>\n",
              "    <tr>\n",
              "      <th>O_IMP_YOJ</th>\n",
              "      <td>5960.0</td>\n",
              "      <td>0.003020</td>\n",
              "      <td>0.054877</td>\n",
              "      <td>0.000000</td>\n",
              "      <td>0.000000</td>\n",
              "      <td>0.000000</td>\n",
              "      <td>0.000000</td>\n",
              "      <td>1.0</td>\n",
              "    </tr>\n",
              "    <tr>\n",
              "      <th>TRUNC_IMP_YOJ</th>\n",
              "      <td>5960.0</td>\n",
              "      <td>8.741737</td>\n",
              "      <td>7.208863</td>\n",
              "      <td>0.000000</td>\n",
              "      <td>3.000000</td>\n",
              "      <td>7.000000</td>\n",
              "      <td>12.000000</td>\n",
              "      <td>31.0</td>\n",
              "    </tr>\n",
              "    <tr>\n",
              "      <th>O_M_DEROG</th>\n",
              "      <td>5960.0</td>\n",
              "      <td>0.000000</td>\n",
              "      <td>0.000000</td>\n",
              "      <td>0.000000</td>\n",
              "      <td>0.000000</td>\n",
              "      <td>0.000000</td>\n",
              "      <td>0.000000</td>\n",
              "      <td>0.0</td>\n",
              "    </tr>\n",
              "    <tr>\n",
              "      <th>TRUNC_M_DEROG</th>\n",
              "      <td>5960.0</td>\n",
              "      <td>0.118792</td>\n",
              "      <td>0.323571</td>\n",
              "      <td>0.000000</td>\n",
              "      <td>0.000000</td>\n",
              "      <td>0.000000</td>\n",
              "      <td>0.000000</td>\n",
              "      <td>1.0</td>\n",
              "    </tr>\n",
              "    <tr>\n",
              "      <th>O_IMP_DEROG</th>\n",
              "      <td>5960.0</td>\n",
              "      <td>0.012081</td>\n",
              "      <td>0.109255</td>\n",
              "      <td>0.000000</td>\n",
              "      <td>0.000000</td>\n",
              "      <td>0.000000</td>\n",
              "      <td>0.000000</td>\n",
              "      <td>1.0</td>\n",
              "    </tr>\n",
              "    <tr>\n",
              "      <th>TRUNC_IMP_DEROG</th>\n",
              "      <td>5960.0</td>\n",
              "      <td>0.192114</td>\n",
              "      <td>0.582947</td>\n",
              "      <td>0.000000</td>\n",
              "      <td>0.000000</td>\n",
              "      <td>0.000000</td>\n",
              "      <td>0.000000</td>\n",
              "      <td>3.0</td>\n",
              "    </tr>\n",
              "    <tr>\n",
              "      <th>O_M_DELINQ</th>\n",
              "      <td>5960.0</td>\n",
              "      <td>0.000000</td>\n",
              "      <td>0.000000</td>\n",
              "      <td>0.000000</td>\n",
              "      <td>0.000000</td>\n",
              "      <td>0.000000</td>\n",
              "      <td>0.000000</td>\n",
              "      <td>0.0</td>\n",
              "    </tr>\n",
              "    <tr>\n",
              "      <th>TRUNC_M_DELINQ</th>\n",
              "      <td>5960.0</td>\n",
              "      <td>0.097315</td>\n",
              "      <td>0.296412</td>\n",
              "      <td>0.000000</td>\n",
              "      <td>0.000000</td>\n",
              "      <td>0.000000</td>\n",
              "      <td>0.000000</td>\n",
              "      <td>1.0</td>\n",
              "    </tr>\n",
              "    <tr>\n",
              "      <th>O_IMP_DELINQ</th>\n",
              "      <td>5960.0</td>\n",
              "      <td>0.015101</td>\n",
              "      <td>0.121964</td>\n",
              "      <td>0.000000</td>\n",
              "      <td>0.000000</td>\n",
              "      <td>0.000000</td>\n",
              "      <td>0.000000</td>\n",
              "      <td>1.0</td>\n",
              "    </tr>\n",
              "    <tr>\n",
              "      <th>TRUNC_IMP_DELINQ</th>\n",
              "      <td>5960.0</td>\n",
              "      <td>0.371309</td>\n",
              "      <td>0.886332</td>\n",
              "      <td>0.000000</td>\n",
              "      <td>0.000000</td>\n",
              "      <td>0.000000</td>\n",
              "      <td>0.000000</td>\n",
              "      <td>4.0</td>\n",
              "    </tr>\n",
              "    <tr>\n",
              "      <th>O_M_CLAGE</th>\n",
              "      <td>5960.0</td>\n",
              "      <td>0.000000</td>\n",
              "      <td>0.000000</td>\n",
              "      <td>0.000000</td>\n",
              "      <td>0.000000</td>\n",
              "      <td>0.000000</td>\n",
              "      <td>0.000000</td>\n",
              "      <td>0.0</td>\n",
              "    </tr>\n",
              "    <tr>\n",
              "      <th>TRUNC_M_CLAGE</th>\n",
              "      <td>5960.0</td>\n",
              "      <td>0.051678</td>\n",
              "      <td>0.221394</td>\n",
              "      <td>0.000000</td>\n",
              "      <td>0.000000</td>\n",
              "      <td>0.000000</td>\n",
              "      <td>0.000000</td>\n",
              "      <td>1.0</td>\n",
              "    </tr>\n",
              "    <tr>\n",
              "      <th>O_IMP_CLAGE</th>\n",
              "      <td>5960.0</td>\n",
              "      <td>0.005201</td>\n",
              "      <td>0.071939</td>\n",
              "      <td>0.000000</td>\n",
              "      <td>0.000000</td>\n",
              "      <td>0.000000</td>\n",
              "      <td>0.000000</td>\n",
              "      <td>1.0</td>\n",
              "    </tr>\n",
              "    <tr>\n",
              "      <th>TRUNC_IMP_CLAGE</th>\n",
              "      <td>5960.0</td>\n",
              "      <td>178.519248</td>\n",
              "      <td>78.853277</td>\n",
              "      <td>0.000000</td>\n",
              "      <td>117.371430</td>\n",
              "      <td>173.466667</td>\n",
              "      <td>227.143058</td>\n",
              "      <td>430.0</td>\n",
              "    </tr>\n",
              "    <tr>\n",
              "      <th>O_M_NINQ</th>\n",
              "      <td>5960.0</td>\n",
              "      <td>0.000000</td>\n",
              "      <td>0.000000</td>\n",
              "      <td>0.000000</td>\n",
              "      <td>0.000000</td>\n",
              "      <td>0.000000</td>\n",
              "      <td>0.000000</td>\n",
              "      <td>0.0</td>\n",
              "    </tr>\n",
              "    <tr>\n",
              "      <th>TRUNC_M_NINQ</th>\n",
              "      <td>5960.0</td>\n",
              "      <td>0.085570</td>\n",
              "      <td>0.279752</td>\n",
              "      <td>0.000000</td>\n",
              "      <td>0.000000</td>\n",
              "      <td>0.000000</td>\n",
              "      <td>0.000000</td>\n",
              "      <td>1.0</td>\n",
              "    </tr>\n",
              "    <tr>\n",
              "      <th>O_IMP_NINQ</th>\n",
              "      <td>5960.0</td>\n",
              "      <td>0.020302</td>\n",
              "      <td>0.141043</td>\n",
              "      <td>0.000000</td>\n",
              "      <td>0.000000</td>\n",
              "      <td>0.000000</td>\n",
              "      <td>0.000000</td>\n",
              "      <td>1.0</td>\n",
              "    </tr>\n",
              "    <tr>\n",
              "      <th>TRUNC_IMP_NINQ</th>\n",
              "      <td>5960.0</td>\n",
              "      <td>1.115101</td>\n",
              "      <td>1.408926</td>\n",
              "      <td>0.000000</td>\n",
              "      <td>0.000000</td>\n",
              "      <td>1.000000</td>\n",
              "      <td>2.000000</td>\n",
              "      <td>6.0</td>\n",
              "    </tr>\n",
              "    <tr>\n",
              "      <th>O_M_CLNO</th>\n",
              "      <td>5960.0</td>\n",
              "      <td>0.000000</td>\n",
              "      <td>0.000000</td>\n",
              "      <td>0.000000</td>\n",
              "      <td>0.000000</td>\n",
              "      <td>0.000000</td>\n",
              "      <td>0.000000</td>\n",
              "      <td>0.0</td>\n",
              "    </tr>\n",
              "    <tr>\n",
              "      <th>TRUNC_M_CLNO</th>\n",
              "      <td>5960.0</td>\n",
              "      <td>0.037248</td>\n",
              "      <td>0.189386</td>\n",
              "      <td>0.000000</td>\n",
              "      <td>0.000000</td>\n",
              "      <td>0.000000</td>\n",
              "      <td>0.000000</td>\n",
              "      <td>1.0</td>\n",
              "    </tr>\n",
              "    <tr>\n",
              "      <th>O_IMP_CLNO</th>\n",
              "      <td>5960.0</td>\n",
              "      <td>0.007047</td>\n",
              "      <td>0.083657</td>\n",
              "      <td>0.000000</td>\n",
              "      <td>0.000000</td>\n",
              "      <td>0.000000</td>\n",
              "      <td>0.000000</td>\n",
              "      <td>1.0</td>\n",
              "    </tr>\n",
              "    <tr>\n",
              "      <th>TRUNC_IMP_CLNO</th>\n",
              "      <td>5960.0</td>\n",
              "      <td>21.200671</td>\n",
              "      <td>9.783956</td>\n",
              "      <td>0.000000</td>\n",
              "      <td>15.000000</td>\n",
              "      <td>20.000000</td>\n",
              "      <td>26.000000</td>\n",
              "      <td>51.0</td>\n",
              "    </tr>\n",
              "    <tr>\n",
              "      <th>O_M_DEBTINC</th>\n",
              "      <td>5960.0</td>\n",
              "      <td>0.000000</td>\n",
              "      <td>0.000000</td>\n",
              "      <td>0.000000</td>\n",
              "      <td>0.000000</td>\n",
              "      <td>0.000000</td>\n",
              "      <td>0.000000</td>\n",
              "      <td>0.0</td>\n",
              "    </tr>\n",
              "    <tr>\n",
              "      <th>TRUNC_M_DEBTINC</th>\n",
              "      <td>5960.0</td>\n",
              "      <td>0.212584</td>\n",
              "      <td>0.409170</td>\n",
              "      <td>0.000000</td>\n",
              "      <td>0.000000</td>\n",
              "      <td>0.000000</td>\n",
              "      <td>0.000000</td>\n",
              "      <td>1.0</td>\n",
              "    </tr>\n",
              "    <tr>\n",
              "      <th>O_IMP_DEBTINC</th>\n",
              "      <td>5960.0</td>\n",
              "      <td>0.005201</td>\n",
              "      <td>0.071939</td>\n",
              "      <td>0.000000</td>\n",
              "      <td>0.000000</td>\n",
              "      <td>0.000000</td>\n",
              "      <td>0.000000</td>\n",
              "      <td>1.0</td>\n",
              "    </tr>\n",
              "    <tr>\n",
              "      <th>TRUNC_IMP_DEBTINC</th>\n",
              "      <td>5960.0</td>\n",
              "      <td>33.877119</td>\n",
              "      <td>6.649744</td>\n",
              "      <td>0.524499</td>\n",
              "      <td>30.763159</td>\n",
              "      <td>34.818262</td>\n",
              "      <td>37.949892</td>\n",
              "      <td>57.0</td>\n",
              "    </tr>\n",
              "  </tbody>\n",
              "</table>\n",
              "</div>"
            ],
            "text/plain": [
              "                       count           mean           std          min  \\\n",
              "TARGET_BAD_FLAG       5960.0       0.199497      0.399656     0.000000   \n",
              "TARGET_LOSS_AMT       1189.0   13414.576955  10839.455965   224.000000   \n",
              "z_IMP_REASON_HomeImp  5960.0       0.298658      0.457708     0.000000   \n",
              "z_IMP_REASON_MISSING  5960.0       0.042282      0.201248     0.000000   \n",
              "z_IMP_JOB_Mgr         5960.0       0.128691      0.334886     0.000000   \n",
              "z_IMP_JOB_Office      5960.0       0.159060      0.365763     0.000000   \n",
              "z_IMP_JOB_Other       5960.0       0.400671      0.490076     0.000000   \n",
              "z_IMP_JOB_ProfExe     5960.0       0.214094      0.410227     0.000000   \n",
              "z_IMP_JOB_Sales       5960.0       0.018289      0.134004     0.000000   \n",
              "z_IMP_JOB_Self        5960.0       0.032383      0.177029     0.000000   \n",
              "O_LOAN                5960.0       0.015940      0.125252     0.000000   \n",
              "TRUNC_LOAN            5960.0   18362.256711  10148.976515  1100.000000   \n",
              "O_M_MORTDUE           5960.0       0.000000      0.000000     0.000000   \n",
              "TRUNC_M_MORTDUE       5960.0       0.086913      0.281731     0.000000   \n",
              "O_IMP_MORTDUE         5960.0       0.018121      0.133400     0.000000   \n",
              "TRUNC_IMP_MORTDUE     5960.0   72201.825034  39017.412773  2063.000000   \n",
              "O_M_VALUE             5960.0       0.018792      0.135801     0.000000   \n",
              "TRUNC_M_VALUE         5960.0       0.000000      0.000000     0.000000   \n",
              "O_IMP_VALUE           5960.0       0.015101      0.121964     0.000000   \n",
              "TRUNC_IMP_VALUE       5960.0  100462.133732  50412.742922  8000.000000   \n",
              "O_M_YOJ               5960.0       0.000000      0.000000     0.000000   \n",
              "TRUNC_M_YOJ           5960.0       0.086409      0.280991     0.000000   \n",
              "O_IMP_YOJ             5960.0       0.003020      0.054877     0.000000   \n",
              "TRUNC_IMP_YOJ         5960.0       8.741737      7.208863     0.000000   \n",
              "O_M_DEROG             5960.0       0.000000      0.000000     0.000000   \n",
              "TRUNC_M_DEROG         5960.0       0.118792      0.323571     0.000000   \n",
              "O_IMP_DEROG           5960.0       0.012081      0.109255     0.000000   \n",
              "TRUNC_IMP_DEROG       5960.0       0.192114      0.582947     0.000000   \n",
              "O_M_DELINQ            5960.0       0.000000      0.000000     0.000000   \n",
              "TRUNC_M_DELINQ        5960.0       0.097315      0.296412     0.000000   \n",
              "O_IMP_DELINQ          5960.0       0.015101      0.121964     0.000000   \n",
              "TRUNC_IMP_DELINQ      5960.0       0.371309      0.886332     0.000000   \n",
              "O_M_CLAGE             5960.0       0.000000      0.000000     0.000000   \n",
              "TRUNC_M_CLAGE         5960.0       0.051678      0.221394     0.000000   \n",
              "O_IMP_CLAGE           5960.0       0.005201      0.071939     0.000000   \n",
              "TRUNC_IMP_CLAGE       5960.0     178.519248     78.853277     0.000000   \n",
              "O_M_NINQ              5960.0       0.000000      0.000000     0.000000   \n",
              "TRUNC_M_NINQ          5960.0       0.085570      0.279752     0.000000   \n",
              "O_IMP_NINQ            5960.0       0.020302      0.141043     0.000000   \n",
              "TRUNC_IMP_NINQ        5960.0       1.115101      1.408926     0.000000   \n",
              "O_M_CLNO              5960.0       0.000000      0.000000     0.000000   \n",
              "TRUNC_M_CLNO          5960.0       0.037248      0.189386     0.000000   \n",
              "O_IMP_CLNO            5960.0       0.007047      0.083657     0.000000   \n",
              "TRUNC_IMP_CLNO        5960.0      21.200671      9.783956     0.000000   \n",
              "O_M_DEBTINC           5960.0       0.000000      0.000000     0.000000   \n",
              "TRUNC_M_DEBTINC       5960.0       0.212584      0.409170     0.000000   \n",
              "O_IMP_DEBTINC         5960.0       0.005201      0.071939     0.000000   \n",
              "TRUNC_IMP_DEBTINC     5960.0      33.877119      6.649744     0.524499   \n",
              "\n",
              "                               25%           50%            75%       max  \n",
              "TARGET_BAD_FLAG           0.000000      0.000000       0.000000       1.0  \n",
              "TARGET_LOSS_AMT        5639.000000  11003.000000   17634.000000   78987.0  \n",
              "z_IMP_REASON_HomeImp      0.000000      0.000000       1.000000       1.0  \n",
              "z_IMP_REASON_MISSING      0.000000      0.000000       0.000000       1.0  \n",
              "z_IMP_JOB_Mgr             0.000000      0.000000       0.000000       1.0  \n",
              "z_IMP_JOB_Office          0.000000      0.000000       0.000000       1.0  \n",
              "z_IMP_JOB_Other           0.000000      0.000000       1.000000       1.0  \n",
              "z_IMP_JOB_ProfExe         0.000000      0.000000       0.000000       1.0  \n",
              "z_IMP_JOB_Sales           0.000000      0.000000       0.000000       1.0  \n",
              "z_IMP_JOB_Self            0.000000      0.000000       0.000000       1.0  \n",
              "O_LOAN                    0.000000      0.000000       0.000000       1.0  \n",
              "TRUNC_LOAN            11100.000000  16300.000000   23300.000000   52230.0  \n",
              "O_M_MORTDUE               0.000000      0.000000       0.000000       0.0  \n",
              "TRUNC_M_MORTDUE           0.000000      0.000000       0.000000       1.0  \n",
              "O_IMP_MORTDUE             0.000000      0.000000       0.000000       1.0  \n",
              "TRUNC_IMP_MORTDUE     48139.000000  65019.000000   88200.250000  200659.0  \n",
              "O_M_VALUE                 0.000000      0.000000       0.000000       1.0  \n",
              "TRUNC_M_VALUE             0.000000      0.000000       0.000000       0.0  \n",
              "O_IMP_VALUE               0.000000      0.000000       0.000000       1.0  \n",
              "TRUNC_IMP_VALUE       66489.500000  89235.500000  119004.750000  272149.0  \n",
              "O_M_YOJ                   0.000000      0.000000       0.000000       0.0  \n",
              "TRUNC_M_YOJ               0.000000      0.000000       0.000000       1.0  \n",
              "O_IMP_YOJ                 0.000000      0.000000       0.000000       1.0  \n",
              "TRUNC_IMP_YOJ             3.000000      7.000000      12.000000      31.0  \n",
              "O_M_DEROG                 0.000000      0.000000       0.000000       0.0  \n",
              "TRUNC_M_DEROG             0.000000      0.000000       0.000000       1.0  \n",
              "O_IMP_DEROG               0.000000      0.000000       0.000000       1.0  \n",
              "TRUNC_IMP_DEROG           0.000000      0.000000       0.000000       3.0  \n",
              "O_M_DELINQ                0.000000      0.000000       0.000000       0.0  \n",
              "TRUNC_M_DELINQ            0.000000      0.000000       0.000000       1.0  \n",
              "O_IMP_DELINQ              0.000000      0.000000       0.000000       1.0  \n",
              "TRUNC_IMP_DELINQ          0.000000      0.000000       0.000000       4.0  \n",
              "O_M_CLAGE                 0.000000      0.000000       0.000000       0.0  \n",
              "TRUNC_M_CLAGE             0.000000      0.000000       0.000000       1.0  \n",
              "O_IMP_CLAGE               0.000000      0.000000       0.000000       1.0  \n",
              "TRUNC_IMP_CLAGE         117.371430    173.466667     227.143058     430.0  \n",
              "O_M_NINQ                  0.000000      0.000000       0.000000       0.0  \n",
              "TRUNC_M_NINQ              0.000000      0.000000       0.000000       1.0  \n",
              "O_IMP_NINQ                0.000000      0.000000       0.000000       1.0  \n",
              "TRUNC_IMP_NINQ            0.000000      1.000000       2.000000       6.0  \n",
              "O_M_CLNO                  0.000000      0.000000       0.000000       0.0  \n",
              "TRUNC_M_CLNO              0.000000      0.000000       0.000000       1.0  \n",
              "O_IMP_CLNO                0.000000      0.000000       0.000000       1.0  \n",
              "TRUNC_IMP_CLNO           15.000000     20.000000      26.000000      51.0  \n",
              "O_M_DEBTINC               0.000000      0.000000       0.000000       0.0  \n",
              "TRUNC_M_DEBTINC           0.000000      0.000000       0.000000       1.0  \n",
              "O_IMP_DEBTINC             0.000000      0.000000       0.000000       1.0  \n",
              "TRUNC_IMP_DEBTINC        30.763159     34.818262      37.949892      57.0  "
            ]
          },
          "execution_count": 74,
          "metadata": {},
          "output_type": "execute_result"
        }
      ],
      "source": [
        "df.describe().T"
      ]
    },
    {
      "cell_type": "markdown",
      "metadata": {
        "id": "GLsuoK_1Dy8w"
      },
      "source": [
        "### Split Data"
      ]
    },
    {
      "cell_type": "code",
      "execution_count": null,
      "metadata": {
        "id": "ssZjIH_yDy8w"
      },
      "outputs": [],
      "source": [
        "X = df.copy()\n",
        "X = X.drop( TARGET_FLAG, axis=1 )\n",
        "X = X.drop( TARGET_LOSS, axis=1 )\n",
        "\n",
        "Y = df[ [TARGET_FLAG, TARGET_LOSS] ]"
      ]
    },
    {
      "cell_type": "code",
      "execution_count": null,
      "metadata": {
        "id": "Ne-vFjRdDy8w",
        "outputId": "0f6c9195-4bd5-4df1-a3e8-12dbddf0c98a"
      },
      "outputs": [
        {
          "name": "stdout",
          "output_type": "stream",
          "text": [
            "FLAG DATA\n",
            "TRAINING =  (4768, 46)\n",
            "TEST =  (1192, 46)\n"
          ]
        }
      ],
      "source": [
        "X_train, X_test, Y_train, Y_test = train_test_split(X, Y, train_size=0.8, test_size=0.2, random_state=1) #80% of the data for training and 20% for testing\n",
        "\n",
        "print( \"FLAG DATA\" )\n",
        "print( \"TRAINING = \", X_train.shape )\n",
        "print( \"TEST = \", X_test.shape )"
      ]
    },
    {
      "cell_type": "code",
      "execution_count": null,
      "metadata": {
        "id": "-o5IfqWsDy8w"
      },
      "outputs": [],
      "source": [
        "F = ~ Y_train[TARGET_LOSS].isna()\n",
        "W_train = X_train[F].copy()\n",
        "Z_train = Y_train[F].copy()\n",
        "\n",
        "F = ~ Y_test[ TARGET_LOSS ].isna()\n",
        "W_test = X_test[F].copy()\n",
        "Z_test = Y_test[F].copy()"
      ]
    },
    {
      "cell_type": "code",
      "execution_count": null,
      "metadata": {
        "id": "-WJWteK-Dy8x",
        "outputId": "41811294-f406-4799-df30-ba4a5f003f18"
      },
      "outputs": [
        {
          "name": "stdout",
          "output_type": "stream",
          "text": [
            "       TARGET_BAD_FLAG  TARGET_LOSS_AMT\n",
            "count            941.0       941.000000\n",
            "mean               1.0     13421.645058\n",
            "std                0.0     10662.481428\n",
            "min                1.0       224.000000\n",
            "25%                1.0      5817.000000\n",
            "50%                1.0     10959.000000\n",
            "75%                1.0     17635.000000\n",
            "max                1.0     73946.000000\n",
            "       TARGET_BAD_FLAG  TARGET_LOSS_AMT\n",
            "count            248.0       248.000000\n",
            "mean               1.0     13387.758065\n",
            "std                0.0     11508.703991\n",
            "min                1.0       320.000000\n",
            "25%                1.0      5214.500000\n",
            "50%                1.0     11336.500000\n",
            "75%                1.0     16734.000000\n",
            "max                1.0     78987.000000\n"
          ]
        }
      ],
      "source": [
        "print( Z_train.describe() )\n",
        "print( Z_test.describe() ) "
      ]
    },
    {
      "cell_type": "markdown",
      "metadata": {
        "id": "RqHQiyxVDy8x"
      },
      "source": [
        "### Model Accuracy Metrics"
      ]
    },
    {
      "cell_type": "code",
      "execution_count": null,
      "metadata": {
        "id": "etbGQtuSDy8x"
      },
      "outputs": [],
      "source": [
        "def getProbAccuracyScores( NAME, MODEL, X, Y ) :\n",
        "    pred = MODEL.predict( X )\n",
        "    probs = MODEL.predict_proba( X )\n",
        "    acc_score = metrics.accuracy_score(Y, pred)\n",
        "    p1 = probs[:,1]\n",
        "    fpr, tpr, threshold = metrics.roc_curve( Y, p1)\n",
        "    auc = metrics.auc(fpr,tpr)\n",
        "    return [NAME, acc_score, fpr, tpr, auc]"
      ]
    },
    {
      "cell_type": "code",
      "execution_count": null,
      "metadata": {
        "id": "kIHsEtRIDy8x"
      },
      "outputs": [],
      "source": [
        "def print_ROC_Curve( TITLE, LIST ) :\n",
        "    fig = plt.figure(figsize=(6,4))\n",
        "    plt.title( TITLE )\n",
        "    for theResults in LIST :\n",
        "        NAME = theResults[0]\n",
        "        fpr = theResults[2]\n",
        "        tpr = theResults[3]\n",
        "        auc = theResults[4]\n",
        "        theLabel = \"AUC \" + NAME + ' %0.2f' % auc\n",
        "        plt.plot(fpr, tpr, label = theLabel )\n",
        "    plt.legend(loc = 'lower right')\n",
        "    plt.plot([0, 1], [0, 1],'r--')\n",
        "    plt.xlim([0, 1])\n",
        "    plt.ylim([0, 1])\n",
        "    plt.ylabel('True Positive Rate')\n",
        "    plt.xlabel('False Positive Rate')\n",
        "    plt.show()"
      ]
    },
    {
      "cell_type": "code",
      "execution_count": null,
      "metadata": {
        "id": "NExiYLimDy8x"
      },
      "outputs": [],
      "source": [
        "def print_Accuracy( TITLE, LIST ) :\n",
        "    print( TITLE )\n",
        "    print( \"======\" )\n",
        "    for theResults in LIST :\n",
        "        NAME = theResults[0]\n",
        "        ACC = theResults[1]\n",
        "        print( NAME, \" = \", ACC )\n",
        "    print( \"------\\n\\n\" )"
      ]
    },
    {
      "cell_type": "code",
      "execution_count": null,
      "metadata": {
        "id": "B2MRMI2iDy8x"
      },
      "outputs": [],
      "source": [
        "def getAmtAccuracyScores( NAME, MODEL, X, Y ) :\n",
        "    pred = MODEL.predict( X )\n",
        "    MEAN = Y.mean()\n",
        "    RMSE = math.sqrt( metrics.mean_squared_error( Y, pred))\n",
        "    return [NAME, RMSE, MEAN]"
      ]
    },
    {
      "cell_type": "markdown",
      "metadata": {
        "id": "ktXXLskEDy8x"
      },
      "source": [
        "### Decision Tree"
      ]
    },
    {
      "cell_type": "code",
      "execution_count": null,
      "metadata": {
        "id": "RHx7pJnUDy8x"
      },
      "outputs": [],
      "source": [
        "#seach variables for the model\n",
        "def getTreeVars( TREE, varNames ) :\n",
        "    tree_ = TREE.tree_\n",
        "    varName = [ varNames[i] if i != _tree.TREE_UNDEFINED else \"undefined!\" for i in tree_.feature ]\n",
        "\n",
        "    nameSet = set()\n",
        "    for i in tree_.feature :\n",
        "        if i != _tree.TREE_UNDEFINED :\n",
        "            nameSet.add( i )\n",
        "    nameList = list( nameSet )\n",
        "    parameter_list = list()\n",
        "    for i in nameList :\n",
        "        parameter_list.append( varNames[i] )\n",
        "    return parameter_list"
      ]
    },
    {
      "cell_type": "markdown",
      "metadata": {
        "id": "StwS1ZBADy8x"
      },
      "source": [
        "#### Loan Default Probability"
      ]
    },
    {
      "cell_type": "code",
      "execution_count": null,
      "metadata": {
        "id": "KUfA1_qiDy8x"
      },
      "outputs": [],
      "source": [
        "WHO = \"TREE\"\n",
        "\n",
        "CLM = tree.DecisionTreeClassifier( max_depth=4 )\n",
        "CLM = CLM.fit( X_train, Y_train[ TARGET_FLAG ] )\n",
        "\n",
        "TRAIN_CLM = getProbAccuracyScores( WHO + \"_Train\", CLM, X_train, Y_train[ TARGET_FLAG ] )\n",
        "TEST_CLM = getProbAccuracyScores( WHO, CLM, X_test, Y_test[ TARGET_FLAG ] )"
      ]
    },
    {
      "cell_type": "code",
      "execution_count": null,
      "metadata": {
        "id": "k-SMlx6sDy8x",
        "outputId": "18da1f8f-617d-4ef3-c9e1-759dea68faf3"
      },
      "outputs": [
        {
          "data": {
            "image/png": "[encoded data removed]",
            "text/plain": [
              "<Figure size 432x288 with 1 Axes>"
            ]
          },
          "metadata": {},
          "output_type": "display_data"
        },
        {
          "name": "stdout",
          "output_type": "stream",
          "text": [
            "TREE CLASSIFICATION ACCURACY\n",
            "======\n",
            "TREE_Train  =  0.8928271812080537\n",
            "TREE  =  0.8859060402684564\n",
            "------\n",
            "\n",
            "\n"
          ]
        }
      ],
      "source": [
        "print_ROC_Curve( WHO, [ TRAIN_CLM, TEST_CLM ] ) \n",
        "print_Accuracy( WHO + \" CLASSIFICATION ACCURACY\", [ TRAIN_CLM, TEST_CLM ] )"
      ]
    },
    {
      "cell_type": "code",
      "execution_count": null,
      "metadata": {
        "id": "atEBaxyqDy8x"
      },
      "outputs": [],
      "source": [
        "feature_cols = list( X.columns.values )\n",
        "tree.export_graphviz(CLM,out_file='tree_f.txt',filled=True, rounded=True, feature_names = feature_cols, impurity=False, class_names=[\"Good\",\"Bad\"]  )\n",
        "vars_tree_flag = getTreeVars( CLM, feature_cols ) "
      ]
    },
    {
      "cell_type": "markdown",
      "metadata": {
        "id": "Vpr45056Dy8y"
      },
      "source": [
        "#### Loss Amount"
      ]
    },
    {
      "cell_type": "code",
      "execution_count": null,
      "metadata": {
        "id": "UhnmA7EcDy8y",
        "outputId": "69a3d904-c51d-4e1d-c54d-c47c2b3d4d6e"
      },
      "outputs": [
        {
          "name": "stdout",
          "output_type": "stream",
          "text": [
            "TREE RMSE ACCURACY\n",
            "======\n",
            "TREE_Train  =  4587.556685671267\n",
            "TREE  =  5713.237610480276\n",
            "------\n",
            "\n",
            "\n"
          ]
        }
      ],
      "source": [
        "AMT = tree.DecisionTreeRegressor( max_depth= 4 )\n",
        "AMT = AMT.fit( W_train, Z_train[TARGET_LOSS] )\n",
        "\n",
        "TRAIN_AMT = getAmtAccuracyScores( WHO + \"_Train\", AMT, W_train, Z_train[TARGET_LOSS] )\n",
        "TEST_AMT = getAmtAccuracyScores( WHO, AMT, W_test, Z_test[TARGET_LOSS] )\n",
        "\n",
        "print_Accuracy( WHO + \" RMSE ACCURACY\", [ TRAIN_AMT, TEST_AMT ] )"
      ]
    },
    {
      "cell_type": "code",
      "execution_count": null,
      "metadata": {
        "id": "J4vNhZNEDy8y"
      },
      "outputs": [],
      "source": [
        "feature_cols = list( X.columns.values )\n",
        "vars_tree_amt = getTreeVars( AMT, feature_cols ) \n",
        "tree.export_graphviz(AMT,out_file='tree_a.txt',filled=True, rounded=True, feature_names = feature_cols, impurity=False, precision=0  )\n",
        "\n",
        "TREE_CLM = TEST_CLM.copy()\n",
        "TREE_AMT = TEST_AMT.copy()"
      ]
    },
    {
      "cell_type": "markdown",
      "metadata": {
        "id": "4J1itKQNDy8y"
      },
      "source": [
        "### Random Forest"
      ]
    },
    {
      "cell_type": "code",
      "execution_count": null,
      "metadata": {
        "id": "bi2b_jRbDy8y"
      },
      "outputs": [],
      "source": [
        "def getEnsembleTreeVars( ENSTREE, varNames ) :\n",
        "    importance = ENSTREE.feature_importances_\n",
        "    index = np.argsort(importance)\n",
        "    theList = []\n",
        "    for i in index :\n",
        "        imp_val = importance[i]\n",
        "        if imp_val > np.average( ENSTREE.feature_importances_ ) :\n",
        "            v = int( imp_val / np.max( ENSTREE.feature_importances_ ) * 100 )\n",
        "            theList.append( ( varNames[i], v ) )\n",
        "    theList = sorted(theList,key=itemgetter(1),reverse=True)\n",
        "    return theList"
      ]
    },
    {
      "cell_type": "markdown",
      "metadata": {
        "id": "XjTMALGVDy8y"
      },
      "source": [
        "#### Loan Default Probability"
      ]
    },
    {
      "cell_type": "code",
      "execution_count": null,
      "metadata": {
        "id": "Sr1UM5_eDy8y"
      },
      "outputs": [],
      "source": [
        "WHO = \"RF\"\n",
        "\n",
        "CLM = RandomForestClassifier( n_estimators = 25, random_state=1 )\n",
        "CLM = CLM.fit( X_train, Y_train[ TARGET_FLAG ] )\n",
        "\n",
        "TRAIN_CLM = getProbAccuracyScores( WHO + \"_Train\", CLM, X_train, Y_train[ TARGET_FLAG ] )\n",
        "TEST_CLM = getProbAccuracyScores( WHO, CLM, X_test, Y_test[ TARGET_FLAG ] )"
      ]
    },
    {
      "cell_type": "code",
      "execution_count": null,
      "metadata": {
        "id": "WzR6PacvDy8y",
        "outputId": "28a3fecd-d3f8-47ee-b2c5-8c8c8c217db9"
      },
      "outputs": [
        {
          "data": {
            "image/png": "[encoded data removed]",
            "text/plain": [
              "<Figure size 432x288 with 1 Axes>"
            ]
          },
          "metadata": {},
          "output_type": "display_data"
        },
        {
          "name": "stdout",
          "output_type": "stream",
          "text": [
            "RF CLASSIFICATION ACCURACY\n",
            "======\n",
            "RF_Train  =  0.9993708053691275\n",
            "RF  =  0.9119127516778524\n",
            "------\n",
            "\n",
            "\n"
          ]
        }
      ],
      "source": [
        "print_ROC_Curve( WHO, [ TRAIN_CLM, TEST_CLM ] ) \n",
        "print_Accuracy( WHO + \" CLASSIFICATION ACCURACY\", [ TRAIN_CLM, TEST_CLM ] )"
      ]
    },
    {
      "cell_type": "code",
      "execution_count": null,
      "metadata": {
        "id": "PoLoTCwGDy8y"
      },
      "outputs": [],
      "source": [
        "feature_cols = list( X.columns.values )\n",
        "vars_RF_flag = getEnsembleTreeVars( CLM, feature_cols )"
      ]
    },
    {
      "cell_type": "markdown",
      "metadata": {
        "id": "94Se8tc0Dy8y"
      },
      "source": [
        "#### Loss Amount"
      ]
    },
    {
      "cell_type": "code",
      "execution_count": null,
      "metadata": {
        "id": "L8uNM9ubDy8y",
        "outputId": "d21c9135-85b9-41bc-a266-2ab735a0ee58"
      },
      "outputs": [
        {
          "name": "stdout",
          "output_type": "stream",
          "text": [
            "RF RMSE ACCURACY\n",
            "======\n",
            "RF_Train  =  1317.8895879806714\n",
            "RF  =  3428.650015145327\n",
            "------\n",
            "\n",
            "\n"
          ]
        }
      ],
      "source": [
        "AMT = RandomForestRegressor(n_estimators = 100, random_state=1)\n",
        "AMT = AMT.fit( W_train, Z_train[TARGET_LOSS] )\n",
        "\n",
        "TRAIN_AMT = getAmtAccuracyScores( WHO + \"_Train\", AMT, W_train, Z_train[TARGET_LOSS] )\n",
        "TEST_AMT = getAmtAccuracyScores( WHO, AMT, W_test, Z_test[TARGET_LOSS] )\n",
        "\n",
        "print_Accuracy( WHO + \" RMSE ACCURACY\", [ TRAIN_AMT, TEST_AMT ] )"
      ]
    },
    {
      "cell_type": "code",
      "execution_count": null,
      "metadata": {
        "id": "XUMhpdaHDy8y",
        "outputId": "46286818-89a2-41dc-8b74-1c497d5efa2d"
      },
      "outputs": [
        {
          "name": "stdout",
          "output_type": "stream",
          "text": [
            "('TRUNC_LOAN', 100)\n",
            "('TRUNC_IMP_CLNO', 13)\n",
            "('TRUNC_IMP_DEBTINC', 6)\n",
            "('TRUNC_M_DEBTINC', 4)\n",
            "('TRUNC_IMP_CLAGE', 3)\n"
          ]
        }
      ],
      "source": [
        "feature_cols = list( X.columns.values )\n",
        "vars_RF_amt = getEnsembleTreeVars( AMT, feature_cols )\n",
        "\n",
        "for i in vars_RF_amt :\n",
        "    print( i )"
      ]
    },
    {
      "cell_type": "code",
      "execution_count": null,
      "metadata": {
        "id": "iJXtVqJ6Dy8y"
      },
      "outputs": [],
      "source": [
        "RF_CLM = TEST_CLM.copy()\n",
        "RF_AMT = TEST_AMT.copy()"
      ]
    },
    {
      "cell_type": "markdown",
      "metadata": {
        "id": "JGurnGxBDy8y"
      },
      "source": [
        "### Gradient Boosting"
      ]
    },
    {
      "cell_type": "markdown",
      "metadata": {
        "id": "Yq3WcgkiDy8y"
      },
      "source": [
        "#### Loan Default Probability"
      ]
    },
    {
      "cell_type": "code",
      "execution_count": null,
      "metadata": {
        "id": "Xca_6LzRDy8y"
      },
      "outputs": [],
      "source": [
        "WHO = \"GB\"\n",
        "\n",
        "CLM = GradientBoostingClassifier( random_state=1 )\n",
        "CLM = CLM.fit( X_train, Y_train[ TARGET_FLAG ] )\n",
        "\n",
        "TRAIN_CLM = getProbAccuracyScores( WHO + \"_Train\", CLM, X_train, Y_train[ TARGET_FLAG ] )\n",
        "TEST_CLM = getProbAccuracyScores( WHO, CLM, X_test, Y_test[ TARGET_FLAG ] )"
      ]
    },
    {
      "cell_type": "code",
      "execution_count": null,
      "metadata": {
        "id": "q0cHVaWeDy8y",
        "outputId": "f01c37b9-66e9-4a6b-c0e9-57de5bd97ac6"
      },
      "outputs": [
        {
          "data": {
            "image/png": "[encoded data removed]",
            "text/plain": [
              "<Figure size 432x288 with 1 Axes>"
            ]
          },
          "metadata": {},
          "output_type": "display_data"
        },
        {
          "name": "stdout",
          "output_type": "stream",
          "text": [
            "GB CLASSIFICATION ACCURACY\n",
            "======\n",
            "GB_Train  =  0.9238674496644296\n",
            "GB  =  0.9060402684563759\n",
            "------\n",
            "\n",
            "\n"
          ]
        }
      ],
      "source": [
        "print_ROC_Curve( WHO, [ TRAIN_CLM, TEST_CLM ] ) \n",
        "print_Accuracy( WHO + \" CLASSIFICATION ACCURACY\", [ TRAIN_CLM, TEST_CLM ] )"
      ]
    },
    {
      "cell_type": "code",
      "execution_count": null,
      "metadata": {
        "id": "MrNRhsRIDy8z"
      },
      "outputs": [],
      "source": [
        "feature_cols = list( X.columns.values )\n",
        "vars_GB_flag = getEnsembleTreeVars( CLM, feature_cols )"
      ]
    },
    {
      "cell_type": "markdown",
      "metadata": {
        "id": "UQzKu9seDy8z"
      },
      "source": [
        "#### Loss Amount"
      ]
    },
    {
      "cell_type": "code",
      "execution_count": null,
      "metadata": {
        "id": "I09e4dX0Dy8z",
        "outputId": "2b2b36f5-6739-4741-aa23-9552cc3740f2"
      },
      "outputs": [
        {
          "name": "stdout",
          "output_type": "stream",
          "text": [
            "GB RMSE ACCURACY\n",
            "======\n",
            "GB_Train  =  1245.4603241383124\n",
            "GB  =  2794.947030828998\n",
            "------\n",
            "\n",
            "\n"
          ]
        }
      ],
      "source": [
        "AMT = GradientBoostingRegressor(random_state=1)\n",
        "AMT = AMT.fit( W_train, Z_train[TARGET_LOSS] )\n",
        "\n",
        "TRAIN_AMT = getAmtAccuracyScores( WHO + \"_Train\", AMT, W_train, Z_train[TARGET_LOSS] )\n",
        "TEST_AMT = getAmtAccuracyScores( WHO, AMT, W_test, Z_test[TARGET_LOSS] )\n",
        "\n",
        "print_Accuracy( WHO + \" RMSE ACCURACY\", [ TRAIN_AMT, TEST_AMT ] )"
      ]
    },
    {
      "cell_type": "code",
      "execution_count": null,
      "metadata": {
        "id": "RZST9OKADy8z",
        "outputId": "5c56e84c-421a-46c1-a0ee-e440a962b434"
      },
      "outputs": [
        {
          "name": "stdout",
          "output_type": "stream",
          "text": [
            "('TRUNC_LOAN', 100)\n",
            "('TRUNC_IMP_CLNO', 13)\n",
            "('TRUNC_IMP_DEBTINC', 6)\n",
            "('TRUNC_M_DEBTINC', 4)\n",
            "('TRUNC_IMP_CLAGE', 3)\n"
          ]
        }
      ],
      "source": [
        "feature_cols = list( X.columns.values )\n",
        "vars_GB_amt = getEnsembleTreeVars( AMT, feature_cols )\n",
        "\n",
        "for i in vars_RF_amt :\n",
        "    print( i )"
      ]
    },
    {
      "cell_type": "code",
      "execution_count": null,
      "metadata": {
        "id": "fUuggRdpDy8z"
      },
      "outputs": [],
      "source": [
        "GB_CLM = TEST_CLM.copy()\n",
        "GB_AMT = TEST_AMT.copy()"
      ]
    },
    {
      "cell_type": "markdown",
      "metadata": {
        "id": "fdTEaE4kDy8z"
      },
      "source": [
        "### Functions for Logit and Linear Regression Models"
      ]
    },
    {
      "cell_type": "code",
      "execution_count": null,
      "metadata": {
        "id": "DD6_ocW5Dy8z"
      },
      "outputs": [],
      "source": [
        "def getCoefLogit( MODEL, TRAIN_DATA ) :\n",
        "    varNames = list( TRAIN_DATA.columns.values )\n",
        "    coef_dict = {}\n",
        "    coef_dict[\"INTERCEPT\"] = MODEL.intercept_[0]\n",
        "    for coef, feat in zip(MODEL.coef_[0],varNames):\n",
        "        coef_dict[feat] = coef\n",
        "    print(\"\\nLOAN DEFAULT\")\n",
        "    print(\"---------\")\n",
        "    print(\"Total Variables: \", len( coef_dict ) )\n",
        "    for i in coef_dict :\n",
        "        print( i, \" = \", coef_dict[i]  )\n",
        "\n",
        "\n",
        "\n",
        "def getCoefLinear( MODEL, TRAIN_DATA ) :\n",
        "    varNames = list( TRAIN_DATA.columns.values )\n",
        "    coef_dict = {}\n",
        "    coef_dict[\"INTERCEPT\"] = MODEL.intercept_\n",
        "    for coef, feat in zip(MODEL.coef_,varNames):\n",
        "        coef_dict[feat] = coef\n",
        "    print(\"\\nLOSS AMOUNT\")\n",
        "    print(\"---------\")\n",
        "    print(\"Total Variables: \", len( coef_dict ) )\n",
        "    for i in coef_dict :\n",
        "        print( i, \" = \", coef_dict[i]  )"
      ]
    },
    {
      "cell_type": "markdown",
      "metadata": {
        "id": "RGlFk5YgDy8z"
      },
      "source": [
        "### Regression All Variables"
      ]
    },
    {
      "cell_type": "markdown",
      "metadata": {
        "id": "zgxVtodyDy8z"
      },
      "source": [
        "#### Loan Default Probability"
      ]
    },
    {
      "cell_type": "code",
      "execution_count": null,
      "metadata": {
        "id": "F7QhcAH9Dy8z",
        "outputId": "2180337c-beed-4c67-d123-00dd24ba9d5e"
      },
      "outputs": [
        {
          "data": {
            "image/png": "[encoded data removed]",
            "text/plain": [
              "<Figure size 432x288 with 1 Axes>"
            ]
          },
          "metadata": {},
          "output_type": "display_data"
        },
        {
          "name": "stdout",
          "output_type": "stream",
          "text": [
            "REG_ALL CLASSIFICATION ACCURACY\n",
            "======\n",
            "REG_ALL_Train  =  0.893246644295302\n",
            "REG_ALL  =  0.886744966442953\n",
            "------\n",
            "\n",
            "\n"
          ]
        }
      ],
      "source": [
        "WHO = \"REG_ALL\"\n",
        "\n",
        "CLM = LogisticRegression( solver='newton-cg', max_iter=1000 )\n",
        "CLM = CLM.fit( X_train, Y_train[ TARGET_FLAG ] )\n",
        "\n",
        "TRAIN_CLM = getProbAccuracyScores( WHO + \"_Train\", CLM, X_train, Y_train[ TARGET_FLAG ] )\n",
        "TEST_CLM = getProbAccuracyScores( WHO, CLM, X_test, Y_test[ TARGET_FLAG ] )\n",
        "\n",
        "print_ROC_Curve( WHO, [ TRAIN_CLM, TEST_CLM ] ) \n",
        "print_Accuracy( WHO + \" CLASSIFICATION ACCURACY\", [ TRAIN_CLM, TEST_CLM ] )"
      ]
    },
    {
      "cell_type": "markdown",
      "metadata": {
        "id": "T8DRaW-xDy8z"
      },
      "source": [
        "#### Loss Amount"
      ]
    },
    {
      "cell_type": "code",
      "execution_count": null,
      "metadata": {
        "id": "JUk2kNeUDy8z",
        "outputId": "84186476-23c6-4ff8-fa50-0df4ed91f97d"
      },
      "outputs": [
        {
          "name": "stdout",
          "output_type": "stream",
          "text": [
            "REG_ALL RMSE ACCURACY\n",
            "======\n",
            "REG_ALL_Train  =  3555.90846939125\n",
            "REG_ALL  =  3615.1006384119664\n",
            "------\n",
            "\n",
            "\n"
          ]
        }
      ],
      "source": [
        "AMT = LinearRegression()\n",
        "AMT = AMT.fit( W_train, Z_train[TARGET_LOSS] )\n",
        "\n",
        "TRAIN_AMT = getAmtAccuracyScores( WHO + \"_Train\", AMT, W_train, Z_train[TARGET_LOSS] )\n",
        "TEST_AMT = getAmtAccuracyScores( WHO, AMT, W_test, Z_test[TARGET_LOSS] )\n",
        "\n",
        "print_Accuracy( WHO + \" RMSE ACCURACY\", [ TRAIN_AMT, TEST_AMT ] )"
      ]
    },
    {
      "cell_type": "code",
      "execution_count": null,
      "metadata": {
        "id": "55q6Zt1uDy8z"
      },
      "outputs": [],
      "source": [
        "varNames = list( X_train.columns.values )\n",
        "\n",
        "#REG_ALL_CLM_COEF = getCoefLogit( CLM, X_train )\n",
        "#REG_ALL_AMT_COEF = getCoefLinear( AMT, X_train )\n",
        "\n",
        "REG_ALL_CLM = TEST_CLM.copy()\n",
        "REG_ALL_AMT = TEST_AMT.copy()"
      ]
    },
    {
      "cell_type": "markdown",
      "metadata": {
        "id": "Qqd97w88Dy8z"
      },
      "source": [
        "### Regression Decision Tree"
      ]
    },
    {
      "cell_type": "markdown",
      "metadata": {
        "id": "0BID9eqyDy8z"
      },
      "source": [
        "#### Loan Default Probability"
      ]
    },
    {
      "cell_type": "code",
      "execution_count": null,
      "metadata": {
        "id": "6NLhNr9wDy8z",
        "outputId": "992a1c8e-6d5f-4cb3-e761-842486063f70"
      },
      "outputs": [
        {
          "data": {
            "image/png": "[encoded data removed]",
            "text/plain": [
              "<Figure size 432x288 with 1 Axes>"
            ]
          },
          "metadata": {},
          "output_type": "display_data"
        },
        {
          "name": "stdout",
          "output_type": "stream",
          "text": [
            "REG_TREE CLASSIFICATION ACCURACY\n",
            "======\n",
            "REG_TREE_Train  =  0.8863255033557047\n",
            "REG_TREE  =  0.8800335570469798\n",
            "------\n",
            "\n",
            "\n"
          ]
        }
      ],
      "source": [
        "WHO = \"REG_TREE\"\n",
        "\n",
        "CLM = LogisticRegression( solver='newton-cg', max_iter=1000 )\n",
        "CLM = CLM.fit( X_train[vars_tree_flag], Y_train[ TARGET_FLAG ] )\n",
        "\n",
        "TRAIN_CLM = getProbAccuracyScores( WHO + \"_Train\", CLM, X_train[vars_tree_flag], Y_train[ TARGET_FLAG ] )\n",
        "TEST_CLM = getProbAccuracyScores( WHO, CLM, X_test[vars_tree_flag], Y_test[ TARGET_FLAG ] )\n",
        "\n",
        "print_ROC_Curve( WHO, [ TRAIN_CLM, TEST_CLM ] ) \n",
        "print_Accuracy( WHO + \" CLASSIFICATION ACCURACY\", [ TRAIN_CLM, TEST_CLM ] )"
      ]
    },
    {
      "cell_type": "markdown",
      "metadata": {
        "id": "7IGB6qL3Dy80"
      },
      "source": [
        "#### Loss Amount"
      ]
    },
    {
      "cell_type": "code",
      "execution_count": null,
      "metadata": {
        "id": "bAWG_w00Dy80",
        "outputId": "c532370a-a118-49f9-9170-648c57883b4a"
      },
      "outputs": [
        {
          "name": "stdout",
          "output_type": "stream",
          "text": [
            "REG_TREE RMSE ACCURACY\n",
            "======\n",
            "REG_TREE_Train  =  4416.313150464977\n",
            "REG_TREE  =  5063.987350451349\n",
            "------\n",
            "\n",
            "\n"
          ]
        }
      ],
      "source": [
        "AMT = LinearRegression()\n",
        "AMT = AMT.fit( W_train[vars_tree_amt], Z_train[TARGET_LOSS] )\n",
        "\n",
        "TRAIN_AMT = getAmtAccuracyScores( WHO + \"_Train\", AMT, W_train[vars_tree_amt], Z_train[TARGET_LOSS] )\n",
        "TEST_AMT = getAmtAccuracyScores( WHO, AMT, W_test[vars_tree_amt], Z_test[TARGET_LOSS] )\n",
        "\n",
        "print_Accuracy( WHO + \" RMSE ACCURACY\", [ TRAIN_AMT, TEST_AMT ] )"
      ]
    },
    {
      "cell_type": "code",
      "execution_count": null,
      "metadata": {
        "id": "p3FIqle2Dy80"
      },
      "outputs": [],
      "source": [
        "varNames = list( X_train.columns.values )\n",
        "\n",
        "#REG_TREE_CLM_COEF = getCoefLogit( CLM, X_train[vars_tree_flag] )\n",
        "#REG_TREE_AMT_COEF = getCoefLinear( AMT, X_train[vars_tree_amt] )\n",
        "\n",
        "REG_TREE_CLM = TEST_CLM.copy()\n",
        "REG_TREE_AMT = TEST_AMT.copy()"
      ]
    },
    {
      "cell_type": "markdown",
      "metadata": {
        "id": "6v6Q4G0dDy80"
      },
      "source": [
        "### Regression Random Forest"
      ]
    },
    {
      "cell_type": "markdown",
      "metadata": {
        "id": "YOU0EvYKDy80"
      },
      "source": [
        "#### Loan Default Probability"
      ]
    },
    {
      "cell_type": "code",
      "execution_count": null,
      "metadata": {
        "id": "OBq-wqSDDy80",
        "outputId": "c8f1513d-bbd8-489c-a973-275c942f06d2"
      },
      "outputs": [
        {
          "name": "stdout",
          "output_type": "stream",
          "text": [
            "('TRUNC_M_DEBTINC', 100)\n",
            "('TRUNC_IMP_DEBTINC', 76)\n",
            "('TRUNC_IMP_CLAGE', 46)\n",
            "('TRUNC_LOAN', 39)\n",
            "('TRUNC_IMP_VALUE', 39)\n",
            "('TRUNC_IMP_MORTDUE', 36)\n",
            "('TRUNC_IMP_CLNO', 34)\n",
            "('TRUNC_IMP_DELINQ', 33)\n",
            "('TRUNC_IMP_YOJ', 30)\n",
            "('TRUNC_IMP_DEROG', 21)\n",
            "('TRUNC_IMP_NINQ', 20)\n",
            "('O_M_VALUE', 14)\n",
            "\n",
            "\n",
            "\n",
            "('TRUNC_LOAN', 100)\n",
            "('TRUNC_IMP_CLNO', 13)\n",
            "('TRUNC_IMP_DEBTINC', 6)\n",
            "('TRUNC_M_DEBTINC', 4)\n",
            "('TRUNC_IMP_CLAGE', 3)\n"
          ]
        }
      ],
      "source": [
        "WHO = \"REG_RF\"\n",
        "\n",
        "RF_flag = []\n",
        "for i in vars_RF_flag :\n",
        "    print(i)\n",
        "    theVar = i[0]\n",
        "    RF_flag.append( theVar )\n",
        "\n",
        "print(\"\\n\\n\")\n",
        "RF_amt = []\n",
        "for i in vars_RF_amt :\n",
        "    print(i)\n",
        "    theVar = i[0]\n",
        "    RF_amt.append( theVar )"
      ]
    },
    {
      "cell_type": "code",
      "execution_count": null,
      "metadata": {
        "id": "EJF6FLl3Dy80",
        "outputId": "86b5d95f-6f2e-4f54-eb07-9712ad263e0f"
      },
      "outputs": [
        {
          "data": {
            "image/png": "[encoded data removed]",
            "text/plain": [
              "<Figure size 432x288 with 1 Axes>"
            ]
          },
          "metadata": {},
          "output_type": "display_data"
        },
        {
          "name": "stdout",
          "output_type": "stream",
          "text": [
            "REG_RF CLASSIFICATION ACCURACY\n",
            "======\n",
            "REG_RF_Train  =  0.8800335570469798\n",
            "REG_RF  =  0.87751677852349\n",
            "------\n",
            "\n",
            "\n"
          ]
        }
      ],
      "source": [
        "CLM = LogisticRegression( solver='newton-cg', max_iter=1000 )\n",
        "CLM = CLM.fit( X_train[RF_flag], Y_train[ TARGET_FLAG ] )\n",
        "\n",
        "TRAIN_CLM = getProbAccuracyScores( WHO + \"_Train\", CLM, X_train[RF_flag], Y_train[ TARGET_FLAG ] )\n",
        "TEST_CLM = getProbAccuracyScores( WHO, CLM, X_test[RF_flag], Y_test[ TARGET_FLAG ] )\n",
        "\n",
        "print_ROC_Curve( WHO, [ TRAIN_CLM, TEST_CLM ] ) \n",
        "print_Accuracy( WHO + \" CLASSIFICATION ACCURACY\", [ TRAIN_CLM, TEST_CLM ] )"
      ]
    },
    {
      "cell_type": "markdown",
      "metadata": {
        "id": "SpUrPMaVDy80"
      },
      "source": [
        "#### Loss Amount"
      ]
    },
    {
      "cell_type": "code",
      "execution_count": null,
      "metadata": {
        "id": "cykgfVdyDy80",
        "outputId": "b4c9894b-2fce-44af-b31d-d10481dc81f7"
      },
      "outputs": [
        {
          "name": "stdout",
          "output_type": "stream",
          "text": [
            "REG_RF RMSE ACCURACY\n",
            "======\n",
            "REG_RF_Train  =  4238.056494916955\n",
            "REG_RF  =  4834.631645572038\n",
            "------\n",
            "\n",
            "\n"
          ]
        }
      ],
      "source": [
        "AMT = LinearRegression()\n",
        "AMT = AMT.fit( W_train[RF_amt], Z_train[TARGET_LOSS] )\n",
        "\n",
        "TRAIN_AMT = getAmtAccuracyScores( WHO + \"_Train\", AMT, W_train[RF_amt], Z_train[TARGET_LOSS] )\n",
        "TEST_AMT = getAmtAccuracyScores( WHO, AMT, W_test[RF_amt], Z_test[TARGET_LOSS] )\n",
        "\n",
        "print_Accuracy( WHO + \" RMSE ACCURACY\", [ TRAIN_AMT, TEST_AMT ] )"
      ]
    },
    {
      "cell_type": "code",
      "execution_count": null,
      "metadata": {
        "id": "INhDHC3KDy80",
        "outputId": "7bc0a22b-6f1d-4a87-8898-884182b00da0"
      },
      "outputs": [
        {
          "name": "stdout",
          "output_type": "stream",
          "text": [
            "\n",
            "LOAN DEFAULT\n",
            "---------\n",
            "Total Variables:  13\n",
            "INTERCEPT  =  -5.277350491799424\n",
            "TRUNC_M_DEBTINC  =  2.6977038943919815\n",
            "TRUNC_IMP_DEBTINC  =  0.10337974267018832\n",
            "TRUNC_IMP_CLAGE  =  -0.005881064244565169\n",
            "TRUNC_LOAN  =  -5.044107866009968e-06\n",
            "TRUNC_IMP_VALUE  =  1.5802338406434643e-06\n",
            "TRUNC_IMP_MORTDUE  =  -1.1578982148828966e-06\n",
            "TRUNC_IMP_CLNO  =  -0.018749336039457866\n",
            "TRUNC_IMP_DELINQ  =  0.7101946567812808\n",
            "TRUNC_IMP_YOJ  =  -0.011837837969276883\n",
            "TRUNC_IMP_DEROG  =  0.7205428184021219\n",
            "TRUNC_IMP_NINQ  =  0.1325985504151847\n",
            "O_M_VALUE  =  3.584420795677956\n",
            "\n",
            "LOSS AMOUNT\n",
            "---------\n",
            "Total Variables:  6\n",
            "INTERCEPT  =  -13269.322689831992\n",
            "TRUNC_LOAN  =  0.7957096877509179\n",
            "TRUNC_IMP_CLNO  =  295.8661953290628\n",
            "TRUNC_IMP_DEBTINC  =  198.11601519151213\n",
            "TRUNC_M_DEBTINC  =  5813.596604342766\n",
            "TRUNC_IMP_CLAGE  =  -25.63038798406322\n"
          ]
        }
      ],
      "source": [
        "REG_RF_CLM_COEF = getCoefLogit( CLM, X_train[RF_flag] )\n",
        "REG_RF_AMT_COEF = getCoefLinear( AMT, X_train[RF_amt] )\n",
        "\n",
        "REG_RF_CLM = TEST_CLM.copy()\n",
        "REG_RF_AMT = TEST_AMT.copy()"
      ]
    },
    {
      "cell_type": "markdown",
      "metadata": {
        "id": "g76smdkvDy80"
      },
      "source": [
        "### Regression Gradient Boosting"
      ]
    },
    {
      "cell_type": "markdown",
      "metadata": {
        "id": "_uOYI7TADy80"
      },
      "source": [
        "#### Loan Default Probability"
      ]
    },
    {
      "cell_type": "code",
      "execution_count": null,
      "metadata": {
        "id": "PBcMX8XeDy80",
        "outputId": "735bb950-47b2-47c6-e214-bc9962e31a31"
      },
      "outputs": [
        {
          "name": "stdout",
          "output_type": "stream",
          "text": [
            "('TRUNC_M_DEBTINC', 100)\n",
            "('TRUNC_IMP_DEBTINC', 29)\n",
            "('TRUNC_IMP_DELINQ', 16)\n",
            "('TRUNC_IMP_CLAGE', 14)\n",
            "('TRUNC_IMP_DEROG', 7)\n",
            "('O_M_VALUE', 7)\n",
            "('TRUNC_IMP_VALUE', 5)\n",
            "('TRUNC_IMP_YOJ', 5)\n",
            "('TRUNC_IMP_CLNO', 5)\n",
            "('TRUNC_LOAN', 4)\n",
            "\n",
            "\n",
            "\n",
            "('TRUNC_LOAN', 100)\n",
            "('TRUNC_IMP_CLNO', 14)\n",
            "('TRUNC_IMP_DEBTINC', 6)\n",
            "('TRUNC_M_DEBTINC', 5)\n",
            "('TRUNC_IMP_CLAGE', 4)\n"
          ]
        }
      ],
      "source": [
        "WHO = \"REG_GB\"\n",
        "\n",
        "GB_flag = []\n",
        "for i in vars_GB_flag :\n",
        "    print(i)\n",
        "    theVar = i[0]\n",
        "    GB_flag.append( theVar )\n",
        "\n",
        "print(\"\\n\\n\")\n",
        "GB_amt = []\n",
        "for i in vars_GB_amt :\n",
        "    print(i)\n",
        "    theVar = i[0]\n",
        "    GB_amt.append( theVar )"
      ]
    },
    {
      "cell_type": "code",
      "execution_count": null,
      "metadata": {
        "id": "aXj-RsmvDy80",
        "outputId": "dc3968f6-f654-494c-9029-df333ce2029a"
      },
      "outputs": [
        {
          "data": {
            "image/png": "[encoded data removed]",
            "text/plain": [
              "<Figure size 432x288 with 1 Axes>"
            ]
          },
          "metadata": {},
          "output_type": "display_data"
        },
        {
          "name": "stdout",
          "output_type": "stream",
          "text": [
            "REG_GB CLASSIFICATION ACCURACY\n",
            "======\n",
            "REG_GB_Train  =  0.881501677852349\n",
            "REG_GB  =  0.8800335570469798\n",
            "------\n",
            "\n",
            "\n"
          ]
        }
      ],
      "source": [
        "CLM = LogisticRegression( solver='newton-cg', max_iter=1000 )\n",
        "CLM = CLM.fit( X_train[GB_flag], Y_train[ TARGET_FLAG ] )\n",
        "\n",
        "TRAIN_CLM = getProbAccuracyScores( WHO + \"_Train\", CLM, X_train[GB_flag], Y_train[ TARGET_FLAG ] )\n",
        "TEST_CLM = getProbAccuracyScores( WHO, CLM, X_test[GB_flag], Y_test[ TARGET_FLAG ] )\n",
        "\n",
        "print_ROC_Curve( WHO, [ TRAIN_CLM, TEST_CLM ] ) \n",
        "print_Accuracy( WHO + \" CLASSIFICATION ACCURACY\", [ TRAIN_CLM, TEST_CLM ] )"
      ]
    },
    {
      "cell_type": "markdown",
      "metadata": {
        "id": "zBUuayPlDy80"
      },
      "source": [
        "#### Loss Amount"
      ]
    },
    {
      "cell_type": "code",
      "execution_count": null,
      "metadata": {
        "id": "mxupQaPRDy81",
        "outputId": "eeeaf9ad-a185-4419-b99d-eac4b25dc600"
      },
      "outputs": [
        {
          "name": "stdout",
          "output_type": "stream",
          "text": [
            "REG_GB RMSE ACCURACY\n",
            "======\n",
            "REG_GB_Train  =  4238.056494916955\n",
            "REG_GB  =  4834.631645572038\n",
            "------\n",
            "\n",
            "\n"
          ]
        }
      ],
      "source": [
        "AMT = LinearRegression()\n",
        "AMT = AMT.fit( W_train[GB_amt], Z_train[TARGET_LOSS] )\n",
        "\n",
        "TRAIN_AMT = getAmtAccuracyScores( WHO + \"_Train\", AMT, W_train[GB_amt], Z_train[TARGET_LOSS] )\n",
        "TEST_AMT = getAmtAccuracyScores( WHO, AMT, W_test[GB_amt], Z_test[TARGET_LOSS] )\n",
        "\n",
        "print_Accuracy( WHO + \" RMSE ACCURACY\", [ TRAIN_AMT, TEST_AMT ] )"
      ]
    },
    {
      "cell_type": "code",
      "execution_count": null,
      "metadata": {
        "id": "NAsUWBWADy81",
        "outputId": "ac9498ea-62b1-402f-dfde-1a4e8d463806"
      },
      "outputs": [
        {
          "name": "stdout",
          "output_type": "stream",
          "text": [
            "\n",
            "LOAN DEFAULT\n",
            "---------\n",
            "Total Variables:  11\n",
            "INTERCEPT  =  -5.24430143027247\n",
            "TRUNC_M_DEBTINC  =  2.738760511600896\n",
            "TRUNC_IMP_DEBTINC  =  0.10578807558039724\n",
            "TRUNC_IMP_DELINQ  =  0.7065760942356596\n",
            "TRUNC_IMP_CLAGE  =  -0.00610884912245422\n",
            "TRUNC_IMP_DEROG  =  0.7576642576894351\n",
            "O_M_VALUE  =  3.5432677105315036\n",
            "TRUNC_IMP_VALUE  =  5.686942832087663e-07\n",
            "TRUNC_IMP_YOJ  =  -0.013075526298365439\n",
            "TRUNC_IMP_CLNO  =  -0.016243098349593033\n",
            "TRUNC_LOAN  =  -2.546639561948394e-06\n",
            "\n",
            "LOSS AMOUNT\n",
            "---------\n",
            "Total Variables:  6\n",
            "INTERCEPT  =  -13269.322689831992\n",
            "TRUNC_LOAN  =  0.7957096877509179\n",
            "TRUNC_IMP_CLNO  =  295.8661953290628\n",
            "TRUNC_IMP_DEBTINC  =  198.11601519151213\n",
            "TRUNC_M_DEBTINC  =  5813.596604342766\n",
            "TRUNC_IMP_CLAGE  =  -25.63038798406322\n"
          ]
        }
      ],
      "source": [
        "REG_GB_CLM_COEF = getCoefLogit( CLM, X_train[GB_flag] )\n",
        "REG_GB_AMT_COEF = getCoefLinear( AMT, X_train[GB_amt] )\n",
        "\n",
        "REG_GB_CLM = TEST_CLM.copy()\n",
        "REG_GB_AMT = TEST_AMT.copy()"
      ]
    },
    {
      "cell_type": "markdown",
      "metadata": {
        "id": "oiR4pUBPDy81"
      },
      "source": [
        "### Regression Stepwise"
      ]
    },
    {
      "cell_type": "code",
      "execution_count": null,
      "metadata": {
        "id": "eLVz4bSYDy81",
        "outputId": "24ce37e6-1e52-4e58-e4e2-d3ba9f929cc0"
      },
      "outputs": [
        {
          "name": "stdout",
          "output_type": "stream",
          "text": [
            "10\n"
          ]
        },
        {
          "data": {
            "text/plain": [
              "SequentialFeatureSelector(cv=3,\n",
              "                          estimator=LogisticRegression(solver='newton-cg'),\n",
              "                          k_features=(1, 10))"
            ]
          },
          "execution_count": 117,
          "metadata": {},
          "output_type": "execute_result"
        }
      ],
      "source": [
        "U_train = X_train[ vars_tree_flag ]\n",
        "stepVarNames = list( U_train.columns.values )\n",
        "maxCols = U_train.shape[1]\n",
        "print(maxCols)\n",
        "\n",
        "sfs = SFS( LogisticRegression( solver='newton-cg', max_iter=100 ),\n",
        "           k_features=( 1, maxCols ),\n",
        "           forward=True,\n",
        "           floating=False,\n",
        "           cv=3\n",
        "           )\n",
        "sfs.fit(U_train.values, Y_train[ TARGET_FLAG ].values)"
      ]
    },
    {
      "cell_type": "code",
      "execution_count": null,
      "metadata": {
        "id": "2_Obzg1PDy81",
        "outputId": "efaaa007-5097-4566-961c-415a55565605"
      },
      "outputs": [
        {
          "data": {
            "image/png": "[encoded data removed]",
            "text/plain": [
              "<Figure size 432x288 with 1 Axes>"
            ]
          },
          "metadata": {},
          "output_type": "display_data"
        }
      ],
      "source": [
        "theFigure = plot_sfs(sfs.get_metric_dict(), kind=None )\n",
        "plt.title('LOAN DEFAULT PROBABILITY Sequential Forward Selection (w. StdErr)')\n",
        "plt.grid()\n",
        "plt.show()"
      ]
    },
    {
      "cell_type": "code",
      "execution_count": null,
      "metadata": {
        "id": "Ykp4EV7HDy81"
      },
      "outputs": [],
      "source": [
        "dfm = pd.DataFrame.from_dict( sfs.get_metric_dict()).T\n",
        "dfm = dfm[ ['feature_names', 'avg_score'] ]\n",
        "dfm.avg_score = dfm.avg_score.astype(float)"
      ]
    },
    {
      "cell_type": "code",
      "execution_count": null,
      "metadata": {
        "id": "3OZHneatDy81",
        "outputId": "d440029e-3e2a-4184-f0a5-ac5d888929da"
      },
      "outputs": [
        {
          "name": "stdout",
          "output_type": "stream",
          "text": [
            " ................... \n",
            "argmax\n",
            "feature_names    (0, 1, 2, 3, 4, 6, 7, 8, 9)\n",
            "avg_score                           0.885697\n",
            "Name: 9, dtype: object\n",
            " ................... \n",
            "('0', '1', '2', '3', '4', '6', '7', '8', '9')\n"
          ]
        }
      ],
      "source": [
        "print(\" ................... \")\n",
        "maxIndex = dfm.avg_score.argmax()\n",
        "print(\"argmax\")\n",
        "print( dfm.iloc[ maxIndex, ] )\n",
        "print(\" ................... \")\n",
        "\n",
        "stepVars = dfm.iloc[ maxIndex, ]\n",
        "stepVars = stepVars.feature_names\n",
        "print( stepVars )"
      ]
    },
    {
      "cell_type": "code",
      "execution_count": null,
      "metadata": {
        "id": "GnikRdmXDy81",
        "outputId": "63963896-0425-41e3-c84e-af19895dfd33"
      },
      "outputs": [
        {
          "name": "stdout",
          "output_type": "stream",
          "text": [
            "TRUNC_IMP_CLAGE\n",
            "TRUNC_M_DEBTINC\n",
            "TRUNC_IMP_DEBTINC\n",
            "O_M_VALUE\n",
            "TRUNC_IMP_VALUE\n",
            "TRUNC_M_DEROG\n",
            "TRUNC_IMP_DEROG\n",
            "O_IMP_DELINQ\n",
            "TRUNC_IMP_DELINQ\n"
          ]
        }
      ],
      "source": [
        "finalStepVars = []\n",
        "for i in stepVars :\n",
        "    index = int(i)\n",
        "    try :\n",
        "        theName = stepVarNames[ index ]\n",
        "        finalStepVars.append( theName )\n",
        "    except :\n",
        "        pass\n",
        "\n",
        "for i in finalStepVars :\n",
        "    print(i)\n",
        "\n",
        "U_train = X_train[ finalStepVars ]\n",
        "U_test = X_test[ finalStepVars ]"
      ]
    },
    {
      "cell_type": "code",
      "execution_count": null,
      "metadata": {
        "id": "EvUL4OAQDy81",
        "outputId": "dd853fab-3dac-4a62-c3b5-be5b4152c1fb"
      },
      "outputs": [
        {
          "data": {
            "text/plain": [
              "SequentialFeatureSelector(estimator=LinearRegression(), k_features=(1, 5),\n",
              "                          scoring='r2')"
            ]
          },
          "execution_count": 122,
          "metadata": {},
          "output_type": "execute_result"
        }
      ],
      "source": [
        "V_train = W_train[ GB_amt ]\n",
        "stepVarNames = list( V_train.columns.values )\n",
        "maxCols = V_train.shape[1]\n",
        "\n",
        "sfs = SFS( LinearRegression(),\n",
        "           k_features=( 1, maxCols ),\n",
        "           forward=True,\n",
        "           floating=False,\n",
        "           scoring = 'r2',\n",
        "           cv=5\n",
        "           )\n",
        "sfs.fit(V_train.values, Z_train[ TARGET_LOSS ].values)"
      ]
    },
    {
      "cell_type": "code",
      "execution_count": null,
      "metadata": {
        "id": "BCQ1aU1fDy81",
        "outputId": "e708eec8-6dfe-4652-f26d-7fab7c9c0420"
      },
      "outputs": [
        {
          "data": {
            "image/png": "[encoded data removed]",
            "text/plain": [
              "<Figure size 432x288 with 1 Axes>"
            ]
          },
          "metadata": {},
          "output_type": "display_data"
        }
      ],
      "source": [
        "theFigure = plot_sfs(sfs.get_metric_dict(), kind=None )\n",
        "plt.title('LOSS AMOUNT Sequential Forward Selection (w. StdErr)')\n",
        "plt.grid()\n",
        "plt.show()"
      ]
    },
    {
      "cell_type": "code",
      "execution_count": null,
      "metadata": {
        "id": "AyA7OunwDy81"
      },
      "outputs": [],
      "source": [
        "dfm = pd.DataFrame.from_dict( sfs.get_metric_dict()).T\n",
        "dfm = dfm[ ['feature_names', 'avg_score'] ]\n",
        "dfm.avg_score = dfm.avg_score.astype(float)"
      ]
    },
    {
      "cell_type": "code",
      "execution_count": null,
      "metadata": {
        "id": "svYI-HoBDy81",
        "outputId": "c8d48e20-760c-49d1-e667-9be414212783"
      },
      "outputs": [
        {
          "name": "stdout",
          "output_type": "stream",
          "text": [
            " ................... \n",
            "argmax\n",
            "feature_names    (0, 1, 2, 3, 4)\n",
            "avg_score               0.824332\n",
            "Name: 5, dtype: object\n",
            " ................... \n",
            "('0', '1', '2', '3', '4')\n"
          ]
        }
      ],
      "source": [
        "print(\" ................... \")\n",
        "maxIndex = dfm.avg_score.argmax()\n",
        "print(\"argmax\")\n",
        "print( dfm.iloc[ maxIndex, ] )\n",
        "print(\" ................... \")\n",
        "\n",
        "stepVars = dfm.iloc[ maxIndex, ]\n",
        "stepVars = stepVars.feature_names\n",
        "print( stepVars )"
      ]
    },
    {
      "cell_type": "code",
      "execution_count": null,
      "metadata": {
        "id": "5xFjXTgaDy81",
        "outputId": "009c3842-4240-4a60-b55a-23ca69d154f5"
      },
      "outputs": [
        {
          "name": "stdout",
          "output_type": "stream",
          "text": [
            "TRUNC_LOAN\n",
            "TRUNC_IMP_CLNO\n",
            "TRUNC_IMP_DEBTINC\n",
            "TRUNC_M_DEBTINC\n",
            "TRUNC_IMP_CLAGE\n"
          ]
        }
      ],
      "source": [
        "finalStepVars = []\n",
        "for i in stepVars :\n",
        "    index = int(i)\n",
        "    try :\n",
        "        theName = stepVarNames[ index ]\n",
        "        finalStepVars.append( theName )\n",
        "    except :\n",
        "        pass\n",
        "\n",
        "for i in finalStepVars :\n",
        "    print(i)\n",
        "\n",
        "V_train = W_train[ finalStepVars ]\n",
        "V_test = W_test[ finalStepVars ]"
      ]
    },
    {
      "cell_type": "markdown",
      "metadata": {
        "id": "1BLH_JFsDy81"
      },
      "source": [
        "### Regression"
      ]
    },
    {
      "cell_type": "markdown",
      "metadata": {
        "id": "RbbEvvTEDy82"
      },
      "source": [
        "#### Loan Default Probability"
      ]
    },
    {
      "cell_type": "code",
      "execution_count": null,
      "metadata": {
        "id": "Ers_AxS6Dy82",
        "outputId": "88dc4609-17a9-436a-9324-6da7ad581726"
      },
      "outputs": [
        {
          "data": {
            "image/png": "[encoded data removed]",
            "text/plain": [
              "<Figure size 432x288 with 1 Axes>"
            ]
          },
          "metadata": {},
          "output_type": "display_data"
        },
        {
          "name": "stdout",
          "output_type": "stream",
          "text": [
            "REG_STEPWISE CLASSIFICATION ACCURACY\n",
            "======\n",
            "REG_STEPWISE_Train  =  0.885486577181208\n",
            "REG_STEPWISE  =  0.8842281879194631\n",
            "------\n",
            "\n",
            "\n"
          ]
        }
      ],
      "source": [
        "WHO = \"REG_STEPWISE\"\n",
        "\n",
        "CLM = LogisticRegression( solver='newton-cg', max_iter=1000 )\n",
        "CLM = CLM.fit( U_train, Y_train[ TARGET_FLAG ] )\n",
        "\n",
        "TRAIN_CLM = getProbAccuracyScores( WHO + \"_Train\", CLM, U_train, Y_train[ TARGET_FLAG ] )\n",
        "TEST_CLM = getProbAccuracyScores( WHO, CLM, U_test, Y_test[ TARGET_FLAG ] )\n",
        "\n",
        "print_ROC_Curve( WHO, [ TRAIN_CLM, TEST_CLM ] ) \n",
        "print_Accuracy( WHO + \" CLASSIFICATION ACCURACY\", [ TRAIN_CLM, TEST_CLM ] )"
      ]
    },
    {
      "cell_type": "markdown",
      "metadata": {
        "id": "J8aoi6x5Dy82"
      },
      "source": [
        "#### Loss Amount"
      ]
    },
    {
      "cell_type": "code",
      "execution_count": null,
      "metadata": {
        "id": "9c5yeYXSDy82",
        "outputId": "ecf09da9-8db1-46f0-d73f-89caeafb1463"
      },
      "outputs": [
        {
          "name": "stdout",
          "output_type": "stream",
          "text": [
            "REG_STEPWISE RMSE ACCURACY\n",
            "======\n",
            "REG_STEPWISE_Train  =  4238.056494916955\n",
            "REG_STEPWISE  =  4834.631645572038\n",
            "------\n",
            "\n",
            "\n"
          ]
        }
      ],
      "source": [
        "AMT = LinearRegression()\n",
        "AMT = AMT.fit( V_train, Z_train[TARGET_LOSS] )\n",
        "\n",
        "TRAIN_AMT = getAmtAccuracyScores( WHO + \"_Train\", AMT, V_train, Z_train[TARGET_LOSS] )\n",
        "TEST_AMT = getAmtAccuracyScores( WHO, AMT, V_test, Z_test[TARGET_LOSS] )\n",
        "\n",
        "print_Accuracy( WHO + \" RMSE ACCURACY\", [ TRAIN_AMT, TEST_AMT ] )"
      ]
    },
    {
      "cell_type": "code",
      "execution_count": null,
      "metadata": {
        "id": "VsHp3zvRDy82",
        "outputId": "2ac5f720-155e-4da2-8121-88fc41d1805e"
      },
      "outputs": [
        {
          "name": "stdout",
          "output_type": "stream",
          "text": [
            "\n",
            "LOAN DEFAULT\n",
            "---------\n",
            "Total Variables:  10\n",
            "INTERCEPT  =  -5.353530813656673\n",
            "TRUNC_IMP_CLAGE  =  -0.006837020088604123\n",
            "TRUNC_M_DEBTINC  =  2.744201933282898\n",
            "TRUNC_IMP_DEBTINC  =  0.10528069849571041\n",
            "O_M_VALUE  =  3.709820349727899\n",
            "TRUNC_IMP_VALUE  =  -8.007909005536421e-07\n",
            "TRUNC_M_DEROG  =  -0.7852268386953548\n",
            "TRUNC_IMP_DEROG  =  0.6922553233448552\n",
            "O_IMP_DELINQ  =  2.0537201808929995\n",
            "TRUNC_IMP_DELINQ  =  0.6176089000725961\n",
            "\n",
            "LOSS AMOUNT\n",
            "---------\n",
            "Total Variables:  6\n",
            "INTERCEPT  =  -13269.322689831992\n",
            "TRUNC_LOAN  =  0.7957096877509179\n",
            "TRUNC_IMP_CLNO  =  295.8661953290628\n",
            "TRUNC_IMP_DEBTINC  =  198.11601519151213\n",
            "TRUNC_M_DEBTINC  =  5813.596604342766\n",
            "TRUNC_IMP_CLAGE  =  -25.63038798406322\n"
          ]
        }
      ],
      "source": [
        "REG_STEP_CLM_COEF = getCoefLogit( CLM, U_train )\n",
        "REG_STEP_AMT_COEF = getCoefLinear( AMT, V_train )\n",
        "\n",
        "REG_STEP_CLM = TEST_CLM.copy()\n",
        "REG_STEP_AMT = TEST_AMT.copy()"
      ]
    },
    {
      "cell_type": "markdown",
      "metadata": {
        "id": "JQL3Vvm9Dy82"
      },
      "source": [
        "### Regression Comparison"
      ]
    },
    {
      "cell_type": "code",
      "execution_count": null,
      "metadata": {
        "id": "um1oMYgIDy82",
        "outputId": "28f6bc8e-a993-4399-d97d-5d727c7d3119"
      },
      "outputs": [
        {
          "data": {
            "image/png": "[encoded data removed]",
            "text/plain": [
              "<Figure size 432x288 with 1 Axes>"
            ]
          },
          "metadata": {},
          "output_type": "display_data"
        },
        {
          "name": "stdout",
          "output_type": "stream",
          "text": [
            "ALL CLASSIFICATION ACCURACY\n",
            "======\n",
            "RF  =  0.9119127516778524\n",
            "GB  =  0.9060402684563759\n",
            "REG_ALL  =  0.886744966442953\n",
            "TREE  =  0.8859060402684564\n",
            "REG_STEPWISE  =  0.8842281879194631\n",
            "REG_GB  =  0.8800335570469798\n",
            "REG_TREE  =  0.8800335570469798\n",
            "REG_RF  =  0.87751677852349\n",
            "------\n",
            "\n",
            "\n"
          ]
        }
      ],
      "source": [
        "ALL_CLM = [ TREE_CLM, RF_CLM, GB_CLM, REG_ALL_CLM, REG_TREE_CLM, REG_RF_CLM, REG_GB_CLM, REG_STEP_CLM ]\n",
        "\n",
        "ALL_CLM = sorted( ALL_CLM, key = lambda x: x[4], reverse=True )\n",
        "print_ROC_Curve( WHO, ALL_CLM ) \n",
        "\n",
        "ALL_CLM = sorted( ALL_CLM, key = lambda x: x[1], reverse=True )\n",
        "print_Accuracy( \"ALL CLASSIFICATION ACCURACY\", ALL_CLM )"
      ]
    },
    {
      "cell_type": "code",
      "execution_count": null,
      "metadata": {
        "id": "izliMrDNDy82",
        "outputId": "9a41474a-92bb-4e57-da9f-59c3f4c0c4f1"
      },
      "outputs": [
        {
          "name": "stdout",
          "output_type": "stream",
          "text": [
            "ALL DAMAGE MODEL ACCURACY\n",
            "======\n",
            "GB  =  2794.947030828998\n",
            "RF  =  3428.650015145327\n",
            "REG_ALL  =  3615.1006384119664\n",
            "REG_RF  =  4834.631645572038\n",
            "REG_GB  =  4834.631645572038\n",
            "REG_STEPWISE  =  4834.631645572038\n",
            "REG_TREE  =  5063.987350451349\n",
            "TREE  =  5713.237610480276\n",
            "------\n",
            "\n",
            "\n"
          ]
        }
      ],
      "source": [
        "ALL_AMT = [ TREE_AMT, RF_AMT, GB_AMT, REG_ALL_AMT, REG_TREE_AMT, REG_RF_AMT, REG_GB_AMT, REG_STEP_AMT ]\n",
        "ALL_AMT = sorted( ALL_AMT, key = lambda x: x[1] )\n",
        "print_Accuracy( \"ALL DAMAGE MODEL ACCURACY\", ALL_AMT )"
      ]
    }
  ],
  "metadata": {
    "kernelspec": {
      "display_name": "Python 3",
      "language": "python",
      "name": "python3"
    },
    "language_info": {
      "codemirror_mode": {
        "name": "ipython",
        "version": 3
      },
      "file_extension": ".py",
      "mimetype": "text/x-python",
      "name": "python",
      "nbconvert_exporter": "python",
      "pygments_lexer": "ipython3",
      "version": "3.8.5"
    },
    "colab": {
      "name": "Assignment3.ipynb",
      "provenance": []
    }
  },
  "nbformat": 4,
  "nbformat_minor": 0
}