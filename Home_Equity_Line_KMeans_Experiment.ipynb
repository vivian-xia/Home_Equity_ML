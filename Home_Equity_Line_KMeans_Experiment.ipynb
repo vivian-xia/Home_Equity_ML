{
  "cells": [
    {
      "cell_type": "markdown",
      "source": [
        "#### Vivian Xia\n",
        "## Home Equity Line: KMeans Experiment"
      ],
      "metadata": {
        "id": "wB9AuwDinG54"
      },
      "id": "wB9AuwDinG54"
    },
    {
      "cell_type": "markdown",
      "source": [
        "## Import packages and data"
      ],
      "metadata": {
        "id": "BsY2hg7gg0Zs"
      },
      "id": "BsY2hg7gg0Zs"
    },
    {
      "cell_type": "code",
      "execution_count": 8,
      "id": "d231288f",
      "metadata": {
        "id": "d231288f"
      },
      "outputs": [],
      "source": [
        "import numpy as np\n",
        "import pandas as pd\n",
        "\n",
        "from sklearn.preprocessing import MinMaxScaler\n",
        "from sklearn.preprocessing import StandardScaler\n",
        "\n",
        "import matplotlib.pyplot as plt\n",
        "import seaborn as sns\n",
        "\n",
        "from sklearn.cluster import KMeans\n",
        "from sklearn.metrics import silhouette_score\n",
        "from sklearn.metrics import calinski_harabasz_score\n",
        "\n",
        "from sklearn.decomposition import PCA\n",
        "\n",
        "import warnings\n",
        "warnings.filterwarnings(\"ignore\")"
      ]
    },
    {
      "cell_type": "code",
      "execution_count": 9,
      "id": "415ac350",
      "metadata": {
        "id": "415ac350"
      },
      "outputs": [],
      "source": [
        "pd.set_option('display.max_rows', None)\n",
        "pd.set_option('display.max_columns', None)\n",
        "pd.set_option('display.width', None)\n",
        "pd.set_option('display.max_colwidth', None)"
      ]
    },
    {
      "cell_type": "code",
      "execution_count": 10,
      "id": "ff12bb84",
      "metadata": {
        "id": "ff12bb84"
      },
      "outputs": [],
      "source": [
        "df = pd.read_csv(\"clean_HMEQ_Loss.csv\")"
      ]
    },
    {
      "cell_type": "code",
      "execution_count": 11,
      "id": "b38a5b64",
      "metadata": {
        "id": "b38a5b64"
      },
      "outputs": [],
      "source": [
        "TARGET_FLAG = 'TARGET_BAD_FLAG'\n",
        "TARGET_LOSS = 'TARGET_LOSS_AMT'"
      ]
    },
    {
      "cell_type": "markdown",
      "source": [
        "## Preprocess data"
      ],
      "metadata": {
        "id": "EP67G2XPgyjC"
      },
      "id": "EP67G2XPgyjC"
    },
    {
      "cell_type": "code",
      "execution_count": 12,
      "id": "74adfac3",
      "metadata": {
        "colab": {
          "base_uri": "https://localhost:8080/"
        },
        "id": "74adfac3",
        "outputId": "21798b12-3483-4668-8fac-5c8f90c0d01f"
      },
      "outputs": [
        {
          "output_type": "stream",
          "name": "stdout",
          "text": [
            "   M_MORTDUE  M_VALUE  M_YOJ  M_DEROG  M_DELINQ  M_CLAGE  M_NINQ  M_CLNO  \\\n",
            "0          0        0      0        0         0        0       0       0   \n",
            "1          0        0      0        0         0        0       0       0   \n",
            "2          0        0      0        0         0        0       0       0   \n",
            "3          1        1      1        1         1        1       1       1   \n",
            "4          0        0      0        0         0        0       0       0   \n",
            "\n",
            "   M_DEBTINC  O_LOAN  TRUNC_LOAN  O_IMP_MORTDUE  TRUNC_IMP_MORTDUE  \\\n",
            "0          1       0        1100              0            25860.0   \n",
            "1          1       0        1300              0            70053.0   \n",
            "2          1       0        1500              0            13500.0   \n",
            "3          1       0        1500              0            65019.0   \n",
            "4          1       0        1700              0            97800.0   \n",
            "\n",
            "   O_IMP_VALUE  TRUNC_IMP_VALUE  O_IMP_YOJ  TRUNC_IMP_YOJ  O_IMP_DEROG  \\\n",
            "0            0          39025.0          0           10.5            0   \n",
            "1            0          68400.0          0            7.0            0   \n",
            "2            0          16700.0          0            4.0            0   \n",
            "3            0          89235.5          0            7.0            0   \n",
            "4            0         112000.0          0            3.0            0   \n",
            "\n",
            "   TRUNC_IMP_DEROG  O_IMP_DELINQ  TRUNC_IMP_DELINQ  O_IMP_CLAGE  \\\n",
            "0              0.0             0               0.0            0   \n",
            "1              0.0             0               2.0            0   \n",
            "2              0.0             0               0.0            0   \n",
            "3              0.0             0               0.0            0   \n",
            "4              0.0             0               0.0            0   \n",
            "\n",
            "   TRUNC_IMP_CLAGE  O_IMP_NINQ  TRUNC_IMP_NINQ  O_IMP_CLNO  TRUNC_IMP_CLNO  \\\n",
            "0        94.366667           0             1.0           0             9.0   \n",
            "1       121.833333           0             0.0           0            14.0   \n",
            "2       149.466667           0             1.0           0            10.0   \n",
            "3       173.466667           0             1.0           0            20.0   \n",
            "4        93.333333           0             0.0           0            14.0   \n",
            "\n",
            "   O_IMP_DEBTINC  TRUNC_IMP_DEBTINC  z_IMP_REASON_HomeImp  \\\n",
            "0              0          34.818262                     1   \n",
            "1              0          34.818262                     1   \n",
            "2              0          34.818262                     1   \n",
            "3              0          34.818262                     0   \n",
            "4              0          34.818262                     1   \n",
            "\n",
            "   z_IMP_REASON_MISSING  z_IMP_JOB_Mgr  z_IMP_JOB_Office  z_IMP_JOB_Other  \\\n",
            "0                     0              0                 0                1   \n",
            "1                     0              0                 0                1   \n",
            "2                     0              0                 0                1   \n",
            "3                     1              0                 0                0   \n",
            "4                     0              0                 1                0   \n",
            "\n",
            "   z_IMP_JOB_ProfExe  z_IMP_JOB_Sales  z_IMP_JOB_Self  \n",
            "0                  0                0               0  \n",
            "1                  0                0               0  \n",
            "2                  0                0               0  \n",
            "3                  0                0               0  \n",
            "4                  0                0               0  \n"
          ]
        }
      ],
      "source": [
        "df1 = df.copy()\n",
        "df1 = df1.drop( [TARGET_FLAG], axis=1 ) #drop target variable\n",
        "df1 = df1.drop( [TARGET_LOSS], axis=1 ) \n",
        "varNames = df1.columns\n",
        "\n",
        "print( df1.head() )"
      ]
    },
    {
      "cell_type": "code",
      "source": [
        "dt = df1.dtypes\n",
        "numList = []\n",
        "for i in dt.index :\n",
        "    if i in ( [ TARGET_FLAG, TARGET_LOSS ] ) : continue\n",
        "    if dt[i] in ([\"float64\",\"int64\"]) : numList.append( i )\n",
        "\n",
        "print(\" NUMBER \")\n",
        "print(\" ------- \")\n",
        "for i in numList :\n",
        "    print( i )\n",
        "print(\" ------- \")"
      ],
      "metadata": {
        "colab": {
          "base_uri": "https://localhost:8080/"
        },
        "id": "wraFkNBZgE8L",
        "outputId": "0d4e750f-c790-47f6-bd86-04170b9001aa"
      },
      "id": "wraFkNBZgE8L",
      "execution_count": 13,
      "outputs": [
        {
          "output_type": "stream",
          "name": "stdout",
          "text": [
            " NUMBER \n",
            " ------- \n",
            "M_MORTDUE\n",
            "M_VALUE\n",
            "M_YOJ\n",
            "M_DEROG\n",
            "M_DELINQ\n",
            "M_CLAGE\n",
            "M_NINQ\n",
            "M_CLNO\n",
            "M_DEBTINC\n",
            "O_LOAN\n",
            "TRUNC_LOAN\n",
            "O_IMP_MORTDUE\n",
            "TRUNC_IMP_MORTDUE\n",
            "O_IMP_VALUE\n",
            "TRUNC_IMP_VALUE\n",
            "O_IMP_YOJ\n",
            "TRUNC_IMP_YOJ\n",
            "O_IMP_DEROG\n",
            "TRUNC_IMP_DEROG\n",
            "O_IMP_DELINQ\n",
            "TRUNC_IMP_DELINQ\n",
            "O_IMP_CLAGE\n",
            "TRUNC_IMP_CLAGE\n",
            "O_IMP_NINQ\n",
            "TRUNC_IMP_NINQ\n",
            "O_IMP_CLNO\n",
            "TRUNC_IMP_CLNO\n",
            "O_IMP_DEBTINC\n",
            "TRUNC_IMP_DEBTINC\n",
            "z_IMP_REASON_HomeImp\n",
            "z_IMP_REASON_MISSING\n",
            "z_IMP_JOB_Mgr\n",
            "z_IMP_JOB_Office\n",
            "z_IMP_JOB_Other\n",
            "z_IMP_JOB_ProfExe\n",
            "z_IMP_JOB_Sales\n",
            "z_IMP_JOB_Self\n",
            " ------- \n"
          ]
        }
      ]
    },
    {
      "cell_type": "code",
      "execution_count": 14,
      "id": "748b221f",
      "metadata": {
        "colab": {
          "base_uri": "https://localhost:8080/"
        },
        "id": "748b221f",
        "outputId": "19b98939-0772-48ee-a9b2-8838162e57f3"
      },
      "outputs": [
        {
          "output_type": "execute_result",
          "data": {
            "text/plain": [
              "['TRUNC_LOAN',\n",
              " 'TRUNC_IMP_MORTDUE',\n",
              " 'TRUNC_IMP_VALUE',\n",
              " 'TRUNC_IMP_YOJ',\n",
              " 'TRUNC_IMP_DEROG',\n",
              " 'TRUNC_IMP_DELINQ',\n",
              " 'TRUNC_IMP_CLAGE',\n",
              " 'TRUNC_IMP_NINQ',\n",
              " 'TRUNC_IMP_CLNO',\n",
              " 'TRUNC_IMP_DEBTINC']"
            ]
          },
          "metadata": {},
          "execution_count": 14
        }
      ],
      "source": [
        "truncList = [x for x in numList if x.startswith(\"TRUNC_\")]\n",
        "truncList"
      ]
    },
    {
      "cell_type": "code",
      "execution_count": 15,
      "id": "4f796d88",
      "metadata": {
        "colab": {
          "base_uri": "https://localhost:8080/"
        },
        "id": "4f796d88",
        "outputId": "3ebd3f95-377c-47e1-ca9e-549c9d1db5cf"
      },
      "outputs": [
        {
          "output_type": "stream",
          "name": "stdout",
          "text": [
            "                              0             1             2             3  \\\n",
            "TRUNC_LOAN          1100.000000   1300.000000   1500.000000   1500.000000   \n",
            "TRUNC_IMP_MORTDUE  25860.000000  70053.000000  13500.000000  65019.000000   \n",
            "TRUNC_IMP_VALUE    39025.000000  68400.000000  16700.000000  89235.500000   \n",
            "TRUNC_IMP_YOJ         10.500000      7.000000      4.000000      7.000000   \n",
            "TRUNC_IMP_DEROG        0.000000      0.000000      0.000000      0.000000   \n",
            "TRUNC_IMP_DELINQ       0.000000      2.000000      0.000000      0.000000   \n",
            "TRUNC_IMP_CLAGE       94.366667    121.833333    149.466667    173.466667   \n",
            "TRUNC_IMP_NINQ         1.000000      0.000000      1.000000      1.000000   \n",
            "TRUNC_IMP_CLNO         9.000000     14.000000     10.000000     20.000000   \n",
            "TRUNC_IMP_DEBTINC     34.818262     34.818262     34.818262     34.818262   \n",
            "\n",
            "                               4  \n",
            "TRUNC_LOAN           1700.000000  \n",
            "TRUNC_IMP_MORTDUE   97800.000000  \n",
            "TRUNC_IMP_VALUE    112000.000000  \n",
            "TRUNC_IMP_YOJ           3.000000  \n",
            "TRUNC_IMP_DEROG         0.000000  \n",
            "TRUNC_IMP_DELINQ        0.000000  \n",
            "TRUNC_IMP_CLAGE        93.333333  \n",
            "TRUNC_IMP_NINQ          0.000000  \n",
            "TRUNC_IMP_CLNO         14.000000  \n",
            "TRUNC_IMP_DEBTINC      34.818262  \n",
            "\n",
            "\n",
            "\n",
            "         TRUNC_LOAN  TRUNC_IMP_MORTDUE  TRUNC_IMP_VALUE  TRUNC_IMP_YOJ  \\\n",
            "count   5960.000000        5960.000000      5960.000000    5960.000000   \n",
            "mean   18362.256711       72201.825034    100462.133732       8.741737   \n",
            "std    10148.976515       39017.412773     50412.742922       7.208863   \n",
            "min     1100.000000        2063.000000      8000.000000       0.000000   \n",
            "25%    11100.000000       48139.000000     66489.500000       3.000000   \n",
            "50%    16300.000000       65019.000000     89235.500000       7.000000   \n",
            "75%    23300.000000       88200.250000    119004.750000      12.000000   \n",
            "max    52230.000000      200659.000000    272149.000000      31.000000   \n",
            "\n",
            "       TRUNC_IMP_DEROG  TRUNC_IMP_DELINQ  TRUNC_IMP_CLAGE  TRUNC_IMP_NINQ  \\\n",
            "count      5960.000000       5960.000000      5960.000000     5960.000000   \n",
            "mean          0.192114          0.371309       178.519248        1.115101   \n",
            "std           0.582947          0.886332        78.853277        1.408926   \n",
            "min           0.000000          0.000000         0.000000        0.000000   \n",
            "25%           0.000000          0.000000       117.371430        0.000000   \n",
            "50%           0.000000          0.000000       173.466667        1.000000   \n",
            "75%           0.000000          0.000000       227.143058        2.000000   \n",
            "max           3.000000          4.000000       430.000000        6.000000   \n",
            "\n",
            "       TRUNC_IMP_CLNO  TRUNC_IMP_DEBTINC  \n",
            "count     5960.000000        5960.000000  \n",
            "mean        21.200671          33.877119  \n",
            "std          9.783956           6.649744  \n",
            "min          0.000000           0.524499  \n",
            "25%         15.000000          30.763159  \n",
            "50%         20.000000          34.818262  \n",
            "75%         26.000000          37.949892  \n",
            "max         51.000000          57.000000  \n"
          ]
        }
      ],
      "source": [
        "X = df1.copy() \n",
        "X = X[truncList]\n",
        "varNames = X.columns \n",
        "\n",
        "print( X.head().T )\n",
        "print( \"\\n\\n\")\n",
        "print( X.describe() )"
      ]
    },
    {
      "cell_type": "code",
      "execution_count": 16,
      "id": "823df715",
      "metadata": {
        "colab": {
          "base_uri": "https://localhost:8080/"
        },
        "id": "823df715",
        "outputId": "d02e44aa-4db5-4b89-e3af-eac1ef76071c"
      },
      "outputs": [
        {
          "output_type": "stream",
          "name": "stdout",
          "text": [
            "          0         1         2         3         4         5         6  \\\n",
            "0 -1.701029 -1.187821 -1.218785  0.243923 -0.329584 -0.418963 -1.067294   \n",
            "1 -1.681321 -0.055078 -0.636046 -0.241631 -0.329584  1.837718 -0.718939   \n",
            "2 -1.661613 -1.504630 -1.661666 -0.657820 -0.329584 -0.418963 -0.368469   \n",
            "3 -1.661613 -0.184108 -0.222713 -0.241631 -0.329584 -0.418963 -0.064081   \n",
            "4 -1.641905  0.656126  0.228887 -0.796550 -0.329584 -0.418963 -1.080400   \n",
            "\n",
            "          7         8         9  \n",
            "0 -0.081701 -1.247113  0.141543  \n",
            "1 -0.791521 -0.736029  0.141543  \n",
            "2 -0.081701 -1.144896  0.141543  \n",
            "3 -0.081701 -0.122729  0.141543  \n",
            "4 -0.791521 -0.736029  0.141543  \n"
          ]
        }
      ],
      "source": [
        "# standardize the data\n",
        "theScaler = StandardScaler()\n",
        "theScaler.fit( X )\n",
        "\n",
        "Y_STD = theScaler.transform( X )\n",
        "Y_STD = pd.DataFrame( Y_STD )\n",
        "print( Y_STD.head() )\n"
      ]
    },
    {
      "cell_type": "code",
      "execution_count": 17,
      "id": "1572eabc",
      "metadata": {
        "colab": {
          "base_uri": "https://localhost:8080/"
        },
        "id": "1572eabc",
        "outputId": "ff9d8549-3f12-41a2-88e3-018732c9faed"
      },
      "outputs": [
        {
          "output_type": "stream",
          "name": "stdout",
          "text": [
            "   std_TRUNC_LOAN  std_TRUNC_IMP_MORTDUE  std_TRUNC_IMP_VALUE  \\\n",
            "0       -1.701029              -1.187821            -1.218785   \n",
            "1       -1.681321              -0.055078            -0.636046   \n",
            "2       -1.661613              -1.504630            -1.661666   \n",
            "3       -1.661613              -0.184108            -0.222713   \n",
            "4       -1.641905               0.656126             0.228887   \n",
            "\n",
            "   std_TRUNC_IMP_YOJ  std_TRUNC_IMP_DEROG  std_TRUNC_IMP_DELINQ  \\\n",
            "0           0.243923            -0.329584             -0.418963   \n",
            "1          -0.241631            -0.329584              1.837718   \n",
            "2          -0.657820            -0.329584             -0.418963   \n",
            "3          -0.241631            -0.329584             -0.418963   \n",
            "4          -0.796550            -0.329584             -0.418963   \n",
            "\n",
            "   std_TRUNC_IMP_CLAGE  std_TRUNC_IMP_NINQ  std_TRUNC_IMP_CLNO  \\\n",
            "0            -1.067294           -0.081701           -1.247113   \n",
            "1            -0.718939           -0.791521           -0.736029   \n",
            "2            -0.368469           -0.081701           -1.144896   \n",
            "3            -0.064081           -0.081701           -0.122729   \n",
            "4            -1.080400           -0.791521           -0.736029   \n",
            "\n",
            "   std_TRUNC_IMP_DEBTINC  \n",
            "0               0.141543  \n",
            "1               0.141543  \n",
            "2               0.141543  \n",
            "3               0.141543  \n",
            "4               0.141543  \n",
            "\n",
            "\n",
            "\n",
            "       std_TRUNC_LOAN  std_TRUNC_IMP_MORTDUE  std_TRUNC_IMP_VALUE  \\\n",
            "count    5.960000e+03           5.960000e+03         5.960000e+03   \n",
            "mean     5.472133e-16           1.453293e-15        -4.700472e-16   \n",
            "std      1.000084e+00           1.000084e+00         1.000084e+00   \n",
            "min     -1.701029e+00          -1.797780e+00        -1.834256e+00   \n",
            "25%     -7.156255e-01          -6.167719e-01        -6.739464e-01   \n",
            "50%     -2.032155e-01          -1.841083e-01        -2.227130e-01   \n",
            "75%      4.865671e-01           4.100674e-01         3.678469e-01   \n",
            "max      3.337340e+00           3.292580e+00         3.405910e+00   \n",
            "\n",
            "       std_TRUNC_IMP_YOJ  std_TRUNC_IMP_DEROG  std_TRUNC_IMP_DELINQ  \\\n",
            "count       5.960000e+03         5.960000e+03          5.960000e+03   \n",
            "mean       -1.471865e-15         2.860687e-16          2.198670e-15   \n",
            "std         1.000084e+00         1.000084e+00          1.000084e+00   \n",
            "min        -1.212739e+00        -3.295844e-01         -4.189627e-01   \n",
            "25%        -7.965498e-01        -3.295844e-01         -4.189627e-01   \n",
            "50%        -2.416307e-01        -3.295844e-01         -4.189627e-01   \n",
            "75%         4.520181e-01        -3.295844e-01         -4.189627e-01   \n",
            "max         3.087884e+00         4.817114e+00          4.094399e+00   \n",
            "\n",
            "       std_TRUNC_IMP_CLAGE  std_TRUNC_IMP_NINQ  std_TRUNC_IMP_CLNO  \\\n",
            "count         5.960000e+03        5.960000e+03        5.960000e+03   \n",
            "mean          1.978656e-16        5.374895e-16       -1.441241e-15   \n",
            "std           1.000084e+00        1.000084e+00        1.000084e+00   \n",
            "min          -2.264132e+00       -7.915210e-01       -2.167063e+00   \n",
            "25%          -7.755283e-01       -7.915210e-01       -6.338123e-01   \n",
            "50%          -6.408111e-02       -8.170078e-02       -1.227287e-01   \n",
            "75%           6.166882e-01        6.281194e-01        4.905717e-01   \n",
            "max           3.189491e+00        3.467400e+00        3.045990e+00   \n",
            "\n",
            "       std_TRUNC_IMP_DEBTINC  \n",
            "count           5.960000e+03  \n",
            "mean            7.417864e-17  \n",
            "std             1.000084e+00  \n",
            "min            -5.016046e+00  \n",
            "25%            -4.683220e-01  \n",
            "50%             1.415426e-01  \n",
            "75%             6.125221e-01  \n",
            "max             3.477551e+00  \n"
          ]
        }
      ],
      "source": [
        "varNames_std = []\n",
        "for i in varNames :\n",
        "    newName = \"std_\" + i\n",
        "    varNames_std.append( newName )\n",
        "\n",
        "Y_STD.columns = varNames_std\n",
        "print( Y_STD.head() )\n",
        "print( \"\\n\\n\")\n",
        "print( Y_STD.describe() )"
      ]
    },
    {
      "cell_type": "markdown",
      "source": [
        "The values are all within -5 and 5."
      ],
      "metadata": {
        "id": "cJmT6UKHgqKF"
      },
      "id": "cJmT6UKHgqKF"
    },
    {
      "cell_type": "markdown",
      "source": [
        "## KMeans Clustering"
      ],
      "metadata": {
        "id": "Mo0RrHpSq174"
      },
      "id": "Mo0RrHpSq174"
    },
    {
      "cell_type": "code",
      "source": [
        "def clusterData( DATA, TRN_DATA, K, TARGET ) :\n",
        "    print(\"\\n\\n\\n\")\n",
        "    print(\"K = \",K)\n",
        "    print(\"=======\")\n",
        "    km = KMeans( n_clusters=K, random_state = 1 )\n",
        "    km.fit( TRN_DATA )\n",
        "    Y = km.predict( TRN_DATA )\n",
        "    DATA[\"CLUSTER\"] = Y\n",
        "    print( DATA.head() )\n",
        "\n",
        "    G = DATA.groupby(\"CLUSTER\")\n",
        "    print( G.mean() )\n",
        "    print(\"\\n\\n\\n\")\n",
        "    print( G[ TARGET ].value_counts() )"
      ],
      "metadata": {
        "id": "u4J5Fm7_rcEG"
      },
      "id": "u4J5Fm7_rcEG",
      "execution_count": null,
      "outputs": []
    },
    {
      "cell_type": "code",
      "execution_count": 18,
      "metadata": {
        "id": "ab581881",
        "outputId": "4aa5f816-13a6-4f45-b120-bf9c4379c681",
        "colab": {
          "base_uri": "https://localhost:8080/",
          "height": 851
        }
      },
      "outputs": [
        {
          "output_type": "display_data",
          "data": {
            "text/plain": [
              "<Figure size 432x288 with 1 Axes>"
            ],
            "image/png": "[encoded data removed]"
          },
          "metadata": {
            "needs_background": "light"
          }
        },
        {
          "output_type": "display_data",
          "data": {
            "text/plain": [
              "<Figure size 432x288 with 1 Axes>"
            ],
            "image/png": "[encoded data removed]"
          },
          "metadata": {
            "needs_background": "light"
          }
        },
        {
          "output_type": "display_data",
          "data": {
            "text/plain": [
              "<Figure size 432x288 with 1 Axes>"
            ],
            "image/png": "[encoded data removed]"
          },
          "metadata": {
            "needs_background": "light"
          }
        }
      ],
      "source": [
        "K_LIST = []\n",
        "I_LIST = []\n",
        "S_LIST = []\n",
        "C_LIST = []\n",
        "\n",
        "\n",
        "for K in range(3,10) :  #look for 3-9 clusters \n",
        "    km = KMeans( n_clusters=K, random_state = 1 )\n",
        "    km.fit( Y_STD )\n",
        "    Y = km.predict( Y_STD ) #put trained data into clusters\n",
        "    K_LIST.append( K )\n",
        "    I_LIST.append( km.inertia_ ) #get inertia score\n",
        "    S_LIST.append( silhouette_score(Y_STD,km.labels_) ) #silhouette score\n",
        "    C_LIST.append( calinski_harabasz_score(Y_STD,km.labels_) )  #calinski harabasz score\n",
        "\n",
        "\n",
        "\n",
        "def drawElbow( K, SCORE, LABEL ) :\n",
        "    plt.plot( K , SCORE, 'ro-', linewidth=2)\n",
        "    plt.title(LABEL)\n",
        "    plt.xlabel('Clusters')\n",
        "    plt.ylabel('Score')\n",
        "    plt.show()\n",
        "\n",
        "drawElbow( K_LIST, I_LIST, \"Inertia\" )\n",
        "drawElbow( K_LIST, S_LIST, \"Silhouette\" )\n",
        "drawElbow( K_LIST, C_LIST, \"Calinski\" )"
      ],
      "id": "ab581881"
    },
    {
      "cell_type": "markdown",
      "source": [
        "The inertia plot does not really have any point where there is clear elbow or flattening in its graph. The silhouette plot decreases at 4 and then increases at 5, so it may be a good idea to stick with 4 clusters. The calinksi plot flattens at 5 clusters. I am going to go with 4 clusters."
      ],
      "metadata": {
        "id": "dfpNeLDfrfAN"
      },
      "id": "dfpNeLDfrfAN"
    },
    {
      "cell_type": "code",
      "execution_count": 20,
      "metadata": {
        "id": "9db86c2a",
        "outputId": "a6985e3a-cc7c-48d2-d9e6-802549f9387d",
        "colab": {
          "base_uri": "https://localhost:8080/"
        }
      },
      "outputs": [
        {
          "output_type": "stream",
          "name": "stdout",
          "text": [
            "\n",
            "\n",
            "\n",
            "\n",
            "K =  4\n",
            "=======\n",
            "   TARGET_BAD_FLAG  TARGET_LOSS_AMT  M_MORTDUE  M_VALUE  M_YOJ  M_DEROG  \\\n",
            "0                1            641.0          0        0      0        0   \n",
            "1                1           1109.0          0        0      0        0   \n",
            "2                1            767.0          0        0      0        0   \n",
            "3                1           1425.0          1        1      1        1   \n",
            "4                0              NaN          0        0      0        0   \n",
            "\n",
            "   M_DELINQ  M_CLAGE  M_NINQ  M_CLNO  M_DEBTINC  O_LOAN  TRUNC_LOAN  \\\n",
            "0         0        0       0       0          1       0        1100   \n",
            "1         0        0       0       0          1       0        1300   \n",
            "2         0        0       0       0          1       0        1500   \n",
            "3         1        1       1       1          1       0        1500   \n",
            "4         0        0       0       0          1       0        1700   \n",
            "\n",
            "   O_IMP_MORTDUE  TRUNC_IMP_MORTDUE  O_IMP_VALUE  TRUNC_IMP_VALUE  O_IMP_YOJ  \\\n",
            "0              0            25860.0            0          39025.0          0   \n",
            "1              0            70053.0            0          68400.0          0   \n",
            "2              0            13500.0            0          16700.0          0   \n",
            "3              0            65019.0            0          89235.5          0   \n",
            "4              0            97800.0            0         112000.0          0   \n",
            "\n",
            "   TRUNC_IMP_YOJ  O_IMP_DEROG  TRUNC_IMP_DEROG  O_IMP_DELINQ  \\\n",
            "0           10.5            0              0.0             0   \n",
            "1            7.0            0              0.0             0   \n",
            "2            4.0            0              0.0             0   \n",
            "3            7.0            0              0.0             0   \n",
            "4            3.0            0              0.0             0   \n",
            "\n",
            "   TRUNC_IMP_DELINQ  O_IMP_CLAGE  TRUNC_IMP_CLAGE  O_IMP_NINQ  TRUNC_IMP_NINQ  \\\n",
            "0               0.0            0        94.366667           0             1.0   \n",
            "1               2.0            0       121.833333           0             0.0   \n",
            "2               0.0            0       149.466667           0             1.0   \n",
            "3               0.0            0       173.466667           0             1.0   \n",
            "4               0.0            0        93.333333           0             0.0   \n",
            "\n",
            "   O_IMP_CLNO  TRUNC_IMP_CLNO  O_IMP_DEBTINC  TRUNC_IMP_DEBTINC  \\\n",
            "0           0             9.0              0          34.818262   \n",
            "1           0            14.0              0          34.818262   \n",
            "2           0            10.0              0          34.818262   \n",
            "3           0            20.0              0          34.818262   \n",
            "4           0            14.0              0          34.818262   \n",
            "\n",
            "   z_IMP_REASON_HomeImp  z_IMP_REASON_MISSING  z_IMP_JOB_Mgr  \\\n",
            "0                     1                     0              0   \n",
            "1                     1                     0              0   \n",
            "2                     1                     0              0   \n",
            "3                     0                     1              0   \n",
            "4                     1                     0              0   \n",
            "\n",
            "   z_IMP_JOB_Office  z_IMP_JOB_Other  z_IMP_JOB_ProfExe  z_IMP_JOB_Sales  \\\n",
            "0                 0                1                  0                0   \n",
            "1                 0                1                  0                0   \n",
            "2                 0                1                  0                0   \n",
            "3                 0                0                  0                0   \n",
            "4                 1                0                  0                0   \n",
            "\n",
            "   z_IMP_JOB_Self  CLUSTER  \n",
            "0               0        2  \n",
            "1               0        2  \n",
            "2               0        2  \n",
            "3               0        2  \n",
            "4               0        2  \n",
            "         TARGET_BAD_FLAG  TARGET_LOSS_AMT  M_MORTDUE   M_VALUE     M_YOJ  \\\n",
            "CLUSTER                                                                    \n",
            "0               0.615012     15362.448819   0.067797  0.067797  0.092010   \n",
            "1               0.146953     23637.420732   0.003584  0.004480  0.064516   \n",
            "2               0.194010     10009.652685   0.108073  0.017253  0.095378   \n",
            "3               0.128771     12603.314286   0.113319  0.019132  0.082414   \n",
            "\n",
            "          M_DEROG  M_DELINQ   M_CLAGE    M_NINQ    M_CLNO  M_DEBTINC  \\\n",
            "CLUSTER                                                                \n",
            "0        0.002421  0.036320  0.016949  0.048426  0.000000   0.486683   \n",
            "1        0.115591  0.075269  0.022401  0.052867  0.011649   0.167563   \n",
            "2        0.159505  0.146484  0.085938  0.126953  0.064779   0.207357   \n",
            "3        0.064753  0.022811  0.008830  0.030169  0.007358   0.178072   \n",
            "\n",
            "           O_LOAN    TRUNC_LOAN  O_IMP_MORTDUE  TRUNC_IMP_MORTDUE  \\\n",
            "CLUSTER                                                             \n",
            "0        0.009685  18124.745763       0.000000       63095.762276   \n",
            "1        0.038530  25749.901434       0.096774      131098.471918   \n",
            "2        0.004232  15398.434245       0.000000       58800.404323   \n",
            "3        0.025754  19067.439294       0.000000       56897.417689   \n",
            "\n",
            "         O_IMP_VALUE  TRUNC_IMP_VALUE  O_IMP_YOJ  TRUNC_IMP_YOJ  O_IMP_DEROG  \\\n",
            "CLUSTER                                                                        \n",
            "0           0.000000     89271.174334   0.000000       6.999031     0.174334   \n",
            "1           0.080645    177939.758513   0.000000       7.595609     0.000000   \n",
            "2           0.000000     79858.731842   0.000000       5.525570     0.000000   \n",
            "3           0.000000     86812.750052   0.013245      17.482634     0.000000   \n",
            "\n",
            "         TRUNC_IMP_DEROG  O_IMP_DELINQ  TRUNC_IMP_DELINQ  O_IMP_CLAGE  \\\n",
            "CLUSTER                                                                 \n",
            "0               2.009685      0.082324          1.288136     0.000000   \n",
            "1               0.072581      0.010753          0.269713     0.009857   \n",
            "2               0.051107      0.003906          0.222656     0.000000   \n",
            "3               0.056659      0.023547          0.512141     0.014717   \n",
            "\n",
            "         TRUNC_IMP_CLAGE  O_IMP_NINQ  TRUNC_IMP_NINQ  O_IMP_CLNO  \\\n",
            "CLUSTER                                                            \n",
            "0             151.378345    0.072639        2.188862    0.021792   \n",
            "1             213.098297    0.012545        1.155018    0.026882   \n",
            "2             143.405812    0.020833        1.111328    0.000000   \n",
            "3             237.744746    0.009566        0.764533    0.002208   \n",
            "\n",
            "         TRUNC_IMP_CLNO  O_IMP_DEBTINC  TRUNC_IMP_DEBTINC  \\\n",
            "CLUSTER                                                     \n",
            "0             23.355932       0.012107          34.641651   \n",
            "1             27.739247       0.007168          35.927911   \n",
            "2             17.963542       0.004883          33.448360   \n",
            "3             22.493745       0.002208          32.929887   \n",
            "\n",
            "         z_IMP_REASON_HomeImp  z_IMP_REASON_MISSING  z_IMP_JOB_Mgr  \\\n",
            "CLUSTER                                                              \n",
            "0                    0.261501              0.043584       0.159806   \n",
            "1                    0.267025              0.026882       0.171147   \n",
            "2                    0.280924              0.050130       0.111003   \n",
            "3                    0.376012              0.036792       0.124356   \n",
            "\n",
            "         z_IMP_JOB_Office  z_IMP_JOB_Other  z_IMP_JOB_ProfExe  \\\n",
            "CLUSTER                                                         \n",
            "0                0.130751         0.474576           0.154964   \n",
            "1                0.125448         0.198925           0.382616   \n",
            "2                0.173828         0.437174           0.169596   \n",
            "3                0.161884         0.461369           0.194260   \n",
            "\n",
            "         z_IMP_JOB_Sales  z_IMP_JOB_Self  \n",
            "CLUSTER                                   \n",
            "0               0.033898        0.021792  \n",
            "1               0.023297        0.085125  \n",
            "2               0.016276        0.019857  \n",
            "3               0.013981        0.020603  \n",
            "\n",
            "\n",
            "\n",
            "\n",
            "CLUSTER  TARGET_BAD_FLAG\n",
            "0        1                   254\n",
            "         0                   159\n",
            "1        0                   952\n",
            "         1                   164\n",
            "2        0                  2476\n",
            "         1                   596\n",
            "3        0                  1184\n",
            "         1                   175\n",
            "Name: TARGET_BAD_FLAG, dtype: int64\n"
          ]
        }
      ],
      "source": [
        "clusterData( df, Y_STD, 4, TARGET_FLAG )"
      ],
      "id": "9db86c2a"
    },
    {
      "cell_type": "markdown",
      "source": [
        "If in cluster 0, the person will more likely have their loan default. If in cluster 1, 2, and 3, the loan will probably not default. There is some overlap for all the clusters.\n",
        "\n",
        "Cluster 1 has a larger average TRUNC_LOAN, TRUNC_IMP_MORTDUE, TRUNC_IMP_VALUE, etc. value than the other clusters. A person that has a larger loan amount, current outstanding mortgage due, value of their house will more likely have their loan not default. The users in this cluster also are more often self-employed. "
      ],
      "metadata": {
        "id": "PTrlJs7Trt2e"
      },
      "id": "PTrlJs7Trt2e"
    }
  ],
  "metadata": {
    "kernelspec": {
      "display_name": "Python 3",
      "language": "python",
      "name": "python3"
    },
    "language_info": {
      "codemirror_mode": {
        "name": "ipython",
        "version": 3
      },
      "file_extension": ".py",
      "mimetype": "text/x-python",
      "name": "python",
      "nbconvert_exporter": "python",
      "pygments_lexer": "ipython3",
      "version": "3.9.5"
    },
    "colab": {
      "name": "Home Equity Line: KMeans Experiment.ipynb",
      "provenance": [],
      "toc_visible": true
    }
  },
  "nbformat": 4,
  "nbformat_minor": 5
}