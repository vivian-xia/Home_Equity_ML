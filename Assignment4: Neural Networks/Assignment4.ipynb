{
  "cells": [
    {
      "cell_type": "markdown",
      "metadata": {
        "id": "fdyxR7JT9CR6"
      },
      "source": [
        "#### Vivian Xia\n",
        "\n",
        "## Assignment 4: Neural Networks"
      ]
    },
    {
      "cell_type": "code",
      "execution_count": null,
      "metadata": {
        "id": "Q_PB9ZrQn1SO"
      },
      "outputs": [],
      "source": [
        "import math\n",
        "import pandas as pd\n",
        "import numpy as np\n",
        "from operator import itemgetter\n",
        "\n",
        "\n",
        "import matplotlib.pyplot as plt\n",
        "import seaborn as sns\n",
        "\n",
        "\n",
        "from sklearn.model_selection import train_test_split\n",
        "import sklearn.metrics as metrics\n",
        "\n",
        "\n",
        "from sklearn import tree\n",
        "from sklearn.tree import _tree\n",
        "\n",
        "from sklearn.ensemble import RandomForestRegressor \n",
        "from sklearn.ensemble import RandomForestClassifier \n",
        "\n",
        "from sklearn.ensemble import GradientBoostingRegressor \n",
        "from sklearn.ensemble import GradientBoostingClassifier\n",
        "\n",
        "from sklearn.linear_model import LinearRegression\n",
        "from sklearn.linear_model import LogisticRegression\n",
        "from sklearn.metrics import classification_report, confusion_matrix\n",
        "\n",
        "import sys\n",
        "import joblib\n",
        "sys.modules['sklearn.externals.joblib'] = joblib\n",
        "\n",
        "from mlxtend.feature_selection import SequentialFeatureSelector as SFS\n",
        "from sklearn.feature_selection import SequentialFeatureSelector as SFS\n",
        "from mlxtend.plotting import plot_sequential_feature_selection as plot_sfs\n",
        "\n",
        "import tensorflow as tf\n",
        "from sklearn.preprocessing import MinMaxScaler\n",
        "\n",
        "import warnings\n",
        "warnings.filterwarnings(\"ignore\")"
      ]
    },
    {
      "cell_type": "code",
      "execution_count": null,
      "metadata": {
        "id": "qH4sD-fzn1U0"
      },
      "outputs": [],
      "source": [
        "sns.set()\n",
        "pd.set_option('display.max_rows', None)\n",
        "pd.set_option('display.max_columns', None)\n",
        "pd.set_option('display.width', None)\n",
        "pd.set_option('display.max_colwidth', None)"
      ]
    },
    {
      "cell_type": "code",
      "execution_count": null,
      "metadata": {
        "id": "cBF7O10PnIsL"
      },
      "outputs": [],
      "source": [
        "TARGET_FLAG = 'TARGET_BAD_FLAG'\n",
        "TARGET_LOSS = 'TARGET_LOSS_AMT'"
      ]
    },
    {
      "cell_type": "code",
      "execution_count": null,
      "metadata": {
        "colab": {
          "base_uri": "https://localhost:8080/",
          "height": 483
        },
        "id": "6wqCttzdn8n2",
        "outputId": "aa38e2e3-a6d0-4eb2-ea91-be2818dd4514"
      },
      "outputs": [
        {
          "data": {
            "text/html": [
              "<div>\n",
              "<style scoped>\n",
              "    .dataframe tbody tr th:only-of-type {\n",
              "        vertical-align: middle;\n",
              "    }\n",
              "\n",
              "    .dataframe tbody tr th {\n",
              "        vertical-align: top;\n",
              "    }\n",
              "\n",
              "    .dataframe thead th {\n",
              "        text-align: right;\n",
              "    }\n",
              "</style>\n",
              "<table border=\"1\" class=\"dataframe\">\n",
              "  <thead>\n",
              "    <tr style=\"text-align: right;\">\n",
              "      <th></th>\n",
              "      <th>0</th>\n",
              "      <th>1</th>\n",
              "      <th>2</th>\n",
              "      <th>3</th>\n",
              "      <th>4</th>\n",
              "    </tr>\n",
              "  </thead>\n",
              "  <tbody>\n",
              "    <tr>\n",
              "      <th>TARGET_BAD_FLAG</th>\n",
              "      <td>1</td>\n",
              "      <td>1</td>\n",
              "      <td>1</td>\n",
              "      <td>1</td>\n",
              "      <td>0</td>\n",
              "    </tr>\n",
              "    <tr>\n",
              "      <th>TARGET_LOSS_AMT</th>\n",
              "      <td>641</td>\n",
              "      <td>1109</td>\n",
              "      <td>767</td>\n",
              "      <td>1425</td>\n",
              "      <td>NaN</td>\n",
              "    </tr>\n",
              "    <tr>\n",
              "      <th>LOAN</th>\n",
              "      <td>1100</td>\n",
              "      <td>1300</td>\n",
              "      <td>1500</td>\n",
              "      <td>1500</td>\n",
              "      <td>1700</td>\n",
              "    </tr>\n",
              "    <tr>\n",
              "      <th>MORTDUE</th>\n",
              "      <td>25860</td>\n",
              "      <td>70053</td>\n",
              "      <td>13500</td>\n",
              "      <td>NaN</td>\n",
              "      <td>97800</td>\n",
              "    </tr>\n",
              "    <tr>\n",
              "      <th>VALUE</th>\n",
              "      <td>39025</td>\n",
              "      <td>68400</td>\n",
              "      <td>16700</td>\n",
              "      <td>NaN</td>\n",
              "      <td>112000</td>\n",
              "    </tr>\n",
              "    <tr>\n",
              "      <th>REASON</th>\n",
              "      <td>HomeImp</td>\n",
              "      <td>HomeImp</td>\n",
              "      <td>HomeImp</td>\n",
              "      <td>NaN</td>\n",
              "      <td>HomeImp</td>\n",
              "    </tr>\n",
              "    <tr>\n",
              "      <th>JOB</th>\n",
              "      <td>Other</td>\n",
              "      <td>Other</td>\n",
              "      <td>Other</td>\n",
              "      <td>NaN</td>\n",
              "      <td>Office</td>\n",
              "    </tr>\n",
              "    <tr>\n",
              "      <th>YOJ</th>\n",
              "      <td>10.5</td>\n",
              "      <td>7</td>\n",
              "      <td>4</td>\n",
              "      <td>NaN</td>\n",
              "      <td>3</td>\n",
              "    </tr>\n",
              "    <tr>\n",
              "      <th>DEROG</th>\n",
              "      <td>0</td>\n",
              "      <td>0</td>\n",
              "      <td>0</td>\n",
              "      <td>NaN</td>\n",
              "      <td>0</td>\n",
              "    </tr>\n",
              "    <tr>\n",
              "      <th>DELINQ</th>\n",
              "      <td>0</td>\n",
              "      <td>2</td>\n",
              "      <td>0</td>\n",
              "      <td>NaN</td>\n",
              "      <td>0</td>\n",
              "    </tr>\n",
              "    <tr>\n",
              "      <th>CLAGE</th>\n",
              "      <td>94.3667</td>\n",
              "      <td>121.833</td>\n",
              "      <td>149.467</td>\n",
              "      <td>NaN</td>\n",
              "      <td>93.3333</td>\n",
              "    </tr>\n",
              "    <tr>\n",
              "      <th>NINQ</th>\n",
              "      <td>1</td>\n",
              "      <td>0</td>\n",
              "      <td>1</td>\n",
              "      <td>NaN</td>\n",
              "      <td>0</td>\n",
              "    </tr>\n",
              "    <tr>\n",
              "      <th>CLNO</th>\n",
              "      <td>9</td>\n",
              "      <td>14</td>\n",
              "      <td>10</td>\n",
              "      <td>NaN</td>\n",
              "      <td>14</td>\n",
              "    </tr>\n",
              "    <tr>\n",
              "      <th>DEBTINC</th>\n",
              "      <td>NaN</td>\n",
              "      <td>NaN</td>\n",
              "      <td>NaN</td>\n",
              "      <td>NaN</td>\n",
              "      <td>NaN</td>\n",
              "    </tr>\n",
              "  </tbody>\n",
              "</table>\n",
              "</div>"
            ],
            "text/plain": [
              "                       0        1        2     3        4\n",
              "TARGET_BAD_FLAG        1        1        1     1        0\n",
              "TARGET_LOSS_AMT      641     1109      767  1425      NaN\n",
              "LOAN                1100     1300     1500  1500     1700\n",
              "MORTDUE            25860    70053    13500   NaN    97800\n",
              "VALUE              39025    68400    16700   NaN   112000\n",
              "REASON           HomeImp  HomeImp  HomeImp   NaN  HomeImp\n",
              "JOB                Other    Other    Other   NaN   Office\n",
              "YOJ                 10.5        7        4   NaN        3\n",
              "DEROG                  0        0        0   NaN        0\n",
              "DELINQ                 0        2        0   NaN        0\n",
              "CLAGE            94.3667  121.833  149.467   NaN  93.3333\n",
              "NINQ                   1        0        1   NaN        0\n",
              "CLNO                   9       14       10   NaN       14\n",
              "DEBTINC              NaN      NaN      NaN   NaN      NaN"
            ]
          },
          "execution_count": 13,
          "metadata": {},
          "output_type": "execute_result"
        }
      ],
      "source": [
        "df = pd.read_csv('HMEQ_Loss.csv')\n",
        "df.head().T"
      ]
    },
    {
      "cell_type": "markdown",
      "metadata": {
        "id": "taivDw1QoINQ"
      },
      "source": [
        "### EDA and Fill in Missing Values\n",
        "Simplified version of Assignment 1"
      ]
    },
    {
      "cell_type": "code",
      "execution_count": null,
      "metadata": {
        "colab": {
          "base_uri": "https://localhost:8080/"
        },
        "id": "QJKaoBSfoH0_",
        "outputId": "ac0104b0-cdd7-4f2b-e155-812d2e5267be"
      },
      "outputs": [
        {
          "name": "stdout",
          "output_type": "stream",
          "text": [
            "                  count           mean           std          min  \\\n",
            "TARGET_BAD_FLAG  5960.0       0.199497      0.399656     0.000000   \n",
            "TARGET_LOSS_AMT  1189.0   13414.576955  10839.455965   224.000000   \n",
            "LOAN             5960.0   18607.969799  11207.480417  1100.000000   \n",
            "MORTDUE          5442.0   73760.817200  44457.609458  2063.000000   \n",
            "VALUE            5848.0  101776.048741  57385.775334  8000.000000   \n",
            "YOJ              5445.0       8.922268      7.573982     0.000000   \n",
            "DEROG            5252.0       0.254570      0.846047     0.000000   \n",
            "DELINQ           5380.0       0.449442      1.127266     0.000000   \n",
            "CLAGE            5652.0     179.766275     85.810092     0.000000   \n",
            "NINQ             5450.0       1.186055      1.728675     0.000000   \n",
            "CLNO             5738.0      21.296096     10.138933     0.000000   \n",
            "DEBTINC          4693.0      33.779915      8.601746     0.524499   \n",
            "\n",
            "                          25%           50%            75%            max  \n",
            "TARGET_BAD_FLAG      0.000000      0.000000       0.000000       1.000000  \n",
            "TARGET_LOSS_AMT   5639.000000  11003.000000   17634.000000   78987.000000  \n",
            "LOAN             11100.000000  16300.000000   23300.000000   89900.000000  \n",
            "MORTDUE          46276.000000  65019.000000   91488.000000  399550.000000  \n",
            "VALUE            66075.500000  89235.500000  119824.250000  855909.000000  \n",
            "YOJ                  3.000000      7.000000      13.000000      41.000000  \n",
            "DEROG                0.000000      0.000000       0.000000      10.000000  \n",
            "DELINQ               0.000000      0.000000       0.000000      15.000000  \n",
            "CLAGE              115.116702    173.466667     231.562278    1168.233561  \n",
            "NINQ                 0.000000      1.000000       2.000000      17.000000  \n",
            "CLNO                15.000000     20.000000      26.000000      71.000000  \n",
            "DEBTINC             29.140031     34.818262      39.003141     203.312149  \n"
          ]
        }
      ],
      "source": [
        "dt = df.dtypes\n",
        "x = df.describe().T \n",
        "print(x)"
      ]
    },
    {
      "cell_type": "code",
      "execution_count": null,
      "metadata": {
        "colab": {
          "base_uri": "https://localhost:8080/"
        },
        "id": "-gRgjxT0n8qd",
        "outputId": "a3d3f8bc-a948-4602-fb1d-0114136986c9"
      },
      "outputs": [
        {
          "name": "stdout",
          "output_type": "stream",
          "text": [
            "-- OBJECTS --\n",
            "REASON\n",
            "JOB\n",
            "\n",
            "\n",
            "-- INTEGER --\n",
            "LOAN\n",
            "\n",
            "\n",
            "-- FLOAT --\n",
            "MORTDUE\n",
            "VALUE\n",
            "YOJ\n",
            "DEROG\n",
            "DELINQ\n",
            "CLAGE\n",
            "NINQ\n",
            "CLNO\n",
            "DEBTINC\n",
            "\n",
            "\n"
          ]
        }
      ],
      "source": [
        "#classiify variables into list based on their datatype\n",
        "objList = []\n",
        "intList = []\n",
        "floatList = []\n",
        "\n",
        "for i in dt.index:\n",
        "  if i in ([TARGET_FLAG, TARGET_LOSS]) : continue \n",
        "  if dt[i] in ([\"object\"]): objList.append(i)\n",
        "  if dt[i] in ([\"float64\"]): floatList.append(i)\n",
        "  if dt[i] in ([\"int64\"]): intList.append(i)\n",
        "\n",
        "\n",
        "print(\"-- OBJECTS --\")\n",
        "for i in objList:\n",
        "  print(i)\n",
        "print(\"\\n\")\n",
        "\n",
        "print(\"-- INTEGER --\")\n",
        "for i in intList: \n",
        "  print(i)\n",
        "print(\"\\n\")\n",
        "\n",
        "print(\"-- FLOAT --\")\n",
        "for i in floatList: \n",
        "  print(i)\n",
        "print(\"\\n\")"
      ]
    },
    {
      "cell_type": "code",
      "execution_count": null,
      "metadata": {
        "id": "u8orgH4Hn8s-"
      },
      "outputs": [],
      "source": [
        "#create new variable with filled in \"MISSING\" value for NaN values \n",
        "for i in objList :\n",
        "    if df[i].isna().sum() == 0 : continue\n",
        "    NAME = \"IMP_\"+i\n",
        "    df[NAME] = df[i]\n",
        "    df[NAME] = df[NAME].fillna(\"MISSING\")\n",
        "    g = df.groupby( NAME )\n",
        "    df = df.drop( i, axis=1 )"
      ]
    },
    {
      "cell_type": "code",
      "execution_count": null,
      "metadata": {
        "colab": {
          "base_uri": "https://localhost:8080/"
        },
        "id": "1qAmS2hdn8vm",
        "outputId": "915d88aa-2eb0-4faa-f1b5-e9b5d861858c"
      },
      "outputs": [
        {
          "name": "stdout",
          "output_type": "stream",
          "text": [
            " OBJECTS \n",
            " ------- \n",
            "IMP_REASON\n",
            "IMP_JOB\n",
            " ------- \n",
            "\n",
            "\n",
            " NUMBER \n",
            " ------- \n",
            "LOAN\n",
            "MORTDUE\n",
            "VALUE\n",
            "YOJ\n",
            "DEROG\n",
            "DELINQ\n",
            "CLAGE\n",
            "NINQ\n",
            "CLNO\n",
            "DEBTINC\n",
            " ------- \n"
          ]
        }
      ],
      "source": [
        "#create a new list of categorical and numerical variables\n",
        "dt = df.dtypes\n",
        "objList = []\n",
        "numList = []\n",
        "for i in dt.index :\n",
        "    if i in ( [ TARGET_FLAG, TARGET_LOSS ] ) : continue\n",
        "    if dt[i] in ([\"object\"]) : objList.append( i )\n",
        "    if dt[i] in ([\"float64\",\"int64\"]) : numList.append( i )\n",
        "\n",
        "\n",
        "print(\" OBJECTS \")\n",
        "print(\" ------- \")\n",
        "for i in objList :\n",
        "    print( i )\n",
        "print(\" ------- \\n\\n\")\n",
        "\n",
        "\n",
        "print(\" NUMBER \")\n",
        "print(\" ------- \")\n",
        "for i in numList :\n",
        "    print( i )\n",
        "print(\" ------- \")"
      ]
    },
    {
      "cell_type": "code",
      "execution_count": null,
      "metadata": {
        "id": "trXyM1KSn8yG"
      },
      "outputs": [],
      "source": [
        "#encode the objects IMP_REASON and IMP_JOB then drop the original columns\n",
        "for i in objList :\n",
        "    thePrefix = \"z_\" + i\n",
        "    y = pd.get_dummies( df[i], prefix=thePrefix, drop_first=True ) \n",
        "    df = pd.concat( [df, y], axis=1 )\n",
        "    df = df.drop( i, axis=1 )"
      ]
    },
    {
      "cell_type": "code",
      "execution_count": null,
      "metadata": {
        "colab": {
          "base_uri": "https://localhost:8080/"
        },
        "id": "DqNjYej5n80U",
        "outputId": "b87e6e6b-567c-43e1-cd9f-58e0b9ce5feb"
      },
      "outputs": [
        {
          "name": "stdout",
          "output_type": "stream",
          "text": [
            "                                 0             1             2             3  \\\n",
            "TARGET_BAD_FLAG           1.000000      1.000000      1.000000      1.000000   \n",
            "TARGET_LOSS_AMT         641.000000   1109.000000    767.000000   1425.000000   \n",
            "LOAN                   1100.000000   1300.000000   1500.000000   1500.000000   \n",
            "z_IMP_REASON_HomeImp      1.000000      1.000000      1.000000      0.000000   \n",
            "z_IMP_REASON_MISSING      0.000000      0.000000      0.000000      1.000000   \n",
            "z_IMP_JOB_Mgr             0.000000      0.000000      0.000000      0.000000   \n",
            "z_IMP_JOB_Office          0.000000      0.000000      0.000000      0.000000   \n",
            "z_IMP_JOB_Other           1.000000      1.000000      1.000000      0.000000   \n",
            "z_IMP_JOB_ProfExe         0.000000      0.000000      0.000000      0.000000   \n",
            "z_IMP_JOB_Sales           0.000000      0.000000      0.000000      0.000000   \n",
            "z_IMP_JOB_Self            0.000000      0.000000      0.000000      0.000000   \n",
            "M_MORTDUE                 0.000000      0.000000      0.000000      1.000000   \n",
            "IMP_MORTDUE           25860.000000  70053.000000  13500.000000  65019.000000   \n",
            "M_VALUE                   0.000000      0.000000      0.000000      1.000000   \n",
            "IMP_VALUE             39025.000000  68400.000000  16700.000000  89235.500000   \n",
            "M_YOJ                     0.000000      0.000000      0.000000      1.000000   \n",
            "IMP_YOJ                  10.500000      7.000000      4.000000      7.000000   \n",
            "M_DEROG                   0.000000      0.000000      0.000000      1.000000   \n",
            "IMP_DEROG                 0.000000      0.000000      0.000000      0.000000   \n",
            "M_DELINQ                  0.000000      0.000000      0.000000      1.000000   \n",
            "IMP_DELINQ                0.000000      2.000000      0.000000      0.000000   \n",
            "M_CLAGE                   0.000000      0.000000      0.000000      1.000000   \n",
            "IMP_CLAGE                94.366667    121.833333    149.466667    173.466667   \n",
            "M_NINQ                    0.000000      0.000000      0.000000      1.000000   \n",
            "IMP_NINQ                  1.000000      0.000000      1.000000      1.000000   \n",
            "M_CLNO                    0.000000      0.000000      0.000000      1.000000   \n",
            "IMP_CLNO                  9.000000     14.000000     10.000000     20.000000   \n",
            "M_DEBTINC                 1.000000      1.000000      1.000000      1.000000   \n",
            "IMP_DEBTINC              34.818262     34.818262     34.818262     34.818262   \n",
            "\n",
            "                                  4  \n",
            "TARGET_BAD_FLAG            0.000000  \n",
            "TARGET_LOSS_AMT                 NaN  \n",
            "LOAN                    1700.000000  \n",
            "z_IMP_REASON_HomeImp       1.000000  \n",
            "z_IMP_REASON_MISSING       0.000000  \n",
            "z_IMP_JOB_Mgr              0.000000  \n",
            "z_IMP_JOB_Office           1.000000  \n",
            "z_IMP_JOB_Other            0.000000  \n",
            "z_IMP_JOB_ProfExe          0.000000  \n",
            "z_IMP_JOB_Sales            0.000000  \n",
            "z_IMP_JOB_Self             0.000000  \n",
            "M_MORTDUE                  0.000000  \n",
            "IMP_MORTDUE            97800.000000  \n",
            "M_VALUE                    0.000000  \n",
            "IMP_VALUE             112000.000000  \n",
            "M_YOJ                      0.000000  \n",
            "IMP_YOJ                    3.000000  \n",
            "M_DEROG                    0.000000  \n",
            "IMP_DEROG                  0.000000  \n",
            "M_DELINQ                   0.000000  \n",
            "IMP_DELINQ                 0.000000  \n",
            "M_CLAGE                    0.000000  \n",
            "IMP_CLAGE                 93.333333  \n",
            "M_NINQ                     0.000000  \n",
            "IMP_NINQ                   0.000000  \n",
            "M_CLNO                     0.000000  \n",
            "IMP_CLNO                  14.000000  \n",
            "M_DEBTINC                  1.000000  \n",
            "IMP_DEBTINC               34.818262  \n"
          ]
        }
      ],
      "source": [
        "for i in numList :\n",
        "    if df[i].isna().sum() == 0 : continue #if no values are missing then continue\n",
        "    FLAG = \"M_\" + i #notes that there was a missing value here -- highly predictive to know it was missing \n",
        "    IMP = \"IMP_\" + i\n",
        "    df[ FLAG ] = df[i].isna() + 0 #add zero and Python will know that if TRUE it's a 1 and FALSE it's a 0\n",
        "    df[ IMP ] = df[ i ] #create an exact copy of the column\n",
        "    df.loc[ df[IMP].isna(), IMP ] = df[i].median() #fill missing with the median of the variable\n",
        "    df = df.drop( i, axis=1 )\n",
        "\n",
        "print(df.head().T)"
      ]
    },
    {
      "cell_type": "markdown",
      "metadata": {
        "id": "HIDrIOdLoVeN"
      },
      "source": [
        "### Remove Outliers"
      ]
    },
    {
      "cell_type": "code",
      "execution_count": null,
      "metadata": {
        "id": "c1SGSXiQn828"
      },
      "outputs": [],
      "source": [
        "dt = df.dtypes\n",
        "numList = []\n",
        "for i in dt.index :\n",
        "    #print(i, dt[i])\n",
        "    if i in ( [ TARGET_FLAG, TARGET_LOSS ] ) : continue\n",
        "    if dt[i] in ([\"float64\",\"int64\"]) : numList.append( i )"
      ]
    },
    {
      "cell_type": "code",
      "execution_count": null,
      "metadata": {
        "colab": {
          "base_uri": "https://localhost:8080/"
        },
        "id": "mVyK1Sprn85U",
        "outputId": "4e738900-846b-444b-9fde-c19dcf0f147d"
      },
      "outputs": [
        {
          "data": {
            "text/html": [
              "<div>\n",
              "<style scoped>\n",
              "    .dataframe tbody tr th:only-of-type {\n",
              "        vertical-align: middle;\n",
              "    }\n",
              "\n",
              "    .dataframe tbody tr th {\n",
              "        vertical-align: top;\n",
              "    }\n",
              "\n",
              "    .dataframe thead th {\n",
              "        text-align: right;\n",
              "    }\n",
              "</style>\n",
              "<table border=\"1\" class=\"dataframe\">\n",
              "  <thead>\n",
              "    <tr style=\"text-align: right;\">\n",
              "      <th></th>\n",
              "      <th>count</th>\n",
              "      <th>mean</th>\n",
              "      <th>std</th>\n",
              "      <th>min</th>\n",
              "      <th>25%</th>\n",
              "      <th>50%</th>\n",
              "      <th>75%</th>\n",
              "      <th>max</th>\n",
              "    </tr>\n",
              "  </thead>\n",
              "  <tbody>\n",
              "    <tr>\n",
              "      <th>TARGET_BAD_FLAG</th>\n",
              "      <td>5960.0</td>\n",
              "      <td>0.199497</td>\n",
              "      <td>0.399656</td>\n",
              "      <td>0.000000</td>\n",
              "      <td>0.000000</td>\n",
              "      <td>0.000000</td>\n",
              "      <td>0.000000</td>\n",
              "      <td>1.000000</td>\n",
              "    </tr>\n",
              "    <tr>\n",
              "      <th>TARGET_LOSS_AMT</th>\n",
              "      <td>1189.0</td>\n",
              "      <td>13414.576955</td>\n",
              "      <td>10839.455965</td>\n",
              "      <td>224.000000</td>\n",
              "      <td>5639.000000</td>\n",
              "      <td>11003.000000</td>\n",
              "      <td>17634.000000</td>\n",
              "      <td>78987.000000</td>\n",
              "    </tr>\n",
              "    <tr>\n",
              "      <th>LOAN</th>\n",
              "      <td>5960.0</td>\n",
              "      <td>18607.969799</td>\n",
              "      <td>11207.480417</td>\n",
              "      <td>1100.000000</td>\n",
              "      <td>11100.000000</td>\n",
              "      <td>16300.000000</td>\n",
              "      <td>23300.000000</td>\n",
              "      <td>89900.000000</td>\n",
              "    </tr>\n",
              "    <tr>\n",
              "      <th>z_IMP_REASON_HomeImp</th>\n",
              "      <td>5960.0</td>\n",
              "      <td>0.298658</td>\n",
              "      <td>0.457708</td>\n",
              "      <td>0.000000</td>\n",
              "      <td>0.000000</td>\n",
              "      <td>0.000000</td>\n",
              "      <td>1.000000</td>\n",
              "      <td>1.000000</td>\n",
              "    </tr>\n",
              "    <tr>\n",
              "      <th>z_IMP_REASON_MISSING</th>\n",
              "      <td>5960.0</td>\n",
              "      <td>0.042282</td>\n",
              "      <td>0.201248</td>\n",
              "      <td>0.000000</td>\n",
              "      <td>0.000000</td>\n",
              "      <td>0.000000</td>\n",
              "      <td>0.000000</td>\n",
              "      <td>1.000000</td>\n",
              "    </tr>\n",
              "    <tr>\n",
              "      <th>z_IMP_JOB_Mgr</th>\n",
              "      <td>5960.0</td>\n",
              "      <td>0.128691</td>\n",
              "      <td>0.334886</td>\n",
              "      <td>0.000000</td>\n",
              "      <td>0.000000</td>\n",
              "      <td>0.000000</td>\n",
              "      <td>0.000000</td>\n",
              "      <td>1.000000</td>\n",
              "    </tr>\n",
              "    <tr>\n",
              "      <th>z_IMP_JOB_Office</th>\n",
              "      <td>5960.0</td>\n",
              "      <td>0.159060</td>\n",
              "      <td>0.365763</td>\n",
              "      <td>0.000000</td>\n",
              "      <td>0.000000</td>\n",
              "      <td>0.000000</td>\n",
              "      <td>0.000000</td>\n",
              "      <td>1.000000</td>\n",
              "    </tr>\n",
              "    <tr>\n",
              "      <th>z_IMP_JOB_Other</th>\n",
              "      <td>5960.0</td>\n",
              "      <td>0.400671</td>\n",
              "      <td>0.490076</td>\n",
              "      <td>0.000000</td>\n",
              "      <td>0.000000</td>\n",
              "      <td>0.000000</td>\n",
              "      <td>1.000000</td>\n",
              "      <td>1.000000</td>\n",
              "    </tr>\n",
              "    <tr>\n",
              "      <th>z_IMP_JOB_ProfExe</th>\n",
              "      <td>5960.0</td>\n",
              "      <td>0.214094</td>\n",
              "      <td>0.410227</td>\n",
              "      <td>0.000000</td>\n",
              "      <td>0.000000</td>\n",
              "      <td>0.000000</td>\n",
              "      <td>0.000000</td>\n",
              "      <td>1.000000</td>\n",
              "    </tr>\n",
              "    <tr>\n",
              "      <th>z_IMP_JOB_Sales</th>\n",
              "      <td>5960.0</td>\n",
              "      <td>0.018289</td>\n",
              "      <td>0.134004</td>\n",
              "      <td>0.000000</td>\n",
              "      <td>0.000000</td>\n",
              "      <td>0.000000</td>\n",
              "      <td>0.000000</td>\n",
              "      <td>1.000000</td>\n",
              "    </tr>\n",
              "    <tr>\n",
              "      <th>z_IMP_JOB_Self</th>\n",
              "      <td>5960.0</td>\n",
              "      <td>0.032383</td>\n",
              "      <td>0.177029</td>\n",
              "      <td>0.000000</td>\n",
              "      <td>0.000000</td>\n",
              "      <td>0.000000</td>\n",
              "      <td>0.000000</td>\n",
              "      <td>1.000000</td>\n",
              "    </tr>\n",
              "    <tr>\n",
              "      <th>M_MORTDUE</th>\n",
              "      <td>5960.0</td>\n",
              "      <td>0.086913</td>\n",
              "      <td>0.281731</td>\n",
              "      <td>0.000000</td>\n",
              "      <td>0.000000</td>\n",
              "      <td>0.000000</td>\n",
              "      <td>0.000000</td>\n",
              "      <td>1.000000</td>\n",
              "    </tr>\n",
              "    <tr>\n",
              "      <th>IMP_MORTDUE</th>\n",
              "      <td>5960.0</td>\n",
              "      <td>73001.041812</td>\n",
              "      <td>42552.726779</td>\n",
              "      <td>2063.000000</td>\n",
              "      <td>48139.000000</td>\n",
              "      <td>65019.000000</td>\n",
              "      <td>88200.250000</td>\n",
              "      <td>399550.000000</td>\n",
              "    </tr>\n",
              "    <tr>\n",
              "      <th>M_VALUE</th>\n",
              "      <td>5960.0</td>\n",
              "      <td>0.018792</td>\n",
              "      <td>0.135801</td>\n",
              "      <td>0.000000</td>\n",
              "      <td>0.000000</td>\n",
              "      <td>0.000000</td>\n",
              "      <td>0.000000</td>\n",
              "      <td>1.000000</td>\n",
              "    </tr>\n",
              "    <tr>\n",
              "      <th>IMP_VALUE</th>\n",
              "      <td>5960.0</td>\n",
              "      <td>101540.387423</td>\n",
              "      <td>56869.436682</td>\n",
              "      <td>8000.000000</td>\n",
              "      <td>66489.500000</td>\n",
              "      <td>89235.500000</td>\n",
              "      <td>119004.750000</td>\n",
              "      <td>855909.000000</td>\n",
              "    </tr>\n",
              "    <tr>\n",
              "      <th>M_YOJ</th>\n",
              "      <td>5960.0</td>\n",
              "      <td>0.086409</td>\n",
              "      <td>0.280991</td>\n",
              "      <td>0.000000</td>\n",
              "      <td>0.000000</td>\n",
              "      <td>0.000000</td>\n",
              "      <td>0.000000</td>\n",
              "      <td>1.000000</td>\n",
              "    </tr>\n",
              "    <tr>\n",
              "      <th>IMP_YOJ</th>\n",
              "      <td>5960.0</td>\n",
              "      <td>8.756166</td>\n",
              "      <td>7.259424</td>\n",
              "      <td>0.000000</td>\n",
              "      <td>3.000000</td>\n",
              "      <td>7.000000</td>\n",
              "      <td>12.000000</td>\n",
              "      <td>41.000000</td>\n",
              "    </tr>\n",
              "    <tr>\n",
              "      <th>M_DEROG</th>\n",
              "      <td>5960.0</td>\n",
              "      <td>0.118792</td>\n",
              "      <td>0.323571</td>\n",
              "      <td>0.000000</td>\n",
              "      <td>0.000000</td>\n",
              "      <td>0.000000</td>\n",
              "      <td>0.000000</td>\n",
              "      <td>1.000000</td>\n",
              "    </tr>\n",
              "    <tr>\n",
              "      <th>IMP_DEROG</th>\n",
              "      <td>5960.0</td>\n",
              "      <td>0.224329</td>\n",
              "      <td>0.798458</td>\n",
              "      <td>0.000000</td>\n",
              "      <td>0.000000</td>\n",
              "      <td>0.000000</td>\n",
              "      <td>0.000000</td>\n",
              "      <td>10.000000</td>\n",
              "    </tr>\n",
              "    <tr>\n",
              "      <th>M_DELINQ</th>\n",
              "      <td>5960.0</td>\n",
              "      <td>0.097315</td>\n",
              "      <td>0.296412</td>\n",
              "      <td>0.000000</td>\n",
              "      <td>0.000000</td>\n",
              "      <td>0.000000</td>\n",
              "      <td>0.000000</td>\n",
              "      <td>1.000000</td>\n",
              "    </tr>\n",
              "    <tr>\n",
              "      <th>IMP_DELINQ</th>\n",
              "      <td>5960.0</td>\n",
              "      <td>0.405705</td>\n",
              "      <td>1.079256</td>\n",
              "      <td>0.000000</td>\n",
              "      <td>0.000000</td>\n",
              "      <td>0.000000</td>\n",
              "      <td>0.000000</td>\n",
              "      <td>15.000000</td>\n",
              "    </tr>\n",
              "    <tr>\n",
              "      <th>M_CLAGE</th>\n",
              "      <td>5960.0</td>\n",
              "      <td>0.051678</td>\n",
              "      <td>0.221394</td>\n",
              "      <td>0.000000</td>\n",
              "      <td>0.000000</td>\n",
              "      <td>0.000000</td>\n",
              "      <td>0.000000</td>\n",
              "      <td>1.000000</td>\n",
              "    </tr>\n",
              "    <tr>\n",
              "      <th>IMP_CLAGE</th>\n",
              "      <td>5960.0</td>\n",
              "      <td>179.440725</td>\n",
              "      <td>83.574697</td>\n",
              "      <td>0.000000</td>\n",
              "      <td>117.371430</td>\n",
              "      <td>173.466667</td>\n",
              "      <td>227.143058</td>\n",
              "      <td>1168.233561</td>\n",
              "    </tr>\n",
              "    <tr>\n",
              "      <th>M_NINQ</th>\n",
              "      <td>5960.0</td>\n",
              "      <td>0.085570</td>\n",
              "      <td>0.279752</td>\n",
              "      <td>0.000000</td>\n",
              "      <td>0.000000</td>\n",
              "      <td>0.000000</td>\n",
              "      <td>0.000000</td>\n",
              "      <td>1.000000</td>\n",
              "    </tr>\n",
              "    <tr>\n",
              "      <th>IMP_NINQ</th>\n",
              "      <td>5960.0</td>\n",
              "      <td>1.170134</td>\n",
              "      <td>1.653866</td>\n",
              "      <td>0.000000</td>\n",
              "      <td>0.000000</td>\n",
              "      <td>1.000000</td>\n",
              "      <td>2.000000</td>\n",
              "      <td>17.000000</td>\n",
              "    </tr>\n",
              "    <tr>\n",
              "      <th>M_CLNO</th>\n",
              "      <td>5960.0</td>\n",
              "      <td>0.037248</td>\n",
              "      <td>0.189386</td>\n",
              "      <td>0.000000</td>\n",
              "      <td>0.000000</td>\n",
              "      <td>0.000000</td>\n",
              "      <td>0.000000</td>\n",
              "      <td>1.000000</td>\n",
              "    </tr>\n",
              "    <tr>\n",
              "      <th>IMP_CLNO</th>\n",
              "      <td>5960.0</td>\n",
              "      <td>21.247819</td>\n",
              "      <td>9.951308</td>\n",
              "      <td>0.000000</td>\n",
              "      <td>15.000000</td>\n",
              "      <td>20.000000</td>\n",
              "      <td>26.000000</td>\n",
              "      <td>71.000000</td>\n",
              "    </tr>\n",
              "    <tr>\n",
              "      <th>M_DEBTINC</th>\n",
              "      <td>5960.0</td>\n",
              "      <td>0.212584</td>\n",
              "      <td>0.409170</td>\n",
              "      <td>0.000000</td>\n",
              "      <td>0.000000</td>\n",
              "      <td>0.000000</td>\n",
              "      <td>0.000000</td>\n",
              "      <td>1.000000</td>\n",
              "    </tr>\n",
              "    <tr>\n",
              "      <th>IMP_DEBTINC</th>\n",
              "      <td>5960.0</td>\n",
              "      <td>34.000651</td>\n",
              "      <td>7.644528</td>\n",
              "      <td>0.524499</td>\n",
              "      <td>30.763159</td>\n",
              "      <td>34.818262</td>\n",
              "      <td>37.949892</td>\n",
              "      <td>203.312149</td>\n",
              "    </tr>\n",
              "  </tbody>\n",
              "</table>\n",
              "</div>"
            ],
            "text/plain": [
              "                       count           mean           std          min  \\\n",
              "TARGET_BAD_FLAG       5960.0       0.199497      0.399656     0.000000   \n",
              "TARGET_LOSS_AMT       1189.0   13414.576955  10839.455965   224.000000   \n",
              "LOAN                  5960.0   18607.969799  11207.480417  1100.000000   \n",
              "z_IMP_REASON_HomeImp  5960.0       0.298658      0.457708     0.000000   \n",
              "z_IMP_REASON_MISSING  5960.0       0.042282      0.201248     0.000000   \n",
              "z_IMP_JOB_Mgr         5960.0       0.128691      0.334886     0.000000   \n",
              "z_IMP_JOB_Office      5960.0       0.159060      0.365763     0.000000   \n",
              "z_IMP_JOB_Other       5960.0       0.400671      0.490076     0.000000   \n",
              "z_IMP_JOB_ProfExe     5960.0       0.214094      0.410227     0.000000   \n",
              "z_IMP_JOB_Sales       5960.0       0.018289      0.134004     0.000000   \n",
              "z_IMP_JOB_Self        5960.0       0.032383      0.177029     0.000000   \n",
              "M_MORTDUE             5960.0       0.086913      0.281731     0.000000   \n",
              "IMP_MORTDUE           5960.0   73001.041812  42552.726779  2063.000000   \n",
              "M_VALUE               5960.0       0.018792      0.135801     0.000000   \n",
              "IMP_VALUE             5960.0  101540.387423  56869.436682  8000.000000   \n",
              "M_YOJ                 5960.0       0.086409      0.280991     0.000000   \n",
              "IMP_YOJ               5960.0       8.756166      7.259424     0.000000   \n",
              "M_DEROG               5960.0       0.118792      0.323571     0.000000   \n",
              "IMP_DEROG             5960.0       0.224329      0.798458     0.000000   \n",
              "M_DELINQ              5960.0       0.097315      0.296412     0.000000   \n",
              "IMP_DELINQ            5960.0       0.405705      1.079256     0.000000   \n",
              "M_CLAGE               5960.0       0.051678      0.221394     0.000000   \n",
              "IMP_CLAGE             5960.0     179.440725     83.574697     0.000000   \n",
              "M_NINQ                5960.0       0.085570      0.279752     0.000000   \n",
              "IMP_NINQ              5960.0       1.170134      1.653866     0.000000   \n",
              "M_CLNO                5960.0       0.037248      0.189386     0.000000   \n",
              "IMP_CLNO              5960.0      21.247819      9.951308     0.000000   \n",
              "M_DEBTINC             5960.0       0.212584      0.409170     0.000000   \n",
              "IMP_DEBTINC           5960.0      34.000651      7.644528     0.524499   \n",
              "\n",
              "                               25%           50%            75%            max  \n",
              "TARGET_BAD_FLAG           0.000000      0.000000       0.000000       1.000000  \n",
              "TARGET_LOSS_AMT        5639.000000  11003.000000   17634.000000   78987.000000  \n",
              "LOAN                  11100.000000  16300.000000   23300.000000   89900.000000  \n",
              "z_IMP_REASON_HomeImp      0.000000      0.000000       1.000000       1.000000  \n",
              "z_IMP_REASON_MISSING      0.000000      0.000000       0.000000       1.000000  \n",
              "z_IMP_JOB_Mgr             0.000000      0.000000       0.000000       1.000000  \n",
              "z_IMP_JOB_Office          0.000000      0.000000       0.000000       1.000000  \n",
              "z_IMP_JOB_Other           0.000000      0.000000       1.000000       1.000000  \n",
              "z_IMP_JOB_ProfExe         0.000000      0.000000       0.000000       1.000000  \n",
              "z_IMP_JOB_Sales           0.000000      0.000000       0.000000       1.000000  \n",
              "z_IMP_JOB_Self            0.000000      0.000000       0.000000       1.000000  \n",
              "M_MORTDUE                 0.000000      0.000000       0.000000       1.000000  \n",
              "IMP_MORTDUE           48139.000000  65019.000000   88200.250000  399550.000000  \n",
              "M_VALUE                   0.000000      0.000000       0.000000       1.000000  \n",
              "IMP_VALUE             66489.500000  89235.500000  119004.750000  855909.000000  \n",
              "M_YOJ                     0.000000      0.000000       0.000000       1.000000  \n",
              "IMP_YOJ                   3.000000      7.000000      12.000000      41.000000  \n",
              "M_DEROG                   0.000000      0.000000       0.000000       1.000000  \n",
              "IMP_DEROG                 0.000000      0.000000       0.000000      10.000000  \n",
              "M_DELINQ                  0.000000      0.000000       0.000000       1.000000  \n",
              "IMP_DELINQ                0.000000      0.000000       0.000000      15.000000  \n",
              "M_CLAGE                   0.000000      0.000000       0.000000       1.000000  \n",
              "IMP_CLAGE               117.371430    173.466667     227.143058    1168.233561  \n",
              "M_NINQ                    0.000000      0.000000       0.000000       1.000000  \n",
              "IMP_NINQ                  0.000000      1.000000       2.000000      17.000000  \n",
              "M_CLNO                    0.000000      0.000000       0.000000       1.000000  \n",
              "IMP_CLNO                 15.000000     20.000000      26.000000      71.000000  \n",
              "M_DEBTINC                 0.000000      0.000000       0.000000       1.000000  \n",
              "IMP_DEBTINC              30.763159     34.818262      37.949892     203.312149  "
            ]
          },
          "execution_count": 21,
          "metadata": {},
          "output_type": "execute_result"
        }
      ],
      "source": [
        "df.describe().T"
      ]
    },
    {
      "cell_type": "code",
      "execution_count": null,
      "metadata": {
        "colab": {
          "base_uri": "https://localhost:8080/"
        },
        "id": "nQAkOLZxn878",
        "outputId": "f49028fd-760a-497c-9324-96389e9d32b4"
      },
      "outputs": [
        {
          "data": {
            "text/html": [
              "<div>\n",
              "<style scoped>\n",
              "    .dataframe tbody tr th:only-of-type {\n",
              "        vertical-align: middle;\n",
              "    }\n",
              "\n",
              "    .dataframe tbody tr th {\n",
              "        vertical-align: top;\n",
              "    }\n",
              "\n",
              "    .dataframe thead th {\n",
              "        text-align: right;\n",
              "    }\n",
              "</style>\n",
              "<table border=\"1\" class=\"dataframe\">\n",
              "  <thead>\n",
              "    <tr style=\"text-align: right;\">\n",
              "      <th></th>\n",
              "      <th>count</th>\n",
              "      <th>mean</th>\n",
              "      <th>std</th>\n",
              "      <th>min</th>\n",
              "      <th>25%</th>\n",
              "      <th>50%</th>\n",
              "      <th>75%</th>\n",
              "      <th>max</th>\n",
              "    </tr>\n",
              "  </thead>\n",
              "  <tbody>\n",
              "    <tr>\n",
              "      <th>TARGET_BAD_FLAG</th>\n",
              "      <td>5960.0</td>\n",
              "      <td>0.199497</td>\n",
              "      <td>0.399656</td>\n",
              "      <td>0.000000</td>\n",
              "      <td>0.000000</td>\n",
              "      <td>0.000000</td>\n",
              "      <td>0.000000</td>\n",
              "      <td>1.0</td>\n",
              "    </tr>\n",
              "    <tr>\n",
              "      <th>TARGET_LOSS_AMT</th>\n",
              "      <td>1189.0</td>\n",
              "      <td>13414.576955</td>\n",
              "      <td>10839.455965</td>\n",
              "      <td>224.000000</td>\n",
              "      <td>5639.000000</td>\n",
              "      <td>11003.000000</td>\n",
              "      <td>17634.000000</td>\n",
              "      <td>78987.0</td>\n",
              "    </tr>\n",
              "    <tr>\n",
              "      <th>z_IMP_REASON_HomeImp</th>\n",
              "      <td>5960.0</td>\n",
              "      <td>0.298658</td>\n",
              "      <td>0.457708</td>\n",
              "      <td>0.000000</td>\n",
              "      <td>0.000000</td>\n",
              "      <td>0.000000</td>\n",
              "      <td>1.000000</td>\n",
              "      <td>1.0</td>\n",
              "    </tr>\n",
              "    <tr>\n",
              "      <th>z_IMP_REASON_MISSING</th>\n",
              "      <td>5960.0</td>\n",
              "      <td>0.042282</td>\n",
              "      <td>0.201248</td>\n",
              "      <td>0.000000</td>\n",
              "      <td>0.000000</td>\n",
              "      <td>0.000000</td>\n",
              "      <td>0.000000</td>\n",
              "      <td>1.0</td>\n",
              "    </tr>\n",
              "    <tr>\n",
              "      <th>z_IMP_JOB_Mgr</th>\n",
              "      <td>5960.0</td>\n",
              "      <td>0.128691</td>\n",
              "      <td>0.334886</td>\n",
              "      <td>0.000000</td>\n",
              "      <td>0.000000</td>\n",
              "      <td>0.000000</td>\n",
              "      <td>0.000000</td>\n",
              "      <td>1.0</td>\n",
              "    </tr>\n",
              "    <tr>\n",
              "      <th>z_IMP_JOB_Office</th>\n",
              "      <td>5960.0</td>\n",
              "      <td>0.159060</td>\n",
              "      <td>0.365763</td>\n",
              "      <td>0.000000</td>\n",
              "      <td>0.000000</td>\n",
              "      <td>0.000000</td>\n",
              "      <td>0.000000</td>\n",
              "      <td>1.0</td>\n",
              "    </tr>\n",
              "    <tr>\n",
              "      <th>z_IMP_JOB_Other</th>\n",
              "      <td>5960.0</td>\n",
              "      <td>0.400671</td>\n",
              "      <td>0.490076</td>\n",
              "      <td>0.000000</td>\n",
              "      <td>0.000000</td>\n",
              "      <td>0.000000</td>\n",
              "      <td>1.000000</td>\n",
              "      <td>1.0</td>\n",
              "    </tr>\n",
              "    <tr>\n",
              "      <th>z_IMP_JOB_ProfExe</th>\n",
              "      <td>5960.0</td>\n",
              "      <td>0.214094</td>\n",
              "      <td>0.410227</td>\n",
              "      <td>0.000000</td>\n",
              "      <td>0.000000</td>\n",
              "      <td>0.000000</td>\n",
              "      <td>0.000000</td>\n",
              "      <td>1.0</td>\n",
              "    </tr>\n",
              "    <tr>\n",
              "      <th>z_IMP_JOB_Sales</th>\n",
              "      <td>5960.0</td>\n",
              "      <td>0.018289</td>\n",
              "      <td>0.134004</td>\n",
              "      <td>0.000000</td>\n",
              "      <td>0.000000</td>\n",
              "      <td>0.000000</td>\n",
              "      <td>0.000000</td>\n",
              "      <td>1.0</td>\n",
              "    </tr>\n",
              "    <tr>\n",
              "      <th>z_IMP_JOB_Self</th>\n",
              "      <td>5960.0</td>\n",
              "      <td>0.032383</td>\n",
              "      <td>0.177029</td>\n",
              "      <td>0.000000</td>\n",
              "      <td>0.000000</td>\n",
              "      <td>0.000000</td>\n",
              "      <td>0.000000</td>\n",
              "      <td>1.0</td>\n",
              "    </tr>\n",
              "    <tr>\n",
              "      <th>O_LOAN</th>\n",
              "      <td>5960.0</td>\n",
              "      <td>0.015940</td>\n",
              "      <td>0.125252</td>\n",
              "      <td>0.000000</td>\n",
              "      <td>0.000000</td>\n",
              "      <td>0.000000</td>\n",
              "      <td>0.000000</td>\n",
              "      <td>1.0</td>\n",
              "    </tr>\n",
              "    <tr>\n",
              "      <th>TRUNC_LOAN</th>\n",
              "      <td>5960.0</td>\n",
              "      <td>18362.256711</td>\n",
              "      <td>10148.976515</td>\n",
              "      <td>1100.000000</td>\n",
              "      <td>11100.000000</td>\n",
              "      <td>16300.000000</td>\n",
              "      <td>23300.000000</td>\n",
              "      <td>52230.0</td>\n",
              "    </tr>\n",
              "    <tr>\n",
              "      <th>O_M_MORTDUE</th>\n",
              "      <td>5960.0</td>\n",
              "      <td>0.000000</td>\n",
              "      <td>0.000000</td>\n",
              "      <td>0.000000</td>\n",
              "      <td>0.000000</td>\n",
              "      <td>0.000000</td>\n",
              "      <td>0.000000</td>\n",
              "      <td>0.0</td>\n",
              "    </tr>\n",
              "    <tr>\n",
              "      <th>TRUNC_M_MORTDUE</th>\n",
              "      <td>5960.0</td>\n",
              "      <td>0.086913</td>\n",
              "      <td>0.281731</td>\n",
              "      <td>0.000000</td>\n",
              "      <td>0.000000</td>\n",
              "      <td>0.000000</td>\n",
              "      <td>0.000000</td>\n",
              "      <td>1.0</td>\n",
              "    </tr>\n",
              "    <tr>\n",
              "      <th>O_IMP_MORTDUE</th>\n",
              "      <td>5960.0</td>\n",
              "      <td>0.018121</td>\n",
              "      <td>0.133400</td>\n",
              "      <td>0.000000</td>\n",
              "      <td>0.000000</td>\n",
              "      <td>0.000000</td>\n",
              "      <td>0.000000</td>\n",
              "      <td>1.0</td>\n",
              "    </tr>\n",
              "    <tr>\n",
              "      <th>TRUNC_IMP_MORTDUE</th>\n",
              "      <td>5960.0</td>\n",
              "      <td>72201.825034</td>\n",
              "      <td>39017.412773</td>\n",
              "      <td>2063.000000</td>\n",
              "      <td>48139.000000</td>\n",
              "      <td>65019.000000</td>\n",
              "      <td>88200.250000</td>\n",
              "      <td>200659.0</td>\n",
              "    </tr>\n",
              "    <tr>\n",
              "      <th>O_M_VALUE</th>\n",
              "      <td>5960.0</td>\n",
              "      <td>0.018792</td>\n",
              "      <td>0.135801</td>\n",
              "      <td>0.000000</td>\n",
              "      <td>0.000000</td>\n",
              "      <td>0.000000</td>\n",
              "      <td>0.000000</td>\n",
              "      <td>1.0</td>\n",
              "    </tr>\n",
              "    <tr>\n",
              "      <th>TRUNC_M_VALUE</th>\n",
              "      <td>5960.0</td>\n",
              "      <td>0.000000</td>\n",
              "      <td>0.000000</td>\n",
              "      <td>0.000000</td>\n",
              "      <td>0.000000</td>\n",
              "      <td>0.000000</td>\n",
              "      <td>0.000000</td>\n",
              "      <td>0.0</td>\n",
              "    </tr>\n",
              "    <tr>\n",
              "      <th>O_IMP_VALUE</th>\n",
              "      <td>5960.0</td>\n",
              "      <td>0.015101</td>\n",
              "      <td>0.121964</td>\n",
              "      <td>0.000000</td>\n",
              "      <td>0.000000</td>\n",
              "      <td>0.000000</td>\n",
              "      <td>0.000000</td>\n",
              "      <td>1.0</td>\n",
              "    </tr>\n",
              "    <tr>\n",
              "      <th>TRUNC_IMP_VALUE</th>\n",
              "      <td>5960.0</td>\n",
              "      <td>100462.133732</td>\n",
              "      <td>50412.742922</td>\n",
              "      <td>8000.000000</td>\n",
              "      <td>66489.500000</td>\n",
              "      <td>89235.500000</td>\n",
              "      <td>119004.750000</td>\n",
              "      <td>272149.0</td>\n",
              "    </tr>\n",
              "    <tr>\n",
              "      <th>O_M_YOJ</th>\n",
              "      <td>5960.0</td>\n",
              "      <td>0.000000</td>\n",
              "      <td>0.000000</td>\n",
              "      <td>0.000000</td>\n",
              "      <td>0.000000</td>\n",
              "      <td>0.000000</td>\n",
              "      <td>0.000000</td>\n",
              "      <td>0.0</td>\n",
              "    </tr>\n",
              "    <tr>\n",
              "      <th>TRUNC_M_YOJ</th>\n",
              "      <td>5960.0</td>\n",
              "      <td>0.086409</td>\n",
              "      <td>0.280991</td>\n",
              "      <td>0.000000</td>\n",
              "      <td>0.000000</td>\n",
              "      <td>0.000000</td>\n",
              "      <td>0.000000</td>\n",
              "      <td>1.0</td>\n",
              "    </tr>\n",
              "    <tr>\n",
              "      <th>O_IMP_YOJ</th>\n",
              "      <td>5960.0</td>\n",
              "      <td>0.003020</td>\n",
              "      <td>0.054877</td>\n",
              "      <td>0.000000</td>\n",
              "      <td>0.000000</td>\n",
              "      <td>0.000000</td>\n",
              "      <td>0.000000</td>\n",
              "      <td>1.0</td>\n",
              "    </tr>\n",
              "    <tr>\n",
              "      <th>TRUNC_IMP_YOJ</th>\n",
              "      <td>5960.0</td>\n",
              "      <td>8.741737</td>\n",
              "      <td>7.208863</td>\n",
              "      <td>0.000000</td>\n",
              "      <td>3.000000</td>\n",
              "      <td>7.000000</td>\n",
              "      <td>12.000000</td>\n",
              "      <td>31.0</td>\n",
              "    </tr>\n",
              "    <tr>\n",
              "      <th>O_M_DEROG</th>\n",
              "      <td>5960.0</td>\n",
              "      <td>0.000000</td>\n",
              "      <td>0.000000</td>\n",
              "      <td>0.000000</td>\n",
              "      <td>0.000000</td>\n",
              "      <td>0.000000</td>\n",
              "      <td>0.000000</td>\n",
              "      <td>0.0</td>\n",
              "    </tr>\n",
              "    <tr>\n",
              "      <th>TRUNC_M_DEROG</th>\n",
              "      <td>5960.0</td>\n",
              "      <td>0.118792</td>\n",
              "      <td>0.323571</td>\n",
              "      <td>0.000000</td>\n",
              "      <td>0.000000</td>\n",
              "      <td>0.000000</td>\n",
              "      <td>0.000000</td>\n",
              "      <td>1.0</td>\n",
              "    </tr>\n",
              "    <tr>\n",
              "      <th>O_IMP_DEROG</th>\n",
              "      <td>5960.0</td>\n",
              "      <td>0.012081</td>\n",
              "      <td>0.109255</td>\n",
              "      <td>0.000000</td>\n",
              "      <td>0.000000</td>\n",
              "      <td>0.000000</td>\n",
              "      <td>0.000000</td>\n",
              "      <td>1.0</td>\n",
              "    </tr>\n",
              "    <tr>\n",
              "      <th>TRUNC_IMP_DEROG</th>\n",
              "      <td>5960.0</td>\n",
              "      <td>0.192114</td>\n",
              "      <td>0.582947</td>\n",
              "      <td>0.000000</td>\n",
              "      <td>0.000000</td>\n",
              "      <td>0.000000</td>\n",
              "      <td>0.000000</td>\n",
              "      <td>3.0</td>\n",
              "    </tr>\n",
              "    <tr>\n",
              "      <th>O_M_DELINQ</th>\n",
              "      <td>5960.0</td>\n",
              "      <td>0.000000</td>\n",
              "      <td>0.000000</td>\n",
              "      <td>0.000000</td>\n",
              "      <td>0.000000</td>\n",
              "      <td>0.000000</td>\n",
              "      <td>0.000000</td>\n",
              "      <td>0.0</td>\n",
              "    </tr>\n",
              "    <tr>\n",
              "      <th>TRUNC_M_DELINQ</th>\n",
              "      <td>5960.0</td>\n",
              "      <td>0.097315</td>\n",
              "      <td>0.296412</td>\n",
              "      <td>0.000000</td>\n",
              "      <td>0.000000</td>\n",
              "      <td>0.000000</td>\n",
              "      <td>0.000000</td>\n",
              "      <td>1.0</td>\n",
              "    </tr>\n",
              "    <tr>\n",
              "      <th>O_IMP_DELINQ</th>\n",
              "      <td>5960.0</td>\n",
              "      <td>0.015101</td>\n",
              "      <td>0.121964</td>\n",
              "      <td>0.000000</td>\n",
              "      <td>0.000000</td>\n",
              "      <td>0.000000</td>\n",
              "      <td>0.000000</td>\n",
              "      <td>1.0</td>\n",
              "    </tr>\n",
              "    <tr>\n",
              "      <th>TRUNC_IMP_DELINQ</th>\n",
              "      <td>5960.0</td>\n",
              "      <td>0.371309</td>\n",
              "      <td>0.886332</td>\n",
              "      <td>0.000000</td>\n",
              "      <td>0.000000</td>\n",
              "      <td>0.000000</td>\n",
              "      <td>0.000000</td>\n",
              "      <td>4.0</td>\n",
              "    </tr>\n",
              "    <tr>\n",
              "      <th>O_M_CLAGE</th>\n",
              "      <td>5960.0</td>\n",
              "      <td>0.000000</td>\n",
              "      <td>0.000000</td>\n",
              "      <td>0.000000</td>\n",
              "      <td>0.000000</td>\n",
              "      <td>0.000000</td>\n",
              "      <td>0.000000</td>\n",
              "      <td>0.0</td>\n",
              "    </tr>\n",
              "    <tr>\n",
              "      <th>TRUNC_M_CLAGE</th>\n",
              "      <td>5960.0</td>\n",
              "      <td>0.051678</td>\n",
              "      <td>0.221394</td>\n",
              "      <td>0.000000</td>\n",
              "      <td>0.000000</td>\n",
              "      <td>0.000000</td>\n",
              "      <td>0.000000</td>\n",
              "      <td>1.0</td>\n",
              "    </tr>\n",
              "    <tr>\n",
              "      <th>O_IMP_CLAGE</th>\n",
              "      <td>5960.0</td>\n",
              "      <td>0.005201</td>\n",
              "      <td>0.071939</td>\n",
              "      <td>0.000000</td>\n",
              "      <td>0.000000</td>\n",
              "      <td>0.000000</td>\n",
              "      <td>0.000000</td>\n",
              "      <td>1.0</td>\n",
              "    </tr>\n",
              "    <tr>\n",
              "      <th>TRUNC_IMP_CLAGE</th>\n",
              "      <td>5960.0</td>\n",
              "      <td>178.519248</td>\n",
              "      <td>78.853277</td>\n",
              "      <td>0.000000</td>\n",
              "      <td>117.371430</td>\n",
              "      <td>173.466667</td>\n",
              "      <td>227.143058</td>\n",
              "      <td>430.0</td>\n",
              "    </tr>\n",
              "    <tr>\n",
              "      <th>O_M_NINQ</th>\n",
              "      <td>5960.0</td>\n",
              "      <td>0.000000</td>\n",
              "      <td>0.000000</td>\n",
              "      <td>0.000000</td>\n",
              "      <td>0.000000</td>\n",
              "      <td>0.000000</td>\n",
              "      <td>0.000000</td>\n",
              "      <td>0.0</td>\n",
              "    </tr>\n",
              "    <tr>\n",
              "      <th>TRUNC_M_NINQ</th>\n",
              "      <td>5960.0</td>\n",
              "      <td>0.085570</td>\n",
              "      <td>0.279752</td>\n",
              "      <td>0.000000</td>\n",
              "      <td>0.000000</td>\n",
              "      <td>0.000000</td>\n",
              "      <td>0.000000</td>\n",
              "      <td>1.0</td>\n",
              "    </tr>\n",
              "    <tr>\n",
              "      <th>O_IMP_NINQ</th>\n",
              "      <td>5960.0</td>\n",
              "      <td>0.020302</td>\n",
              "      <td>0.141043</td>\n",
              "      <td>0.000000</td>\n",
              "      <td>0.000000</td>\n",
              "      <td>0.000000</td>\n",
              "      <td>0.000000</td>\n",
              "      <td>1.0</td>\n",
              "    </tr>\n",
              "    <tr>\n",
              "      <th>TRUNC_IMP_NINQ</th>\n",
              "      <td>5960.0</td>\n",
              "      <td>1.115101</td>\n",
              "      <td>1.408926</td>\n",
              "      <td>0.000000</td>\n",
              "      <td>0.000000</td>\n",
              "      <td>1.000000</td>\n",
              "      <td>2.000000</td>\n",
              "      <td>6.0</td>\n",
              "    </tr>\n",
              "    <tr>\n",
              "      <th>O_M_CLNO</th>\n",
              "      <td>5960.0</td>\n",
              "      <td>0.000000</td>\n",
              "      <td>0.000000</td>\n",
              "      <td>0.000000</td>\n",
              "      <td>0.000000</td>\n",
              "      <td>0.000000</td>\n",
              "      <td>0.000000</td>\n",
              "      <td>0.0</td>\n",
              "    </tr>\n",
              "    <tr>\n",
              "      <th>TRUNC_M_CLNO</th>\n",
              "      <td>5960.0</td>\n",
              "      <td>0.037248</td>\n",
              "      <td>0.189386</td>\n",
              "      <td>0.000000</td>\n",
              "      <td>0.000000</td>\n",
              "      <td>0.000000</td>\n",
              "      <td>0.000000</td>\n",
              "      <td>1.0</td>\n",
              "    </tr>\n",
              "    <tr>\n",
              "      <th>O_IMP_CLNO</th>\n",
              "      <td>5960.0</td>\n",
              "      <td>0.007047</td>\n",
              "      <td>0.083657</td>\n",
              "      <td>0.000000</td>\n",
              "      <td>0.000000</td>\n",
              "      <td>0.000000</td>\n",
              "      <td>0.000000</td>\n",
              "      <td>1.0</td>\n",
              "    </tr>\n",
              "    <tr>\n",
              "      <th>TRUNC_IMP_CLNO</th>\n",
              "      <td>5960.0</td>\n",
              "      <td>21.200671</td>\n",
              "      <td>9.783956</td>\n",
              "      <td>0.000000</td>\n",
              "      <td>15.000000</td>\n",
              "      <td>20.000000</td>\n",
              "      <td>26.000000</td>\n",
              "      <td>51.0</td>\n",
              "    </tr>\n",
              "    <tr>\n",
              "      <th>O_M_DEBTINC</th>\n",
              "      <td>5960.0</td>\n",
              "      <td>0.000000</td>\n",
              "      <td>0.000000</td>\n",
              "      <td>0.000000</td>\n",
              "      <td>0.000000</td>\n",
              "      <td>0.000000</td>\n",
              "      <td>0.000000</td>\n",
              "      <td>0.0</td>\n",
              "    </tr>\n",
              "    <tr>\n",
              "      <th>TRUNC_M_DEBTINC</th>\n",
              "      <td>5960.0</td>\n",
              "      <td>0.212584</td>\n",
              "      <td>0.409170</td>\n",
              "      <td>0.000000</td>\n",
              "      <td>0.000000</td>\n",
              "      <td>0.000000</td>\n",
              "      <td>0.000000</td>\n",
              "      <td>1.0</td>\n",
              "    </tr>\n",
              "    <tr>\n",
              "      <th>O_IMP_DEBTINC</th>\n",
              "      <td>5960.0</td>\n",
              "      <td>0.005201</td>\n",
              "      <td>0.071939</td>\n",
              "      <td>0.000000</td>\n",
              "      <td>0.000000</td>\n",
              "      <td>0.000000</td>\n",
              "      <td>0.000000</td>\n",
              "      <td>1.0</td>\n",
              "    </tr>\n",
              "    <tr>\n",
              "      <th>TRUNC_IMP_DEBTINC</th>\n",
              "      <td>5960.0</td>\n",
              "      <td>33.877119</td>\n",
              "      <td>6.649744</td>\n",
              "      <td>0.524499</td>\n",
              "      <td>30.763159</td>\n",
              "      <td>34.818262</td>\n",
              "      <td>37.949892</td>\n",
              "      <td>57.0</td>\n",
              "    </tr>\n",
              "  </tbody>\n",
              "</table>\n",
              "</div>"
            ],
            "text/plain": [
              "                       count           mean           std          min  \\\n",
              "TARGET_BAD_FLAG       5960.0       0.199497      0.399656     0.000000   \n",
              "TARGET_LOSS_AMT       1189.0   13414.576955  10839.455965   224.000000   \n",
              "z_IMP_REASON_HomeImp  5960.0       0.298658      0.457708     0.000000   \n",
              "z_IMP_REASON_MISSING  5960.0       0.042282      0.201248     0.000000   \n",
              "z_IMP_JOB_Mgr         5960.0       0.128691      0.334886     0.000000   \n",
              "z_IMP_JOB_Office      5960.0       0.159060      0.365763     0.000000   \n",
              "z_IMP_JOB_Other       5960.0       0.400671      0.490076     0.000000   \n",
              "z_IMP_JOB_ProfExe     5960.0       0.214094      0.410227     0.000000   \n",
              "z_IMP_JOB_Sales       5960.0       0.018289      0.134004     0.000000   \n",
              "z_IMP_JOB_Self        5960.0       0.032383      0.177029     0.000000   \n",
              "O_LOAN                5960.0       0.015940      0.125252     0.000000   \n",
              "TRUNC_LOAN            5960.0   18362.256711  10148.976515  1100.000000   \n",
              "O_M_MORTDUE           5960.0       0.000000      0.000000     0.000000   \n",
              "TRUNC_M_MORTDUE       5960.0       0.086913      0.281731     0.000000   \n",
              "O_IMP_MORTDUE         5960.0       0.018121      0.133400     0.000000   \n",
              "TRUNC_IMP_MORTDUE     5960.0   72201.825034  39017.412773  2063.000000   \n",
              "O_M_VALUE             5960.0       0.018792      0.135801     0.000000   \n",
              "TRUNC_M_VALUE         5960.0       0.000000      0.000000     0.000000   \n",
              "O_IMP_VALUE           5960.0       0.015101      0.121964     0.000000   \n",
              "TRUNC_IMP_VALUE       5960.0  100462.133732  50412.742922  8000.000000   \n",
              "O_M_YOJ               5960.0       0.000000      0.000000     0.000000   \n",
              "TRUNC_M_YOJ           5960.0       0.086409      0.280991     0.000000   \n",
              "O_IMP_YOJ             5960.0       0.003020      0.054877     0.000000   \n",
              "TRUNC_IMP_YOJ         5960.0       8.741737      7.208863     0.000000   \n",
              "O_M_DEROG             5960.0       0.000000      0.000000     0.000000   \n",
              "TRUNC_M_DEROG         5960.0       0.118792      0.323571     0.000000   \n",
              "O_IMP_DEROG           5960.0       0.012081      0.109255     0.000000   \n",
              "TRUNC_IMP_DEROG       5960.0       0.192114      0.582947     0.000000   \n",
              "O_M_DELINQ            5960.0       0.000000      0.000000     0.000000   \n",
              "TRUNC_M_DELINQ        5960.0       0.097315      0.296412     0.000000   \n",
              "O_IMP_DELINQ          5960.0       0.015101      0.121964     0.000000   \n",
              "TRUNC_IMP_DELINQ      5960.0       0.371309      0.886332     0.000000   \n",
              "O_M_CLAGE             5960.0       0.000000      0.000000     0.000000   \n",
              "TRUNC_M_CLAGE         5960.0       0.051678      0.221394     0.000000   \n",
              "O_IMP_CLAGE           5960.0       0.005201      0.071939     0.000000   \n",
              "TRUNC_IMP_CLAGE       5960.0     178.519248     78.853277     0.000000   \n",
              "O_M_NINQ              5960.0       0.000000      0.000000     0.000000   \n",
              "TRUNC_M_NINQ          5960.0       0.085570      0.279752     0.000000   \n",
              "O_IMP_NINQ            5960.0       0.020302      0.141043     0.000000   \n",
              "TRUNC_IMP_NINQ        5960.0       1.115101      1.408926     0.000000   \n",
              "O_M_CLNO              5960.0       0.000000      0.000000     0.000000   \n",
              "TRUNC_M_CLNO          5960.0       0.037248      0.189386     0.000000   \n",
              "O_IMP_CLNO            5960.0       0.007047      0.083657     0.000000   \n",
              "TRUNC_IMP_CLNO        5960.0      21.200671      9.783956     0.000000   \n",
              "O_M_DEBTINC           5960.0       0.000000      0.000000     0.000000   \n",
              "TRUNC_M_DEBTINC       5960.0       0.212584      0.409170     0.000000   \n",
              "O_IMP_DEBTINC         5960.0       0.005201      0.071939     0.000000   \n",
              "TRUNC_IMP_DEBTINC     5960.0      33.877119      6.649744     0.524499   \n",
              "\n",
              "                               25%           50%            75%       max  \n",
              "TARGET_BAD_FLAG           0.000000      0.000000       0.000000       1.0  \n",
              "TARGET_LOSS_AMT        5639.000000  11003.000000   17634.000000   78987.0  \n",
              "z_IMP_REASON_HomeImp      0.000000      0.000000       1.000000       1.0  \n",
              "z_IMP_REASON_MISSING      0.000000      0.000000       0.000000       1.0  \n",
              "z_IMP_JOB_Mgr             0.000000      0.000000       0.000000       1.0  \n",
              "z_IMP_JOB_Office          0.000000      0.000000       0.000000       1.0  \n",
              "z_IMP_JOB_Other           0.000000      0.000000       1.000000       1.0  \n",
              "z_IMP_JOB_ProfExe         0.000000      0.000000       0.000000       1.0  \n",
              "z_IMP_JOB_Sales           0.000000      0.000000       0.000000       1.0  \n",
              "z_IMP_JOB_Self            0.000000      0.000000       0.000000       1.0  \n",
              "O_LOAN                    0.000000      0.000000       0.000000       1.0  \n",
              "TRUNC_LOAN            11100.000000  16300.000000   23300.000000   52230.0  \n",
              "O_M_MORTDUE               0.000000      0.000000       0.000000       0.0  \n",
              "TRUNC_M_MORTDUE           0.000000      0.000000       0.000000       1.0  \n",
              "O_IMP_MORTDUE             0.000000      0.000000       0.000000       1.0  \n",
              "TRUNC_IMP_MORTDUE     48139.000000  65019.000000   88200.250000  200659.0  \n",
              "O_M_VALUE                 0.000000      0.000000       0.000000       1.0  \n",
              "TRUNC_M_VALUE             0.000000      0.000000       0.000000       0.0  \n",
              "O_IMP_VALUE               0.000000      0.000000       0.000000       1.0  \n",
              "TRUNC_IMP_VALUE       66489.500000  89235.500000  119004.750000  272149.0  \n",
              "O_M_YOJ                   0.000000      0.000000       0.000000       0.0  \n",
              "TRUNC_M_YOJ               0.000000      0.000000       0.000000       1.0  \n",
              "O_IMP_YOJ                 0.000000      0.000000       0.000000       1.0  \n",
              "TRUNC_IMP_YOJ             3.000000      7.000000      12.000000      31.0  \n",
              "O_M_DEROG                 0.000000      0.000000       0.000000       0.0  \n",
              "TRUNC_M_DEROG             0.000000      0.000000       0.000000       1.0  \n",
              "O_IMP_DEROG               0.000000      0.000000       0.000000       1.0  \n",
              "TRUNC_IMP_DEROG           0.000000      0.000000       0.000000       3.0  \n",
              "O_M_DELINQ                0.000000      0.000000       0.000000       0.0  \n",
              "TRUNC_M_DELINQ            0.000000      0.000000       0.000000       1.0  \n",
              "O_IMP_DELINQ              0.000000      0.000000       0.000000       1.0  \n",
              "TRUNC_IMP_DELINQ          0.000000      0.000000       0.000000       4.0  \n",
              "O_M_CLAGE                 0.000000      0.000000       0.000000       0.0  \n",
              "TRUNC_M_CLAGE             0.000000      0.000000       0.000000       1.0  \n",
              "O_IMP_CLAGE               0.000000      0.000000       0.000000       1.0  \n",
              "TRUNC_IMP_CLAGE         117.371430    173.466667     227.143058     430.0  \n",
              "O_M_NINQ                  0.000000      0.000000       0.000000       0.0  \n",
              "TRUNC_M_NINQ              0.000000      0.000000       0.000000       1.0  \n",
              "O_IMP_NINQ                0.000000      0.000000       0.000000       1.0  \n",
              "TRUNC_IMP_NINQ            0.000000      1.000000       2.000000       6.0  \n",
              "O_M_CLNO                  0.000000      0.000000       0.000000       0.0  \n",
              "TRUNC_M_CLNO              0.000000      0.000000       0.000000       1.0  \n",
              "O_IMP_CLNO                0.000000      0.000000       0.000000       1.0  \n",
              "TRUNC_IMP_CLNO           15.000000     20.000000      26.000000      51.0  \n",
              "O_M_DEBTINC               0.000000      0.000000       0.000000       0.0  \n",
              "TRUNC_M_DEBTINC           0.000000      0.000000       0.000000       1.0  \n",
              "O_IMP_DEBTINC             0.000000      0.000000       0.000000       1.0  \n",
              "TRUNC_IMP_DEBTINC        30.763159     34.818262      37.949892      57.0  "
            ]
          },
          "execution_count": 22,
          "metadata": {},
          "output_type": "execute_result"
        }
      ],
      "source": [
        "for i in numList :\n",
        "    theMean = df[i].mean()\n",
        "    theSD = df[i].std()\n",
        "    theMax = df[i].max()\n",
        "    theCutoff = round( theMean + 3*theSD )\n",
        "    if theMax < theCutoff : continue\n",
        "    FLAG = \"O_\" + i\n",
        "    TRUNC = \"TRUNC_\" + i\n",
        "    df[ FLAG ] = ( df[i] > theCutoff )+ 0\n",
        "    df[ TRUNC ] = df[ i ]\n",
        "    df.loc[ df[TRUNC] > theCutoff, TRUNC ] = theCutoff\n",
        "    df = df.drop( i, axis=1 )\n",
        "\n",
        "df.describe().T"
      ]
    },
    {
      "cell_type": "markdown",
      "metadata": {
        "id": "pUvuksGroiEu"
      },
      "source": [
        "### Split Data"
      ]
    },
    {
      "cell_type": "code",
      "execution_count": null,
      "metadata": {
        "id": "8DKPGpgrojJa"
      },
      "outputs": [],
      "source": [
        "X = df.copy()\n",
        "X = X.drop( TARGET_FLAG, axis=1 )\n",
        "X = X.drop( TARGET_LOSS, axis=1 )\n",
        "\n",
        "Y = df[ [TARGET_FLAG, TARGET_LOSS] ]"
      ]
    },
    {
      "cell_type": "code",
      "execution_count": null,
      "metadata": {
        "colab": {
          "base_uri": "https://localhost:8080/"
        },
        "id": "5UQWecmLojLl",
        "outputId": "103a8a4d-52f3-4eff-a043-38260b7931ec"
      },
      "outputs": [
        {
          "name": "stdout",
          "output_type": "stream",
          "text": [
            "FLAG DATA\n",
            "TRAINING =  (4768, 46)\n",
            "TEST =  (1192, 46)\n"
          ]
        }
      ],
      "source": [
        "X_train, X_test, Y_train, Y_test = train_test_split(X, Y, train_size=0.8, test_size=0.2, random_state=1) #80% of the data for training and 20% for testing\n",
        "\n",
        "print( \"FLAG DATA\" )\n",
        "print( \"TRAINING = \", X_train.shape )\n",
        "print( \"TEST = \", X_test.shape )"
      ]
    },
    {
      "cell_type": "code",
      "execution_count": null,
      "metadata": {
        "id": "Kf1f28RtojOE"
      },
      "outputs": [],
      "source": [
        "F = ~ Y_train[TARGET_LOSS].isna()\n",
        "W_train = X_train[F].copy()\n",
        "Z_train = Y_train[F].copy()\n",
        "\n",
        "F = ~ Y_test[ TARGET_LOSS ].isna()\n",
        "W_test = X_test[F].copy()\n",
        "Z_test = Y_test[F].copy()"
      ]
    },
    {
      "cell_type": "code",
      "execution_count": null,
      "metadata": {
        "colab": {
          "base_uri": "https://localhost:8080/"
        },
        "id": "dVgy9N-tojQM",
        "outputId": "7a4daa03-7216-4e5f-df83-a886068a5ccf"
      },
      "outputs": [
        {
          "name": "stdout",
          "output_type": "stream",
          "text": [
            "       TARGET_BAD_FLAG  TARGET_LOSS_AMT\n",
            "count            941.0       941.000000\n",
            "mean               1.0     13421.645058\n",
            "std                0.0     10662.481428\n",
            "min                1.0       224.000000\n",
            "25%                1.0      5817.000000\n",
            "50%                1.0     10959.000000\n",
            "75%                1.0     17635.000000\n",
            "max                1.0     73946.000000\n",
            "       TARGET_BAD_FLAG  TARGET_LOSS_AMT\n",
            "count            248.0       248.000000\n",
            "mean               1.0     13387.758065\n",
            "std                0.0     11508.703991\n",
            "min                1.0       320.000000\n",
            "25%                1.0      5214.500000\n",
            "50%                1.0     11336.500000\n",
            "75%                1.0     16734.000000\n",
            "max                1.0     78987.000000\n"
          ]
        }
      ],
      "source": [
        "print( Z_train.describe() )\n",
        "print( Z_test.describe() ) "
      ]
    },
    {
      "cell_type": "markdown",
      "metadata": {
        "id": "WuiUgcvOorLg"
      },
      "source": [
        "#### Model Accuracy Metrics"
      ]
    },
    {
      "cell_type": "code",
      "execution_count": null,
      "metadata": {
        "id": "Ihac3BdMojSk"
      },
      "outputs": [],
      "source": [
        "def getProbAccuracyScores( NAME, MODEL, X, Y ) :\n",
        "    pred = MODEL.predict( X )\n",
        "    probs = MODEL.predict_proba( X )\n",
        "    acc_score = metrics.accuracy_score(Y, pred)\n",
        "    p1 = probs[:,1]\n",
        "    fpr, tpr, threshold = metrics.roc_curve( Y, p1)\n",
        "    auc = metrics.auc(fpr,tpr)\n",
        "    return [NAME, acc_score, fpr, tpr, auc]\n",
        "\n",
        "def print_ROC_Curve( TITLE, LIST ) :\n",
        "    fig = plt.figure(figsize=(6,4))\n",
        "    plt.title( TITLE )\n",
        "    for theResults in LIST :\n",
        "        NAME = theResults[0]\n",
        "        fpr = theResults[2]\n",
        "        tpr = theResults[3]\n",
        "        auc = theResults[4]\n",
        "        theLabel = \"AUC \" + NAME + ' %0.2f' % auc\n",
        "        plt.plot(fpr, tpr, label = theLabel )\n",
        "    plt.legend(loc = 'lower right')\n",
        "    plt.plot([0, 1], [0, 1],'r--')\n",
        "    plt.xlim([0, 1])\n",
        "    plt.ylim([0, 1])\n",
        "    plt.ylabel('True Positive Rate')\n",
        "    plt.xlabel('False Positive Rate')\n",
        "    plt.show()\n",
        "\n",
        "def print_Accuracy( TITLE, LIST ) :\n",
        "    print( TITLE )\n",
        "    print( \"======\" )\n",
        "    for theResults in LIST :\n",
        "        NAME = theResults[0]\n",
        "        ACC = theResults[1]\n",
        "        print( NAME, \" = \", ACC )\n",
        "    print( \"------\\n\\n\" )\n",
        "\n",
        "def getAmtAccuracyScores( NAME, MODEL, X, Y ) :\n",
        "    pred = MODEL.predict( X )\n",
        "    MEAN = Y.mean()\n",
        "    RMSE = math.sqrt( metrics.mean_squared_error( Y, pred))\n",
        "    return [NAME, RMSE, MEAN]"
      ]
    },
    {
      "cell_type": "markdown",
      "metadata": {
        "id": "oFUGqqmho1QH"
      },
      "source": [
        "### Decision Tree"
      ]
    },
    {
      "cell_type": "code",
      "execution_count": null,
      "metadata": {
        "id": "I6BGli0BojU4"
      },
      "outputs": [],
      "source": [
        "#seach variables for the model\n",
        "def getTreeVars( TREE, varNames ) :\n",
        "    tree_ = TREE.tree_\n",
        "    varName = [ varNames[i] if i != _tree.TREE_UNDEFINED else \"undefined!\" for i in tree_.feature ]\n",
        "\n",
        "    nameSet = set()\n",
        "    for i in tree_.feature :\n",
        "        if i != _tree.TREE_UNDEFINED :\n",
        "            nameSet.add( i )\n",
        "    nameList = list( nameSet )\n",
        "    parameter_list = list()\n",
        "    for i in nameList :\n",
        "        parameter_list.append( varNames[i] )\n",
        "    return parameter_list"
      ]
    },
    {
      "cell_type": "markdown",
      "metadata": {
        "id": "CuglT3IAo6rQ"
      },
      "source": [
        "#### Loan Default Probability"
      ]
    },
    {
      "cell_type": "code",
      "execution_count": null,
      "metadata": {
        "colab": {
          "base_uri": "https://localhost:8080/"
        },
        "id": "6pz7pyXRojXN",
        "outputId": "cd4178c7-06b4-495a-d271-b4a1d68de249"
      },
      "outputs": [
        {
          "data": {
            "image/png": "[encoded data removed]",
            "text/plain": [
              "<Figure size 432x288 with 1 Axes>"
            ]
          },
          "metadata": {},
          "output_type": "display_data"
        },
        {
          "name": "stdout",
          "output_type": "stream",
          "text": [
            "TREE CLASSIFICATION ACCURACY\n",
            "======\n",
            "TREE_Train  =  0.8928271812080537\n",
            "TREE  =  0.886744966442953\n",
            "------\n",
            "\n",
            "\n"
          ]
        }
      ],
      "source": [
        "WHO = \"TREE\"\n",
        "\n",
        "CLM = tree.DecisionTreeClassifier( max_depth=4 )\n",
        "CLM = CLM.fit( X_train, Y_train[ TARGET_FLAG ] )\n",
        "\n",
        "TRAIN_CLM = getProbAccuracyScores( WHO + \"_Train\", CLM, X_train, Y_train[ TARGET_FLAG ] )\n",
        "TEST_CLM = getProbAccuracyScores( WHO, CLM, X_test, Y_test[ TARGET_FLAG ] )\n",
        "\n",
        "print_ROC_Curve( WHO, [ TRAIN_CLM, TEST_CLM ] ) \n",
        "print_Accuracy( WHO + \" CLASSIFICATION ACCURACY\", [ TRAIN_CLM, TEST_CLM ] )"
      ]
    },
    {
      "cell_type": "code",
      "execution_count": null,
      "metadata": {
        "id": "qWBvLbklojcJ"
      },
      "outputs": [],
      "source": [
        "feature_cols = list( X.columns.values )\n",
        "tree.export_graphviz(CLM,out_file='tree_f.txt',filled=True, rounded=True, feature_names = feature_cols, impurity=False, class_names=[\"Good\",\"Bad\"]  )\n",
        "vars_tree_flag = getTreeVars( CLM, feature_cols ) "
      ]
    },
    {
      "cell_type": "markdown",
      "metadata": {
        "id": "OW0_tA8mpDhe"
      },
      "source": [
        "#### Loss Amount"
      ]
    },
    {
      "cell_type": "code",
      "execution_count": null,
      "metadata": {
        "colab": {
          "base_uri": "https://localhost:8080/"
        },
        "id": "X56u_xRPpBoH",
        "outputId": "2c1dbe06-fff3-4974-f359-6fe4b1fac138"
      },
      "outputs": [
        {
          "name": "stdout",
          "output_type": "stream",
          "text": [
            "TREE RMSE ACCURACY\n",
            "======\n",
            "TREE_Train  =  4587.556685671267\n",
            "TREE  =  5713.237610480276\n",
            "------\n",
            "\n",
            "\n"
          ]
        }
      ],
      "source": [
        "AMT = tree.DecisionTreeRegressor( max_depth= 4 )\n",
        "AMT = AMT.fit( W_train, Z_train[TARGET_LOSS] )\n",
        "\n",
        "TRAIN_AMT = getAmtAccuracyScores( WHO + \"_Train\", AMT, W_train, Z_train[TARGET_LOSS] )\n",
        "TEST_AMT = getAmtAccuracyScores( WHO, AMT, W_test, Z_test[TARGET_LOSS] )\n",
        "\n",
        "print_Accuracy( WHO + \" RMSE ACCURACY\", [ TRAIN_AMT, TEST_AMT ] )"
      ]
    },
    {
      "cell_type": "code",
      "execution_count": null,
      "metadata": {
        "id": "9Rip00DXpBqe"
      },
      "outputs": [],
      "source": [
        "feature_cols = list( X.columns.values )\n",
        "vars_tree_amt = getTreeVars( AMT, feature_cols ) \n",
        "tree.export_graphviz(AMT,out_file='tree_a.txt',filled=True, rounded=True, feature_names = feature_cols, impurity=False, precision=0  )\n",
        "\n",
        "TREE_CLM = TEST_CLM.copy()\n",
        "TREE_AMT = TEST_AMT.copy()"
      ]
    },
    {
      "cell_type": "markdown",
      "metadata": {
        "id": "cGWK0f3ypIo-"
      },
      "source": [
        "### Random Forest"
      ]
    },
    {
      "cell_type": "code",
      "execution_count": null,
      "metadata": {
        "id": "enu5uK6qpBs4"
      },
      "outputs": [],
      "source": [
        "def getEnsembleTreeVars( ENSTREE, varNames ) :\n",
        "    importance = ENSTREE.feature_importances_\n",
        "    index = np.argsort(importance)\n",
        "    theList = []\n",
        "    for i in index :\n",
        "        imp_val = importance[i]\n",
        "        if imp_val > np.average( ENSTREE.feature_importances_ ) :\n",
        "            v = int( imp_val / np.max( ENSTREE.feature_importances_ ) * 100 )\n",
        "            theList.append( ( varNames[i], v ) )\n",
        "    theList = sorted(theList,key=itemgetter(1),reverse=True)\n",
        "    return theList"
      ]
    },
    {
      "cell_type": "markdown",
      "metadata": {
        "id": "M_mOIAPNpNi1"
      },
      "source": [
        "#### Loan Default Probability"
      ]
    },
    {
      "cell_type": "code",
      "execution_count": null,
      "metadata": {
        "colab": {
          "base_uri": "https://localhost:8080/"
        },
        "id": "byqfVGwhpBvO",
        "outputId": "ce021690-65b2-4f44-f79f-a26c25d782f7"
      },
      "outputs": [
        {
          "data": {
            "image/png": "[encoded data removed]",
            "text/plain": [
              "<Figure size 432x288 with 1 Axes>"
            ]
          },
          "metadata": {},
          "output_type": "display_data"
        },
        {
          "name": "stdout",
          "output_type": "stream",
          "text": [
            "RF CLASSIFICATION ACCURACY\n",
            "======\n",
            "RF_Train  =  0.9993708053691275\n",
            "RF  =  0.9119127516778524\n",
            "------\n",
            "\n",
            "\n"
          ]
        }
      ],
      "source": [
        "WHO = \"RF\"\n",
        "\n",
        "CLM = RandomForestClassifier( n_estimators = 25, random_state=1 )\n",
        "CLM = CLM.fit( X_train, Y_train[ TARGET_FLAG ] )\n",
        "\n",
        "TRAIN_CLM = getProbAccuracyScores( WHO + \"_Train\", CLM, X_train, Y_train[ TARGET_FLAG ] )\n",
        "TEST_CLM = getProbAccuracyScores( WHO, CLM, X_test, Y_test[ TARGET_FLAG ] )\n",
        "\n",
        "print_ROC_Curve( WHO, [ TRAIN_CLM, TEST_CLM ] ) \n",
        "print_Accuracy( WHO + \" CLASSIFICATION ACCURACY\", [ TRAIN_CLM, TEST_CLM ] )"
      ]
    },
    {
      "cell_type": "code",
      "execution_count": null,
      "metadata": {
        "id": "X7wi1zLCpBxt"
      },
      "outputs": [],
      "source": [
        "feature_cols = list( X.columns.values )\n",
        "vars_RF_flag = getEnsembleTreeVars( CLM, feature_cols )"
      ]
    },
    {
      "cell_type": "markdown",
      "metadata": {
        "id": "S5FlDdpApasx"
      },
      "source": [
        "#### Loss Amount"
      ]
    },
    {
      "cell_type": "code",
      "execution_count": null,
      "metadata": {
        "colab": {
          "base_uri": "https://localhost:8080/"
        },
        "id": "-OrXKDvXpB0N",
        "outputId": "d85976ef-e502-49fb-c719-a8ccf4f69722"
      },
      "outputs": [
        {
          "name": "stdout",
          "output_type": "stream",
          "text": [
            "RF RMSE ACCURACY\n",
            "======\n",
            "RF_Train  =  1317.8895879806714\n",
            "RF  =  3428.650015145327\n",
            "------\n",
            "\n",
            "\n"
          ]
        }
      ],
      "source": [
        "AMT = RandomForestRegressor(n_estimators = 100, random_state=1)\n",
        "AMT = AMT.fit( W_train, Z_train[TARGET_LOSS] )\n",
        "\n",
        "TRAIN_AMT = getAmtAccuracyScores( WHO + \"_Train\", AMT, W_train, Z_train[TARGET_LOSS] )\n",
        "TEST_AMT = getAmtAccuracyScores( WHO, AMT, W_test, Z_test[TARGET_LOSS] )\n",
        "\n",
        "print_Accuracy( WHO + \" RMSE ACCURACY\", [ TRAIN_AMT, TEST_AMT ] )"
      ]
    },
    {
      "cell_type": "code",
      "execution_count": null,
      "metadata": {
        "colab": {
          "base_uri": "https://localhost:8080/"
        },
        "id": "rfqCA1ClpB2V",
        "outputId": "0508580f-aaa1-4113-faf6-76888d8e0a5b"
      },
      "outputs": [
        {
          "name": "stdout",
          "output_type": "stream",
          "text": [
            "('TRUNC_LOAN', 100)\n",
            "('TRUNC_IMP_CLNO', 13)\n",
            "('TRUNC_IMP_DEBTINC', 6)\n",
            "('TRUNC_M_DEBTINC', 4)\n",
            "('TRUNC_IMP_CLAGE', 3)\n"
          ]
        }
      ],
      "source": [
        "feature_cols = list( X.columns.values )\n",
        "vars_RF_amt = getEnsembleTreeVars( AMT, feature_cols )\n",
        "\n",
        "for i in vars_RF_amt :\n",
        "    print( i )"
      ]
    },
    {
      "cell_type": "code",
      "execution_count": null,
      "metadata": {
        "id": "MTTuHCtipB5K"
      },
      "outputs": [],
      "source": [
        "RF_CLM = TEST_CLM.copy()\n",
        "RF_AMT = TEST_AMT.copy()"
      ]
    },
    {
      "cell_type": "markdown",
      "metadata": {
        "id": "_trHuPEZphUH"
      },
      "source": [
        "### Gradient Boosting"
      ]
    },
    {
      "cell_type": "markdown",
      "metadata": {
        "id": "vYMIZzUZpkPW"
      },
      "source": [
        "#### Loan Default Probability"
      ]
    },
    {
      "cell_type": "code",
      "execution_count": null,
      "metadata": {
        "colab": {
          "base_uri": "https://localhost:8080/"
        },
        "id": "FDwAo8sQpB7v",
        "outputId": "12c15419-3dfd-470f-e519-33a70fca56e0"
      },
      "outputs": [
        {
          "data": {
            "image/png": "[encoded data removed]",
            "text/plain": [
              "<Figure size 432x288 with 1 Axes>"
            ]
          },
          "metadata": {},
          "output_type": "display_data"
        },
        {
          "name": "stdout",
          "output_type": "stream",
          "text": [
            "GB CLASSIFICATION ACCURACY\n",
            "======\n",
            "GB_Train  =  0.9238674496644296\n",
            "GB  =  0.9068791946308725\n",
            "------\n",
            "\n",
            "\n"
          ]
        }
      ],
      "source": [
        "WHO = \"GB\"\n",
        "\n",
        "CLM = GradientBoostingClassifier( random_state=1 )\n",
        "CLM = CLM.fit( X_train, Y_train[ TARGET_FLAG ] )\n",
        "\n",
        "TRAIN_CLM = getProbAccuracyScores( WHO + \"_Train\", CLM, X_train, Y_train[ TARGET_FLAG ] )\n",
        "TEST_CLM = getProbAccuracyScores( WHO, CLM, X_test, Y_test[ TARGET_FLAG ] )\n",
        "\n",
        "print_ROC_Curve( WHO, [ TRAIN_CLM, TEST_CLM ] ) \n",
        "print_Accuracy( WHO + \" CLASSIFICATION ACCURACY\", [ TRAIN_CLM, TEST_CLM ] )"
      ]
    },
    {
      "cell_type": "code",
      "execution_count": null,
      "metadata": {
        "id": "Eu37BUZfpox_"
      },
      "outputs": [],
      "source": [
        "feature_cols = list( X.columns.values )\n",
        "vars_GB_flag = getEnsembleTreeVars( CLM, feature_cols )"
      ]
    },
    {
      "cell_type": "markdown",
      "metadata": {
        "id": "gu64HKUqpuuP"
      },
      "source": [
        "#### Loss Amount"
      ]
    },
    {
      "cell_type": "code",
      "execution_count": null,
      "metadata": {
        "colab": {
          "base_uri": "https://localhost:8080/"
        },
        "id": "0gES6pMkpo0R",
        "outputId": "5d374cd5-7e24-4c39-a344-f668a732b82a"
      },
      "outputs": [
        {
          "name": "stdout",
          "output_type": "stream",
          "text": [
            "GB RMSE ACCURACY\n",
            "======\n",
            "GB_Train  =  1245.4603241383124\n",
            "GB  =  2794.947030828998\n",
            "------\n",
            "\n",
            "\n"
          ]
        }
      ],
      "source": [
        "AMT = GradientBoostingRegressor(random_state=1)\n",
        "AMT = AMT.fit( W_train, Z_train[TARGET_LOSS] )\n",
        "\n",
        "TRAIN_AMT = getAmtAccuracyScores( WHO + \"_Train\", AMT, W_train, Z_train[TARGET_LOSS] )\n",
        "TEST_AMT = getAmtAccuracyScores( WHO, AMT, W_test, Z_test[TARGET_LOSS] )\n",
        "\n",
        "print_Accuracy( WHO + \" RMSE ACCURACY\", [ TRAIN_AMT, TEST_AMT ] )"
      ]
    },
    {
      "cell_type": "code",
      "execution_count": null,
      "metadata": {
        "colab": {
          "base_uri": "https://localhost:8080/"
        },
        "id": "MsB572TZpo24",
        "outputId": "e89efd22-b794-4dec-a4ce-fbf0c7ff677a"
      },
      "outputs": [
        {
          "name": "stdout",
          "output_type": "stream",
          "text": [
            "('TRUNC_LOAN', 100)\n",
            "('TRUNC_IMP_CLNO', 13)\n",
            "('TRUNC_IMP_DEBTINC', 6)\n",
            "('TRUNC_M_DEBTINC', 4)\n",
            "('TRUNC_IMP_CLAGE', 3)\n"
          ]
        }
      ],
      "source": [
        "feature_cols = list( X.columns.values )\n",
        "vars_GB_amt = getEnsembleTreeVars( AMT, feature_cols )\n",
        "\n",
        "for i in vars_RF_amt :\n",
        "    print( i )"
      ]
    },
    {
      "cell_type": "code",
      "execution_count": null,
      "metadata": {
        "id": "UDjo8H1upykU"
      },
      "outputs": [],
      "source": [
        "GB_CLM = TEST_CLM.copy()\n",
        "GB_AMT = TEST_AMT.copy()"
      ]
    },
    {
      "cell_type": "markdown",
      "metadata": {
        "id": "5MfUD4mfp2Mo"
      },
      "source": [
        "### Functions for Logit and Linear Regression Models"
      ]
    },
    {
      "cell_type": "code",
      "execution_count": null,
      "metadata": {
        "id": "BlmaIDL3po5G"
      },
      "outputs": [],
      "source": [
        "def getCoefLogit( MODEL, TRAIN_DATA ) :\n",
        "    varNames = list( TRAIN_DATA.columns.values )\n",
        "    coef_dict = {}\n",
        "    coef_dict[\"INTERCEPT\"] = MODEL.intercept_[0]\n",
        "    for coef, feat in zip(MODEL.coef_[0],varNames):\n",
        "        coef_dict[feat] = coef\n",
        "    print(\"\\nLOAN DEFAULT\")\n",
        "    print(\"---------\")\n",
        "    print(\"Total Variables: \", len( coef_dict ) )\n",
        "    for i in coef_dict :\n",
        "        print( i, \" = \", coef_dict[i]  )\n",
        "\n",
        "\n",
        "\n",
        "def getCoefLinear( MODEL, TRAIN_DATA ) :\n",
        "    varNames = list( TRAIN_DATA.columns.values )\n",
        "    coef_dict = {}\n",
        "    coef_dict[\"INTERCEPT\"] = MODEL.intercept_\n",
        "    for coef, feat in zip(MODEL.coef_,varNames):\n",
        "        coef_dict[feat] = coef\n",
        "    print(\"\\nLOSS AMOUNT\")\n",
        "    print(\"---------\")\n",
        "    print(\"Total Variables: \", len( coef_dict ) )\n",
        "    for i in coef_dict :\n",
        "        print( i, \" = \", coef_dict[i]  )"
      ]
    },
    {
      "cell_type": "markdown",
      "metadata": {
        "id": "FPp7-VU2p6hx"
      },
      "source": [
        "### Regression All Variables"
      ]
    },
    {
      "cell_type": "markdown",
      "metadata": {
        "id": "5nGVPpc3p9lX"
      },
      "source": [
        "#### Loan Default Probability"
      ]
    },
    {
      "cell_type": "code",
      "execution_count": null,
      "metadata": {
        "colab": {
          "base_uri": "https://localhost:8080/"
        },
        "id": "litCeyYTpo7m",
        "outputId": "c439b95b-c5bd-4a7d-8df9-2390882c47fc"
      },
      "outputs": [
        {
          "data": {
            "image/png": "[encoded data removed]",
            "text/plain": [
              "<Figure size 432x288 with 1 Axes>"
            ]
          },
          "metadata": {},
          "output_type": "display_data"
        },
        {
          "name": "stdout",
          "output_type": "stream",
          "text": [
            "REG_ALL CLASSIFICATION ACCURACY\n",
            "======\n",
            "REG_ALL_Train  =  0.893246644295302\n",
            "REG_ALL  =  0.886744966442953\n",
            "------\n",
            "\n",
            "\n"
          ]
        }
      ],
      "source": [
        "WHO = \"REG_ALL\"\n",
        "\n",
        "CLM = LogisticRegression( solver='newton-cg', max_iter=1000 )\n",
        "CLM = CLM.fit( X_train, Y_train[ TARGET_FLAG ] )\n",
        "\n",
        "TRAIN_CLM = getProbAccuracyScores( WHO + \"_Train\", CLM, X_train, Y_train[ TARGET_FLAG ] )\n",
        "TEST_CLM = getProbAccuracyScores( WHO, CLM, X_test, Y_test[ TARGET_FLAG ] )\n",
        "\n",
        "print_ROC_Curve( WHO, [ TRAIN_CLM, TEST_CLM ] ) \n",
        "print_Accuracy( WHO + \" CLASSIFICATION ACCURACY\", [ TRAIN_CLM, TEST_CLM ] )"
      ]
    },
    {
      "cell_type": "markdown",
      "metadata": {
        "id": "hlt5z7uOqB3g"
      },
      "source": [
        "#### Loss Amount"
      ]
    },
    {
      "cell_type": "code",
      "execution_count": null,
      "metadata": {
        "colab": {
          "base_uri": "https://localhost:8080/"
        },
        "id": "BTCt070Xpo95",
        "outputId": "37c5071a-fea3-403c-ec29-4191584c3f8c"
      },
      "outputs": [
        {
          "name": "stdout",
          "output_type": "stream",
          "text": [
            "REG_ALL RMSE ACCURACY\n",
            "======\n",
            "REG_ALL_Train  =  3555.90846939125\n",
            "REG_ALL  =  3615.1006384189077\n",
            "------\n",
            "\n",
            "\n"
          ]
        }
      ],
      "source": [
        "AMT = LinearRegression()\n",
        "AMT = AMT.fit( W_train, Z_train[TARGET_LOSS] )\n",
        "\n",
        "TRAIN_AMT = getAmtAccuracyScores( WHO + \"_Train\", AMT, W_train, Z_train[TARGET_LOSS] )\n",
        "TEST_AMT = getAmtAccuracyScores( WHO, AMT, W_test, Z_test[TARGET_LOSS] )\n",
        "\n",
        "print_Accuracy( WHO + \" RMSE ACCURACY\", [ TRAIN_AMT, TEST_AMT ] )"
      ]
    },
    {
      "cell_type": "code",
      "execution_count": null,
      "metadata": {
        "id": "lByr5cmoqE7g"
      },
      "outputs": [],
      "source": [
        "varNames = list( X_train.columns.values )\n",
        "\n",
        "#REG_ALL_CLM_COEF = getCoefLogit( CLM, X_train )\n",
        "#REG_ALL_AMT_COEF = getCoefLinear( AMT, X_train )\n",
        "\n",
        "REG_ALL_CLM = TEST_CLM.copy()\n",
        "REG_ALL_AMT = TEST_AMT.copy()"
      ]
    },
    {
      "cell_type": "markdown",
      "metadata": {
        "id": "ikJ7YjDsqJkO"
      },
      "source": [
        "### Regression Decision Tree"
      ]
    },
    {
      "cell_type": "markdown",
      "metadata": {
        "id": "sZPPjSduqaqM"
      },
      "source": [
        "#### Loan Default Probability"
      ]
    },
    {
      "cell_type": "code",
      "execution_count": null,
      "metadata": {
        "colab": {
          "base_uri": "https://localhost:8080/"
        },
        "id": "fN9ly6JrqE99",
        "outputId": "e1e3cbef-c62f-42e1-fd7a-9969858b07b8"
      },
      "outputs": [
        {
          "data": {
            "image/png": "[encoded data removed]",
            "text/plain": [
              "<Figure size 432x288 with 1 Axes>"
            ]
          },
          "metadata": {},
          "output_type": "display_data"
        },
        {
          "name": "stdout",
          "output_type": "stream",
          "text": [
            "REG_TREE CLASSIFICATION ACCURACY\n",
            "======\n",
            "REG_TREE_Train  =  0.8861157718120806\n",
            "REG_TREE  =  0.8850671140939598\n",
            "------\n",
            "\n",
            "\n"
          ]
        }
      ],
      "source": [
        "WHO = \"REG_TREE\"\n",
        "\n",
        "CLM = LogisticRegression( solver='newton-cg', max_iter=1000 )\n",
        "CLM = CLM.fit( X_train[vars_tree_flag], Y_train[ TARGET_FLAG ] )\n",
        "\n",
        "TRAIN_CLM = getProbAccuracyScores( WHO + \"_Train\", CLM, X_train[vars_tree_flag], Y_train[ TARGET_FLAG ] )\n",
        "TEST_CLM = getProbAccuracyScores( WHO, CLM, X_test[vars_tree_flag], Y_test[ TARGET_FLAG ] )\n",
        "\n",
        "print_ROC_Curve( WHO, [ TRAIN_CLM, TEST_CLM ] ) \n",
        "print_Accuracy( WHO + \" CLASSIFICATION ACCURACY\", [ TRAIN_CLM, TEST_CLM ] )"
      ]
    },
    {
      "cell_type": "markdown",
      "metadata": {
        "id": "cs9qo0o2qeLG"
      },
      "source": [
        "#### Loan Amount"
      ]
    },
    {
      "cell_type": "code",
      "execution_count": null,
      "metadata": {
        "colab": {
          "base_uri": "https://localhost:8080/"
        },
        "id": "IBxa3TDVqFAW",
        "outputId": "6dc5010a-005a-4fbd-d6af-5e20e251b95b"
      },
      "outputs": [
        {
          "name": "stdout",
          "output_type": "stream",
          "text": [
            "REG_TREE RMSE ACCURACY\n",
            "======\n",
            "REG_TREE_Train  =  4416.313150464977\n",
            "REG_TREE  =  5063.987350451287\n",
            "------\n",
            "\n",
            "\n"
          ]
        }
      ],
      "source": [
        "AMT = LinearRegression()\n",
        "AMT = AMT.fit( W_train[vars_tree_amt], Z_train[TARGET_LOSS] )\n",
        "\n",
        "TRAIN_AMT = getAmtAccuracyScores( WHO + \"_Train\", AMT, W_train[vars_tree_amt], Z_train[TARGET_LOSS] )\n",
        "TEST_AMT = getAmtAccuracyScores( WHO, AMT, W_test[vars_tree_amt], Z_test[TARGET_LOSS] )\n",
        "\n",
        "print_Accuracy( WHO + \" RMSE ACCURACY\", [ TRAIN_AMT, TEST_AMT ] )"
      ]
    },
    {
      "cell_type": "code",
      "execution_count": null,
      "metadata": {
        "id": "ZsYd8KfxqFCy"
      },
      "outputs": [],
      "source": [
        "varNames = list( X_train.columns.values )\n",
        "\n",
        "#REG_TREE_CLM_COEF = getCoefLogit( CLM, X_train[vars_tree_flag] )\n",
        "#REG_TREE_AMT_COEF = getCoefLinear( AMT, X_train[vars_tree_amt] )\n",
        "\n",
        "REG_TREE_CLM = TEST_CLM.copy()\n",
        "REG_TREE_AMT = TEST_AMT.copy()"
      ]
    },
    {
      "cell_type": "markdown",
      "metadata": {
        "id": "3NsYtfGwqiCS"
      },
      "source": [
        "### Regression Random Forest"
      ]
    },
    {
      "cell_type": "markdown",
      "metadata": {
        "id": "pzKspzDzqjRN"
      },
      "source": [
        "#### Loan Default Probability"
      ]
    },
    {
      "cell_type": "code",
      "execution_count": null,
      "metadata": {
        "colab": {
          "base_uri": "https://localhost:8080/"
        },
        "id": "Tox2gcQ2qFFN",
        "outputId": "24c041d2-46f9-4d41-d68c-04f81eb94b74"
      },
      "outputs": [
        {
          "name": "stdout",
          "output_type": "stream",
          "text": [
            "('TRUNC_M_DEBTINC', 100)\n",
            "('TRUNC_IMP_DEBTINC', 76)\n",
            "('TRUNC_IMP_CLAGE', 46)\n",
            "('TRUNC_LOAN', 39)\n",
            "('TRUNC_IMP_VALUE', 39)\n",
            "('TRUNC_IMP_MORTDUE', 36)\n",
            "('TRUNC_IMP_CLNO', 34)\n",
            "('TRUNC_IMP_DELINQ', 33)\n",
            "('TRUNC_IMP_YOJ', 30)\n",
            "('TRUNC_IMP_DEROG', 21)\n",
            "('TRUNC_IMP_NINQ', 20)\n",
            "('O_M_VALUE', 14)\n",
            "\n",
            "\n",
            "\n",
            "('TRUNC_LOAN', 100)\n",
            "('TRUNC_IMP_CLNO', 13)\n",
            "('TRUNC_IMP_DEBTINC', 6)\n",
            "('TRUNC_M_DEBTINC', 4)\n",
            "('TRUNC_IMP_CLAGE', 3)\n"
          ]
        }
      ],
      "source": [
        "WHO = \"REG_RF\"\n",
        "\n",
        "RF_flag = []\n",
        "for i in vars_RF_flag :\n",
        "    print(i)\n",
        "    theVar = i[0]\n",
        "    RF_flag.append( theVar )\n",
        "\n",
        "print(\"\\n\\n\")\n",
        "RF_amt = []\n",
        "for i in vars_RF_amt :\n",
        "    print(i)\n",
        "    theVar = i[0]\n",
        "    RF_amt.append( theVar )"
      ]
    },
    {
      "cell_type": "code",
      "execution_count": null,
      "metadata": {
        "colab": {
          "base_uri": "https://localhost:8080/"
        },
        "id": "3RSNGQrBqFHu",
        "outputId": "d3fc768e-efe4-4196-c0ec-61d60f9f0e0f"
      },
      "outputs": [
        {
          "data": {
            "image/png": "[encoded data removed]",
            "text/plain": [
              "<Figure size 432x288 with 1 Axes>"
            ]
          },
          "metadata": {},
          "output_type": "display_data"
        },
        {
          "name": "stdout",
          "output_type": "stream",
          "text": [
            "REG_RF CLASSIFICATION ACCURACY\n",
            "======\n",
            "REG_RF_Train  =  0.8800335570469798\n",
            "REG_RF  =  0.87751677852349\n",
            "------\n",
            "\n",
            "\n"
          ]
        }
      ],
      "source": [
        "CLM = LogisticRegression( solver='newton-cg', max_iter=1000 )\n",
        "CLM = CLM.fit( X_train[RF_flag], Y_train[ TARGET_FLAG ] )\n",
        "\n",
        "TRAIN_CLM = getProbAccuracyScores( WHO + \"_Train\", CLM, X_train[RF_flag], Y_train[ TARGET_FLAG ] )\n",
        "TEST_CLM = getProbAccuracyScores( WHO, CLM, X_test[RF_flag], Y_test[ TARGET_FLAG ] )\n",
        "\n",
        "print_ROC_Curve( WHO, [ TRAIN_CLM, TEST_CLM ] ) \n",
        "print_Accuracy( WHO + \" CLASSIFICATION ACCURACY\", [ TRAIN_CLM, TEST_CLM ] )"
      ]
    },
    {
      "cell_type": "markdown",
      "metadata": {
        "id": "nZ1ZardtqsOU"
      },
      "source": [
        "#### Loss Amount"
      ]
    },
    {
      "cell_type": "code",
      "execution_count": null,
      "metadata": {
        "colab": {
          "base_uri": "https://localhost:8080/"
        },
        "id": "3Qq4OdXpqFKN",
        "outputId": "4c77cd28-dba2-481a-b959-86667578af1e"
      },
      "outputs": [
        {
          "name": "stdout",
          "output_type": "stream",
          "text": [
            "REG_RF RMSE ACCURACY\n",
            "======\n",
            "REG_RF_Train  =  4238.056494916955\n",
            "REG_RF  =  4834.631645572038\n",
            "------\n",
            "\n",
            "\n"
          ]
        }
      ],
      "source": [
        "AMT = LinearRegression()\n",
        "AMT = AMT.fit( W_train[RF_amt], Z_train[TARGET_LOSS] )\n",
        "\n",
        "TRAIN_AMT = getAmtAccuracyScores( WHO + \"_Train\", AMT, W_train[RF_amt], Z_train[TARGET_LOSS] )\n",
        "TEST_AMT = getAmtAccuracyScores( WHO, AMT, W_test[RF_amt], Z_test[TARGET_LOSS] )\n",
        "\n",
        "print_Accuracy( WHO + \" RMSE ACCURACY\", [ TRAIN_AMT, TEST_AMT ] )"
      ]
    },
    {
      "cell_type": "code",
      "execution_count": null,
      "metadata": {
        "colab": {
          "base_uri": "https://localhost:8080/"
        },
        "id": "UX9dUsTqqFMt",
        "outputId": "eeb2a22a-4523-42b3-8f18-b63606928777"
      },
      "outputs": [
        {
          "name": "stdout",
          "output_type": "stream",
          "text": [
            "\n",
            "LOAN DEFAULT\n",
            "---------\n",
            "Total Variables:  13\n",
            "INTERCEPT  =  -5.278939505314226\n",
            "TRUNC_M_DEBTINC  =  2.697865042753782\n",
            "TRUNC_IMP_DEBTINC  =  0.10341726394373485\n",
            "TRUNC_IMP_CLAGE  =  -0.005880791724260301\n",
            "TRUNC_LOAN  =  -5.042379596838822e-06\n",
            "TRUNC_IMP_VALUE  =  1.5807792822300224e-06\n",
            "TRUNC_IMP_MORTDUE  =  -1.158356042582804e-06\n",
            "TRUNC_IMP_CLNO  =  -0.01874890177514842\n",
            "TRUNC_IMP_DELINQ  =  0.7102542016636423\n",
            "TRUNC_IMP_YOJ  =  -0.011836753510192073\n",
            "TRUNC_IMP_DEROG  =  0.7204220999269793\n",
            "TRUNC_IMP_NINQ  =  0.13260746969321668\n",
            "O_M_VALUE  =  3.5864140071072743\n",
            "\n",
            "LOSS AMOUNT\n",
            "---------\n",
            "Total Variables:  6\n",
            "INTERCEPT  =  -13269.322689832039\n",
            "TRUNC_LOAN  =  0.7957096877509182\n",
            "TRUNC_IMP_CLNO  =  295.8661953290625\n",
            "TRUNC_IMP_DEBTINC  =  198.11601519151378\n",
            "TRUNC_M_DEBTINC  =  5813.596604342754\n",
            "TRUNC_IMP_CLAGE  =  -25.630387984063248\n"
          ]
        }
      ],
      "source": [
        "REG_RF_CLM_COEF = getCoefLogit( CLM, X_train[RF_flag] )\n",
        "REG_RF_AMT_COEF = getCoefLinear( AMT, X_train[RF_amt] )\n",
        "\n",
        "REG_RF_CLM = TEST_CLM.copy()\n",
        "REG_RF_AMT = TEST_AMT.copy()"
      ]
    },
    {
      "cell_type": "markdown",
      "metadata": {
        "id": "7BIL3pTiqxZe"
      },
      "source": [
        "### Regression Gradient Boosting"
      ]
    },
    {
      "cell_type": "markdown",
      "metadata": {
        "id": "Jl3kEKjtq0D6"
      },
      "source": [
        "#### Loan Default Probability"
      ]
    },
    {
      "cell_type": "code",
      "execution_count": null,
      "metadata": {
        "colab": {
          "base_uri": "https://localhost:8080/"
        },
        "id": "Y7tIIN7pqFPR",
        "outputId": "a6d4f437-d897-4e0b-8590-774e50a8217e"
      },
      "outputs": [
        {
          "name": "stdout",
          "output_type": "stream",
          "text": [
            "('TRUNC_M_DEBTINC', 100)\n",
            "('TRUNC_IMP_DEBTINC', 29)\n",
            "('TRUNC_IMP_DELINQ', 16)\n",
            "('TRUNC_IMP_CLAGE', 14)\n",
            "('TRUNC_IMP_DEROG', 7)\n",
            "('O_M_VALUE', 7)\n",
            "('TRUNC_IMP_VALUE', 5)\n",
            "('TRUNC_IMP_YOJ', 5)\n",
            "('TRUNC_IMP_CLNO', 5)\n",
            "('TRUNC_LOAN', 4)\n",
            "\n",
            "\n",
            "\n",
            "('TRUNC_LOAN', 100)\n",
            "('TRUNC_IMP_CLNO', 14)\n",
            "('TRUNC_IMP_DEBTINC', 6)\n",
            "('TRUNC_M_DEBTINC', 5)\n",
            "('TRUNC_IMP_CLAGE', 4)\n"
          ]
        }
      ],
      "source": [
        "WHO = \"REG_GB\"\n",
        "\n",
        "GB_flag = []\n",
        "for i in vars_GB_flag :\n",
        "    print(i)\n",
        "    theVar = i[0]\n",
        "    GB_flag.append( theVar )\n",
        "\n",
        "print(\"\\n\\n\")\n",
        "GB_amt = []\n",
        "for i in vars_GB_amt :\n",
        "    print(i)\n",
        "    theVar = i[0]\n",
        "    GB_amt.append( theVar )"
      ]
    },
    {
      "cell_type": "code",
      "execution_count": null,
      "metadata": {
        "colab": {
          "base_uri": "https://localhost:8080/"
        },
        "id": "DMX-wWBDqFSt",
        "outputId": "592aec37-1b5d-4387-ef11-739a974fa862"
      },
      "outputs": [
        {
          "data": {
            "image/png": "[encoded data removed]",
            "text/plain": [
              "<Figure size 432x288 with 1 Axes>"
            ]
          },
          "metadata": {},
          "output_type": "display_data"
        },
        {
          "name": "stdout",
          "output_type": "stream",
          "text": [
            "REG_GB CLASSIFICATION ACCURACY\n",
            "======\n",
            "REG_GB_Train  =  0.881501677852349\n",
            "REG_GB  =  0.8800335570469798\n",
            "------\n",
            "\n",
            "\n"
          ]
        }
      ],
      "source": [
        "CLM = LogisticRegression( solver='newton-cg', max_iter=1000 )\n",
        "CLM = CLM.fit( X_train[GB_flag], Y_train[ TARGET_FLAG ] )\n",
        "\n",
        "TRAIN_CLM = getProbAccuracyScores( WHO + \"_Train\", CLM, X_train[GB_flag], Y_train[ TARGET_FLAG ] )\n",
        "TEST_CLM = getProbAccuracyScores( WHO, CLM, X_test[GB_flag], Y_test[ TARGET_FLAG ] )\n",
        "\n",
        "print_ROC_Curve( WHO, [ TRAIN_CLM, TEST_CLM ] ) \n",
        "print_Accuracy( WHO + \" CLASSIFICATION ACCURACY\", [ TRAIN_CLM, TEST_CLM ] )"
      ]
    },
    {
      "cell_type": "markdown",
      "metadata": {
        "id": "5-bfoIQBq415"
      },
      "source": [
        "#### Loss Amount"
      ]
    },
    {
      "cell_type": "code",
      "execution_count": null,
      "metadata": {
        "colab": {
          "base_uri": "https://localhost:8080/"
        },
        "id": "wAGEipjMq6oY",
        "outputId": "61fe89df-d0fc-49e9-8b21-cae5ae60e57f"
      },
      "outputs": [
        {
          "name": "stdout",
          "output_type": "stream",
          "text": [
            "REG_GB RMSE ACCURACY\n",
            "======\n",
            "REG_GB_Train  =  4238.056494916955\n",
            "REG_GB  =  4834.631645572038\n",
            "------\n",
            "\n",
            "\n"
          ]
        }
      ],
      "source": [
        "AMT = LinearRegression()\n",
        "AMT = AMT.fit( W_train[GB_amt], Z_train[TARGET_LOSS] )\n",
        "\n",
        "TRAIN_AMT = getAmtAccuracyScores( WHO + \"_Train\", AMT, W_train[GB_amt], Z_train[TARGET_LOSS] )\n",
        "TEST_AMT = getAmtAccuracyScores( WHO, AMT, W_test[GB_amt], Z_test[TARGET_LOSS] )\n",
        "\n",
        "print_Accuracy( WHO + \" RMSE ACCURACY\", [ TRAIN_AMT, TEST_AMT ] )"
      ]
    },
    {
      "cell_type": "code",
      "execution_count": null,
      "metadata": {
        "colab": {
          "base_uri": "https://localhost:8080/"
        },
        "id": "f9S9Edkkq6qq",
        "outputId": "ed24271b-477c-4d09-84af-f69545996fb9"
      },
      "outputs": [
        {
          "name": "stdout",
          "output_type": "stream",
          "text": [
            "\n",
            "LOAN DEFAULT\n",
            "---------\n",
            "Total Variables:  11\n",
            "INTERCEPT  =  -5.24100271298383\n",
            "TRUNC_M_DEBTINC  =  2.7384330164644664\n",
            "TRUNC_IMP_DEBTINC  =  0.10571107262952566\n",
            "TRUNC_IMP_DELINQ  =  0.7065953056334092\n",
            "TRUNC_IMP_CLAGE  =  -0.006109602074919832\n",
            "TRUNC_IMP_DEROG  =  0.7578099208424347\n",
            "O_M_VALUE  =  3.539333757271459\n",
            "TRUNC_IMP_VALUE  =  5.682229934711958e-07\n",
            "TRUNC_IMP_YOJ  =  -0.013079971951492794\n",
            "TRUNC_IMP_CLNO  =  -0.016247109958395217\n",
            "TRUNC_LOAN  =  -2.5498097594842573e-06\n",
            "\n",
            "LOSS AMOUNT\n",
            "---------\n",
            "Total Variables:  6\n",
            "INTERCEPT  =  -13269.322689832039\n",
            "TRUNC_LOAN  =  0.7957096877509182\n",
            "TRUNC_IMP_CLNO  =  295.8661953290625\n",
            "TRUNC_IMP_DEBTINC  =  198.11601519151378\n",
            "TRUNC_M_DEBTINC  =  5813.596604342754\n",
            "TRUNC_IMP_CLAGE  =  -25.630387984063248\n"
          ]
        }
      ],
      "source": [
        "REG_GB_CLM_COEF = getCoefLogit( CLM, X_train[GB_flag] )\n",
        "REG_GB_AMT_COEF = getCoefLinear( AMT, X_train[GB_amt] )\n",
        "\n",
        "REG_GB_CLM = TEST_CLM.copy()\n",
        "REG_GB_AMT = TEST_AMT.copy()"
      ]
    },
    {
      "cell_type": "markdown",
      "metadata": {
        "id": "DRVBu_lyrj_A"
      },
      "source": [
        "### Tensor Flow"
      ]
    },
    {
      "cell_type": "code",
      "execution_count": null,
      "metadata": {
        "colab": {
          "base_uri": "https://localhost:8080/"
        },
        "id": "SLJ5VuDBrLpx",
        "outputId": "decf3f11-edb3-402a-bbc6-af40e6955310"
      },
      "outputs": [
        {
          "data": {
            "text/plain": [
              "MinMaxScaler()"
            ]
          },
          "execution_count": 59,
          "metadata": {},
          "output_type": "execute_result"
        }
      ],
      "source": [
        "theScaler = MinMaxScaler()\n",
        "theScaler.fit( X_train )"
      ]
    },
    {
      "cell_type": "markdown",
      "metadata": {
        "id": "Rxpyav4Qrz05"
      },
      "source": [
        "#### Loan Default Probability"
      ]
    },
    {
      "cell_type": "code",
      "execution_count": null,
      "metadata": {
        "id": "gj5p_P7jrqlK"
      },
      "outputs": [],
      "source": [
        "WHO = \"Tensor_FLow\"\n",
        "\n",
        "U_train = theScaler.transform( X_train )\n",
        "U_test = theScaler.transform( X_test )\n",
        "\n",
        "U_train = pd.DataFrame( U_train )\n",
        "U_test = pd.DataFrame( U_test )\n",
        "\n",
        "U_train.columns = list( X_train.columns.values )\n",
        "U_test.columns = list( X_train.columns.values )\n",
        "\n",
        "#use the variables that GB liked \n",
        "U_train = U_train[ GB_flag ] \n",
        "U_test = U_test[ GB_flag ]"
      ]
    },
    {
      "cell_type": "code",
      "execution_count": null,
      "metadata": {
        "id": "ioIcZWmJrqv9"
      },
      "outputs": [],
      "source": [
        "def get_TF_ProbAccuracyScores( NAME, MODEL, X, Y ) :\n",
        "    probs = MODEL.predict( X )\n",
        "    pred_list = []\n",
        "    for p in probs :\n",
        "        pred_list.append( np.argmax( p ) )\n",
        "    pred = np.array( pred_list )\n",
        "    acc_score = metrics.accuracy_score(Y, pred)\n",
        "    p1 = probs[:,1]\n",
        "    fpr, tpr, threshold = metrics.roc_curve( Y, p1)\n",
        "    auc = metrics.auc(fpr,tpr)\n",
        "    return [NAME, acc_score, fpr, tpr, auc]"
      ]
    },
    {
      "cell_type": "code",
      "execution_count": null,
      "metadata": {
        "id": "mqXSYLesrqn9"
      },
      "outputs": [],
      "source": [
        "F_theShapeSize = U_train.shape[1]\n",
        "F_theActivation = tf.keras.activations.relu\n",
        "F_theLossMetric = tf.keras.losses.SparseCategoricalCrossentropy()\n",
        "F_theOptimizer = tf.keras.optimizers.Adam()\n",
        "F_theEpochs = 100"
      ]
    },
    {
      "cell_type": "code",
      "execution_count": null,
      "metadata": {
        "id": "KpPWnKLyrqql"
      },
      "outputs": [],
      "source": [
        "F_theUnits = int( 2*F_theShapeSize)\n",
        "\n",
        "F_LAYER_01 = tf.keras.layers.Dense( units=F_theUnits, activation=F_theActivation, input_dim=F_theShapeSize )\n",
        "F_LAYER_DROP = tf.keras.layers.Dropout( 0.2 )\n",
        "F_LAYER_02 = tf.keras.layers.Dense( units=F_theUnits, activation=F_theActivation )\n",
        "F_LAYER_OUTPUT = tf.keras.layers.Dense( units=2, activation=tf.keras.activations.softmax ) #2 output units for yes and no"
      ]
    },
    {
      "cell_type": "code",
      "execution_count": null,
      "metadata": {
        "colab": {
          "base_uri": "https://localhost:8080/"
        },
        "id": "MxEZfHNwrqtR",
        "outputId": "e7294845-cde6-48a1-c490-4363bf748fff"
      },
      "outputs": [
        {
          "data": {
            "text/plain": [
              "<keras.callbacks.History at 0x7fe4f0f5ac50>"
            ]
          },
          "execution_count": 64,
          "metadata": {},
          "output_type": "execute_result"
        }
      ],
      "source": [
        "CLM = tf.keras.Sequential()\n",
        "CLM.add( F_LAYER_01 )\n",
        "CLM.add( F_LAYER_DROP )\n",
        "CLM.add( F_LAYER_02 )\n",
        "CLM.add( F_LAYER_OUTPUT )\n",
        "CLM.compile( loss=F_theLossMetric, optimizer=F_theOptimizer)\n",
        "CLM.fit( U_train, Y_train[TARGET_FLAG], epochs=F_theEpochs, verbose=False )"
      ]
    },
    {
      "cell_type": "code",
      "execution_count": null,
      "metadata": {
        "colab": {
          "base_uri": "https://localhost:8080/",
          "height": 420
        },
        "id": "y4ESp9qOrqy1",
        "outputId": "93ab3d69-ce30-4c24-a3ab-65bb106c600a"
      },
      "outputs": [
        {
          "data": {
            "image/png": "[encoded data removed]",
            "text/plain": [
              "<Figure size 432x288 with 1 Axes>"
            ]
          },
          "metadata": {},
          "output_type": "display_data"
        },
        {
          "name": "stdout",
          "output_type": "stream",
          "text": [
            "Tensor_FLow CLASSIFICATION ACCURACY\n",
            "======\n",
            "Tensor_FLow_Train  =  0.902265100671141\n",
            "Tensor_FLow  =  0.889261744966443\n",
            "------\n",
            "\n",
            "\n"
          ]
        }
      ],
      "source": [
        "TRAIN_CLM = get_TF_ProbAccuracyScores( WHO + \"_Train\", CLM, U_train[ GB_flag ] , Y_train[ TARGET_FLAG ] )\n",
        "TEST_CLM = get_TF_ProbAccuracyScores( WHO, CLM, U_test[ GB_flag ] , Y_test[ TARGET_FLAG ] )\n",
        "\n",
        "print_ROC_Curve( WHO, [ TRAIN_CLM, TEST_CLM ] ) \n",
        "print_Accuracy( WHO + \" CLASSIFICATION ACCURACY\", [ TRAIN_CLM, TEST_CLM ] )"
      ]
    },
    {
      "cell_type": "markdown",
      "metadata": {
        "id": "i_iCRdrNsAlH"
      },
      "source": [
        "#### Loss Amount"
      ]
    },
    {
      "cell_type": "code",
      "execution_count": null,
      "metadata": {
        "id": "QblBxTEOrq1n"
      },
      "outputs": [],
      "source": [
        "V_train = theScaler.transform( W_train )\n",
        "V_test = theScaler.transform( W_test )\n",
        "\n",
        "V_train = pd.DataFrame( V_train )\n",
        "V_test = pd.DataFrame( V_test )\n",
        "\n",
        "V_train.columns = list( W_train.columns.values )\n",
        "V_test.columns = list( W_train.columns.values )\n",
        "\n",
        "V_train = V_train[ GB_amt ]\n",
        "V_test = V_test[ GB_amt ]"
      ]
    },
    {
      "cell_type": "code",
      "execution_count": null,
      "metadata": {
        "id": "4kgGBg__rq39"
      },
      "outputs": [],
      "source": [
        "A_theShapeSize = V_train.shape[1]\n",
        "A_theActivation = tf.keras.activations.softplus\n",
        "A_theLossMetric = tf.keras.losses.MeanSquaredError()\n",
        "A_theOptimizer = tf.keras.optimizers.Adam()\n",
        "A_theEpochs = 600"
      ]
    },
    {
      "cell_type": "code",
      "execution_count": null,
      "metadata": {
        "id": "L-h6eVcQsC6F"
      },
      "outputs": [],
      "source": [
        "A_theUnits = int( 2*A_theShapeSize  )\n",
        "\n",
        "A_LAYER_01 = tf.keras.layers.Dense( units=A_theUnits, activation=A_theActivation, input_dim=A_theShapeSize )\n",
        "A_LAYER_DROP = tf.keras.layers.Dropout( 0.2 )\n",
        "A_LAYER_02 = tf.keras.layers.Dense( units=A_theUnits, activation=A_theActivation )\n",
        "A_LAYER_OUTPUT = tf.keras.layers.Dense( units=1, activation=tf.keras.activations.linear )"
      ]
    },
    {
      "cell_type": "code",
      "execution_count": null,
      "metadata": {
        "colab": {
          "base_uri": "https://localhost:8080/"
        },
        "id": "LJDCkptIsC3o",
        "outputId": "08243660-0943-4988-dc86-30a5f3e3bf9d"
      },
      "outputs": [
        {
          "data": {
            "text/plain": [
              "<keras.callbacks.History at 0x7fe500570d50>"
            ]
          },
          "execution_count": 69,
          "metadata": {},
          "output_type": "execute_result"
        }
      ],
      "source": [
        "AMT = tf.keras.Sequential()\n",
        "AMT.add( A_LAYER_01 )\n",
        "AMT.add( A_LAYER_DROP )\n",
        "AMT.add( A_LAYER_02 )\n",
        "AMT.add( A_LAYER_OUTPUT )\n",
        "AMT.compile( loss=A_theLossMetric, optimizer=A_theOptimizer)\n",
        "AMT.fit( V_train, Z_train[TARGET_LOSS], epochs=A_theEpochs, verbose=False )"
      ]
    },
    {
      "cell_type": "code",
      "execution_count": null,
      "metadata": {
        "colab": {
          "base_uri": "https://localhost:8080/"
        },
        "id": "a54deqr-sC1U",
        "outputId": "b848100c-325f-4e85-ef77-b412a10dc0ce"
      },
      "outputs": [
        {
          "name": "stdout",
          "output_type": "stream",
          "text": [
            "Tensor_FLow RMSE ACCURACY\n",
            "======\n",
            "Tensor_FLow_Train  =  4366.821396325019\n",
            "Tensor_FLow  =  4972.7041066387055\n",
            "------\n",
            "\n",
            "\n"
          ]
        }
      ],
      "source": [
        "TRAIN_AMT = getAmtAccuracyScores( WHO + \"_Train\", AMT, V_train[GB_amt], Z_train[TARGET_LOSS] )\n",
        "TEST_AMT = getAmtAccuracyScores( WHO, AMT, V_test[GB_amt], Z_test[TARGET_LOSS] )\n",
        "print_Accuracy( WHO + \" RMSE ACCURACY\", [ TRAIN_AMT, TEST_AMT ] )\n",
        "\n",
        "TF_CLM = TEST_CLM.copy()\n",
        "TF_AMT = TEST_AMT.copy()"
      ]
    },
    {
      "cell_type": "markdown",
      "metadata": {
        "id": "SBEnnDbdla-n"
      },
      "source": [
        "### Comparison of Models"
      ]
    },
    {
      "cell_type": "code",
      "execution_count": null,
      "metadata": {
        "colab": {
          "base_uri": "https://localhost:8080/",
          "height": 743
        },
        "id": "ejH79ZOgsCy8",
        "outputId": "622d8316-fc4a-4250-9000-b250a188d7ff"
      },
      "outputs": [
        {
          "data": {
            "image/png": "[encoded data removed]",
            "text/plain": [
              "<Figure size 432x288 with 1 Axes>"
            ]
          },
          "metadata": {},
          "output_type": "display_data"
        },
        {
          "name": "stdout",
          "output_type": "stream",
          "text": [
            "ALL CLASSIFICATION ACCURACY\n",
            "======\n",
            "RF  =  0.9119127516778524\n",
            "GB  =  0.9068791946308725\n",
            "Tensor_FLow  =  0.889261744966443\n",
            "REG_ALL  =  0.886744966442953\n",
            "TREE  =  0.886744966442953\n",
            "REG_TREE  =  0.8850671140939598\n",
            "REG_GB  =  0.8800335570469798\n",
            "REG_RF  =  0.87751677852349\n",
            "------\n",
            "\n",
            "\n",
            "ALL DAMAGE MODEL ACCURACY\n",
            "======\n",
            "GB  =  2794.947030828998\n",
            "RF  =  3428.650015145327\n",
            "REG_ALL  =  3615.1006384189077\n",
            "REG_RF  =  4834.631645572038\n",
            "REG_GB  =  4834.631645572038\n",
            "Tensor_FLow  =  4972.7041066387055\n",
            "REG_TREE  =  5063.987350451287\n",
            "TREE  =  5713.237610480276\n",
            "------\n",
            "\n",
            "\n"
          ]
        }
      ],
      "source": [
        "ALL_CLM = [ TREE_CLM, RF_CLM, GB_CLM, REG_ALL_CLM, REG_TREE_CLM, REG_RF_CLM, REG_GB_CLM, TF_CLM ]\n",
        "\n",
        "ALL_CLM = sorted( ALL_CLM, key = lambda x: x[4], reverse=True )\n",
        "print_ROC_Curve( WHO, ALL_CLM ) \n",
        "\n",
        "ALL_CLM = sorted( ALL_CLM, key = lambda x: x[1], reverse=True )\n",
        "print_Accuracy( \"ALL CLASSIFICATION ACCURACY\", ALL_CLM )\n",
        "\n",
        "\n",
        "\n",
        "ALL_AMT = [ TREE_AMT, RF_AMT, GB_AMT, REG_ALL_AMT, REG_TREE_AMT, REG_RF_AMT, REG_GB_AMT, TF_AMT ]\n",
        "ALL_AMT = sorted( ALL_AMT, key = lambda x: x[1] )\n",
        "print_Accuracy( \"ALL DAMAGE MODEL ACCURACY\", ALL_AMT )"
      ]
    }
  ],
  "metadata": {
    "colab": {
      "collapsed_sections": [
        "taivDw1QoINQ",
        "HIDrIOdLoVeN",
        "pUvuksGroiEu",
        "WuiUgcvOorLg",
        "oFUGqqmho1QH",
        "CuglT3IAo6rQ",
        "OW0_tA8mpDhe",
        "cGWK0f3ypIo-",
        "M_mOIAPNpNi1",
        "S5FlDdpApasx",
        "vYMIZzUZpkPW",
        "gu64HKUqpuuP",
        "5MfUD4mfp2Mo",
        "FPp7-VU2p6hx",
        "hlt5z7uOqB3g",
        "ikJ7YjDsqJkO",
        "3NsYtfGwqiCS",
        "7BIL3pTiqxZe",
        "Jl3kEKjtq0D6",
        "5-bfoIQBq415"
      ],
      "name": "Assignment4.ipynb",
      "provenance": []
    },
    "kernelspec": {
      "display_name": "Python 3",
      "language": "python",
      "name": "python3"
    },
    "language_info": {
      "codemirror_mode": {
        "name": "ipython",
        "version": 3
      },
      "file_extension": ".py",
      "mimetype": "text/x-python",
      "name": "python",
      "nbconvert_exporter": "python",
      "pygments_lexer": "ipython3",
      "version": "3.9.5"
    }
  },
  "nbformat": 4,
  "nbformat_minor": 0
}