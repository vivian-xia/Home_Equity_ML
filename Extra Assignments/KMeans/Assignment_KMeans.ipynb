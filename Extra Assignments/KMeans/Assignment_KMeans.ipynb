{
 "cells": [
  {
   "cell_type": "code",
   "execution_count": 1,
   "id": "a4a0f5d9",
   "metadata": {},
   "outputs": [],
   "source": [
    "import numpy as np\n",
    "import pandas as pd\n",
    "\n",
    "from sklearn.preprocessing import MinMaxScaler\n",
    "from sklearn.preprocessing import StandardScaler\n",
    "\n",
    "import matplotlib.pyplot as plt\n",
    "import seaborn as sns\n",
    "\n",
    "from sklearn.cluster import KMeans\n",
    "from sklearn.metrics import silhouette_score\n",
    "from sklearn.metrics import calinski_harabasz_score\n",
    "\n",
    "from sklearn.decomposition import PCA\n",
    "\n",
    "import warnings\n",
    "warnings.filterwarnings(\"ignore\")"
   ]
  },
  {
   "cell_type": "code",
   "execution_count": 2,
   "id": "8b2a1fa4",
   "metadata": {},
   "outputs": [],
   "source": [
    "pd.set_option('display.max_rows', None)\n",
    "pd.set_option('display.max_columns', None)\n",
    "pd.set_option('display.width', None)\n",
    "pd.set_option('display.max_colwidth', None)"
   ]
  },
  {
   "cell_type": "code",
   "execution_count": 3,
   "id": "0d993e2b",
   "metadata": {},
   "outputs": [],
   "source": [
    "FILE   = \"HMEQ_Loss.csv\"\n",
    "\n",
    "df = pd.read_csv( FILE, encoding=\"ISO-8859-1\" )"
   ]
  },
  {
   "cell_type": "code",
   "execution_count": 4,
   "id": "7d6bd119",
   "metadata": {},
   "outputs": [],
   "source": [
    "TARGET_FLAG = 'TARGET_BAD_FLAG'\n",
    "TARGET_LOSS = 'TARGET_LOSS_AMT'"
   ]
  },
  {
   "cell_type": "code",
   "execution_count": 5,
   "id": "b8b663f9",
   "metadata": {},
   "outputs": [],
   "source": [
    "df1 = df.copy()\n",
    "df1 = df1.drop( [TARGET_FLAG], axis=1 )\n",
    "df1 = df1.drop( [TARGET_LOSS], axis=1 )"
   ]
  },
  {
   "cell_type": "code",
   "execution_count": 6,
   "id": "1cc80a3b",
   "metadata": {},
   "outputs": [
    {
     "name": "stdout",
     "output_type": "stream",
     "text": [
      "   LOAN  MORTDUE     VALUE   REASON     JOB   YOJ  DEROG  DELINQ       CLAGE  \\\n",
      "0  1100  25860.0   39025.0  HomeImp   Other  10.5    0.0     0.0   94.366667   \n",
      "1  1300  70053.0   68400.0  HomeImp   Other   7.0    0.0     2.0  121.833333   \n",
      "2  1500  13500.0   16700.0  HomeImp   Other   4.0    0.0     0.0  149.466667   \n",
      "3  1500      NaN       NaN      NaN     NaN   NaN    NaN     NaN         NaN   \n",
      "4  1700  97800.0  112000.0  HomeImp  Office   3.0    0.0     0.0   93.333333   \n",
      "\n",
      "   NINQ  CLNO  DEBTINC  \n",
      "0   1.0   9.0      NaN  \n",
      "1   0.0  14.0      NaN  \n",
      "2   1.0  10.0      NaN  \n",
      "3   NaN   NaN      NaN  \n",
      "4   0.0  14.0      NaN  \n",
      "\n",
      "\n",
      "\n",
      "               LOAN        MORTDUE          VALUE          YOJ        DEROG  \\\n",
      "count   5960.000000    5442.000000    5848.000000  5445.000000  5252.000000   \n",
      "mean   18607.969799   73760.817200  101776.048741     8.922268     0.254570   \n",
      "std    11207.480417   44457.609458   57385.775334     7.573982     0.846047   \n",
      "min     1100.000000    2063.000000    8000.000000     0.000000     0.000000   \n",
      "25%    11100.000000   46276.000000   66075.500000     3.000000     0.000000   \n",
      "50%    16300.000000   65019.000000   89235.500000     7.000000     0.000000   \n",
      "75%    23300.000000   91488.000000  119824.250000    13.000000     0.000000   \n",
      "max    89900.000000  399550.000000  855909.000000    41.000000    10.000000   \n",
      "\n",
      "            DELINQ        CLAGE         NINQ         CLNO      DEBTINC  \n",
      "count  5380.000000  5652.000000  5450.000000  5738.000000  4693.000000  \n",
      "mean      0.449442   179.766275     1.186055    21.296096    33.779915  \n",
      "std       1.127266    85.810092     1.728675    10.138933     8.601746  \n",
      "min       0.000000     0.000000     0.000000     0.000000     0.524499  \n",
      "25%       0.000000   115.116702     0.000000    15.000000    29.140031  \n",
      "50%       0.000000   173.466667     1.000000    20.000000    34.818262  \n",
      "75%       0.000000   231.562278     2.000000    26.000000    39.003141  \n",
      "max      15.000000  1168.233561    17.000000    71.000000   203.312149  \n"
     ]
    }
   ],
   "source": [
    "varNames = df1.columns\n",
    "\n",
    "print( df1.head() )\n",
    "print( \"\\n\\n\")\n",
    "print( df1.describe() )"
   ]
  },
  {
   "cell_type": "code",
   "execution_count": 7,
   "id": "6052f2f7",
   "metadata": {},
   "outputs": [
    {
     "name": "stdout",
     "output_type": "stream",
     "text": [
      " OBJECTS \n",
      " ------- \n",
      "REASON\n",
      "JOB\n",
      " ------- \n",
      "\n",
      "\n",
      " NUMBER \n",
      " ------- \n",
      "LOAN\n",
      "MORTDUE\n",
      "VALUE\n",
      "YOJ\n",
      "DEROG\n",
      "DELINQ\n",
      "CLAGE\n",
      "NINQ\n",
      "CLNO\n",
      "DEBTINC\n",
      " ------- \n"
     ]
    }
   ],
   "source": [
    "dt = df1.dtypes\n",
    "\n",
    "#create a new list of categorical and numerical variables\n",
    "objList = []\n",
    "numList = []\n",
    "for i in dt.index :\n",
    "    if dt[i] in ([\"object\"]) : objList.append( i )\n",
    "    if dt[i] in ([\"float64\",\"int64\"]) : numList.append( i )\n",
    "\n",
    "\n",
    "print(\" OBJECTS \")\n",
    "print(\" ------- \")\n",
    "for i in objList :\n",
    "    print( i )\n",
    "print(\" ------- \\n\\n\")\n",
    "\n",
    "\n",
    "print(\" NUMBER \")\n",
    "print(\" ------- \")\n",
    "for i in numList :\n",
    "    print( i )\n",
    "print(\" ------- \")"
   ]
  },
  {
   "cell_type": "code",
   "execution_count": 8,
   "id": "87d6d4f5",
   "metadata": {},
   "outputs": [
    {
     "name": "stdout",
     "output_type": "stream",
     "text": [
      "Index(['LOAN', 'MORTDUE', 'VALUE', 'YOJ', 'DEROG', 'DELINQ', 'CLAGE', 'NINQ',\n",
      "       'CLNO', 'DEBTINC'],\n",
      "      dtype='object')\n"
     ]
    }
   ],
   "source": [
    "#drop object variables \n",
    "for i in objList:\n",
    "    df1 = df1.drop( [i], axis=1 )\n",
    "\n",
    "varNames = df1.columns\n",
    "print(varNames)"
   ]
  },
  {
   "cell_type": "code",
   "execution_count": 9,
   "id": "9711c8a9",
   "metadata": {},
   "outputs": [
    {
     "name": "stdout",
     "output_type": "stream",
     "text": [
      "                        0             1             2             3  \\\n",
      "LOAN          1100.000000   1300.000000   1500.000000   1500.000000   \n",
      "M_MORTDUE        0.000000      0.000000      0.000000      1.000000   \n",
      "IMP_MORTDUE  25860.000000  70053.000000  13500.000000  65019.000000   \n",
      "M_VALUE          0.000000      0.000000      0.000000      1.000000   \n",
      "IMP_VALUE    39025.000000  68400.000000  16700.000000  89235.500000   \n",
      "M_YOJ            0.000000      0.000000      0.000000      1.000000   \n",
      "IMP_YOJ         10.500000      7.000000      4.000000      7.000000   \n",
      "M_DEROG          0.000000      0.000000      0.000000      1.000000   \n",
      "IMP_DEROG        0.000000      0.000000      0.000000      0.000000   \n",
      "M_DELINQ         0.000000      0.000000      0.000000      1.000000   \n",
      "IMP_DELINQ       0.000000      2.000000      0.000000      0.000000   \n",
      "M_CLAGE          0.000000      0.000000      0.000000      1.000000   \n",
      "IMP_CLAGE       94.366667    121.833333    149.466667    173.466667   \n",
      "M_NINQ           0.000000      0.000000      0.000000      1.000000   \n",
      "IMP_NINQ         1.000000      0.000000      1.000000      1.000000   \n",
      "M_CLNO           0.000000      0.000000      0.000000      1.000000   \n",
      "IMP_CLNO         9.000000     14.000000     10.000000     20.000000   \n",
      "M_DEBTINC        1.000000      1.000000      1.000000      1.000000   \n",
      "IMP_DEBTINC     34.818262     34.818262     34.818262     34.818262   \n",
      "\n",
      "                         4  \n",
      "LOAN           1700.000000  \n",
      "M_MORTDUE         0.000000  \n",
      "IMP_MORTDUE   97800.000000  \n",
      "M_VALUE           0.000000  \n",
      "IMP_VALUE    112000.000000  \n",
      "M_YOJ             0.000000  \n",
      "IMP_YOJ           3.000000  \n",
      "M_DEROG           0.000000  \n",
      "IMP_DEROG         0.000000  \n",
      "M_DELINQ          0.000000  \n",
      "IMP_DELINQ        0.000000  \n",
      "M_CLAGE           0.000000  \n",
      "IMP_CLAGE        93.333333  \n",
      "M_NINQ            0.000000  \n",
      "IMP_NINQ          0.000000  \n",
      "M_CLNO            0.000000  \n",
      "IMP_CLNO         14.000000  \n",
      "M_DEBTINC         1.000000  \n",
      "IMP_DEBTINC      34.818262  \n"
     ]
    }
   ],
   "source": [
    "impList = []\n",
    "mList = []\n",
    "\n",
    "#fill missing numeric values with the median\n",
    "for i in numList :\n",
    "    if df1[i].isna().sum() == 0 : continue \n",
    "    FLAG = \"M_\" + i \n",
    "    IMP = \"IMP_\" + i\n",
    "    df1[ FLAG ] = df1[i].isna() + 0 \n",
    "    df1[ IMP ] = df1[ i ]\n",
    "    impList.append(IMP) #use list for numerical columns for removing outliers\n",
    "    mList.append(FLAG) #use list for appending flag missing value variables later if needed\n",
    "    df1.loc[ df1[IMP].isna(), IMP ] = df1[i].median()\n",
    "    df1 = df1.drop( i, axis=1 )\n",
    "\n",
    "print(df1.head().T)"
   ]
  },
  {
   "cell_type": "code",
   "execution_count": 10,
   "id": "17852ea6",
   "metadata": {},
   "outputs": [],
   "source": [
    "truncList = []\n",
    "\n",
    "for i in impList :\n",
    "    theMean = df1[i].mean()\n",
    "    theSD = df1[i].std()\n",
    "    theMax = df1[i].max()\n",
    "    theCutoff = round( theMean + 3*theSD )\n",
    "    if theMax < theCutoff : continue\n",
    "    FLAG = \"O_\" + i\n",
    "    TRUNC = \"TRUNC_\" + i\n",
    "    df1[ FLAG ] = ( df1[i] > theCutoff )+ 0\n",
    "    df1[ TRUNC ] = df1[ i ]\n",
    "    truncList.append(TRUNC) #use list for numerical columns for data transformation\n",
    "    df1.loc[ df1[TRUNC] > theCutoff, TRUNC ] = theCutoff\n",
    "    df1 = df1.drop( i, axis=1 )"
   ]
  },
  {
   "cell_type": "code",
   "execution_count": 11,
   "id": "9581e484",
   "metadata": {},
   "outputs": [
    {
     "name": "stdout",
     "output_type": "stream",
     "text": [
      "                              0             1             2             3  \\\n",
      "TRUNC_IMP_MORTDUE  25860.000000  70053.000000  13500.000000  65019.000000   \n",
      "TRUNC_IMP_VALUE    39025.000000  68400.000000  16700.000000  89235.500000   \n",
      "TRUNC_IMP_YOJ         10.500000      7.000000      4.000000      7.000000   \n",
      "TRUNC_IMP_DEROG        0.000000      0.000000      0.000000      0.000000   \n",
      "TRUNC_IMP_DELINQ       0.000000      2.000000      0.000000      0.000000   \n",
      "TRUNC_IMP_CLAGE       94.366667    121.833333    149.466667    173.466667   \n",
      "TRUNC_IMP_NINQ         1.000000      0.000000      1.000000      1.000000   \n",
      "TRUNC_IMP_CLNO         9.000000     14.000000     10.000000     20.000000   \n",
      "TRUNC_IMP_DEBTINC     34.818262     34.818262     34.818262     34.818262   \n",
      "\n",
      "                               4  \n",
      "TRUNC_IMP_MORTDUE   97800.000000  \n",
      "TRUNC_IMP_VALUE    112000.000000  \n",
      "TRUNC_IMP_YOJ           3.000000  \n",
      "TRUNC_IMP_DEROG         0.000000  \n",
      "TRUNC_IMP_DELINQ        0.000000  \n",
      "TRUNC_IMP_CLAGE        93.333333  \n",
      "TRUNC_IMP_NINQ          0.000000  \n",
      "TRUNC_IMP_CLNO         14.000000  \n",
      "TRUNC_IMP_DEBTINC      34.818262  \n",
      "\n",
      "\n",
      "\n",
      "       TRUNC_IMP_MORTDUE  TRUNC_IMP_VALUE  TRUNC_IMP_YOJ  TRUNC_IMP_DEROG  \\\n",
      "count        5960.000000      5960.000000    5960.000000      5960.000000   \n",
      "mean        72201.825034    100462.133732       8.741737         0.192114   \n",
      "std         39017.412773     50412.742922       7.208863         0.582947   \n",
      "min          2063.000000      8000.000000       0.000000         0.000000   \n",
      "25%         48139.000000     66489.500000       3.000000         0.000000   \n",
      "50%         65019.000000     89235.500000       7.000000         0.000000   \n",
      "75%         88200.250000    119004.750000      12.000000         0.000000   \n",
      "max        200659.000000    272149.000000      31.000000         3.000000   \n",
      "\n",
      "       TRUNC_IMP_DELINQ  TRUNC_IMP_CLAGE  TRUNC_IMP_NINQ  TRUNC_IMP_CLNO  \\\n",
      "count       5960.000000      5960.000000     5960.000000     5960.000000   \n",
      "mean           0.371309       178.519248        1.115101       21.200671   \n",
      "std            0.886332        78.853277        1.408926        9.783956   \n",
      "min            0.000000         0.000000        0.000000        0.000000   \n",
      "25%            0.000000       117.371430        0.000000       15.000000   \n",
      "50%            0.000000       173.466667        1.000000       20.000000   \n",
      "75%            0.000000       227.143058        2.000000       26.000000   \n",
      "max            4.000000       430.000000        6.000000       51.000000   \n",
      "\n",
      "       TRUNC_IMP_DEBTINC  \n",
      "count        5960.000000  \n",
      "mean           33.877119  \n",
      "std             6.649744  \n",
      "min             0.524499  \n",
      "25%            30.763159  \n",
      "50%            34.818262  \n",
      "75%            37.949892  \n",
      "max            57.000000  \n"
     ]
    }
   ],
   "source": [
    "X = df1.copy() \n",
    "X = X[truncList]\n",
    "varNames = X.columns \n",
    "\n",
    "print( X.head().T )\n",
    "print( \"\\n\\n\")\n",
    "print( X.describe() )"
   ]
  },
  {
   "cell_type": "code",
   "execution_count": 12,
   "id": "4f2b7731",
   "metadata": {},
   "outputs": [
    {
     "name": "stdout",
     "output_type": "stream",
     "text": [
      "          0         1         2         3         4         5         6  \\\n",
      "0 -1.187821 -1.218785  0.243923 -0.329584 -0.418963 -1.067294 -0.081701   \n",
      "1 -0.055078 -0.636046 -0.241631 -0.329584  1.837718 -0.718939 -0.791521   \n",
      "2 -1.504630 -1.661666 -0.657820 -0.329584 -0.418963 -0.368469 -0.081701   \n",
      "3 -0.184108 -0.222713 -0.241631 -0.329584 -0.418963 -0.064081 -0.081701   \n",
      "4  0.656126  0.228887 -0.796550 -0.329584 -0.418963 -1.080400 -0.791521   \n",
      "\n",
      "          7         8  \n",
      "0 -1.247113  0.141543  \n",
      "1 -0.736029  0.141543  \n",
      "2 -1.144896  0.141543  \n",
      "3 -0.122729  0.141543  \n",
      "4 -0.736029  0.141543  \n"
     ]
    }
   ],
   "source": [
    "#transform the data - most times people standardize for clustering\n",
    "\n",
    "#theScaler = MinMaxScaler()\n",
    "theScaler = StandardScaler()\n",
    "theScaler.fit( X )\n",
    "\n",
    "X_TRN = theScaler.transform( X )\n",
    "X_TRN = pd.DataFrame( X_TRN )\n",
    "print( X_TRN.head() )"
   ]
  },
  {
   "cell_type": "code",
   "execution_count": 13,
   "id": "58bf1e97",
   "metadata": {},
   "outputs": [
    {
     "name": "stdout",
     "output_type": "stream",
     "text": [
      "   trn_TRUNC_IMP_MORTDUE  trn_TRUNC_IMP_VALUE  trn_TRUNC_IMP_YOJ  \\\n",
      "0              -1.187821            -1.218785           0.243923   \n",
      "1              -0.055078            -0.636046          -0.241631   \n",
      "2              -1.504630            -1.661666          -0.657820   \n",
      "3              -0.184108            -0.222713          -0.241631   \n",
      "4               0.656126             0.228887          -0.796550   \n",
      "\n",
      "   trn_TRUNC_IMP_DEROG  trn_TRUNC_IMP_DELINQ  trn_TRUNC_IMP_CLAGE  \\\n",
      "0            -0.329584             -0.418963            -1.067294   \n",
      "1            -0.329584              1.837718            -0.718939   \n",
      "2            -0.329584             -0.418963            -0.368469   \n",
      "3            -0.329584             -0.418963            -0.064081   \n",
      "4            -0.329584             -0.418963            -1.080400   \n",
      "\n",
      "   trn_TRUNC_IMP_NINQ  trn_TRUNC_IMP_CLNO  trn_TRUNC_IMP_DEBTINC  \n",
      "0           -0.081701           -1.247113               0.141543  \n",
      "1           -0.791521           -0.736029               0.141543  \n",
      "2           -0.081701           -1.144896               0.141543  \n",
      "3           -0.081701           -0.122729               0.141543  \n",
      "4           -0.791521           -0.736029               0.141543  \n",
      "\n",
      "\n",
      "\n",
      "       trn_TRUNC_IMP_MORTDUE  trn_TRUNC_IMP_VALUE  trn_TRUNC_IMP_YOJ  \\\n",
      "count           5.960000e+03          5960.000000       5.960000e+03   \n",
      "mean           -3.814995e-17             0.000000       1.192186e-16   \n",
      "std             1.000084e+00             1.000084       1.000084e+00   \n",
      "min            -1.797780e+00            -1.834256      -1.212739e+00   \n",
      "25%            -6.167719e-01            -0.673946      -7.965498e-01   \n",
      "50%            -1.841083e-01            -0.222713      -2.416307e-01   \n",
      "75%             4.100674e-01             0.367847       4.520181e-01   \n",
      "max             3.292580e+00             3.405910       3.087884e+00   \n",
      "\n",
      "       trn_TRUNC_IMP_DEROG  trn_TRUNC_IMP_DELINQ  trn_TRUNC_IMP_CLAGE  \\\n",
      "count         5.960000e+03          5.960000e+03         5.960000e+03   \n",
      "mean          7.749208e-18         -2.861246e-17        -2.956621e-16   \n",
      "std           1.000084e+00          1.000084e+00         1.000084e+00   \n",
      "min          -3.295844e-01         -4.189627e-01        -2.264132e+00   \n",
      "25%          -3.295844e-01         -4.189627e-01        -7.755283e-01   \n",
      "50%          -3.295844e-01         -4.189627e-01        -6.408111e-02   \n",
      "75%          -3.295844e-01         -4.189627e-01         6.166882e-01   \n",
      "max           4.817114e+00          4.094399e+00         3.189491e+00   \n",
      "\n",
      "       trn_TRUNC_IMP_NINQ  trn_TRUNC_IMP_CLNO  trn_TRUNC_IMP_DEBTINC  \n",
      "count        5.960000e+03        5.960000e+03           5.960000e+03  \n",
      "mean        -5.484055e-17       -1.907497e-17          -3.051996e-16  \n",
      "std          1.000084e+00        1.000084e+00           1.000084e+00  \n",
      "min         -7.915210e-01       -2.167063e+00          -5.016046e+00  \n",
      "25%         -7.915210e-01       -6.338123e-01          -4.683220e-01  \n",
      "50%         -8.170078e-02       -1.227287e-01           1.415426e-01  \n",
      "75%          6.281194e-01        4.905717e-01           6.125221e-01  \n",
      "max          3.467400e+00        3.045990e+00           3.477551e+00  \n"
     ]
    }
   ],
   "source": [
    "varNames_trn = []\n",
    "for i in varNames :\n",
    "    newName = \"trn_\" + i\n",
    "    varNames_trn.append( newName )\n",
    "\n",
    "X_TRN.columns = varNames_trn\n",
    "print( X_TRN.head() )\n",
    "print( \"\\n\\n\")\n",
    "print( X_TRN.describe() )"
   ]
  },
  {
   "cell_type": "code",
   "execution_count": 14,
   "id": "ab581881",
   "metadata": {},
   "outputs": [
    {
     "data": {
      "image/png": "[encoded data removed]",
      "text/plain": [
       "<Figure size 432x288 with 1 Axes>"
      ]
     },
     "metadata": {
      "needs_background": "light"
     },
     "output_type": "display_data"
    },
    {
     "data": {
      "image/png": "[encoded data removed]",
      "text/plain": [
       "<Figure size 432x288 with 1 Axes>"
      ]
     },
     "metadata": {
      "needs_background": "light"
     },
     "output_type": "display_data"
    },
    {
     "data": {
      "image/png": "[encoded data removed]",
      "text/plain": [
       "<Figure size 432x288 with 1 Axes>"
      ]
     },
     "metadata": {
      "needs_background": "light"
     },
     "output_type": "display_data"
    }
   ],
   "source": [
    "K_LIST = []\n",
    "I_LIST = []\n",
    "S_LIST = []\n",
    "C_LIST = []\n",
    "\n",
    "\n",
    "for K in range(3,10) :  #look for 3-9 clusters \n",
    "    km = KMeans( n_clusters=K, random_state = 1 )\n",
    "    km.fit( X_TRN )\n",
    "    Y = km.predict( X_TRN ) #put trained data into clusters\n",
    "    K_LIST.append( K )\n",
    "    I_LIST.append( km.inertia_ ) #get inertia score\n",
    "    S_LIST.append( silhouette_score(X_TRN,km.labels_) ) #silhouette score\n",
    "    C_LIST.append( calinski_harabasz_score(X_TRN,km.labels_) )  #calinski harabasz score\n",
    "\n",
    "\n",
    "\n",
    "def drawElbow( K, SCORE, LABEL ) :\n",
    "    plt.plot( K , SCORE, 'ro-', linewidth=2)\n",
    "    plt.title(LABEL)\n",
    "    plt.xlabel('Clusters')\n",
    "    plt.ylabel('Score')\n",
    "    plt.show()\n",
    "\n",
    "drawElbow( K_LIST, I_LIST, \"Inertia\" )\n",
    "drawElbow( K_LIST, S_LIST, \"Silhouette\" )\n",
    "drawElbow( K_LIST, C_LIST, \"Calinski\" )"
   ]
  },
  {
   "cell_type": "code",
   "execution_count": 15,
   "id": "57460c1b",
   "metadata": {},
   "outputs": [],
   "source": [
    "def clusterData( DATA, TRN_DATA, K, TARGET ) :\n",
    "    print(\"\\n\\n\\n\")\n",
    "    print(\"K = \",K)\n",
    "    print(\"=======\")\n",
    "    km = KMeans( n_clusters=K, random_state = 1 )\n",
    "    km.fit( TRN_DATA )\n",
    "    Y = km.predict( TRN_DATA )\n",
    "    DATA[\"CLUSTER\"] = Y\n",
    "    print( DATA.head() )\n",
    "\n",
    "    G = DATA.groupby(\"CLUSTER\")\n",
    "    print( G.mean() )\n",
    "    print(\"\\n\\n\\n\")\n",
    "    print( G[ TARGET ].value_counts() )"
   ]
  },
  {
   "cell_type": "code",
   "execution_count": 16,
   "id": "9db86c2a",
   "metadata": {},
   "outputs": [
    {
     "name": "stdout",
     "output_type": "stream",
     "text": [
      "\n",
      "\n",
      "\n",
      "\n",
      "K =  4\n",
      "=======\n",
      "   TARGET_BAD_FLAG  TARGET_LOSS_AMT  LOAN  MORTDUE     VALUE   REASON     JOB  \\\n",
      "0                1            641.0  1100  25860.0   39025.0  HomeImp   Other   \n",
      "1                1           1109.0  1300  70053.0   68400.0  HomeImp   Other   \n",
      "2                1            767.0  1500  13500.0   16700.0  HomeImp   Other   \n",
      "3                1           1425.0  1500      NaN       NaN      NaN     NaN   \n",
      "4                0              NaN  1700  97800.0  112000.0  HomeImp  Office   \n",
      "\n",
      "    YOJ  DEROG  DELINQ       CLAGE  NINQ  CLNO  DEBTINC  CLUSTER  \n",
      "0  10.5    0.0     0.0   94.366667   1.0   9.0      NaN        1  \n",
      "1   7.0    0.0     2.0  121.833333   0.0  14.0      NaN        1  \n",
      "2   4.0    0.0     0.0  149.466667   1.0  10.0      NaN        1  \n",
      "3   NaN    NaN     NaN         NaN   NaN   NaN      NaN        1  \n",
      "4   3.0    0.0     0.0   93.333333   0.0  14.0      NaN        1  \n",
      "         TARGET_BAD_FLAG  TARGET_LOSS_AMT          LOAN        MORTDUE  \\\n",
      "CLUSTER                                                                  \n",
      "0               0.621749     15627.007605  18216.784870   63935.799544   \n",
      "1               0.193644     10563.637902  16339.351245   57468.788187   \n",
      "2               0.128520     11495.073034  18850.830325   55851.598734   \n",
      "3               0.142727     22616.535032  24747.000000  137851.205894   \n",
      "\n",
      "                 VALUE        YOJ     DEROG    DELINQ       CLAGE      NINQ  \\\n",
      "CLUSTER                                                                       \n",
      "0         90237.166240   6.958808  2.436019  1.526961  152.607654  2.476427   \n",
      "1         79922.424457   5.329652  0.060971  0.257088  139.433471  1.203745   \n",
      "2         86345.684562  18.341423  0.059006  0.592730  243.141051  0.775281   \n",
      "3        184883.848084   7.714465  0.078594  0.320513  213.839363  1.167946   \n",
      "\n",
      "              CLNO    DEBTINC  \n",
      "CLUSTER                        \n",
      "0        23.669031  34.835882  \n",
      "1        17.899790  33.278767  \n",
      "2        22.280000  32.510588  \n",
      "3        28.051565  36.454990  \n",
      "\n",
      "\n",
      "\n",
      "\n",
      "CLUSTER  TARGET_BAD_FLAG\n",
      "0        1                   263\n",
      "         0                   160\n",
      "1        0                  2461\n",
      "         1                   591\n",
      "2        0                  1207\n",
      "         1                   178\n",
      "3        0                   943\n",
      "         1                   157\n",
      "Name: TARGET_BAD_FLAG, dtype: int64\n"
     ]
    }
   ],
   "source": [
    "clusterData( df, X_TRN, 4, TARGET_FLAG )"
   ]
  },
  {
   "cell_type": "markdown",
   "id": "8fb0f8f3",
   "metadata": {},
   "source": [
    "### Bingo Bonus\n",
    "Use PCA for clustering"
   ]
  },
  {
   "cell_type": "code",
   "execution_count": 17,
   "id": "475e1e20",
   "metadata": {},
   "outputs": [],
   "source": [
    "pca = PCA()\n",
    "pca.fit( X_TRN )\n",
    "X_TRN = pca.transform( X_TRN )\n",
    "X_TRN = pd.DataFrame( X_TRN )"
   ]
  },
  {
   "cell_type": "code",
   "execution_count": 18,
   "id": "00c3c3af",
   "metadata": {},
   "outputs": [],
   "source": [
    "varNames_trn = []\n",
    "for i in range(X_TRN.shape[1]) :\n",
    "    index = str(i+1)\n",
    "    newName = \"PC_\" + index\n",
    "    varNames_trn.append( newName )"
   ]
  },
  {
   "cell_type": "code",
   "execution_count": 19,
   "id": "d8c9e453",
   "metadata": {},
   "outputs": [
    {
     "name": "stdout",
     "output_type": "stream",
     "text": [
      "       PC_1      PC_2      PC_3      PC_4      PC_5\n",
      "0 -2.213738 -0.064566 -0.523838 -0.573712  0.032002\n",
      "1 -0.796038  0.403654  0.303282  0.735630 -1.345805\n",
      "2 -2.464173  0.034273 -0.504138 -0.572960 -0.541261\n",
      "3 -0.306641 -0.228400 -0.397817 -0.321428 -0.171620\n",
      "4 -0.092079 -0.314853 -1.601887  0.539274 -0.531030\n"
     ]
    }
   ],
   "source": [
    "X_TRN.columns = varNames_trn\n",
    "X_TRN = X_TRN.iloc[:,0:5] #use first 5 as we found in the pca assignment\n",
    "print( X_TRN.head() )"
   ]
  },
  {
   "cell_type": "code",
   "execution_count": 20,
   "id": "c4e84b15",
   "metadata": {},
   "outputs": [],
   "source": [
    "K_LIST = []\n",
    "I_LIST = []\n",
    "S_LIST = []\n",
    "C_LIST = []\n",
    "\n",
    "for K in range(3,12) :\n",
    "    km = KMeans( n_clusters=K, random_state = 1 )\n",
    "    km.fit( X_TRN )\n",
    "    Y = km.predict( X_TRN )\n",
    "    K_LIST.append( K )\n",
    "    I_LIST.append( km.inertia_ )\n",
    "    S_LIST.append( silhouette_score(X_TRN,km.labels_) )\n",
    "    C_LIST.append( calinski_harabasz_score(X_TRN,km.labels_) )"
   ]
  },
  {
   "cell_type": "code",
   "execution_count": 21,
   "id": "990cc960",
   "metadata": {},
   "outputs": [
    {
     "data": {
      "image/png": "[encoded data removed]",
      "text/plain": [
       "<Figure size 432x288 with 1 Axes>"
      ]
     },
     "metadata": {
      "needs_background": "light"
     },
     "output_type": "display_data"
    },
    {
     "data": {
      "image/png": "[encoded data removed]",
      "text/plain": [
       "<Figure size 432x288 with 1 Axes>"
      ]
     },
     "metadata": {
      "needs_background": "light"
     },
     "output_type": "display_data"
    },
    {
     "data": {
      "image/png": "[encoded data removed]",
      "text/plain": [
       "<Figure size 432x288 with 1 Axes>"
      ]
     },
     "metadata": {
      "needs_background": "light"
     },
     "output_type": "display_data"
    }
   ],
   "source": [
    "def drawElbow( K, SCORE, LABEL ) :\n",
    "    plt.plot( K , SCORE, 'ro-', linewidth=2)\n",
    "    plt.title(LABEL)\n",
    "    plt.xlabel('Clusters')\n",
    "    plt.ylabel('Score')\n",
    "    plt.show()\n",
    "\n",
    "\n",
    "drawElbow( K_LIST, I_LIST, \"Inertia\" )\n",
    "drawElbow( K_LIST, S_LIST, \"Silhouette\" )\n",
    "drawElbow( K_LIST, C_LIST, \"Calinski\" )"
   ]
  },
  {
   "cell_type": "code",
   "execution_count": 22,
   "id": "4607bf64",
   "metadata": {},
   "outputs": [],
   "source": [
    "def clusterData( DATA, TRN_DATA, K, TARGET ) :\n",
    "    print(\"\\n\\n\\n\")\n",
    "    print(\"K = \",K)\n",
    "    print(\"=======\")\n",
    "    km = KMeans( n_clusters=K, random_state = 1 )\n",
    "    km.fit( TRN_DATA )\n",
    "    Y = km.predict( TRN_DATA )\n",
    "    DATA[\"CLUSTER\"] = Y\n",
    "    print( DATA.head() )\n",
    "\n",
    "    G = DATA.groupby(\"CLUSTER\")\n",
    "    print( G.mean() )\n",
    "    print(\"\\n\\n\\n\")\n",
    "    print( G[ TARGET ].value_counts() )"
   ]
  },
  {
   "cell_type": "code",
   "execution_count": 24,
   "id": "44ddd47a",
   "metadata": {},
   "outputs": [
    {
     "name": "stdout",
     "output_type": "stream",
     "text": [
      "\n",
      "\n",
      "\n",
      "\n",
      "K =  4\n",
      "=======\n",
      "   TARGET_BAD_FLAG  TARGET_LOSS_AMT  LOAN  MORTDUE     VALUE   REASON     JOB  \\\n",
      "0                1            641.0  1100  25860.0   39025.0  HomeImp   Other   \n",
      "1                1           1109.0  1300  70053.0   68400.0  HomeImp   Other   \n",
      "2                1            767.0  1500  13500.0   16700.0  HomeImp   Other   \n",
      "3                1           1425.0  1500      NaN       NaN      NaN     NaN   \n",
      "4                0              NaN  1700  97800.0  112000.0  HomeImp  Office   \n",
      "\n",
      "    YOJ  DEROG  DELINQ       CLAGE  NINQ  CLNO  DEBTINC  CLUSTER  \n",
      "0  10.5    0.0     0.0   94.366667   1.0   9.0      NaN        0  \n",
      "1   7.0    0.0     2.0  121.833333   0.0  14.0      NaN        0  \n",
      "2   4.0    0.0     0.0  149.466667   1.0  10.0      NaN        0  \n",
      "3   NaN    NaN     NaN         NaN   NaN   NaN      NaN        0  \n",
      "4   3.0    0.0     0.0   93.333333   0.0  14.0      NaN        0  \n",
      "         TARGET_BAD_FLAG  TARGET_LOSS_AMT          LOAN        MORTDUE  \\\n",
      "CLUSTER                                                                  \n",
      "0               0.187369     10049.392924  16336.252617   57990.433496   \n",
      "1               0.134964     21744.120805  24640.036232  137699.466055   \n",
      "2               0.612013     16210.143236  17486.850649   63231.598017   \n",
      "3               0.091703      9542.142857  19002.401747   53982.755000   \n",
      "\n",
      "                 VALUE        YOJ     DEROG    DELINQ       CLAGE      NINQ  \\\n",
      "CLUSTER                                                                       \n",
      "0         80035.813487   5.333959  0.070632  0.158717  136.347029  1.156162   \n",
      "1        184415.767241   7.932401  0.086777  0.268891  213.853840  1.174785   \n",
      "2         88703.069686   7.566318  1.772964  2.262458  156.984195  2.228426   \n",
      "3         85309.414132  17.775699  0.045879  0.298417  245.817093  0.785011   \n",
      "\n",
      "              CLNO    DEBTINC  \n",
      "CLUSTER                        \n",
      "0        17.328213  33.476926  \n",
      "1        28.106422  36.206824  \n",
      "2        24.907468  35.423826  \n",
      "3        21.987528  32.016252  \n",
      "\n",
      "\n",
      "\n",
      "\n",
      "CLUSTER  TARGET_BAD_FLAG\n",
      "0        0                  2329\n",
      "         1                   537\n",
      "1        0                   955\n",
      "         1                   149\n",
      "2        1                   377\n",
      "         0                   239\n",
      "3        0                  1248\n",
      "         1                   126\n",
      "Name: TARGET_BAD_FLAG, dtype: int64\n"
     ]
    }
   ],
   "source": [
    "clusterData( df, X_TRN, 4, TARGET_FLAG )"
   ]
  }
 ],
 "metadata": {
  "kernelspec": {
   "display_name": "Python 3",
   "language": "python",
   "name": "python3"
  },
  "language_info": {
   "codemirror_mode": {
    "name": "ipython",
    "version": 3
   },
   "file_extension": ".py",
   "mimetype": "text/x-python",
   "name": "python",
   "nbconvert_exporter": "python",
   "pygments_lexer": "ipython3",
   "version": "3.9.5"
  }
 },
 "nbformat": 4,
 "nbformat_minor": 5
}
