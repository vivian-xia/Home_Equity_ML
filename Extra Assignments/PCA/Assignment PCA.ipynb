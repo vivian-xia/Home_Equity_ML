{
 "cells": [
  {
   "cell_type": "code",
   "execution_count": 1,
   "id": "d231288f",
   "metadata": {},
   "outputs": [],
   "source": [
    "import numpy as np\n",
    "import pandas as pd\n",
    "\n",
    "from sklearn.preprocessing import StandardScaler\n",
    "from sklearn.decomposition import PCA\n",
    "\n",
    "import matplotlib.pyplot as plt"
   ]
  },
  {
   "cell_type": "code",
   "execution_count": 2,
   "id": "415ac350",
   "metadata": {},
   "outputs": [],
   "source": [
    "pd.set_option('display.max_rows', None)\n",
    "pd.set_option('display.max_columns', None)\n",
    "pd.set_option('display.width', None)\n",
    "pd.set_option('display.max_colwidth', None)"
   ]
  },
  {
   "cell_type": "code",
   "execution_count": 3,
   "id": "ff12bb84",
   "metadata": {},
   "outputs": [],
   "source": [
    "FILE   = \"HMEQ_Loss.csv\"\n",
    "\n",
    "df = pd.read_csv( FILE, encoding=\"ISO-8859-1\" )"
   ]
  },
  {
   "cell_type": "code",
   "execution_count": 4,
   "id": "b38a5b64",
   "metadata": {},
   "outputs": [],
   "source": [
    "TARGET_FLAG = 'TARGET_BAD_FLAG'\n",
    "TARGET_LOSS = 'TARGET_LOSS_AMT'"
   ]
  },
  {
   "cell_type": "code",
   "execution_count": 5,
   "id": "74adfac3",
   "metadata": {},
   "outputs": [
    {
     "name": "stdout",
     "output_type": "stream",
     "text": [
      "   LOAN  MORTDUE     VALUE   REASON     JOB   YOJ  DEROG  DELINQ       CLAGE  \\\n",
      "0  1100  25860.0   39025.0  HomeImp   Other  10.5    0.0     0.0   94.366667   \n",
      "1  1300  70053.0   68400.0  HomeImp   Other   7.0    0.0     2.0  121.833333   \n",
      "2  1500  13500.0   16700.0  HomeImp   Other   4.0    0.0     0.0  149.466667   \n",
      "3  1500      NaN       NaN      NaN     NaN   NaN    NaN     NaN         NaN   \n",
      "4  1700  97800.0  112000.0  HomeImp  Office   3.0    0.0     0.0   93.333333   \n",
      "\n",
      "   NINQ  CLNO  DEBTINC  \n",
      "0   1.0   9.0      NaN  \n",
      "1   0.0  14.0      NaN  \n",
      "2   1.0  10.0      NaN  \n",
      "3   NaN   NaN      NaN  \n",
      "4   0.0  14.0      NaN  \n"
     ]
    }
   ],
   "source": [
    "df1 = df.copy()\n",
    "df1 = df1.drop( [TARGET_FLAG], axis=1 ) #drop target variable\n",
    "df1 = df1.drop( [TARGET_LOSS], axis=1 ) \n",
    "varNames = df1.columns\n",
    "\n",
    "print( df1.head() )"
   ]
  },
  {
   "cell_type": "code",
   "execution_count": 6,
   "id": "29229820",
   "metadata": {},
   "outputs": [
    {
     "name": "stdout",
     "output_type": "stream",
     "text": [
      " OBJECTS \n",
      " ------- \n",
      "REASON\n",
      "JOB\n",
      " ------- \n",
      "\n",
      "\n",
      " NUMBER \n",
      " ------- \n",
      "LOAN\n",
      "MORTDUE\n",
      "VALUE\n",
      "YOJ\n",
      "DEROG\n",
      "DELINQ\n",
      "CLAGE\n",
      "NINQ\n",
      "CLNO\n",
      "DEBTINC\n",
      " ------- \n"
     ]
    }
   ],
   "source": [
    "dt = df1.dtypes\n",
    "\n",
    "#create a new list of categorical and numerical variables\n",
    "objList = []\n",
    "numList = []\n",
    "for i in dt.index :\n",
    "    if dt[i] in ([\"object\"]) : objList.append( i )\n",
    "    if dt[i] in ([\"float64\",\"int64\"]) : numList.append( i )\n",
    "\n",
    "\n",
    "print(\" OBJECTS \")\n",
    "print(\" ------- \")\n",
    "for i in objList :\n",
    "    print( i )\n",
    "print(\" ------- \\n\\n\")\n",
    "\n",
    "\n",
    "print(\" NUMBER \")\n",
    "print(\" ------- \")\n",
    "for i in numList :\n",
    "    print( i )\n",
    "print(\" ------- \")"
   ]
  },
  {
   "cell_type": "code",
   "execution_count": 7,
   "id": "eef94e38",
   "metadata": {},
   "outputs": [
    {
     "name": "stdout",
     "output_type": "stream",
     "text": [
      "Index(['LOAN', 'MORTDUE', 'VALUE', 'YOJ', 'DEROG', 'DELINQ', 'CLAGE', 'NINQ',\n",
      "       'CLNO', 'DEBTINC'],\n",
      "      dtype='object')\n"
     ]
    }
   ],
   "source": [
    "#drop object variables \n",
    "for i in objList:\n",
    "    df1 = df1.drop( [i], axis=1 )\n",
    "\n",
    "varNames = df1.columns\n",
    "print(varNames)"
   ]
  },
  {
   "cell_type": "code",
   "execution_count": 8,
   "id": "8c89e62f",
   "metadata": {},
   "outputs": [
    {
     "name": "stdout",
     "output_type": "stream",
     "text": [
      "                        0             1             2             3  \\\n",
      "LOAN          1100.000000   1300.000000   1500.000000   1500.000000   \n",
      "M_MORTDUE        0.000000      0.000000      0.000000      1.000000   \n",
      "IMP_MORTDUE  25860.000000  70053.000000  13500.000000  65019.000000   \n",
      "M_VALUE          0.000000      0.000000      0.000000      1.000000   \n",
      "IMP_VALUE    39025.000000  68400.000000  16700.000000  89235.500000   \n",
      "M_YOJ            0.000000      0.000000      0.000000      1.000000   \n",
      "IMP_YOJ         10.500000      7.000000      4.000000      7.000000   \n",
      "M_DEROG          0.000000      0.000000      0.000000      1.000000   \n",
      "IMP_DEROG        0.000000      0.000000      0.000000      0.000000   \n",
      "M_DELINQ         0.000000      0.000000      0.000000      1.000000   \n",
      "IMP_DELINQ       0.000000      2.000000      0.000000      0.000000   \n",
      "M_CLAGE          0.000000      0.000000      0.000000      1.000000   \n",
      "IMP_CLAGE       94.366667    121.833333    149.466667    173.466667   \n",
      "M_NINQ           0.000000      0.000000      0.000000      1.000000   \n",
      "IMP_NINQ         1.000000      0.000000      1.000000      1.000000   \n",
      "M_CLNO           0.000000      0.000000      0.000000      1.000000   \n",
      "IMP_CLNO         9.000000     14.000000     10.000000     20.000000   \n",
      "M_DEBTINC        1.000000      1.000000      1.000000      1.000000   \n",
      "IMP_DEBTINC     34.818262     34.818262     34.818262     34.818262   \n",
      "\n",
      "                         4  \n",
      "LOAN           1700.000000  \n",
      "M_MORTDUE         0.000000  \n",
      "IMP_MORTDUE   97800.000000  \n",
      "M_VALUE           0.000000  \n",
      "IMP_VALUE    112000.000000  \n",
      "M_YOJ             0.000000  \n",
      "IMP_YOJ           3.000000  \n",
      "M_DEROG           0.000000  \n",
      "IMP_DEROG         0.000000  \n",
      "M_DELINQ          0.000000  \n",
      "IMP_DELINQ        0.000000  \n",
      "M_CLAGE           0.000000  \n",
      "IMP_CLAGE        93.333333  \n",
      "M_NINQ            0.000000  \n",
      "IMP_NINQ          0.000000  \n",
      "M_CLNO            0.000000  \n",
      "IMP_CLNO         14.000000  \n",
      "M_DEBTINC         1.000000  \n",
      "IMP_DEBTINC      34.818262  \n"
     ]
    }
   ],
   "source": [
    "impList = []\n",
    "mList = []\n",
    "\n",
    "#fill missing numeric values with the median\n",
    "for i in numList :\n",
    "    if df1[i].isna().sum() == 0 : continue \n",
    "    FLAG = \"M_\" + i \n",
    "    IMP = \"IMP_\" + i\n",
    "    df1[ FLAG ] = df1[i].isna() + 0 \n",
    "    df1[ IMP ] = df1[ i ]\n",
    "    impList.append(IMP) #use list for numerical columns for removing outliers\n",
    "    mList.append(FLAG) #use list for appending flag missing value variables later if needed\n",
    "    df1.loc[ df1[IMP].isna(), IMP ] = df1[i].median()\n",
    "    df1 = df1.drop( i, axis=1 )\n",
    "\n",
    "print(df1.head().T)"
   ]
  },
  {
   "cell_type": "code",
   "execution_count": 9,
   "id": "748b221f",
   "metadata": {},
   "outputs": [],
   "source": [
    "truncList = []\n",
    "\n",
    "for i in impList :\n",
    "    theMean = df1[i].mean()\n",
    "    theSD = df1[i].std()\n",
    "    theMax = df1[i].max()\n",
    "    theCutoff = round( theMean + 3*theSD )\n",
    "    if theMax < theCutoff : continue\n",
    "    FLAG = \"O_\" + i\n",
    "    TRUNC = \"TRUNC_\" + i\n",
    "    df1[ FLAG ] = ( df1[i] > theCutoff )+ 0\n",
    "    df1[ TRUNC ] = df1[ i ]\n",
    "    truncList.append(TRUNC) #use list for numerical columns for data transformation\n",
    "    df1.loc[ df1[TRUNC] > theCutoff, TRUNC ] = theCutoff\n",
    "    df1 = df1.drop( i, axis=1 )"
   ]
  },
  {
   "cell_type": "code",
   "execution_count": 10,
   "id": "4f796d88",
   "metadata": {},
   "outputs": [
    {
     "name": "stdout",
     "output_type": "stream",
     "text": [
      "                              0             1             2             3  \\\n",
      "TRUNC_IMP_MORTDUE  25860.000000  70053.000000  13500.000000  65019.000000   \n",
      "TRUNC_IMP_VALUE    39025.000000  68400.000000  16700.000000  89235.500000   \n",
      "TRUNC_IMP_YOJ         10.500000      7.000000      4.000000      7.000000   \n",
      "TRUNC_IMP_DEROG        0.000000      0.000000      0.000000      0.000000   \n",
      "TRUNC_IMP_DELINQ       0.000000      2.000000      0.000000      0.000000   \n",
      "TRUNC_IMP_CLAGE       94.366667    121.833333    149.466667    173.466667   \n",
      "TRUNC_IMP_NINQ         1.000000      0.000000      1.000000      1.000000   \n",
      "TRUNC_IMP_CLNO         9.000000     14.000000     10.000000     20.000000   \n",
      "TRUNC_IMP_DEBTINC     34.818262     34.818262     34.818262     34.818262   \n",
      "\n",
      "                               4  \n",
      "TRUNC_IMP_MORTDUE   97800.000000  \n",
      "TRUNC_IMP_VALUE    112000.000000  \n",
      "TRUNC_IMP_YOJ           3.000000  \n",
      "TRUNC_IMP_DEROG         0.000000  \n",
      "TRUNC_IMP_DELINQ        0.000000  \n",
      "TRUNC_IMP_CLAGE        93.333333  \n",
      "TRUNC_IMP_NINQ          0.000000  \n",
      "TRUNC_IMP_CLNO         14.000000  \n",
      "TRUNC_IMP_DEBTINC      34.818262  \n",
      "\n",
      "\n",
      "\n",
      "       TRUNC_IMP_MORTDUE  TRUNC_IMP_VALUE  TRUNC_IMP_YOJ  TRUNC_IMP_DEROG  \\\n",
      "count        5960.000000      5960.000000    5960.000000      5960.000000   \n",
      "mean        72201.825034    100462.133732       8.741737         0.192114   \n",
      "std         39017.412773     50412.742922       7.208863         0.582947   \n",
      "min          2063.000000      8000.000000       0.000000         0.000000   \n",
      "25%         48139.000000     66489.500000       3.000000         0.000000   \n",
      "50%         65019.000000     89235.500000       7.000000         0.000000   \n",
      "75%         88200.250000    119004.750000      12.000000         0.000000   \n",
      "max        200659.000000    272149.000000      31.000000         3.000000   \n",
      "\n",
      "       TRUNC_IMP_DELINQ  TRUNC_IMP_CLAGE  TRUNC_IMP_NINQ  TRUNC_IMP_CLNO  \\\n",
      "count       5960.000000      5960.000000     5960.000000     5960.000000   \n",
      "mean           0.371309       178.519248        1.115101       21.200671   \n",
      "std            0.886332        78.853277        1.408926        9.783956   \n",
      "min            0.000000         0.000000        0.000000        0.000000   \n",
      "25%            0.000000       117.371430        0.000000       15.000000   \n",
      "50%            0.000000       173.466667        1.000000       20.000000   \n",
      "75%            0.000000       227.143058        2.000000       26.000000   \n",
      "max            4.000000       430.000000        6.000000       51.000000   \n",
      "\n",
      "       TRUNC_IMP_DEBTINC  \n",
      "count        5960.000000  \n",
      "mean           33.877119  \n",
      "std             6.649744  \n",
      "min             0.524499  \n",
      "25%            30.763159  \n",
      "50%            34.818262  \n",
      "75%            37.949892  \n",
      "max            57.000000  \n"
     ]
    }
   ],
   "source": [
    "X = df1.copy() \n",
    "X = X[truncList]\n",
    "varNames = X.columns \n",
    "\n",
    "print( X.head().T )\n",
    "print( \"\\n\\n\")\n",
    "print( X.describe() )"
   ]
  },
  {
   "cell_type": "code",
   "execution_count": 11,
   "id": "823df715",
   "metadata": {},
   "outputs": [
    {
     "name": "stdout",
     "output_type": "stream",
     "text": [
      "          0         1         2         3         4         5         6  \\\n",
      "0 -1.187821 -1.218785  0.243923 -0.329584 -0.418963 -1.067294 -0.081701   \n",
      "1 -0.055078 -0.636046 -0.241631 -0.329584  1.837718 -0.718939 -0.791521   \n",
      "2 -1.504630 -1.661666 -0.657820 -0.329584 -0.418963 -0.368469 -0.081701   \n",
      "3 -0.184108 -0.222713 -0.241631 -0.329584 -0.418963 -0.064081 -0.081701   \n",
      "4  0.656126  0.228887 -0.796550 -0.329584 -0.418963 -1.080400 -0.791521   \n",
      "\n",
      "          7         8  \n",
      "0 -1.247113  0.141543  \n",
      "1 -0.736029  0.141543  \n",
      "2 -1.144896  0.141543  \n",
      "3 -0.122729  0.141543  \n",
      "4 -0.736029  0.141543  \n"
     ]
    }
   ],
   "source": [
    "#standardize the data\n",
    "theScaler = StandardScaler()\n",
    "theScaler.fit( X )\n",
    "\n",
    "Y_STD = theScaler.transform( X )\n",
    "Y_STD = pd.DataFrame( Y_STD )\n",
    "print( Y_STD.head() )"
   ]
  },
  {
   "cell_type": "code",
   "execution_count": 12,
   "id": "1572eabc",
   "metadata": {},
   "outputs": [
    {
     "name": "stdout",
     "output_type": "stream",
     "text": [
      "   std_TRUNC_IMP_MORTDUE  std_TRUNC_IMP_VALUE  std_TRUNC_IMP_YOJ  \\\n",
      "0              -1.187821            -1.218785           0.243923   \n",
      "1              -0.055078            -0.636046          -0.241631   \n",
      "2              -1.504630            -1.661666          -0.657820   \n",
      "3              -0.184108            -0.222713          -0.241631   \n",
      "4               0.656126             0.228887          -0.796550   \n",
      "\n",
      "   std_TRUNC_IMP_DEROG  std_TRUNC_IMP_DELINQ  std_TRUNC_IMP_CLAGE  \\\n",
      "0            -0.329584             -0.418963            -1.067294   \n",
      "1            -0.329584              1.837718            -0.718939   \n",
      "2            -0.329584             -0.418963            -0.368469   \n",
      "3            -0.329584             -0.418963            -0.064081   \n",
      "4            -0.329584             -0.418963            -1.080400   \n",
      "\n",
      "   std_TRUNC_IMP_NINQ  std_TRUNC_IMP_CLNO  std_TRUNC_IMP_DEBTINC  \n",
      "0           -0.081701           -1.247113               0.141543  \n",
      "1           -0.791521           -0.736029               0.141543  \n",
      "2           -0.081701           -1.144896               0.141543  \n",
      "3           -0.081701           -0.122729               0.141543  \n",
      "4           -0.791521           -0.736029               0.141543  \n",
      "\n",
      "\n",
      "\n",
      "       std_TRUNC_IMP_MORTDUE  std_TRUNC_IMP_VALUE  std_TRUNC_IMP_YOJ  \\\n",
      "count           5.960000e+03          5960.000000       5.960000e+03   \n",
      "mean           -3.814995e-17             0.000000       1.192186e-16   \n",
      "std             1.000084e+00             1.000084       1.000084e+00   \n",
      "min            -1.797780e+00            -1.834256      -1.212739e+00   \n",
      "25%            -6.167719e-01            -0.673946      -7.965498e-01   \n",
      "50%            -1.841083e-01            -0.222713      -2.416307e-01   \n",
      "75%             4.100674e-01             0.367847       4.520181e-01   \n",
      "max             3.292580e+00             3.405910       3.087884e+00   \n",
      "\n",
      "       std_TRUNC_IMP_DEROG  std_TRUNC_IMP_DELINQ  std_TRUNC_IMP_CLAGE  \\\n",
      "count         5.960000e+03          5.960000e+03         5.960000e+03   \n",
      "mean          7.749208e-18         -2.861246e-17        -2.956621e-16   \n",
      "std           1.000084e+00          1.000084e+00         1.000084e+00   \n",
      "min          -3.295844e-01         -4.189627e-01        -2.264132e+00   \n",
      "25%          -3.295844e-01         -4.189627e-01        -7.755283e-01   \n",
      "50%          -3.295844e-01         -4.189627e-01        -6.408111e-02   \n",
      "75%          -3.295844e-01         -4.189627e-01         6.166882e-01   \n",
      "max           4.817114e+00          4.094399e+00         3.189491e+00   \n",
      "\n",
      "       std_TRUNC_IMP_NINQ  std_TRUNC_IMP_CLNO  std_TRUNC_IMP_DEBTINC  \n",
      "count        5.960000e+03        5.960000e+03           5.960000e+03  \n",
      "mean        -5.484055e-17       -1.907497e-17          -3.051996e-16  \n",
      "std          1.000084e+00        1.000084e+00           1.000084e+00  \n",
      "min         -7.915210e-01       -2.167063e+00          -5.016046e+00  \n",
      "25%         -7.915210e-01       -6.338123e-01          -4.683220e-01  \n",
      "50%         -8.170078e-02       -1.227287e-01           1.415426e-01  \n",
      "75%          6.281194e-01        4.905717e-01           6.125221e-01  \n",
      "max          3.467400e+00        3.045990e+00           3.477551e+00  \n"
     ]
    }
   ],
   "source": [
    "varNames_std = []\n",
    "for i in varNames :\n",
    "    newName = \"std_\" + i\n",
    "    varNames_std.append( newName )\n",
    "\n",
    "Y_STD.columns = varNames_std\n",
    "print( Y_STD.head() )\n",
    "print( \"\\n\\n\")\n",
    "print( Y_STD.describe() )"
   ]
  },
  {
   "cell_type": "code",
   "execution_count": 13,
   "id": "6395e08e",
   "metadata": {},
   "outputs": [
    {
     "data": {
      "text/plain": [
       "PCA(n_components=9)"
      ]
     },
     "execution_count": 13,
     "metadata": {},
     "output_type": "execute_result"
    }
   ],
   "source": [
    "MAX_N = Y_STD.shape[1] #tell us how many variables\n",
    "\n",
    "#create PCs\n",
    "pca = PCA(n_components=MAX_N) #create the same number of original variables\n",
    "pca.fit( Y_STD )"
   ]
  },
  {
   "cell_type": "code",
   "execution_count": 14,
   "id": "2659f843",
   "metadata": {},
   "outputs": [
    {
     "name": "stdout",
     "output_type": "stream",
     "text": [
      "Eigen Values\n",
      "[2.16999301 1.43739568 1.24532789 0.98605536 0.83760722 0.81452937\n",
      " 0.74040446 0.61242042 0.15777691]\n"
     ]
    }
   ],
   "source": [
    "#look at eigen values - how much information in each PC\n",
    "ev = pca.explained_variance_\n",
    "print(\"Eigen Values\")\n",
    "print(ev)"
   ]
  },
  {
   "cell_type": "code",
   "execution_count": 15,
   "id": "98e3a9b7",
   "metadata": {},
   "outputs": [
    {
     "name": "stdout",
     "output_type": "stream",
     "text": [
      "2.17 variation= 24 %  total= 24 %\n",
      "1.44 variation= 15 %  total= 40 %\n",
      "1.25 variation= 13 %  total= 53 %\n",
      "0.99 variation= 10 %  total= 64 %\n",
      "0.84 variation= 9 %  total= 74 %\n",
      "0.81 variation= 9 %  total= 83 %\n",
      "0.74 variation= 8 %  total= 91 %\n",
      "0.61 variation= 6 %  total= 98 %\n",
      "0.16 variation= 1 %  total= 100 %\n"
     ]
    }
   ],
   "source": [
    "varPCT = []\n",
    "totPCT = []\n",
    "total = 0\n",
    "for i in ev:\n",
    "    total = total + i\n",
    "    VAR = int( i / len(ev) * 100)\n",
    "    PCT = int( total / len(ev) * 100)\n",
    "    varPCT.append(VAR)\n",
    "    totPCT.append( PCT )\n",
    "    print( round(i,2), \"variation=\", VAR,\"%\",\" total=\", PCT,\"%\")"
   ]
  },
  {
   "cell_type": "code",
   "execution_count": 16,
   "id": "063813e5",
   "metadata": {},
   "outputs": [
    {
     "data": {
      "image/png": "[encoded data removed]",
      "text/plain": [
       "<Figure size 432x288 with 1 Axes>"
      ]
     },
     "metadata": {
      "needs_background": "light"
     },
     "output_type": "display_data"
    }
   ],
   "source": [
    "#create Scree Plot\n",
    "PC_NUM = np.arange( MAX_N ) + 1 \n",
    "plt.plot( PC_NUM , ev, 'ro-', linewidth=2) #plot 1 to 9 on x-axis, ev on y-axis\n",
    "plt.title('Scree Plot')\n",
    "plt.xlabel('Principal Component')\n",
    "plt.ylabel('Eigenvalue')\n",
    "plt.show()"
   ]
  },
  {
   "cell_type": "code",
   "execution_count": 17,
   "id": "9e19d828",
   "metadata": {},
   "outputs": [
    {
     "data": {
      "image/png": "[encoded data removed]",
      "text/plain": [
       "<Figure size 432x288 with 1 Axes>"
      ]
     },
     "metadata": {
      "needs_background": "light"
     },
     "output_type": "display_data"
    }
   ],
   "source": [
    "PC_NUM = np.arange( MAX_N ) + 1\n",
    "plt.plot( PC_NUM , varPCT, 'ro-', linewidth=2) #use the percentage of the total information instead\n",
    "plt.title('Scree Plot')\n",
    "plt.xlabel('Principal Component')\n",
    "plt.ylabel('Variance Explained')\n",
    "plt.show()"
   ]
  },
  {
   "cell_type": "code",
   "execution_count": 18,
   "id": "040dc80e",
   "metadata": {},
   "outputs": [
    {
     "data": {
      "image/png": "[encoded data removed]",
      "text/plain": [
       "<Figure size 432x288 with 1 Axes>"
      ]
     },
     "metadata": {
      "needs_background": "light"
     },
     "output_type": "display_data"
    }
   ],
   "source": [
    "PC_NUM = np.arange( MAX_N ) + 1\n",
    "plt.plot( PC_NUM , totPCT, 'ro-', linewidth=2) #use running total percentage of information\n",
    "plt.title('Scree Plot')\n",
    "plt.xlabel('Principal Component')\n",
    "plt.ylabel('Total Variance Explained')\n",
    "plt.show()"
   ]
  },
  {
   "cell_type": "code",
   "execution_count": 19,
   "id": "ad031534",
   "metadata": {},
   "outputs": [
    {
     "name": "stdout",
     "output_type": "stream",
     "text": [
      "                        PC1       PC2       PC3       PC4       PC5\n",
      "TRUNC_IMP_MORTDUE  0.599264 -0.048214 -0.233698  0.196359  0.104302\n",
      "TRUNC_IMP_VALUE    0.595345 -0.107601 -0.178048  0.196608  0.156791\n",
      "TRUNC_IMP_YOJ      0.012565 -0.266796  0.552498 -0.271267  0.460117\n",
      "TRUNC_IMP_DEROG   -0.028194  0.520258  0.200053  0.425923  0.236893\n",
      "TRUNC_IMP_DELINQ   0.062710  0.378211  0.489581  0.309360 -0.372277\n",
      "TRUNC_IMP_CLAGE    0.245347 -0.316222  0.480113 -0.114906 -0.055883\n",
      "TRUNC_IMP_NINQ     0.061608  0.519724 -0.062358 -0.357743  0.592034\n",
      "TRUNC_IMP_CLNO     0.420290  0.159582  0.288644 -0.139703 -0.164546\n",
      "TRUNC_IMP_DEBTINC  0.202304  0.325006 -0.104911 -0.641396 -0.421212\n"
     ]
    }
   ],
   "source": [
    "dfc = pd.DataFrame( pca.components_ ) #get pc and weights\n",
    "dfc.columns = list( X.columns)\n",
    "dfc = dfc.iloc[0:5,:]\n",
    "\n",
    "dfc = dfc.set_axis(['PC1','PC2','PC3','PC4','PC5'], axis=0)\n",
    "\n",
    "print( dfc.T )"
   ]
  },
  {
   "cell_type": "code",
   "execution_count": 20,
   "id": "ebbcfec3",
   "metadata": {},
   "outputs": [
    {
     "name": "stdout",
     "output_type": "stream",
     "text": [
      "       PC_1      PC_2      PC_3      PC_4      PC_5\n",
      "0 -2.213738 -0.064566 -0.523838 -0.573712  0.032002\n",
      "1 -0.796038  0.403654  0.303282  0.735630 -1.345805\n",
      "2 -2.464173  0.034273 -0.504138 -0.572960 -0.541261\n",
      "3 -0.306641 -0.228400 -0.397817 -0.321428 -0.171620\n",
      "4 -0.092079 -0.314853 -1.601887  0.539274 -0.531030\n"
     ]
    }
   ],
   "source": [
    "X_PCA = pca.transform( Y_STD )\n",
    "X_PCA = pd.DataFrame( X_PCA )\n",
    "X_PCA = X_PCA.iloc[:,0:5] #would like to get all the rows and PC1,PC2,PC3,PC4,PC5 to get 74% of the info\n",
    "\n",
    "#add column names\n",
    "colNames = X_PCA.columns\n",
    "pcaNames = []\n",
    "for i in colNames :\n",
    "    index = int(i) + 1\n",
    "    theName = \"PC_\" + str(index)\n",
    "    pcaNames.append( theName )\n",
    "\n",
    "X_PCA.columns = pcaNames\n",
    "\n",
    "print( X_PCA.head() )"
   ]
  },
  {
   "cell_type": "code",
   "execution_count": 21,
   "id": "f0c8ce93",
   "metadata": {},
   "outputs": [
    {
     "name": "stdout",
     "output_type": "stream",
     "text": [
      "       PC_1      PC_2      PC_3      PC_4      PC_5  TARGET_BAD_FLAG  \\\n",
      "0 -2.213738 -0.064566 -0.523838 -0.573712  0.032002                1   \n",
      "1 -0.796038  0.403654  0.303282  0.735630 -1.345805                1   \n",
      "2 -2.464173  0.034273 -0.504138 -0.572960 -0.541261                1   \n",
      "3 -0.306641 -0.228400 -0.397817 -0.321428 -0.171620                1   \n",
      "4 -0.092079 -0.314853 -1.601887  0.539274 -0.531030                0   \n",
      "\n",
      "   TARGET_LOSS_AMT   REASON     JOB  \n",
      "0            641.0  HomeImp   Other  \n",
      "1           1109.0  HomeImp   Other  \n",
      "2            767.0  HomeImp   Other  \n",
      "3           1425.0      NaN     NaN  \n",
      "4              NaN  HomeImp  Office  \n"
     ]
    }
   ],
   "source": [
    "#add target variables back in\n",
    "X_PCA[ \"TARGET_BAD_FLAG\" ] = df['TARGET_BAD_FLAG']\n",
    "X_PCA[ \"TARGET_LOSS_AMT\" ] = df['TARGET_LOSS_AMT']\n",
    "\n",
    "#add categorical variables back in\n",
    "for i in objList:\n",
    "    X_PCA[i] = df[i]\n",
    "    \n",
    "print( X_PCA.head() )"
   ]
  },
  {
   "cell_type": "code",
   "execution_count": 22,
   "id": "771dd092",
   "metadata": {},
   "outputs": [
    {
     "data": {
      "image/png": "[encoded data removed]",
      "text/plain": [
       "<Figure size 432x288 with 1 Axes>"
      ]
     },
     "metadata": {
      "needs_background": "light"
     },
     "output_type": "display_data"
    }
   ],
   "source": [
    "for Name, Group in X_PCA.groupby(TARGET_FLAG):\n",
    "    plt.scatter(Group.PC_1, Group.PC_2, label=Name)\n",
    "plt.xlabel(\"PC_1\")\n",
    "plt.ylabel(\"PC_2\")\n",
    "plt.legend()\n",
    "plt.show()"
   ]
  }
 ],
 "metadata": {
  "kernelspec": {
   "display_name": "Python 3",
   "language": "python",
   "name": "python3"
  },
  "language_info": {
   "codemirror_mode": {
    "name": "ipython",
    "version": 3
   },
   "file_extension": ".py",
   "mimetype": "text/x-python",
   "name": "python",
   "nbconvert_exporter": "python",
   "pygments_lexer": "ipython3",
   "version": "3.9.5"
  }
 },
 "nbformat": 4,
 "nbformat_minor": 5
}
