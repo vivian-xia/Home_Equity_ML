{
  "cells": [
    {
      "cell_type": "markdown",
      "source": [
        "#### Vivian Xia\n",
        "## Home Equity Line: PCA Experiment"
      ],
      "metadata": {
        "id": "wB9AuwDinG54"
      },
      "id": "wB9AuwDinG54"
    },
    {
      "cell_type": "markdown",
      "source": [
        "## Import packages and data"
      ],
      "metadata": {
        "id": "BsY2hg7gg0Zs"
      },
      "id": "BsY2hg7gg0Zs"
    },
    {
      "cell_type": "code",
      "execution_count": 1,
      "id": "d231288f",
      "metadata": {
        "id": "d231288f"
      },
      "outputs": [],
      "source": [
        "import numpy as np\n",
        "import pandas as pd\n",
        "\n",
        "from sklearn.preprocessing import StandardScaler\n",
        "from sklearn.decomposition import PCA\n",
        "\n",
        "import matplotlib.pyplot as plt\n",
        "from sklearn.model_selection import train_test_split\n",
        "import sklearn.metrics as metrics\n",
        "from operator import itemgetter\n",
        "import math\n",
        "\n",
        "from sklearn.ensemble import RandomForestRegressor \n",
        "from sklearn.ensemble import RandomForestClassifier \n",
        "\n",
        "from sklearn.ensemble import GradientBoostingRegressor \n",
        "from sklearn.ensemble import GradientBoostingClassifier"
      ]
    },
    {
      "cell_type": "code",
      "execution_count": 2,
      "id": "415ac350",
      "metadata": {
        "id": "415ac350"
      },
      "outputs": [],
      "source": [
        "pd.set_option('display.max_rows', None)\n",
        "pd.set_option('display.max_columns', None)\n",
        "pd.set_option('display.width', None)\n",
        "pd.set_option('display.max_colwidth', None)"
      ]
    },
    {
      "cell_type": "code",
      "execution_count": 4,
      "id": "ff12bb84",
      "metadata": {
        "id": "ff12bb84"
      },
      "outputs": [],
      "source": [
        "df = pd.read_csv(\"clean_HMEQ_Loss.csv\")"
      ]
    },
    {
      "cell_type": "code",
      "execution_count": 5,
      "id": "b38a5b64",
      "metadata": {
        "id": "b38a5b64"
      },
      "outputs": [],
      "source": [
        "TARGET_FLAG = 'TARGET_BAD_FLAG'\n",
        "TARGET_LOSS = 'TARGET_LOSS_AMT'"
      ]
    },
    {
      "cell_type": "markdown",
      "source": [
        "## Preprocess data"
      ],
      "metadata": {
        "id": "EP67G2XPgyjC"
      },
      "id": "EP67G2XPgyjC"
    },
    {
      "cell_type": "code",
      "execution_count": 6,
      "id": "74adfac3",
      "metadata": {
        "colab": {
          "base_uri": "https://localhost:8080/"
        },
        "id": "74adfac3",
        "outputId": "4dd92654-af8b-4e41-e20d-360622ee9e11"
      },
      "outputs": [
        {
          "output_type": "stream",
          "name": "stdout",
          "text": [
            "   M_MORTDUE  M_VALUE  M_YOJ  M_DEROG  M_DELINQ  M_CLAGE  M_NINQ  M_CLNO  \\\n",
            "0          0        0      0        0         0        0       0       0   \n",
            "1          0        0      0        0         0        0       0       0   \n",
            "2          0        0      0        0         0        0       0       0   \n",
            "3          1        1      1        1         1        1       1       1   \n",
            "4          0        0      0        0         0        0       0       0   \n",
            "\n",
            "   M_DEBTINC  O_LOAN  TRUNC_LOAN  O_IMP_MORTDUE  TRUNC_IMP_MORTDUE  \\\n",
            "0          1       0        1100              0            25860.0   \n",
            "1          1       0        1300              0            70053.0   \n",
            "2          1       0        1500              0            13500.0   \n",
            "3          1       0        1500              0            65019.0   \n",
            "4          1       0        1700              0            97800.0   \n",
            "\n",
            "   O_IMP_VALUE  TRUNC_IMP_VALUE  O_IMP_YOJ  TRUNC_IMP_YOJ  O_IMP_DEROG  \\\n",
            "0            0          39025.0          0           10.5            0   \n",
            "1            0          68400.0          0            7.0            0   \n",
            "2            0          16700.0          0            4.0            0   \n",
            "3            0          89235.5          0            7.0            0   \n",
            "4            0         112000.0          0            3.0            0   \n",
            "\n",
            "   TRUNC_IMP_DEROG  O_IMP_DELINQ  TRUNC_IMP_DELINQ  O_IMP_CLAGE  \\\n",
            "0              0.0             0               0.0            0   \n",
            "1              0.0             0               2.0            0   \n",
            "2              0.0             0               0.0            0   \n",
            "3              0.0             0               0.0            0   \n",
            "4              0.0             0               0.0            0   \n",
            "\n",
            "   TRUNC_IMP_CLAGE  O_IMP_NINQ  TRUNC_IMP_NINQ  O_IMP_CLNO  TRUNC_IMP_CLNO  \\\n",
            "0        94.366667           0             1.0           0             9.0   \n",
            "1       121.833333           0             0.0           0            14.0   \n",
            "2       149.466667           0             1.0           0            10.0   \n",
            "3       173.466667           0             1.0           0            20.0   \n",
            "4        93.333333           0             0.0           0            14.0   \n",
            "\n",
            "   O_IMP_DEBTINC  TRUNC_IMP_DEBTINC  z_IMP_REASON_HomeImp  \\\n",
            "0              0          34.818262                     1   \n",
            "1              0          34.818262                     1   \n",
            "2              0          34.818262                     1   \n",
            "3              0          34.818262                     0   \n",
            "4              0          34.818262                     1   \n",
            "\n",
            "   z_IMP_REASON_MISSING  z_IMP_JOB_Mgr  z_IMP_JOB_Office  z_IMP_JOB_Other  \\\n",
            "0                     0              0                 0                1   \n",
            "1                     0              0                 0                1   \n",
            "2                     0              0                 0                1   \n",
            "3                     1              0                 0                0   \n",
            "4                     0              0                 1                0   \n",
            "\n",
            "   z_IMP_JOB_ProfExe  z_IMP_JOB_Sales  z_IMP_JOB_Self  \n",
            "0                  0                0               0  \n",
            "1                  0                0               0  \n",
            "2                  0                0               0  \n",
            "3                  0                0               0  \n",
            "4                  0                0               0  \n"
          ]
        }
      ],
      "source": [
        "df1 = df.copy()\n",
        "df1 = df1.drop( [TARGET_FLAG], axis=1 ) #drop target variable\n",
        "df1 = df1.drop( [TARGET_LOSS], axis=1 ) \n",
        "varNames = df1.columns\n",
        "\n",
        "print( df1.head() )"
      ]
    },
    {
      "cell_type": "code",
      "source": [
        "dt = df1.dtypes\n",
        "numList = []\n",
        "for i in dt.index :\n",
        "    if i in ( [ TARGET_FLAG, TARGET_LOSS ] ) : continue\n",
        "    if dt[i] in ([\"float64\",\"int64\"]) : numList.append( i )\n",
        "\n",
        "print(\" NUMBER \")\n",
        "print(\" ------- \")\n",
        "for i in numList :\n",
        "    print( i )\n",
        "print(\" ------- \")"
      ],
      "metadata": {
        "colab": {
          "base_uri": "https://localhost:8080/"
        },
        "id": "wraFkNBZgE8L",
        "outputId": "3e364f6b-f13c-408b-de02-da4d331453fa"
      },
      "id": "wraFkNBZgE8L",
      "execution_count": 9,
      "outputs": [
        {
          "output_type": "stream",
          "name": "stdout",
          "text": [
            " NUMBER \n",
            " ------- \n",
            "M_MORTDUE\n",
            "M_VALUE\n",
            "M_YOJ\n",
            "M_DEROG\n",
            "M_DELINQ\n",
            "M_CLAGE\n",
            "M_NINQ\n",
            "M_CLNO\n",
            "M_DEBTINC\n",
            "O_LOAN\n",
            "TRUNC_LOAN\n",
            "O_IMP_MORTDUE\n",
            "TRUNC_IMP_MORTDUE\n",
            "O_IMP_VALUE\n",
            "TRUNC_IMP_VALUE\n",
            "O_IMP_YOJ\n",
            "TRUNC_IMP_YOJ\n",
            "O_IMP_DEROG\n",
            "TRUNC_IMP_DEROG\n",
            "O_IMP_DELINQ\n",
            "TRUNC_IMP_DELINQ\n",
            "O_IMP_CLAGE\n",
            "TRUNC_IMP_CLAGE\n",
            "O_IMP_NINQ\n",
            "TRUNC_IMP_NINQ\n",
            "O_IMP_CLNO\n",
            "TRUNC_IMP_CLNO\n",
            "O_IMP_DEBTINC\n",
            "TRUNC_IMP_DEBTINC\n",
            "z_IMP_REASON_HomeImp\n",
            "z_IMP_REASON_MISSING\n",
            "z_IMP_JOB_Mgr\n",
            "z_IMP_JOB_Office\n",
            "z_IMP_JOB_Other\n",
            "z_IMP_JOB_ProfExe\n",
            "z_IMP_JOB_Sales\n",
            "z_IMP_JOB_Self\n",
            " ------- \n"
          ]
        }
      ]
    },
    {
      "cell_type": "code",
      "execution_count": 11,
      "id": "748b221f",
      "metadata": {
        "colab": {
          "base_uri": "https://localhost:8080/"
        },
        "id": "748b221f",
        "outputId": "b1c93d8d-0067-408d-d872-300d2755103a"
      },
      "outputs": [
        {
          "output_type": "execute_result",
          "data": {
            "text/plain": [
              "['TRUNC_LOAN',\n",
              " 'TRUNC_IMP_MORTDUE',\n",
              " 'TRUNC_IMP_VALUE',\n",
              " 'TRUNC_IMP_YOJ',\n",
              " 'TRUNC_IMP_DEROG',\n",
              " 'TRUNC_IMP_DELINQ',\n",
              " 'TRUNC_IMP_CLAGE',\n",
              " 'TRUNC_IMP_NINQ',\n",
              " 'TRUNC_IMP_CLNO',\n",
              " 'TRUNC_IMP_DEBTINC']"
            ]
          },
          "metadata": {},
          "execution_count": 11
        }
      ],
      "source": [
        "truncList = [x for x in numList if x.startswith(\"TRUNC_\")]\n",
        "truncList"
      ]
    },
    {
      "cell_type": "code",
      "execution_count": 12,
      "id": "4f796d88",
      "metadata": {
        "colab": {
          "base_uri": "https://localhost:8080/"
        },
        "id": "4f796d88",
        "outputId": "a80fc19e-71dd-4ba7-ea41-ea725d576a9f"
      },
      "outputs": [
        {
          "output_type": "stream",
          "name": "stdout",
          "text": [
            "                              0             1             2             3  \\\n",
            "TRUNC_LOAN          1100.000000   1300.000000   1500.000000   1500.000000   \n",
            "TRUNC_IMP_MORTDUE  25860.000000  70053.000000  13500.000000  65019.000000   \n",
            "TRUNC_IMP_VALUE    39025.000000  68400.000000  16700.000000  89235.500000   \n",
            "TRUNC_IMP_YOJ         10.500000      7.000000      4.000000      7.000000   \n",
            "TRUNC_IMP_DEROG        0.000000      0.000000      0.000000      0.000000   \n",
            "TRUNC_IMP_DELINQ       0.000000      2.000000      0.000000      0.000000   \n",
            "TRUNC_IMP_CLAGE       94.366667    121.833333    149.466667    173.466667   \n",
            "TRUNC_IMP_NINQ         1.000000      0.000000      1.000000      1.000000   \n",
            "TRUNC_IMP_CLNO         9.000000     14.000000     10.000000     20.000000   \n",
            "TRUNC_IMP_DEBTINC     34.818262     34.818262     34.818262     34.818262   \n",
            "\n",
            "                               4  \n",
            "TRUNC_LOAN           1700.000000  \n",
            "TRUNC_IMP_MORTDUE   97800.000000  \n",
            "TRUNC_IMP_VALUE    112000.000000  \n",
            "TRUNC_IMP_YOJ           3.000000  \n",
            "TRUNC_IMP_DEROG         0.000000  \n",
            "TRUNC_IMP_DELINQ        0.000000  \n",
            "TRUNC_IMP_CLAGE        93.333333  \n",
            "TRUNC_IMP_NINQ          0.000000  \n",
            "TRUNC_IMP_CLNO         14.000000  \n",
            "TRUNC_IMP_DEBTINC      34.818262  \n",
            "\n",
            "\n",
            "\n",
            "         TRUNC_LOAN  TRUNC_IMP_MORTDUE  TRUNC_IMP_VALUE  TRUNC_IMP_YOJ  \\\n",
            "count   5960.000000        5960.000000      5960.000000    5960.000000   \n",
            "mean   18362.256711       72201.825034    100462.133732       8.741737   \n",
            "std    10148.976515       39017.412773     50412.742922       7.208863   \n",
            "min     1100.000000        2063.000000      8000.000000       0.000000   \n",
            "25%    11100.000000       48139.000000     66489.500000       3.000000   \n",
            "50%    16300.000000       65019.000000     89235.500000       7.000000   \n",
            "75%    23300.000000       88200.250000    119004.750000      12.000000   \n",
            "max    52230.000000      200659.000000    272149.000000      31.000000   \n",
            "\n",
            "       TRUNC_IMP_DEROG  TRUNC_IMP_DELINQ  TRUNC_IMP_CLAGE  TRUNC_IMP_NINQ  \\\n",
            "count      5960.000000       5960.000000      5960.000000     5960.000000   \n",
            "mean          0.192114          0.371309       178.519248        1.115101   \n",
            "std           0.582947          0.886332        78.853277        1.408926   \n",
            "min           0.000000          0.000000         0.000000        0.000000   \n",
            "25%           0.000000          0.000000       117.371430        0.000000   \n",
            "50%           0.000000          0.000000       173.466667        1.000000   \n",
            "75%           0.000000          0.000000       227.143058        2.000000   \n",
            "max           3.000000          4.000000       430.000000        6.000000   \n",
            "\n",
            "       TRUNC_IMP_CLNO  TRUNC_IMP_DEBTINC  \n",
            "count     5960.000000        5960.000000  \n",
            "mean        21.200671          33.877119  \n",
            "std          9.783956           6.649744  \n",
            "min          0.000000           0.524499  \n",
            "25%         15.000000          30.763159  \n",
            "50%         20.000000          34.818262  \n",
            "75%         26.000000          37.949892  \n",
            "max         51.000000          57.000000  \n"
          ]
        }
      ],
      "source": [
        "X = df1.copy() \n",
        "X = X[truncList]\n",
        "varNames = X.columns \n",
        "\n",
        "print( X.head().T )\n",
        "print( \"\\n\\n\")\n",
        "print( X.describe() )"
      ]
    },
    {
      "cell_type": "code",
      "execution_count": 13,
      "id": "823df715",
      "metadata": {
        "colab": {
          "base_uri": "https://localhost:8080/"
        },
        "id": "823df715",
        "outputId": "8f484833-c472-4af4-9b95-7040cbdc04a6"
      },
      "outputs": [
        {
          "output_type": "stream",
          "name": "stdout",
          "text": [
            "          0         1         2         3         4         5         6  \\\n",
            "0 -1.701029 -1.187821 -1.218785  0.243923 -0.329584 -0.418963 -1.067294   \n",
            "1 -1.681321 -0.055078 -0.636046 -0.241631 -0.329584  1.837718 -0.718939   \n",
            "2 -1.661613 -1.504630 -1.661666 -0.657820 -0.329584 -0.418963 -0.368469   \n",
            "3 -1.661613 -0.184108 -0.222713 -0.241631 -0.329584 -0.418963 -0.064081   \n",
            "4 -1.641905  0.656126  0.228887 -0.796550 -0.329584 -0.418963 -1.080400   \n",
            "\n",
            "          7         8         9  \n",
            "0 -0.081701 -1.247113  0.141543  \n",
            "1 -0.791521 -0.736029  0.141543  \n",
            "2 -0.081701 -1.144896  0.141543  \n",
            "3 -0.081701 -0.122729  0.141543  \n",
            "4 -0.791521 -0.736029  0.141543  \n"
          ]
        }
      ],
      "source": [
        "# standardize the data\n",
        "theScaler = StandardScaler()\n",
        "theScaler.fit( X )\n",
        "\n",
        "Y_STD = theScaler.transform( X )\n",
        "Y_STD = pd.DataFrame( Y_STD )\n",
        "print( Y_STD.head() )\n"
      ]
    },
    {
      "cell_type": "code",
      "execution_count": 14,
      "id": "1572eabc",
      "metadata": {
        "colab": {
          "base_uri": "https://localhost:8080/"
        },
        "id": "1572eabc",
        "outputId": "79698b1e-df7e-49b4-c118-02ffe83d69a5"
      },
      "outputs": [
        {
          "output_type": "stream",
          "name": "stdout",
          "text": [
            "   std_TRUNC_LOAN  std_TRUNC_IMP_MORTDUE  std_TRUNC_IMP_VALUE  \\\n",
            "0       -1.701029              -1.187821            -1.218785   \n",
            "1       -1.681321              -0.055078            -0.636046   \n",
            "2       -1.661613              -1.504630            -1.661666   \n",
            "3       -1.661613              -0.184108            -0.222713   \n",
            "4       -1.641905               0.656126             0.228887   \n",
            "\n",
            "   std_TRUNC_IMP_YOJ  std_TRUNC_IMP_DEROG  std_TRUNC_IMP_DELINQ  \\\n",
            "0           0.243923            -0.329584             -0.418963   \n",
            "1          -0.241631            -0.329584              1.837718   \n",
            "2          -0.657820            -0.329584             -0.418963   \n",
            "3          -0.241631            -0.329584             -0.418963   \n",
            "4          -0.796550            -0.329584             -0.418963   \n",
            "\n",
            "   std_TRUNC_IMP_CLAGE  std_TRUNC_IMP_NINQ  std_TRUNC_IMP_CLNO  \\\n",
            "0            -1.067294           -0.081701           -1.247113   \n",
            "1            -0.718939           -0.791521           -0.736029   \n",
            "2            -0.368469           -0.081701           -1.144896   \n",
            "3            -0.064081           -0.081701           -0.122729   \n",
            "4            -1.080400           -0.791521           -0.736029   \n",
            "\n",
            "   std_TRUNC_IMP_DEBTINC  \n",
            "0               0.141543  \n",
            "1               0.141543  \n",
            "2               0.141543  \n",
            "3               0.141543  \n",
            "4               0.141543  \n",
            "\n",
            "\n",
            "\n",
            "       std_TRUNC_LOAN  std_TRUNC_IMP_MORTDUE  std_TRUNC_IMP_VALUE  \\\n",
            "count    5.960000e+03           5.960000e+03         5.960000e+03   \n",
            "mean     5.472133e-16           1.453293e-15        -4.700472e-16   \n",
            "std      1.000084e+00           1.000084e+00         1.000084e+00   \n",
            "min     -1.701029e+00          -1.797780e+00        -1.834256e+00   \n",
            "25%     -7.156255e-01          -6.167719e-01        -6.739464e-01   \n",
            "50%     -2.032155e-01          -1.841083e-01        -2.227130e-01   \n",
            "75%      4.865671e-01           4.100674e-01         3.678469e-01   \n",
            "max      3.337340e+00           3.292580e+00         3.405910e+00   \n",
            "\n",
            "       std_TRUNC_IMP_YOJ  std_TRUNC_IMP_DEROG  std_TRUNC_IMP_DELINQ  \\\n",
            "count       5.960000e+03         5.960000e+03          5.960000e+03   \n",
            "mean       -1.471865e-15         2.860687e-16          2.198670e-15   \n",
            "std         1.000084e+00         1.000084e+00          1.000084e+00   \n",
            "min        -1.212739e+00        -3.295844e-01         -4.189627e-01   \n",
            "25%        -7.965498e-01        -3.295844e-01         -4.189627e-01   \n",
            "50%        -2.416307e-01        -3.295844e-01         -4.189627e-01   \n",
            "75%         4.520181e-01        -3.295844e-01         -4.189627e-01   \n",
            "max         3.087884e+00         4.817114e+00          4.094399e+00   \n",
            "\n",
            "       std_TRUNC_IMP_CLAGE  std_TRUNC_IMP_NINQ  std_TRUNC_IMP_CLNO  \\\n",
            "count         5.960000e+03        5.960000e+03        5.960000e+03   \n",
            "mean          1.978656e-16        5.374895e-16       -1.441241e-15   \n",
            "std           1.000084e+00        1.000084e+00        1.000084e+00   \n",
            "min          -2.264132e+00       -7.915210e-01       -2.167063e+00   \n",
            "25%          -7.755283e-01       -7.915210e-01       -6.338123e-01   \n",
            "50%          -6.408111e-02       -8.170078e-02       -1.227287e-01   \n",
            "75%           6.166882e-01        6.281194e-01        4.905717e-01   \n",
            "max           3.189491e+00        3.467400e+00        3.045990e+00   \n",
            "\n",
            "       std_TRUNC_IMP_DEBTINC  \n",
            "count           5.960000e+03  \n",
            "mean            7.417864e-17  \n",
            "std             1.000084e+00  \n",
            "min            -5.016046e+00  \n",
            "25%            -4.683220e-01  \n",
            "50%             1.415426e-01  \n",
            "75%             6.125221e-01  \n",
            "max             3.477551e+00  \n"
          ]
        }
      ],
      "source": [
        "varNames_std = []\n",
        "for i in varNames :\n",
        "    newName = \"std_\" + i\n",
        "    varNames_std.append( newName )\n",
        "\n",
        "Y_STD.columns = varNames_std\n",
        "print( Y_STD.head() )\n",
        "print( \"\\n\\n\")\n",
        "print( Y_STD.describe() )"
      ]
    },
    {
      "cell_type": "markdown",
      "source": [
        "The values are all within -5 and 5."
      ],
      "metadata": {
        "id": "cJmT6UKHgqKF"
      },
      "id": "cJmT6UKHgqKF"
    },
    {
      "cell_type": "markdown",
      "source": [
        "## Principal Componenet Analysis"
      ],
      "metadata": {
        "id": "8cLfEkKIguL9"
      },
      "id": "8cLfEkKIguL9"
    },
    {
      "cell_type": "code",
      "execution_count": 15,
      "id": "6395e08e",
      "metadata": {
        "colab": {
          "base_uri": "https://localhost:8080/"
        },
        "id": "6395e08e",
        "outputId": "23388984-fc0c-4b1e-8270-162cf09a99f1"
      },
      "outputs": [
        {
          "output_type": "execute_result",
          "data": {
            "text/plain": [
              "PCA(n_components=10)"
            ]
          },
          "metadata": {},
          "execution_count": 15
        }
      ],
      "source": [
        "MAX_N = Y_STD.shape[1] #tell us how many variables\n",
        "\n",
        "#create PCs\n",
        "pca = PCA(n_components=MAX_N) #create the same number of original variables\n",
        "pca.fit( Y_STD )"
      ]
    },
    {
      "cell_type": "code",
      "execution_count": 16,
      "id": "2659f843",
      "metadata": {
        "colab": {
          "base_uri": "https://localhost:8080/"
        },
        "id": "2659f843",
        "outputId": "93776f47-c512-424b-edb3-298b9cdf05fc"
      },
      "outputs": [
        {
          "output_type": "stream",
          "name": "stdout",
          "text": [
            "Eigen Values\n",
            "[2.30966483 1.44091702 1.24662653 0.99190482 0.9764483  0.81912973\n",
            " 0.75599913 0.70855456 0.60291039 0.14952284]\n"
          ]
        }
      ],
      "source": [
        "#look at eigen values - how much information in each PC\n",
        "ev = pca.explained_variance_\n",
        "print(\"Eigen Values\")\n",
        "print(ev)"
      ]
    },
    {
      "cell_type": "code",
      "execution_count": 17,
      "id": "98e3a9b7",
      "metadata": {
        "colab": {
          "base_uri": "https://localhost:8080/"
        },
        "id": "98e3a9b7",
        "outputId": "1540aed2-5555-4c7a-c573-a558b4e35482"
      },
      "outputs": [
        {
          "output_type": "stream",
          "name": "stdout",
          "text": [
            "2.31 variation= 23 %  total= 23 %\n",
            "1.44 variation= 14 %  total= 37 %\n",
            "1.25 variation= 12 %  total= 49 %\n",
            "0.99 variation= 9 %  total= 59 %\n",
            "0.98 variation= 9 %  total= 69 %\n",
            "0.82 variation= 8 %  total= 77 %\n",
            "0.76 variation= 7 %  total= 85 %\n",
            "0.71 variation= 7 %  total= 92 %\n",
            "0.6 variation= 6 %  total= 98 %\n",
            "0.15 variation= 1 %  total= 100 %\n"
          ]
        }
      ],
      "source": [
        "varPCT = []\n",
        "totPCT = []\n",
        "total = 0\n",
        "for i in ev:\n",
        "    total = total + i\n",
        "    VAR = int( i / len(ev) * 100)\n",
        "    PCT = int( total / len(ev) * 100)\n",
        "    varPCT.append(VAR)\n",
        "    totPCT.append( PCT )\n",
        "    print( round(i,2), \"variation=\", VAR,\"%\",\" total=\", PCT,\"%\")"
      ]
    },
    {
      "cell_type": "markdown",
      "source": [
        "PC1 has as much information as 2.31 variables. PC1 has 23% of the total information.\n",
        "\n",
        "With PC1 and PC2, we can get 37% of the total information. With PC1, PC2, PC3, PC4, PC5, PC6, PC7, and PC8, we can get 92% of the total information."
      ],
      "metadata": {
        "id": "Cvt360pMg7cT"
      },
      "id": "Cvt360pMg7cT"
    },
    {
      "cell_type": "code",
      "execution_count": 18,
      "id": "063813e5",
      "metadata": {
        "colab": {
          "base_uri": "https://localhost:8080/",
          "height": 295
        },
        "id": "063813e5",
        "outputId": "6ecbbd58-85cd-491f-bc5e-a41e241ee8d6"
      },
      "outputs": [
        {
          "output_type": "display_data",
          "data": {
            "text/plain": [
              "<Figure size 432x288 with 1 Axes>"
            ],
            "image/png": "[encoded data removed]"
          },
          "metadata": {
            "needs_background": "light"
          }
        }
      ],
      "source": [
        "#create Scree Plot\n",
        "PC_NUM = np.arange( MAX_N ) + 1 \n",
        "plt.plot( PC_NUM , ev, 'ro-', linewidth=2)\n",
        "plt.title('Scree Plot')\n",
        "plt.xlabel('Principal Component')\n",
        "plt.ylabel('Eigenvalue')\n",
        "plt.show()"
      ]
    },
    {
      "cell_type": "markdown",
      "source": [
        "This plot shows the eigenvalues of each principal component. In the plot, we can see that PC1 has as much information as approximately 2.5 variables. From the analysis, we know that is true and the more exact value is 2.31 variables worth of information for PC1. The plot as well as the analysis shows that around PC4 is when the principal components start to have less than 1 variable’s worth of information. The plot starts to flatten out at PC6."
      ],
      "metadata": {
        "id": "95NCYYXohflC"
      },
      "id": "95NCYYXohflC"
    },
    {
      "cell_type": "code",
      "execution_count": 19,
      "id": "9e19d828",
      "metadata": {
        "colab": {
          "base_uri": "https://localhost:8080/",
          "height": 295
        },
        "id": "9e19d828",
        "outputId": "7dfd0808-e47c-4267-89f3-951abb188c57"
      },
      "outputs": [
        {
          "output_type": "display_data",
          "data": {
            "text/plain": [
              "<Figure size 432x288 with 1 Axes>"
            ],
            "image/png": "[encoded data removed]"
          },
          "metadata": {
            "needs_background": "light"
          }
        }
      ],
      "source": [
        "PC_NUM = np.arange( MAX_N ) + 1\n",
        "plt.plot( PC_NUM , varPCT, 'ro-', linewidth=2) #use the percentage of the total information instead\n",
        "plt.title('Scree Plot')\n",
        "plt.xlabel('Principal Component')\n",
        "plt.ylabel('Variance Explained')\n",
        "plt.show()"
      ]
    },
    {
      "cell_type": "markdown",
      "source": [
        "This scree plot looks at the percentage of the total information that each principal component has. This plot also starts to flatten out at PC6."
      ],
      "metadata": {
        "id": "b_9vjhW5hxEm"
      },
      "id": "b_9vjhW5hxEm"
    },
    {
      "cell_type": "code",
      "execution_count": null,
      "id": "040dc80e",
      "metadata": {
        "id": "040dc80e",
        "outputId": "46248ee1-f566-41b1-e045-c95e10b8c43e"
      },
      "outputs": [
        {
          "data": {
            "image/png": "[encoded data removed]",
            "text/plain": [
              "<Figure size 432x288 with 1 Axes>"
            ]
          },
          "metadata": {
            "needs_background": "light"
          },
          "output_type": "display_data"
        }
      ],
      "source": [
        "PC_NUM = np.arange( MAX_N ) + 1\n",
        "plt.plot( PC_NUM , totPCT, 'ro-', linewidth=2) #use running total percentage of information\n",
        "plt.title('Scree Plot')\n",
        "plt.xlabel('Principal Component')\n",
        "plt.ylabel('Total Variance Explained')\n",
        "plt.show()"
      ]
    },
    {
      "cell_type": "markdown",
      "source": [
        "This scree plot looks at the running total percentage of information."
      ],
      "metadata": {
        "id": "okvFWm_rh2DZ"
      },
      "id": "okvFWm_rh2DZ"
    },
    {
      "cell_type": "markdown",
      "source": [
        "After looking at the scree plots, I decided to use PC1, PC2, PC3, PC4, PC5, and PC6 to get 77% of the total information."
      ],
      "metadata": {
        "id": "U_I0V-ERh3_E"
      },
      "id": "U_I0V-ERh3_E"
    },
    {
      "cell_type": "code",
      "execution_count": 22,
      "id": "ad031534",
      "metadata": {
        "colab": {
          "base_uri": "https://localhost:8080/"
        },
        "id": "ad031534",
        "outputId": "717c451d-f84a-45af-a24b-7669825ff49d"
      },
      "outputs": [
        {
          "output_type": "stream",
          "name": "stdout",
          "text": [
            "                        PC1       PC2       PC3       PC4       PC5       PC6\n",
            "TRUNC_LOAN         0.312431 -0.073553 -0.057015  0.438495  0.550313 -0.070670\n",
            "TRUNC_IMP_MORTDUE  0.567440 -0.023531 -0.216427 -0.233172  0.031429 -0.063663\n",
            "TRUNC_IMP_VALUE    0.582819 -0.090080 -0.167478 -0.146245  0.145871 -0.090940\n",
            "TRUNC_IMP_YOJ      0.030262 -0.270771  0.543490  0.451810  0.162240 -0.272340\n",
            "TRUNC_IMP_DEROG   -0.026978  0.513339  0.185554 -0.174621  0.477556  0.074149\n",
            "TRUNC_IMP_DELINQ   0.040892  0.388901  0.490885 -0.330237  0.064193 -0.395189\n",
            "TRUNC_IMP_CLAGE    0.233359 -0.299132  0.491599  0.005192 -0.186632  0.418365\n",
            "TRUNC_IMP_NINQ     0.062175  0.512781 -0.076221  0.450624  0.013720  0.517797\n",
            "TRUNC_IMP_CLNO     0.380114  0.186995  0.304926 -0.084332 -0.346294  0.258608\n",
            "TRUNC_IMP_DEBTINC  0.186001  0.332344 -0.103060  0.421999 -0.511320 -0.486642\n"
          ]
        }
      ],
      "source": [
        "dfc = pd.DataFrame( pca.components_ ) #get pc and weights\n",
        "dfc.columns = list( X.columns)\n",
        "dfc = dfc.iloc[0:6,:]\n",
        "\n",
        "dfc = dfc.set_axis(['PC1','PC2','PC3','PC4','PC5','PC6'], axis=0)\n",
        "\n",
        "print( dfc.T )"
      ]
    },
    {
      "cell_type": "markdown",
      "source": [
        "The weights of each principal component in each variable are shown in the figure above. PC1 is made up of larger TRUNC_IMP_MORTDUE, TRUNC_IMP_VALUE, so it looks at larger values in TRUNC_IMP_MORTDUE and TRUNC_IMP_VALUE. PC2 has a larger TRUNC_IMP_NINQ and TRUNC_IMP_DEROG component, so PC2 looks at larger values in those two variables. "
      ],
      "metadata": {
        "id": "F32j5oq5iOab"
      },
      "id": "F32j5oq5iOab"
    },
    {
      "cell_type": "code",
      "execution_count": 23,
      "id": "ebbcfec3",
      "metadata": {
        "colab": {
          "base_uri": "https://localhost:8080/"
        },
        "id": "ebbcfec3",
        "outputId": "9de8d720-560e-4525-cb51-f063853b4dd1"
      },
      "outputs": [
        {
          "output_type": "stream",
          "name": "stdout",
          "text": [
            "       PC_1      PC_2      PC_3      PC_4      PC_5\n",
            "0 -2.618522 -0.044113 -0.489385  0.137976 -0.738367\n",
            "1 -1.320955  0.511772  0.391813 -1.528501 -0.792567\n",
            "2 -2.869454  0.054577 -0.464272 -0.118509 -1.103355\n",
            "3 -0.809322 -0.118721 -0.303545 -0.533439 -1.195207\n",
            "4 -0.594399 -0.205020 -1.496273 -1.310896 -0.789788\n"
          ]
        }
      ],
      "source": [
        "X_PCA = pca.transform( Y_STD )\n",
        "X_PCA = pd.DataFrame( X_PCA )\n",
        "X_PCA = X_PCA.iloc[:,0:5] #would like to get all the rows and PC1,PC2,PC3,PC4,PC5 to get 74% of the info\n",
        "\n",
        "#add column names\n",
        "colNames = X_PCA.columns\n",
        "pcaNames = []\n",
        "for i in colNames :\n",
        "    index = int(i) + 1\n",
        "    theName = \"PC_\" + str(index)\n",
        "    pcaNames.append( theName )\n",
        "\n",
        "X_PCA.columns = pcaNames\n",
        "\n",
        "print( X_PCA.head() )"
      ]
    },
    {
      "cell_type": "code",
      "execution_count": 29,
      "id": "f0c8ce93",
      "metadata": {
        "colab": {
          "base_uri": "https://localhost:8080/"
        },
        "id": "f0c8ce93",
        "outputId": "b219f33d-7ba0-47c6-b8dd-a501bfa507ad"
      },
      "outputs": [
        {
          "output_type": "stream",
          "name": "stdout",
          "text": [
            "       PC_1      PC_2      PC_3      PC_4      PC_5  TARGET_BAD_FLAG  \\\n",
            "0 -2.618522 -0.044113 -0.489385  0.137976 -0.738367                1   \n",
            "1 -1.320955  0.511772  0.391813 -1.528501 -0.792567                1   \n",
            "2 -2.869454  0.054577 -0.464272 -0.118509 -1.103355                1   \n",
            "3 -0.809322 -0.118721 -0.303545 -0.533439 -1.195207                1   \n",
            "4 -0.594399 -0.205020 -1.496273 -1.310896 -0.789788                0   \n",
            "\n",
            "   TARGET_LOSS_AMT  M_MORTDUE  M_VALUE  M_YOJ  M_DEROG  M_DELINQ  M_CLAGE  \\\n",
            "0            641.0          0        0      0        0         0        0   \n",
            "1           1109.0          0        0      0        0         0        0   \n",
            "2            767.0          0        0      0        0         0        0   \n",
            "3           1425.0          1        1      1        1         1        1   \n",
            "4              NaN          0        0      0        0         0        0   \n",
            "\n",
            "   M_NINQ  M_CLNO  M_DEBTINC  z_IMP_REASON_HomeImp  z_IMP_REASON_MISSING  \\\n",
            "0       0       0          1                     1                     0   \n",
            "1       0       0          1                     1                     0   \n",
            "2       0       0          1                     1                     0   \n",
            "3       1       1          1                     0                     1   \n",
            "4       0       0          1                     1                     0   \n",
            "\n",
            "   z_IMP_JOB_Mgr  z_IMP_JOB_Office  z_IMP_JOB_Other  z_IMP_JOB_ProfExe  \\\n",
            "0              0                 0                1                  0   \n",
            "1              0                 0                1                  0   \n",
            "2              0                 0                1                  0   \n",
            "3              0                 0                0                  0   \n",
            "4              0                 1                0                  0   \n",
            "\n",
            "   z_IMP_JOB_Sales  z_IMP_JOB_Self  \n",
            "0                0               0  \n",
            "1                0               0  \n",
            "2                0               0  \n",
            "3                0               0  \n",
            "4                0               0  \n"
          ]
        }
      ],
      "source": [
        "#add target variables back in\n",
        "X_PCA[ \"TARGET_BAD_FLAG\" ] = df['TARGET_BAD_FLAG']\n",
        "X_PCA[ \"TARGET_LOSS_AMT\" ] = df['TARGET_LOSS_AMT']\n",
        "\n",
        "#add missing and former categorical variables back in\n",
        "missing_obj_List = [x for x in numList if x.startswith(\"z_\") | x.startswith(\"M_\")]\n",
        "for i in missing_obj_List:\n",
        "    X_PCA[i] = df[i]\n",
        "    \n",
        "print( X_PCA.head() )"
      ]
    },
    {
      "cell_type": "code",
      "execution_count": 30,
      "id": "771dd092",
      "metadata": {
        "colab": {
          "base_uri": "https://localhost:8080/",
          "height": 280
        },
        "id": "771dd092",
        "outputId": "ceba7a38-bd2b-48e1-8b2d-912d2deaa410"
      },
      "outputs": [
        {
          "output_type": "display_data",
          "data": {
            "text/plain": [
              "<Figure size 432x288 with 1 Axes>"
            ],
            "image/png": "[encoded data removed]"
          },
          "metadata": {
            "needs_background": "light"
          }
        }
      ],
      "source": [
        "for Name, Group in X_PCA.groupby(TARGET_FLAG):\n",
        "    plt.scatter(Group.PC_1, Group.PC_2, label=Name)\n",
        "plt.xlabel(\"PC_1\")\n",
        "plt.ylabel(\"PC_2\")\n",
        "plt.legend()\n",
        "plt.show()"
      ]
    },
    {
      "cell_type": "markdown",
      "source": [
        "The plot shows that if the PC_1 value is greater than 5, then the loan will most likely not default. If the PC_2 value is larger than 4, then the loan is more likely to default. If the PC_2 value is less than -2, then the loan will more likely not default."
      ],
      "metadata": {
        "id": "jIrc8iFZjVYO"
      },
      "id": "jIrc8iFZjVYO"
    },
    {
      "cell_type": "markdown",
      "metadata": {
        "id": "RqHQiyxVDy8x"
      },
      "source": [
        "### Model Accuracy Metrics"
      ],
      "id": "RqHQiyxVDy8x"
    },
    {
      "cell_type": "code",
      "execution_count": 40,
      "metadata": {
        "id": "etbGQtuSDy8x"
      },
      "outputs": [],
      "source": [
        "def getProbAccuracyScores( NAME, MODEL, X, Y ) :\n",
        "    pred = MODEL.predict( X )\n",
        "    probs = MODEL.predict_proba( X )\n",
        "    acc_score = metrics.accuracy_score(Y, pred)\n",
        "    p1 = probs[:,1]\n",
        "    fpr, tpr, threshold = metrics.roc_curve( Y, p1)\n",
        "    auc = metrics.auc(fpr,tpr)\n",
        "    return [NAME, acc_score, fpr, tpr, auc]"
      ],
      "id": "etbGQtuSDy8x"
    },
    {
      "cell_type": "code",
      "execution_count": 41,
      "metadata": {
        "id": "kIHsEtRIDy8x"
      },
      "outputs": [],
      "source": [
        "def print_ROC_Curve( TITLE, LIST ) :\n",
        "    fig = plt.figure(figsize=(6,4))\n",
        "    plt.title( TITLE )\n",
        "    for theResults in LIST :\n",
        "        NAME = theResults[0]\n",
        "        fpr = theResults[2]\n",
        "        tpr = theResults[3]\n",
        "        auc = theResults[4]\n",
        "        theLabel = \"AUC \" + NAME + ' %0.2f' % auc\n",
        "        plt.plot(fpr, tpr, label = theLabel )\n",
        "    plt.legend(loc = 'lower right')\n",
        "    plt.plot([0, 1], [0, 1],'r--')\n",
        "    plt.xlim([0, 1])\n",
        "    plt.ylim([0, 1])\n",
        "    plt.ylabel('True Positive Rate')\n",
        "    plt.xlabel('False Positive Rate')\n",
        "    plt.show()"
      ],
      "id": "kIHsEtRIDy8x"
    },
    {
      "cell_type": "code",
      "execution_count": 42,
      "metadata": {
        "id": "NExiYLimDy8x"
      },
      "outputs": [],
      "source": [
        "def print_Accuracy( TITLE, LIST ) :\n",
        "    print( TITLE )\n",
        "    print( \"======\" )\n",
        "    for theResults in LIST :\n",
        "        NAME = theResults[0]\n",
        "        ACC = theResults[1]\n",
        "        print( NAME, \" = \", ACC )\n",
        "    print( \"------\\n\\n\" )"
      ],
      "id": "NExiYLimDy8x"
    },
    {
      "cell_type": "code",
      "execution_count": 43,
      "metadata": {
        "id": "B2MRMI2iDy8x"
      },
      "outputs": [],
      "source": [
        "def getAmtAccuracyScores( NAME, MODEL, X, Y ) :\n",
        "    pred = MODEL.predict( X )\n",
        "    MEAN = Y.mean()\n",
        "    RMSE = math.sqrt( metrics.mean_squared_error( Y, pred))\n",
        "    return [NAME, RMSE, MEAN]"
      ],
      "id": "B2MRMI2iDy8x"
    },
    {
      "cell_type": "code",
      "execution_count": 32,
      "metadata": {
        "id": "bi2b_jRbDy8y"
      },
      "outputs": [],
      "source": [
        "def getEnsembleTreeVars( ENSTREE, varNames ) :\n",
        "    importance = ENSTREE.feature_importances_\n",
        "    index = np.argsort(importance)\n",
        "    theList = []\n",
        "    for i in index :\n",
        "        imp_val = importance[i]\n",
        "        if imp_val > np.average( ENSTREE.feature_importances_ ) :\n",
        "            v = int( imp_val / np.max( ENSTREE.feature_importances_ ) * 100 )\n",
        "            theList.append( ( varNames[i], v ) )\n",
        "    theList = sorted(theList,key=itemgetter(1),reverse=True)\n",
        "    return theList"
      ],
      "id": "bi2b_jRbDy8y"
    },
    {
      "cell_type": "markdown",
      "source": [
        "### Split Data"
      ],
      "metadata": {
        "id": "NpGRAl7AkiQ7"
      },
      "id": "NpGRAl7AkiQ7"
    },
    {
      "cell_type": "code",
      "source": [
        "X_PCA.head()"
      ],
      "metadata": {
        "colab": {
          "base_uri": "https://localhost:8080/",
          "height": 0
        },
        "id": "eJizF1WTkIJ0",
        "outputId": "e4db0649-3f22-47d9-cc80-9cee5260f883"
      },
      "id": "eJizF1WTkIJ0",
      "execution_count": 35,
      "outputs": [
        {
          "output_type": "execute_result",
          "data": {
            "text/plain": [
              "       PC_1      PC_2      PC_3      PC_4      PC_5  TARGET_BAD_FLAG  \\\n",
              "0 -2.618522 -0.044113 -0.489385  0.137976 -0.738367                1   \n",
              "1 -1.320955  0.511772  0.391813 -1.528501 -0.792567                1   \n",
              "2 -2.869454  0.054577 -0.464272 -0.118509 -1.103355                1   \n",
              "3 -0.809322 -0.118721 -0.303545 -0.533439 -1.195207                1   \n",
              "4 -0.594399 -0.205020 -1.496273 -1.310896 -0.789788                0   \n",
              "\n",
              "   TARGET_LOSS_AMT  M_MORTDUE  M_VALUE  M_YOJ  M_DEROG  M_DELINQ  M_CLAGE  \\\n",
              "0            641.0          0        0      0        0         0        0   \n",
              "1           1109.0          0        0      0        0         0        0   \n",
              "2            767.0          0        0      0        0         0        0   \n",
              "3           1425.0          1        1      1        1         1        1   \n",
              "4              NaN          0        0      0        0         0        0   \n",
              "\n",
              "   M_NINQ  M_CLNO  M_DEBTINC  z_IMP_REASON_HomeImp  z_IMP_REASON_MISSING  \\\n",
              "0       0       0          1                     1                     0   \n",
              "1       0       0          1                     1                     0   \n",
              "2       0       0          1                     1                     0   \n",
              "3       1       1          1                     0                     1   \n",
              "4       0       0          1                     1                     0   \n",
              "\n",
              "   z_IMP_JOB_Mgr  z_IMP_JOB_Office  z_IMP_JOB_Other  z_IMP_JOB_ProfExe  \\\n",
              "0              0                 0                1                  0   \n",
              "1              0                 0                1                  0   \n",
              "2              0                 0                1                  0   \n",
              "3              0                 0                0                  0   \n",
              "4              0                 1                0                  0   \n",
              "\n",
              "   z_IMP_JOB_Sales  z_IMP_JOB_Self  \n",
              "0                0               0  \n",
              "1                0               0  \n",
              "2                0               0  \n",
              "3                0               0  \n",
              "4                0               0  "
            ],
            "text/html": [
              "\n",
              "  <div id=\"df-87faf20e-c9ba-433e-8d72-6d6cae6831fc\">\n",
              "    <div class=\"colab-df-container\">\n",
              "      <div>\n",
              "<style scoped>\n",
              "    .dataframe tbody tr th:only-of-type {\n",
              "        vertical-align: middle;\n",
              "    }\n",
              "\n",
              "    .dataframe tbody tr th {\n",
              "        vertical-align: top;\n",
              "    }\n",
              "\n",
              "    .dataframe thead th {\n",
              "        text-align: right;\n",
              "    }\n",
              "</style>\n",
              "<table border=\"1\" class=\"dataframe\">\n",
              "  <thead>\n",
              "    <tr style=\"text-align: right;\">\n",
              "      <th></th>\n",
              "      <th>PC_1</th>\n",
              "      <th>PC_2</th>\n",
              "      <th>PC_3</th>\n",
              "      <th>PC_4</th>\n",
              "      <th>PC_5</th>\n",
              "      <th>TARGET_BAD_FLAG</th>\n",
              "      <th>TARGET_LOSS_AMT</th>\n",
              "      <th>M_MORTDUE</th>\n",
              "      <th>M_VALUE</th>\n",
              "      <th>M_YOJ</th>\n",
              "      <th>M_DEROG</th>\n",
              "      <th>M_DELINQ</th>\n",
              "      <th>M_CLAGE</th>\n",
              "      <th>M_NINQ</th>\n",
              "      <th>M_CLNO</th>\n",
              "      <th>M_DEBTINC</th>\n",
              "      <th>z_IMP_REASON_HomeImp</th>\n",
              "      <th>z_IMP_REASON_MISSING</th>\n",
              "      <th>z_IMP_JOB_Mgr</th>\n",
              "      <th>z_IMP_JOB_Office</th>\n",
              "      <th>z_IMP_JOB_Other</th>\n",
              "      <th>z_IMP_JOB_ProfExe</th>\n",
              "      <th>z_IMP_JOB_Sales</th>\n",
              "      <th>z_IMP_JOB_Self</th>\n",
              "    </tr>\n",
              "  </thead>\n",
              "  <tbody>\n",
              "    <tr>\n",
              "      <th>0</th>\n",
              "      <td>-2.618522</td>\n",
              "      <td>-0.044113</td>\n",
              "      <td>-0.489385</td>\n",
              "      <td>0.137976</td>\n",
              "      <td>-0.738367</td>\n",
              "      <td>1</td>\n",
              "      <td>641.0</td>\n",
              "      <td>0</td>\n",
              "      <td>0</td>\n",
              "      <td>0</td>\n",
              "      <td>0</td>\n",
              "      <td>0</td>\n",
              "      <td>0</td>\n",
              "      <td>0</td>\n",
              "      <td>0</td>\n",
              "      <td>1</td>\n",
              "      <td>1</td>\n",
              "      <td>0</td>\n",
              "      <td>0</td>\n",
              "      <td>0</td>\n",
              "      <td>1</td>\n",
              "      <td>0</td>\n",
              "      <td>0</td>\n",
              "      <td>0</td>\n",
              "    </tr>\n",
              "    <tr>\n",
              "      <th>1</th>\n",
              "      <td>-1.320955</td>\n",
              "      <td>0.511772</td>\n",
              "      <td>0.391813</td>\n",
              "      <td>-1.528501</td>\n",
              "      <td>-0.792567</td>\n",
              "      <td>1</td>\n",
              "      <td>1109.0</td>\n",
              "      <td>0</td>\n",
              "      <td>0</td>\n",
              "      <td>0</td>\n",
              "      <td>0</td>\n",
              "      <td>0</td>\n",
              "      <td>0</td>\n",
              "      <td>0</td>\n",
              "      <td>0</td>\n",
              "      <td>1</td>\n",
              "      <td>1</td>\n",
              "      <td>0</td>\n",
              "      <td>0</td>\n",
              "      <td>0</td>\n",
              "      <td>1</td>\n",
              "      <td>0</td>\n",
              "      <td>0</td>\n",
              "      <td>0</td>\n",
              "    </tr>\n",
              "    <tr>\n",
              "      <th>2</th>\n",
              "      <td>-2.869454</td>\n",
              "      <td>0.054577</td>\n",
              "      <td>-0.464272</td>\n",
              "      <td>-0.118509</td>\n",
              "      <td>-1.103355</td>\n",
              "      <td>1</td>\n",
              "      <td>767.0</td>\n",
              "      <td>0</td>\n",
              "      <td>0</td>\n",
              "      <td>0</td>\n",
              "      <td>0</td>\n",
              "      <td>0</td>\n",
              "      <td>0</td>\n",
              "      <td>0</td>\n",
              "      <td>0</td>\n",
              "      <td>1</td>\n",
              "      <td>1</td>\n",
              "      <td>0</td>\n",
              "      <td>0</td>\n",
              "      <td>0</td>\n",
              "      <td>1</td>\n",
              "      <td>0</td>\n",
              "      <td>0</td>\n",
              "      <td>0</td>\n",
              "    </tr>\n",
              "    <tr>\n",
              "      <th>3</th>\n",
              "      <td>-0.809322</td>\n",
              "      <td>-0.118721</td>\n",
              "      <td>-0.303545</td>\n",
              "      <td>-0.533439</td>\n",
              "      <td>-1.195207</td>\n",
              "      <td>1</td>\n",
              "      <td>1425.0</td>\n",
              "      <td>1</td>\n",
              "      <td>1</td>\n",
              "      <td>1</td>\n",
              "      <td>1</td>\n",
              "      <td>1</td>\n",
              "      <td>1</td>\n",
              "      <td>1</td>\n",
              "      <td>1</td>\n",
              "      <td>1</td>\n",
              "      <td>0</td>\n",
              "      <td>1</td>\n",
              "      <td>0</td>\n",
              "      <td>0</td>\n",
              "      <td>0</td>\n",
              "      <td>0</td>\n",
              "      <td>0</td>\n",
              "      <td>0</td>\n",
              "    </tr>\n",
              "    <tr>\n",
              "      <th>4</th>\n",
              "      <td>-0.594399</td>\n",
              "      <td>-0.205020</td>\n",
              "      <td>-1.496273</td>\n",
              "      <td>-1.310896</td>\n",
              "      <td>-0.789788</td>\n",
              "      <td>0</td>\n",
              "      <td>NaN</td>\n",
              "      <td>0</td>\n",
              "      <td>0</td>\n",
              "      <td>0</td>\n",
              "      <td>0</td>\n",
              "      <td>0</td>\n",
              "      <td>0</td>\n",
              "      <td>0</td>\n",
              "      <td>0</td>\n",
              "      <td>1</td>\n",
              "      <td>1</td>\n",
              "      <td>0</td>\n",
              "      <td>0</td>\n",
              "      <td>1</td>\n",
              "      <td>0</td>\n",
              "      <td>0</td>\n",
              "      <td>0</td>\n",
              "      <td>0</td>\n",
              "    </tr>\n",
              "  </tbody>\n",
              "</table>\n",
              "</div>\n",
              "      <button class=\"colab-df-convert\" onclick=\"convertToInteractive('df-87faf20e-c9ba-433e-8d72-6d6cae6831fc')\"\n",
              "              title=\"Convert this dataframe to an interactive table.\"\n",
              "              style=\"display:none;\">\n",
              "        \n",
              "  <svg xmlns=\"http://www.w3.org/2000/svg\" height=\"24px\"viewBox=\"0 0 24 24\"\n",
              "       width=\"24px\">\n",
              "    <path d=\"M0 0h24v24H0V0z\" fill=\"none\"/>\n",
              "    <path d=\"M18.56 5.44l.94 2.06.94-2.06 2.06-.94-2.06-.94-.94-2.06-.94 2.06-2.06.94zm-11 1L8.5 8.5l.94-2.06 2.06-.94-2.06-.94L8.5 2.5l-.94 2.06-2.06.94zm10 10l.94 2.06.94-2.06 2.06-.94-2.06-.94-.94-2.06-.94 2.06-2.06.94z\"/><path d=\"M17.41 7.96l-1.37-1.37c-.4-.4-.92-.59-1.43-.59-.52 0-1.04.2-1.43.59L10.3 9.45l-7.72 7.72c-.78.78-.78 2.05 0 2.83L4 21.41c.39.39.9.59 1.41.59.51 0 1.02-.2 1.41-.59l7.78-7.78 2.81-2.81c.8-.78.8-2.07 0-2.86zM5.41 20L4 18.59l7.72-7.72 1.47 1.35L5.41 20z\"/>\n",
              "  </svg>\n",
              "      </button>\n",
              "      \n",
              "  <style>\n",
              "    .colab-df-container {\n",
              "      display:flex;\n",
              "      flex-wrap:wrap;\n",
              "      gap: 12px;\n",
              "    }\n",
              "\n",
              "    .colab-df-convert {\n",
              "      background-color: #E8F0FE;\n",
              "      border: none;\n",
              "      border-radius: 50%;\n",
              "      cursor: pointer;\n",
              "      display: none;\n",
              "      fill: #1967D2;\n",
              "      height: 32px;\n",
              "      padding: 0 0 0 0;\n",
              "      width: 32px;\n",
              "    }\n",
              "\n",
              "    .colab-df-convert:hover {\n",
              "      background-color: #E2EBFA;\n",
              "      box-shadow: 0px 1px 2px rgba(60, 64, 67, 0.3), 0px 1px 3px 1px rgba(60, 64, 67, 0.15);\n",
              "      fill: #174EA6;\n",
              "    }\n",
              "\n",
              "    [theme=dark] .colab-df-convert {\n",
              "      background-color: #3B4455;\n",
              "      fill: #D2E3FC;\n",
              "    }\n",
              "\n",
              "    [theme=dark] .colab-df-convert:hover {\n",
              "      background-color: #434B5C;\n",
              "      box-shadow: 0px 1px 3px 1px rgba(0, 0, 0, 0.15);\n",
              "      filter: drop-shadow(0px 1px 2px rgba(0, 0, 0, 0.3));\n",
              "      fill: #FFFFFF;\n",
              "    }\n",
              "  </style>\n",
              "\n",
              "      <script>\n",
              "        const buttonEl =\n",
              "          document.querySelector('#df-87faf20e-c9ba-433e-8d72-6d6cae6831fc button.colab-df-convert');\n",
              "        buttonEl.style.display =\n",
              "          google.colab.kernel.accessAllowed ? 'block' : 'none';\n",
              "\n",
              "        async function convertToInteractive(key) {\n",
              "          const element = document.querySelector('#df-87faf20e-c9ba-433e-8d72-6d6cae6831fc');\n",
              "          const dataTable =\n",
              "            await google.colab.kernel.invokeFunction('convertToInteractive',\n",
              "                                                     [key], {});\n",
              "          if (!dataTable) return;\n",
              "\n",
              "          const docLinkHtml = 'Like what you see? Visit the ' +\n",
              "            '<a target=\"_blank\" href=https://colab.research.google.com/notebooks/data_table.ipynb>data table notebook</a>'\n",
              "            + ' to learn more about interactive tables.';\n",
              "          element.innerHTML = '';\n",
              "          dataTable['output_type'] = 'display_data';\n",
              "          await google.colab.output.renderOutput(dataTable, element);\n",
              "          const docLink = document.createElement('div');\n",
              "          docLink.innerHTML = docLinkHtml;\n",
              "          element.appendChild(docLink);\n",
              "        }\n",
              "      </script>\n",
              "    </div>\n",
              "  </div>\n",
              "  "
            ]
          },
          "metadata": {},
          "execution_count": 35
        }
      ]
    },
    {
      "cell_type": "code",
      "source": [
        "X = X_PCA.copy()\n",
        "X = X.drop( TARGET_FLAG, axis=1 )\n",
        "X = X.drop( TARGET_LOSS, axis=1 )\n",
        "\n",
        "Y = X_PCA[ [TARGET_FLAG, TARGET_LOSS] ]"
      ],
      "metadata": {
        "id": "7dzQvWPJj7jk"
      },
      "id": "7dzQvWPJj7jk",
      "execution_count": 36,
      "outputs": []
    },
    {
      "cell_type": "code",
      "source": [
        "X_train, X_test, Y_train, Y_test = train_test_split(X, Y, train_size=0.8, test_size=0.2, random_state=1)\n",
        "\n",
        "print( \"FLAG DATA\" )\n",
        "print( \"TRAINING = \", X_train.shape )\n",
        "print( \"TEST = \", X_test.shape )"
      ],
      "metadata": {
        "colab": {
          "base_uri": "https://localhost:8080/"
        },
        "id": "YueKSR76j9H1",
        "outputId": "bcfb4329-0237-4635-9038-a9b4df4c915c"
      },
      "id": "YueKSR76j9H1",
      "execution_count": 37,
      "outputs": [
        {
          "output_type": "stream",
          "name": "stdout",
          "text": [
            "FLAG DATA\n",
            "TRAINING =  (4768, 22)\n",
            "TEST =  (1192, 22)\n"
          ]
        }
      ]
    },
    {
      "cell_type": "code",
      "source": [
        "F = ~ Y_train[TARGET_LOSS].isna()\n",
        "W_train = X_train[F].copy()\n",
        "Z_train = Y_train[F].copy()\n",
        "\n",
        "F = ~ Y_test[ TARGET_LOSS ].isna()\n",
        "W_test = X_test[F].copy()\n",
        "Z_test = Y_test[F].copy()"
      ],
      "metadata": {
        "id": "WVMe7y6-j-a8"
      },
      "id": "WVMe7y6-j-a8",
      "execution_count": 38,
      "outputs": []
    },
    {
      "cell_type": "markdown",
      "metadata": {
        "id": "4J1itKQNDy8y"
      },
      "source": [
        "## Random Forest"
      ],
      "id": "4J1itKQNDy8y"
    },
    {
      "cell_type": "markdown",
      "metadata": {
        "id": "XjTMALGVDy8y"
      },
      "source": [
        "### Loan Default Probability"
      ],
      "id": "XjTMALGVDy8y"
    },
    {
      "cell_type": "code",
      "execution_count": 44,
      "metadata": {
        "id": "Sr1UM5_eDy8y"
      },
      "outputs": [],
      "source": [
        "WHO = \"RF\"\n",
        "\n",
        "CLM = RandomForestClassifier( n_estimators = 25, random_state=1 )\n",
        "CLM = CLM.fit( X_train, Y_train[ TARGET_FLAG ] )\n",
        "\n",
        "TRAIN_CLM = getProbAccuracyScores( WHO + \"_Train\", CLM, X_train, Y_train[ TARGET_FLAG ] )\n",
        "TEST_CLM = getProbAccuracyScores( WHO, CLM, X_test, Y_test[ TARGET_FLAG ] )"
      ],
      "id": "Sr1UM5_eDy8y"
    },
    {
      "cell_type": "code",
      "execution_count": 45,
      "metadata": {
        "id": "WzR6PacvDy8y",
        "outputId": "3fc8b1ff-f280-4eb7-c57e-61ce3dc300d1",
        "colab": {
          "base_uri": "https://localhost:8080/",
          "height": 417
        }
      },
      "outputs": [
        {
          "output_type": "display_data",
          "data": {
            "text/plain": [
              "<Figure size 432x288 with 1 Axes>"
            ],
            "image/png": "[encoded data removed]"
          },
          "metadata": {
            "needs_background": "light"
          }
        },
        {
          "output_type": "stream",
          "name": "stdout",
          "text": [
            "RF CLASSIFICATION ACCURACY\n",
            "======\n",
            "RF_Train  =  0.9987416107382551\n",
            "RF  =  0.9026845637583892\n",
            "------\n",
            "\n",
            "\n"
          ]
        }
      ],
      "source": [
        "print_ROC_Curve( WHO, [ TRAIN_CLM, TEST_CLM ] ) \n",
        "print_Accuracy( WHO + \" CLASSIFICATION ACCURACY\", [ TRAIN_CLM, TEST_CLM ] )"
      ],
      "id": "WzR6PacvDy8y"
    },
    {
      "cell_type": "code",
      "execution_count": 48,
      "metadata": {
        "id": "PoLoTCwGDy8y",
        "colab": {
          "base_uri": "https://localhost:8080/"
        },
        "outputId": "bc8e753c-8190-4e75-c84f-c276e20e335c"
      },
      "outputs": [
        {
          "output_type": "stream",
          "name": "stdout",
          "text": [
            "('PC_2', 100)\n",
            "('M_DEBTINC', 93)\n",
            "('PC_3', 56)\n",
            "('PC_1', 54)\n",
            "('PC_5', 51)\n",
            "('PC_4', 46)\n"
          ]
        }
      ],
      "source": [
        "feature_cols = list( X.columns.values )\n",
        "vars_RF_flag = getEnsembleTreeVars( CLM, feature_cols )\n",
        "\n",
        "for i in vars_RF_flag :\n",
        "    print( i )"
      ],
      "id": "PoLoTCwGDy8y"
    },
    {
      "cell_type": "markdown",
      "source": [
        "The Random Forest did about the same as the original way without PCA, with an accurancy of 0.01 less. It may be best to continue using the original way because it is more explainable and can also predict well. But notably, it able to predict well despite using only 77% of the information."
      ],
      "metadata": {
        "id": "NWyf1k4uJB2F"
      },
      "id": "NWyf1k4uJB2F"
    },
    {
      "cell_type": "markdown",
      "metadata": {
        "id": "94Se8tc0Dy8y"
      },
      "source": [
        "### Loss Amount"
      ],
      "id": "94Se8tc0Dy8y"
    },
    {
      "cell_type": "code",
      "execution_count": 51,
      "metadata": {
        "id": "L8uNM9ubDy8y",
        "outputId": "d4a897b7-fdd0-4fff-83eb-008ea2f5164f",
        "colab": {
          "base_uri": "https://localhost:8080/"
        }
      },
      "outputs": [
        {
          "output_type": "stream",
          "name": "stdout",
          "text": [
            "RF RMSE ACCURACY\n",
            "======\n",
            "RF_Train  =  2385.600340747146\n",
            "RF  =  6762.590466358603\n",
            "------\n",
            "\n",
            "\n"
          ]
        }
      ],
      "source": [
        "AMT = RandomForestRegressor(n_estimators = 100, random_state=1)\n",
        "AMT = AMT.fit( W_train, Z_train[TARGET_LOSS] )\n",
        "\n",
        "TRAIN_AMT = getAmtAccuracyScores( WHO + \"_Train\", AMT, W_train, Z_train[TARGET_LOSS] )\n",
        "TEST_AMT = getAmtAccuracyScores( WHO, AMT, W_test, Z_test[TARGET_LOSS] )\n",
        "\n",
        "print_Accuracy( WHO + \" RMSE ACCURACY\", [ TRAIN_AMT, TEST_AMT ] )"
      ],
      "id": "L8uNM9ubDy8y"
    },
    {
      "cell_type": "markdown",
      "source": [
        "The original data did better than using the PCA. The orignal data's RMSE was 3500. \n"
      ],
      "metadata": {
        "id": "80Y0iAwbJTVl"
      },
      "id": "80Y0iAwbJTVl"
    },
    {
      "cell_type": "code",
      "execution_count": 52,
      "metadata": {
        "id": "XUMhpdaHDy8y",
        "outputId": "83e36419-cb40-4179-b7d5-0748399c0835",
        "colab": {
          "base_uri": "https://localhost:8080/"
        }
      },
      "outputs": [
        {
          "output_type": "stream",
          "name": "stdout",
          "text": [
            "('PC_1', 100)\n",
            "('PC_5', 35)\n",
            "('PC_4', 26)\n",
            "('PC_2', 22)\n",
            "('PC_3', 12)\n",
            "('z_IMP_REASON_HomeImp', 11)\n"
          ]
        }
      ],
      "source": [
        "feature_cols = list( X.columns.values )\n",
        "vars_RF_amt = getEnsembleTreeVars( AMT, feature_cols )\n",
        "\n",
        "for i in vars_RF_amt :\n",
        "    print( i )"
      ],
      "id": "XUMhpdaHDy8y"
    },
    {
      "cell_type": "code",
      "execution_count": 53,
      "metadata": {
        "id": "iJXtVqJ6Dy8y"
      },
      "outputs": [],
      "source": [
        "RF_CLM = TEST_CLM.copy()\n",
        "RF_AMT = TEST_AMT.copy()"
      ],
      "id": "iJXtVqJ6Dy8y"
    },
    {
      "cell_type": "markdown",
      "metadata": {
        "id": "JGurnGxBDy8y"
      },
      "source": [
        "## Gradient Boosting"
      ],
      "id": "JGurnGxBDy8y"
    },
    {
      "cell_type": "markdown",
      "metadata": {
        "id": "Yq3WcgkiDy8y"
      },
      "source": [
        "### Loan Default Probability"
      ],
      "id": "Yq3WcgkiDy8y"
    },
    {
      "cell_type": "code",
      "execution_count": 54,
      "metadata": {
        "id": "Xca_6LzRDy8y"
      },
      "outputs": [],
      "source": [
        "WHO = \"GB\"\n",
        "\n",
        "CLM = GradientBoostingClassifier( random_state=1 )\n",
        "CLM = CLM.fit( X_train, Y_train[ TARGET_FLAG ] )\n",
        "\n",
        "TRAIN_CLM = getProbAccuracyScores( WHO + \"_Train\", CLM, X_train, Y_train[ TARGET_FLAG ] )\n",
        "TEST_CLM = getProbAccuracyScores( WHO, CLM, X_test, Y_test[ TARGET_FLAG ] )"
      ],
      "id": "Xca_6LzRDy8y"
    },
    {
      "cell_type": "code",
      "execution_count": 55,
      "metadata": {
        "id": "q0cHVaWeDy8y",
        "outputId": "ae5326a6-eb53-4c5d-d6f6-56acabbabe95",
        "colab": {
          "base_uri": "https://localhost:8080/",
          "height": 417
        }
      },
      "outputs": [
        {
          "output_type": "display_data",
          "data": {
            "text/plain": [
              "<Figure size 432x288 with 1 Axes>"
            ],
            "image/png": "[encoded data removed]"
          },
          "metadata": {
            "needs_background": "light"
          }
        },
        {
          "output_type": "stream",
          "name": "stdout",
          "text": [
            "GB CLASSIFICATION ACCURACY\n",
            "======\n",
            "GB_Train  =  0.9121224832214765\n",
            "GB  =  0.8901006711409396\n",
            "------\n",
            "\n",
            "\n"
          ]
        }
      ],
      "source": [
        "print_ROC_Curve( WHO, [ TRAIN_CLM, TEST_CLM ] ) \n",
        "print_Accuracy( WHO + \" CLASSIFICATION ACCURACY\", [ TRAIN_CLM, TEST_CLM ] )"
      ],
      "id": "q0cHVaWeDy8y"
    },
    {
      "cell_type": "markdown",
      "source": [
        "Similar to RF, the original data model for GB did better but not by much."
      ],
      "metadata": {
        "id": "PjYnbm6kJd2U"
      },
      "id": "PjYnbm6kJd2U"
    },
    {
      "cell_type": "code",
      "execution_count": 56,
      "metadata": {
        "id": "MrNRhsRIDy8z",
        "colab": {
          "base_uri": "https://localhost:8080/"
        },
        "outputId": "2047531d-b2cf-42fb-9d67-ffe9522ddf14"
      },
      "outputs": [
        {
          "output_type": "stream",
          "name": "stdout",
          "text": [
            "('M_DEBTINC', 100)\n",
            "('PC_2', 37)\n",
            "('PC_3', 11)\n",
            "('PC_5', 9)\n",
            "('PC_1', 8)\n",
            "('M_VALUE', 8)\n"
          ]
        }
      ],
      "source": [
        "feature_cols = list( X.columns.values )\n",
        "vars_GB_flag = getEnsembleTreeVars( CLM, feature_cols )\n",
        "\n",
        "for i in vars_GB_flag :\n",
        "    print( i )"
      ],
      "id": "MrNRhsRIDy8z"
    },
    {
      "cell_type": "markdown",
      "metadata": {
        "id": "UQzKu9seDy8z"
      },
      "source": [
        "### Loss Amount"
      ],
      "id": "UQzKu9seDy8z"
    },
    {
      "cell_type": "code",
      "execution_count": 57,
      "metadata": {
        "id": "I09e4dX0Dy8z",
        "outputId": "5012298b-98cf-4d98-8963-c2d75cba3c3b",
        "colab": {
          "base_uri": "https://localhost:8080/"
        }
      },
      "outputs": [
        {
          "output_type": "stream",
          "name": "stdout",
          "text": [
            "GB RMSE ACCURACY\n",
            "======\n",
            "GB_Train  =  4113.160850593021\n",
            "GB  =  7106.431684145675\n",
            "------\n",
            "\n",
            "\n"
          ]
        }
      ],
      "source": [
        "AMT = GradientBoostingRegressor(random_state=1)\n",
        "AMT = AMT.fit( W_train, Z_train[TARGET_LOSS] )\n",
        "\n",
        "TRAIN_AMT = getAmtAccuracyScores( WHO + \"_Train\", AMT, W_train, Z_train[TARGET_LOSS] )\n",
        "TEST_AMT = getAmtAccuracyScores( WHO, AMT, W_test, Z_test[TARGET_LOSS] )\n",
        "\n",
        "print_Accuracy( WHO + \" RMSE ACCURACY\", [ TRAIN_AMT, TEST_AMT ] )"
      ],
      "id": "I09e4dX0Dy8z"
    },
    {
      "cell_type": "markdown",
      "source": [
        "The original data does a much better job at a RMSE score in the 2000's. "
      ],
      "metadata": {
        "id": "8uNATCU8JwK-"
      },
      "id": "8uNATCU8JwK-"
    },
    {
      "cell_type": "code",
      "execution_count": 58,
      "metadata": {
        "id": "RZST9OKADy8z",
        "outputId": "7d4fffee-fd5f-44a7-db23-740ccf53ff4a",
        "colab": {
          "base_uri": "https://localhost:8080/"
        }
      },
      "outputs": [
        {
          "output_type": "stream",
          "name": "stdout",
          "text": [
            "('PC_1', 100)\n",
            "('PC_5', 32)\n",
            "('PC_4', 21)\n",
            "('PC_2', 18)\n",
            "('z_IMP_REASON_HomeImp', 13)\n"
          ]
        }
      ],
      "source": [
        "feature_cols = list( X.columns.values )\n",
        "vars_GB_amt = getEnsembleTreeVars( AMT, feature_cols )\n",
        "\n",
        "for i in vars_GB_amt :\n",
        "    print( i )"
      ],
      "id": "RZST9OKADy8z"
    },
    {
      "cell_type": "code",
      "execution_count": 59,
      "metadata": {
        "id": "fUuggRdpDy8z"
      },
      "outputs": [],
      "source": [
        "GB_CLM = TEST_CLM.copy()\n",
        "GB_AMT = TEST_AMT.copy()"
      ],
      "id": "fUuggRdpDy8z"
    },
    {
      "cell_type": "markdown",
      "metadata": {
        "id": "Kgn-a8CDiMrG"
      },
      "source": [
        "## Compare Tree Based Models"
      ],
      "id": "Kgn-a8CDiMrG"
    },
    {
      "cell_type": "code",
      "execution_count": 60,
      "metadata": {
        "colab": {
          "base_uri": "https://localhost:8080/",
          "height": 417
        },
        "id": "VRildG7Lgkpz",
        "outputId": "47cd12fa-d80c-4aef-d234-f256458b419a"
      },
      "outputs": [
        {
          "output_type": "display_data",
          "data": {
            "text/plain": [
              "<Figure size 432x288 with 1 Axes>"
            ],
            "image/png": "[encoded data removed]"
          },
          "metadata": {
            "needs_background": "light"
          }
        },
        {
          "output_type": "stream",
          "name": "stdout",
          "text": [
            "ALL CLASSIFICATION ACCURACY\n",
            "======\n",
            "RF  =  0.9026845637583892\n",
            "GB  =  0.8901006711409396\n",
            "------\n",
            "\n",
            "\n"
          ]
        }
      ],
      "source": [
        "ALL_CLM = [ RF_CLM, GB_CLM ]\n",
        "\n",
        "ALL_CLM = sorted( ALL_CLM, key = lambda x: x[4], reverse=True )\n",
        "print_ROC_Curve( WHO, ALL_CLM ) \n",
        "\n",
        "ALL_CLM = sorted( ALL_CLM, key = lambda x: x[1], reverse=True )\n",
        "print_Accuracy( \"ALL CLASSIFICATION ACCURACY\", ALL_CLM )"
      ],
      "id": "VRildG7Lgkpz"
    },
    {
      "cell_type": "code",
      "execution_count": 61,
      "metadata": {
        "colab": {
          "base_uri": "https://localhost:8080/"
        },
        "id": "OZ6WvVfuiR3O",
        "outputId": "8d1974cb-f802-4ce0-b023-b34f6702f7b0"
      },
      "outputs": [
        {
          "output_type": "stream",
          "name": "stdout",
          "text": [
            "ALL DAMAGE MODEL ACCURACY\n",
            "======\n",
            "RF  =  6762.590466358603\n",
            "GB  =  7106.431684145675\n",
            "------\n",
            "\n",
            "\n"
          ]
        }
      ],
      "source": [
        "ALL_AMT = [ RF_AMT, GB_AMT ]\n",
        "ALL_AMT = sorted( ALL_AMT, key = lambda x: x[1] )\n",
        "print_Accuracy( \"ALL DAMAGE MODEL ACCURACY\", ALL_AMT )"
      ],
      "id": "OZ6WvVfuiR3O"
    },
    {
      "cell_type": "markdown",
      "source": [
        "Using PCA did a good job with predicting loan default with only 77% of the information. However, it did not improve or get similar RMSE scores for predicting loss amount. \n",
        "\n",
        "Because the number of variables in the original RF and GB models were not overwhelming, I would recommend continuing to use those models. "
      ],
      "metadata": {
        "id": "1RJ5PhstY6rK"
      },
      "id": "1RJ5PhstY6rK"
    }
  ],
  "metadata": {
    "kernelspec": {
      "display_name": "Python 3",
      "language": "python",
      "name": "python3"
    },
    "language_info": {
      "codemirror_mode": {
        "name": "ipython",
        "version": 3
      },
      "file_extension": ".py",
      "mimetype": "text/x-python",
      "name": "python",
      "nbconvert_exporter": "python",
      "pygments_lexer": "ipython3",
      "version": "3.9.5"
    },
    "colab": {
      "name": "Home Equity Line: PCA Experiment.ipynb",
      "provenance": [],
      "toc_visible": true
    }
  },
  "nbformat": 4,
  "nbformat_minor": 5
}