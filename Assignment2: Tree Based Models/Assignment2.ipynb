{
  "nbformat": 4,
  "nbformat_minor": 0,
  "metadata": {
    "colab": {
      "name": "Assignment2.ipynb",
      "provenance": [],
      "collapsed_sections": [],
      "authorship_tag": "ABX9TyMZF0umm4/iBe+hjWHhYRvK"
    },
    "kernelspec": {
      "name": "python3",
      "display_name": "Python 3"
    },
    "language_info": {
      "name": "python"
    }
  },
  "cells": [
    {
      "cell_type": "markdown",
      "metadata": {
        "id": "rdjKUZG1Y57K"
      },
      "source": [
        "#### Vivian Xia\n",
        "\n",
        "## Assignment 2: Tree Based Models\n",
        "\n"
      ]
    },
    {
      "cell_type": "code",
      "metadata": {
        "id": "47dZux0MYqr5"
      },
      "source": [
        "import math\n",
        "import pandas as pd\n",
        "import numpy as np\n",
        "from operator import itemgetter\n",
        "\n",
        "import matplotlib.pyplot as plt\n",
        "import seaborn as sns\n",
        "\n",
        "\n",
        "from sklearn.model_selection import train_test_split\n",
        "import sklearn.metrics as metrics\n",
        "\n",
        "from sklearn import tree\n",
        "from sklearn.tree import _tree\n",
        "\n",
        "from sklearn.ensemble import RandomForestRegressor \n",
        "from sklearn.ensemble import RandomForestClassifier \n",
        "\n",
        "from sklearn.ensemble import GradientBoostingRegressor \n",
        "from sklearn.ensemble import GradientBoostingClassifier "
      ],
      "execution_count": null,
      "outputs": []
    },
    {
      "cell_type": "code",
      "metadata": {
        "id": "OYKAe1KCZMr7"
      },
      "source": [
        "sns.set()\n",
        "pd.set_option('display.max_rows', None)\n",
        "pd.set_option('display.max_columns', None)\n",
        "pd.set_option('display.width', None)\n",
        "pd.set_option('display.max_colwidth', None)"
      ],
      "execution_count": null,
      "outputs": []
    },
    {
      "cell_type": "code",
      "metadata": {
        "colab": {
          "base_uri": "https://localhost:8080/"
        },
        "id": "0RKUlwoeZQW6",
        "outputId": "0b9d58d7-e9ce-4865-ac70-1daf7acb4beb"
      },
      "source": [
        "from google.colab import files\n",
        "#uploaded = files.upload() \n",
        "\n",
        "df = pd.read_csv('HMEQ_Loss.csv')\n",
        "print(df.head().T)"
      ],
      "execution_count": null,
      "outputs": [
        {
          "output_type": "stream",
          "name": "stdout",
          "text": [
            "                       0        1        2     3        4\n",
            "TARGET_BAD_FLAG        1        1        1     1        0\n",
            "TARGET_LOSS_AMT      641     1109      767  1425      NaN\n",
            "LOAN                1100     1300     1500  1500     1700\n",
            "MORTDUE            25860    70053    13500   NaN    97800\n",
            "VALUE              39025    68400    16700   NaN   112000\n",
            "REASON           HomeImp  HomeImp  HomeImp   NaN  HomeImp\n",
            "JOB                Other    Other    Other   NaN   Office\n",
            "YOJ                 10.5        7        4   NaN        3\n",
            "DEROG                  0        0        0   NaN        0\n",
            "DELINQ                 0        2        0   NaN        0\n",
            "CLAGE            94.3667  121.833  149.467   NaN  93.3333\n",
            "NINQ                   1        0        1   NaN        0\n",
            "CLNO                   9       14       10   NaN       14\n",
            "DEBTINC              NaN      NaN      NaN   NaN      NaN\n"
          ]
        }
      ]
    },
    {
      "cell_type": "code",
      "metadata": {
        "id": "C8Midy0pZTGa"
      },
      "source": [
        "#create a variable for target columns to make it easier to refer to in the future\n",
        "TARGET_FLAG = 'TARGET_BAD_FLAG'\n",
        "TARGET_LOSS = 'TARGET_LOSS_AMT'"
      ],
      "execution_count": null,
      "outputs": []
    },
    {
      "cell_type": "markdown",
      "metadata": {
        "id": "7i-XhrP0ZWCy"
      },
      "source": [
        "## EDA and Fill in Missing Values\n",
        "Simplified version of Assignment 1"
      ]
    },
    {
      "cell_type": "code",
      "metadata": {
        "id": "HUyTm_4BZ3Ba"
      },
      "source": [
        "dt = df.dtypes\n",
        "\n",
        "#descriptive statistics of data\n",
        "x = df.describe().T "
      ],
      "execution_count": null,
      "outputs": []
    },
    {
      "cell_type": "code",
      "metadata": {
        "colab": {
          "base_uri": "https://localhost:8080/"
        },
        "id": "KMUqjn2IZ6ua",
        "outputId": "05383dde-415a-4be3-f089-bec923042bc6"
      },
      "source": [
        "#classiify variables into list based on their datatype\n",
        "objList = []\n",
        "intList = []\n",
        "floatList = []\n",
        "\n",
        "for i in dt.index:\n",
        "  if i in ([TARGET_FLAG, TARGET_LOSS]) : continue \n",
        "  if dt[i] in ([\"object\"]): objList.append(i)\n",
        "  if dt[i] in ([\"float64\"]): floatList.append(i)\n",
        "  if dt[i] in ([\"int64\"]): intList.append(i)\n",
        "\n",
        "\n",
        "print(\"-- OBJECTS --\")\n",
        "for i in objList:\n",
        "  print(i)\n",
        "print(\"\\n\")\n",
        "\n",
        "print(\"-- INTEGER --\")\n",
        "for i in intList: \n",
        "  print(i)\n",
        "print(\"\\n\")\n",
        "\n",
        "print(\"-- FLOAT --\")\n",
        "for i in floatList: \n",
        "  print(i)\n",
        "print(\"\\n\")"
      ],
      "execution_count": null,
      "outputs": [
        {
          "output_type": "stream",
          "name": "stdout",
          "text": [
            "-- OBJECTS --\n",
            "REASON\n",
            "JOB\n",
            "\n",
            "\n",
            "-- INTEGER --\n",
            "LOAN\n",
            "\n",
            "\n",
            "-- FLOAT --\n",
            "MORTDUE\n",
            "VALUE\n",
            "YOJ\n",
            "DEROG\n",
            "DELINQ\n",
            "CLAGE\n",
            "NINQ\n",
            "CLNO\n",
            "DEBTINC\n",
            "\n",
            "\n"
          ]
        }
      ]
    },
    {
      "cell_type": "code",
      "metadata": {
        "id": "l1OiaAr3aLJV"
      },
      "source": [
        "#create new variable with filled in \"MISSING\" value for NaN values \n",
        "for i in objList :\n",
        "    if df[i].isna().sum() == 0 : continue\n",
        "    NAME = \"IMP_\"+i\n",
        "    df[NAME] = df[i]\n",
        "    df[NAME] = df[NAME].fillna(\"MISSING\")\n",
        "    g = df.groupby( NAME )\n",
        "    df = df.drop( i, axis=1 )"
      ],
      "execution_count": null,
      "outputs": []
    },
    {
      "cell_type": "code",
      "metadata": {
        "colab": {
          "base_uri": "https://localhost:8080/"
        },
        "id": "-MGL1zTUaN_8",
        "outputId": "aef6e171-a769-4d58-a9b6-309db9c81dc9"
      },
      "source": [
        "#create a new list of categorical and numerical variables\n",
        "dt = df.dtypes\n",
        "objList = []\n",
        "numList = []\n",
        "for i in dt.index :\n",
        "    if i in ( [ TARGET_FLAG, TARGET_LOSS ] ) : continue\n",
        "    if dt[i] in ([\"object\"]) : objList.append( i )\n",
        "    if dt[i] in ([\"float64\",\"int64\"]) : numList.append( i )\n",
        "\n",
        "\n",
        "print(\" OBJECTS \")\n",
        "print(\" ------- \")\n",
        "for i in objList :\n",
        "    print( i )\n",
        "print(\" ------- \\n\\n\")\n",
        "\n",
        "\n",
        "print(\" NUMBER \")\n",
        "print(\" ------- \")\n",
        "for i in numList :\n",
        "    print( i )\n",
        "print(\" ------- \")"
      ],
      "execution_count": null,
      "outputs": [
        {
          "output_type": "stream",
          "name": "stdout",
          "text": [
            " OBJECTS \n",
            " ------- \n",
            "IMP_REASON\n",
            "IMP_JOB\n",
            " ------- \n",
            "\n",
            "\n",
            " NUMBER \n",
            " ------- \n",
            "LOAN\n",
            "MORTDUE\n",
            "VALUE\n",
            "YOJ\n",
            "DEROG\n",
            "DELINQ\n",
            "CLAGE\n",
            "NINQ\n",
            "CLNO\n",
            "DEBTINC\n",
            " ------- \n"
          ]
        }
      ]
    },
    {
      "cell_type": "code",
      "metadata": {
        "id": "IfCaxBBaabYi"
      },
      "source": [
        "#encode the objects IMP_REASON and IMP_JOB then drop the columns\n",
        "for i in objList :\n",
        "    thePrefix = \"z_\" + i\n",
        "    y = pd.get_dummies( df[i], prefix=thePrefix, drop_first=True ) \n",
        "    df = pd.concat( [df, y], axis=1 )\n",
        "    df = df.drop( i, axis=1 )"
      ],
      "execution_count": null,
      "outputs": []
    },
    {
      "cell_type": "code",
      "metadata": {
        "colab": {
          "base_uri": "https://localhost:8080/"
        },
        "id": "C5wdL23-alPi",
        "outputId": "2fb7b102-5d2e-410f-9835-bca96f1a4069"
      },
      "source": [
        "for i in numList :\n",
        "    if df[i].isna().sum() == 0 : continue #if no values are missing then continue\n",
        "    FLAG = \"M_\" + i #notes that there was a missing value here -- highly predictive to know it was missing \n",
        "    IMP = \"IMP_\" + i\n",
        "    df[ FLAG ] = df[i].isna() + 0 #add zero and Python will know that if TRUE it's a 1 and FALSE it's a 0\n",
        "    df[ IMP ] = df[ i ] #create an exact copy of the column\n",
        "    df.loc[ df[IMP].isna(), IMP ] = df[i].median() #fill missing with the median of the variable\n",
        "    df = df.drop( i, axis=1 )\n",
        "\n",
        "print(df.head().T)"
      ],
      "execution_count": null,
      "outputs": [
        {
          "output_type": "stream",
          "name": "stdout",
          "text": [
            "                                 0             1             2             3  \\\n",
            "TARGET_BAD_FLAG           1.000000      1.000000      1.000000      1.000000   \n",
            "TARGET_LOSS_AMT         641.000000   1109.000000    767.000000   1425.000000   \n",
            "LOAN                   1100.000000   1300.000000   1500.000000   1500.000000   \n",
            "z_IMP_REASON_HomeImp      1.000000      1.000000      1.000000      0.000000   \n",
            "z_IMP_REASON_MISSING      0.000000      0.000000      0.000000      1.000000   \n",
            "z_IMP_JOB_Mgr             0.000000      0.000000      0.000000      0.000000   \n",
            "z_IMP_JOB_Office          0.000000      0.000000      0.000000      0.000000   \n",
            "z_IMP_JOB_Other           1.000000      1.000000      1.000000      0.000000   \n",
            "z_IMP_JOB_ProfExe         0.000000      0.000000      0.000000      0.000000   \n",
            "z_IMP_JOB_Sales           0.000000      0.000000      0.000000      0.000000   \n",
            "z_IMP_JOB_Self            0.000000      0.000000      0.000000      0.000000   \n",
            "M_MORTDUE                 0.000000      0.000000      0.000000      1.000000   \n",
            "IMP_MORTDUE           25860.000000  70053.000000  13500.000000  65019.000000   \n",
            "M_VALUE                   0.000000      0.000000      0.000000      1.000000   \n",
            "IMP_VALUE             39025.000000  68400.000000  16700.000000  89235.500000   \n",
            "M_YOJ                     0.000000      0.000000      0.000000      1.000000   \n",
            "IMP_YOJ                  10.500000      7.000000      4.000000      7.000000   \n",
            "M_DEROG                   0.000000      0.000000      0.000000      1.000000   \n",
            "IMP_DEROG                 0.000000      0.000000      0.000000      0.000000   \n",
            "M_DELINQ                  0.000000      0.000000      0.000000      1.000000   \n",
            "IMP_DELINQ                0.000000      2.000000      0.000000      0.000000   \n",
            "M_CLAGE                   0.000000      0.000000      0.000000      1.000000   \n",
            "IMP_CLAGE                94.366667    121.833333    149.466667    173.466667   \n",
            "M_NINQ                    0.000000      0.000000      0.000000      1.000000   \n",
            "IMP_NINQ                  1.000000      0.000000      1.000000      1.000000   \n",
            "M_CLNO                    0.000000      0.000000      0.000000      1.000000   \n",
            "IMP_CLNO                  9.000000     14.000000     10.000000     20.000000   \n",
            "M_DEBTINC                 1.000000      1.000000      1.000000      1.000000   \n",
            "IMP_DEBTINC              34.818262     34.818262     34.818262     34.818262   \n",
            "\n",
            "                                  4  \n",
            "TARGET_BAD_FLAG            0.000000  \n",
            "TARGET_LOSS_AMT                 NaN  \n",
            "LOAN                    1700.000000  \n",
            "z_IMP_REASON_HomeImp       1.000000  \n",
            "z_IMP_REASON_MISSING       0.000000  \n",
            "z_IMP_JOB_Mgr              0.000000  \n",
            "z_IMP_JOB_Office           1.000000  \n",
            "z_IMP_JOB_Other            0.000000  \n",
            "z_IMP_JOB_ProfExe          0.000000  \n",
            "z_IMP_JOB_Sales            0.000000  \n",
            "z_IMP_JOB_Self             0.000000  \n",
            "M_MORTDUE                  0.000000  \n",
            "IMP_MORTDUE            97800.000000  \n",
            "M_VALUE                    0.000000  \n",
            "IMP_VALUE             112000.000000  \n",
            "M_YOJ                      0.000000  \n",
            "IMP_YOJ                    3.000000  \n",
            "M_DEROG                    0.000000  \n",
            "IMP_DEROG                  0.000000  \n",
            "M_DELINQ                   0.000000  \n",
            "IMP_DELINQ                 0.000000  \n",
            "M_CLAGE                    0.000000  \n",
            "IMP_CLAGE                 93.333333  \n",
            "M_NINQ                     0.000000  \n",
            "IMP_NINQ                   0.000000  \n",
            "M_CLNO                     0.000000  \n",
            "IMP_CLNO                  14.000000  \n",
            "M_DEBTINC                  1.000000  \n",
            "IMP_DEBTINC               34.818262  \n"
          ]
        }
      ]
    },
    {
      "cell_type": "markdown",
      "metadata": {
        "id": "PfaF-HVLbcmE"
      },
      "source": [
        "## Split Data"
      ]
    },
    {
      "cell_type": "code",
      "metadata": {
        "id": "BlGqkNTvbawx"
      },
      "source": [
        "X = df.copy()\n",
        "X = X.drop( TARGET_FLAG, axis=1 )\n",
        "X = X.drop( TARGET_LOSS, axis=1 )\n",
        "\n",
        "Y = df[ [TARGET_FLAG, TARGET_LOSS] ]"
      ],
      "execution_count": null,
      "outputs": []
    },
    {
      "cell_type": "code",
      "metadata": {
        "colab": {
          "base_uri": "https://localhost:8080/"
        },
        "id": "3XsyQEZMcAPE",
        "outputId": "2432cd2c-4a05-4e56-a712-65f257972a57"
      },
      "source": [
        "X_train, X_test, Y_train, Y_test = train_test_split(X, Y, train_size=0.8, test_size=0.2, random_state=1) #80% of the data for training and 20% for testing\n",
        "\n",
        "print( \"FLAG DATA\" )\n",
        "print( \"TRAINING = \", X_train.shape )\n",
        "print( \"TEST = \", X_test.shape )"
      ],
      "execution_count": null,
      "outputs": [
        {
          "output_type": "stream",
          "name": "stdout",
          "text": [
            "FLAG DATA\n",
            "TRAINING =  (4768, 27)\n",
            "TEST =  (1192, 27)\n"
          ]
        }
      ]
    },
    {
      "cell_type": "code",
      "metadata": {
        "id": "W3XQCJNBcFqc"
      },
      "source": [
        "F = ~ Y_train[TARGET_LOSS].isna()\n",
        "W_train = X_train[F].copy()\n",
        "Z_train = Y_train[F].copy()\n",
        "\n",
        "F = ~ Y_test[ TARGET_LOSS ].isna()\n",
        "W_test = X_test[F].copy()\n",
        "Z_test = Y_test[F].copy()"
      ],
      "execution_count": null,
      "outputs": []
    },
    {
      "cell_type": "code",
      "metadata": {
        "colab": {
          "base_uri": "https://localhost:8080/"
        },
        "id": "nJQ6X14kcIR5",
        "outputId": "0f12806a-1cb5-4185-f583-fc2f57088a44"
      },
      "source": [
        "print( Z_train.describe() )\n",
        "print( Z_test.describe() ) "
      ],
      "execution_count": null,
      "outputs": [
        {
          "output_type": "stream",
          "name": "stdout",
          "text": [
            "       TARGET_BAD_FLAG  TARGET_LOSS_AMT\n",
            "count            941.0       941.000000\n",
            "mean               1.0     13421.645058\n",
            "std                0.0     10662.481428\n",
            "min                1.0       224.000000\n",
            "25%                1.0      5817.000000\n",
            "50%                1.0     10959.000000\n",
            "75%                1.0     17635.000000\n",
            "max                1.0     73946.000000\n",
            "       TARGET_BAD_FLAG  TARGET_LOSS_AMT\n",
            "count            248.0       248.000000\n",
            "mean               1.0     13387.758065\n",
            "std                0.0     11508.703991\n",
            "min                1.0       320.000000\n",
            "25%                1.0      5214.500000\n",
            "50%                1.0     11336.500000\n",
            "75%                1.0     16734.000000\n",
            "max                1.0     78987.000000\n"
          ]
        }
      ]
    },
    {
      "cell_type": "markdown",
      "metadata": {
        "id": "UPcHyM6ucU7Q"
      },
      "source": [
        "The max and the 75% quartile values have a pretty big difference, but due to the scenario where the loss amount is not capped, and its lack of effect on the tree models (which is more evident when looking at the diagrams later in this assignment), I did not think fixing the outliers was needed. "
      ]
    },
    {
      "cell_type": "markdown",
      "metadata": {
        "id": "DXV8YbzvgBWl"
      },
      "source": [
        "## Decision Trees\n"
      ]
    },
    {
      "cell_type": "markdown",
      "metadata": {
        "id": "xJOIGZY9gJ0Z"
      },
      "source": [
        "### Loan Default Probability"
      ]
    },
    {
      "cell_type": "code",
      "metadata": {
        "id": "AYOBZWq4gF4Y"
      },
      "source": [
        "fm01_Tree = tree.DecisionTreeClassifier( max_depth=4 )\n",
        "fm01_Tree = fm01_Tree.fit( X_train, Y_train[ TARGET_FLAG ] )\n",
        "\n",
        "Y_Pred_train = fm01_Tree.predict(X_train)\n",
        "Y_Pred_test = fm01_Tree.predict(X_test)\n",
        "\n",
        "print(\"Probability of loan default\")\n",
        "print(\"Accuracy Train:\",metrics.accuracy_score(Y_train[TARGET_FLAG], Y_Pred_train))\n",
        "print(\"Accuracy Test:\",metrics.accuracy_score(Y_test[TARGET_FLAG], Y_Pred_test))"
      ],
      "execution_count": null,
      "outputs": []
    },
    {
      "cell_type": "code",
      "metadata": {
        "id": "EDnr05u0gPlx"
      },
      "source": [
        "#build an ROC curve\n",
        "probs = fm01_Tree.predict_proba(X_train) #predict probability value\n",
        "p1 = probs[:,1] #only want the probability of loan default\n",
        "fpr_train, tpr_train, threshold = metrics.roc_curve( Y_train[TARGET_FLAG], p1) #give the data of what really happened and the p1 scores\n",
        "roc_auc_train = metrics.auc(fpr_train, tpr_train) #find area under the ROC curve\n",
        "print(\"Area under ROC curve for training data:\", roc_auc_train)\n",
        "\n",
        "probs = fm01_Tree.predict_proba(X_test)\n",
        "p1 = probs[:,1]\n",
        "fpr_test, tpr_test, threshold = metrics.roc_curve( Y_test[TARGET_FLAG], p1)\n",
        "roc_auc_test = metrics.auc(fpr_test, tpr_test)\n",
        "print(\"Area under ROC curve for testing data:\", roc_auc_test)"
      ],
      "execution_count": null,
      "outputs": []
    },
    {
      "cell_type": "code",
      "metadata": {
        "id": "kBCNXK6-gP3D"
      },
      "source": [
        "fpr_tree = fpr_test\n",
        "tpr_tree = tpr_test\n",
        "auc_tree = roc_auc_test"
      ],
      "execution_count": null,
      "outputs": []
    },
    {
      "cell_type": "code",
      "metadata": {
        "id": "RSF8pWxqgP5Y"
      },
      "source": [
        "plt.title('TREE ROC CURVE')\n",
        "plt.plot(fpr_train, tpr_train, 'b', label = 'AUC TRAIN = %0.2f' % roc_auc_train)\n",
        "plt.plot(fpr_test, tpr_test, 'b', label = 'AUC TEST = %0.2f' % roc_auc_test, color=\"red\")\n",
        "plt.legend(loc = 'lower right')\n",
        "plt.plot([0, 1], [0, 1],'r--')\n",
        "plt.xlim([0, 1])\n",
        "plt.ylim([0, 1])\n",
        "plt.ylabel('True Positive Rate')\n",
        "plt.xlabel('False Positive Rate')\n",
        "plt.show()"
      ],
      "execution_count": null,
      "outputs": []
    },
    {
      "cell_type": "code",
      "metadata": {
        "id": "gdC8zpbQgP76"
      },
      "source": [
        "#get tree diagram\n",
        "feature_cols = list( X.columns.values ) #use variable names\n",
        "tree.export_graphviz(fm01_Tree,out_file='tree_f.txt',filled=True, rounded=True, feature_names = feature_cols, impurity=False, class_names=[\"Good\",\"Bad\"]  )"
      ],
      "execution_count": null,
      "outputs": []
    },
    {
      "cell_type": "code",
      "metadata": {
        "id": "VjLpghd5gkfp"
      },
      "source": [
        "#seach variables for the model\n",
        "def getTreeVars( TREE, varNames ) :\n",
        "    tree_ = TREE.tree_\n",
        "    varName = [ varNames[i] if i != _tree.TREE_UNDEFINED else \"undefined!\" for i in tree_.feature ]\n",
        "\n",
        "    nameSet = set()\n",
        "    for i in tree_.feature :\n",
        "        if i != _tree.TREE_UNDEFINED :\n",
        "            nameSet.add( i )\n",
        "    nameList = list( nameSet )\n",
        "    parameter_list = list()\n",
        "    for i in nameList :\n",
        "        parameter_list.append( varNames[i] )\n",
        "    return parameter_list"
      ],
      "execution_count": null,
      "outputs": []
    },
    {
      "cell_type": "code",
      "metadata": {
        "id": "KBqZo3cvgkiY"
      },
      "source": [
        "vars_tree_flag = getTreeVars( fm01_Tree, feature_cols )\n",
        "\n",
        "for i in vars_tree_flag :\n",
        "    print(i)"
      ],
      "execution_count": null,
      "outputs": []
    },
    {
      "cell_type": "markdown",
      "metadata": {
        "id": "_AyTFyafgvbz"
      },
      "source": [
        "### Predict Loss Amount"
      ]
    },
    {
      "cell_type": "code",
      "metadata": {
        "id": "0IyDh715gklI"
      },
      "source": [
        "amt_m01_Tree = tree.DecisionTreeRegressor( max_depth= 4 )\n",
        "amt_m01_Tree = amt_m01_Tree.fit( W_train, Z_train[TARGET_LOSS] )\n",
        "\n",
        "Z_Pred_train = amt_m01_Tree.predict(W_train) \n",
        "Z_Pred_test = amt_m01_Tree.predict(W_test)\n",
        "\n",
        "RMSE_TRAIN = math.sqrt( metrics.mean_squared_error(Z_train[TARGET_LOSS], Z_Pred_train))\n",
        "RMSE_TEST = math.sqrt( metrics.mean_squared_error(Z_test[TARGET_LOSS], Z_Pred_test))\n",
        "\n",
        "print(\"TREE RMSE Train:\", RMSE_TRAIN )\n",
        "print(\"TREE RMSE Test:\", RMSE_TEST )"
      ],
      "execution_count": null,
      "outputs": []
    },
    {
      "cell_type": "code",
      "metadata": {
        "id": "njLUu4bQgkng"
      },
      "source": [
        "RMSE_TREE = RMSE_TEST\n",
        "\n",
        "feature_cols = list( X.columns.values )\n",
        "vars_tree_amt = getTreeVars( amt_m01_Tree, feature_cols ) \n",
        "tree.export_graphviz(amt_m01_Tree,out_file='tree_a.txt',filled=True, rounded=True, feature_names = feature_cols, impurity=False, precision=0  )\n",
        "\n",
        "for i in vars_tree_amt :\n",
        "    print(i)"
      ],
      "execution_count": null,
      "outputs": []
    },
    {
      "cell_type": "markdown",
      "metadata": {
        "id": "xJMCiFHIg6YQ"
      },
      "source": [
        "## Random Forests"
      ]
    },
    {
      "cell_type": "markdown",
      "metadata": {
        "id": "NYjwgD3dg87J"
      },
      "source": [
        "#### Loan Default Probability"
      ]
    },
    {
      "cell_type": "code",
      "metadata": {
        "colab": {
          "base_uri": "https://localhost:8080/"
        },
        "id": "jCM3jhSJg7yp",
        "outputId": "6d4ba94c-bb8d-4781-96b0-bd8921ea88b6"
      },
      "source": [
        "fm01_RF = RandomForestClassifier( n_estimators = 25, random_state=1 ) #n_estimators is the no. of decision trees\n",
        "fm01_RF = fm01_RF.fit( X_train, Y_train[ TARGET_FLAG ] )\n",
        "\n",
        "Y_Pred_train = fm01_RF.predict(X_train)\n",
        "Y_Pred_test = fm01_RF.predict(X_test)\n",
        "\n",
        "print(\"RANDOM FOREST\\n\")\n",
        "print(\"Probability of loan default\")\n",
        "print(\"Accuracy Train:\",metrics.accuracy_score(Y_train[TARGET_FLAG], Y_Pred_train))\n",
        "print(\"Accuracy Test:\",metrics.accuracy_score(Y_test[TARGET_FLAG], Y_Pred_test))"
      ],
      "execution_count": null,
      "outputs": [
        {
          "output_type": "stream",
          "name": "stdout",
          "text": [
            "RANDOM FOREST\n",
            "\n",
            "Probability of loan default\n",
            "Accuracy Train: 0.9991610738255033\n",
            "Accuracy Test: 0.912751677852349\n"
          ]
        }
      ]
    },
    {
      "cell_type": "code",
      "metadata": {
        "id": "DcFOQcmmg8W4"
      },
      "source": [
        "#create an ROC curve\n",
        "probs = fm01_RF.predict_proba(X_train)\n",
        "p1 = probs[:,1]\n",
        "fpr_train, tpr_train, threshold = metrics.roc_curve( Y_train[TARGET_FLAG], p1)\n",
        "roc_auc_train = metrics.auc(fpr_train, tpr_train)\n",
        "\n",
        "probs = fm01_RF.predict_proba(X_test)\n",
        "p1 = probs[:,1]\n",
        "fpr_test, tpr_test, threshold = metrics.roc_curve( Y_test[TARGET_FLAG], p1)\n",
        "roc_auc_test = metrics.auc(fpr_test, tpr_test)\n",
        "\n",
        "fpr_RF = fpr_test\n",
        "tpr_RF = tpr_test\n",
        "auc_RF = roc_auc_test"
      ],
      "execution_count": null,
      "outputs": []
    },
    {
      "cell_type": "code",
      "metadata": {
        "colab": {
          "base_uri": "https://localhost:8080/",
          "height": 301
        },
        "id": "fsOM70W9g8ZC",
        "outputId": "e005385c-aa58-4998-ff33-4736b152140b"
      },
      "source": [
        "plt.title('RF ROC CURVE')\n",
        "plt.plot(fpr_train, tpr_train, 'b', label = 'AUC TRAIN = %0.2f' % roc_auc_train)\n",
        "plt.plot(fpr_test, tpr_test, 'b', label = 'AUC TEST = %0.2f' % roc_auc_test, color=\"red\")\n",
        "plt.legend(loc = 'lower right')\n",
        "plt.plot([0, 1], [0, 1],'r--')\n",
        "plt.xlim([0, 1])\n",
        "plt.ylim([0, 1])\n",
        "plt.ylabel('True Positive Rate')\n",
        "plt.xlabel('False Positive Rate')\n",
        "plt.show()"
      ],
      "execution_count": null,
      "outputs": [
        {
          "output_type": "display_data",
          "data": {
            "image/png": "[encoded data removed]",
            "text/plain": [
              "<Figure size 432x288 with 1 Axes>"
            ]
          },
          "metadata": {}
        }
      ]
    },
    {
      "cell_type": "code",
      "metadata": {
        "id": "hLB6fQhtg8bj"
      },
      "source": [
        "def getEnsembleTreeVars( ENSTREE, varNames ) :\n",
        "    importance = ENSTREE.feature_importances_\n",
        "    index = np.argsort(importance)\n",
        "    theList = []\n",
        "    for i in index :\n",
        "        imp_val = importance[i]\n",
        "        if imp_val > np.average( ENSTREE.feature_importances_ ) : \n",
        "            v = int( imp_val / np.max( ENSTREE.feature_importances_ ) * 100 )\n",
        "            theList.append( ( varNames[i], v ) )\n",
        "    theList = sorted(theList,key=itemgetter(1),reverse=True)\n",
        "    return theList"
      ],
      "execution_count": null,
      "outputs": []
    },
    {
      "cell_type": "code",
      "metadata": {
        "colab": {
          "base_uri": "https://localhost:8080/"
        },
        "id": "_3JkQDagg8d9",
        "outputId": "5079c011-942f-41d6-ea4f-1808544b5cf7"
      },
      "source": [
        "feature_cols = list( X.columns.values )\n",
        "vars_RF_flag = getEnsembleTreeVars( fm01_RF, feature_cols )\n",
        "\n",
        "for i in vars_RF_flag :\n",
        "    print( i )"
      ],
      "execution_count": null,
      "outputs": [
        {
          "output_type": "stream",
          "name": "stdout",
          "text": [
            "('M_DEBTINC', 100)\n",
            "('IMP_DEBTINC', 80)\n",
            "('IMP_CLAGE', 44)\n",
            "('IMP_DELINQ', 43)\n",
            "('IMP_VALUE', 42)\n",
            "('LOAN', 36)\n",
            "('IMP_CLNO', 33)\n",
            "('IMP_MORTDUE', 32)\n",
            "('IMP_YOJ', 29)\n",
            "('IMP_DEROG', 26)\n"
          ]
        }
      ]
    },
    {
      "cell_type": "markdown",
      "metadata": {
        "id": "rtCizGwzhOhQ"
      },
      "source": [
        "#### Predict Loss Amount"
      ]
    },
    {
      "cell_type": "code",
      "metadata": {
        "colab": {
          "base_uri": "https://localhost:8080/"
        },
        "id": "MvXHZLj8g8gT",
        "outputId": "1a0e81c5-2855-442c-afb5-168010b25d7d"
      },
      "source": [
        "#build a model that predicts the loss amount\n",
        "amt_m01_RF = RandomForestRegressor(n_estimators = 100, random_state=1)\n",
        "amt_m01_RF = amt_m01_RF.fit( W_train, Z_train[TARGET_LOSS] )\n",
        "\n",
        "Z_Pred_train = amt_m01_RF.predict(W_train)\n",
        "Z_Pred_test = amt_m01_RF.predict(W_test)\n",
        "\n",
        "RMSE_TRAIN = math.sqrt( metrics.mean_squared_error(Z_train[TARGET_LOSS], Z_Pred_train))\n",
        "RMSE_TEST = math.sqrt( metrics.mean_squared_error(Z_test[TARGET_LOSS], Z_Pred_test))\n",
        "RMSE_RF = RMSE_TEST\n",
        "\n",
        "print(\"RF RMSE Train:\", RMSE_TRAIN )\n",
        "print(\"RF RMSE Test:\", RMSE_TEST )"
      ],
      "execution_count": null,
      "outputs": [
        {
          "output_type": "stream",
          "name": "stdout",
          "text": [
            "RF RMSE Train: 1224.2045361008875\n",
            "RF RMSE Test: 3261.0178490237076\n"
          ]
        }
      ]
    },
    {
      "cell_type": "code",
      "metadata": {
        "colab": {
          "base_uri": "https://localhost:8080/"
        },
        "id": "EmePHsROg8iv",
        "outputId": "2337f91f-1e0b-45d6-da61-578cb5e4994d"
      },
      "source": [
        "feature_cols = list( X.columns.values )\n",
        "vars_RF_amt = getEnsembleTreeVars( amt_m01_RF, feature_cols )\n",
        "\n",
        "for i in vars_RF_amt :\n",
        "    print( i )"
      ],
      "execution_count": null,
      "outputs": [
        {
          "output_type": "stream",
          "name": "stdout",
          "text": [
            "('LOAN', 100)\n",
            "('IMP_CLNO', 12)\n",
            "('IMP_DEBTINC', 5)\n"
          ]
        }
      ]
    },
    {
      "cell_type": "markdown",
      "metadata": {
        "id": "rVqj9ouKhobv"
      },
      "source": [
        "## Gradient Boosting"
      ]
    },
    {
      "cell_type": "markdown",
      "metadata": {
        "id": "UyB2jNxFhsQH"
      },
      "source": [
        "#### Loan Default Probability"
      ]
    },
    {
      "cell_type": "code",
      "metadata": {
        "colab": {
          "base_uri": "https://localhost:8080/"
        },
        "id": "CqHA8LIWg8ka",
        "outputId": "3f587e73-a718-4557-9c4e-4c670ec58b67"
      },
      "source": [
        "fm01_GB = GradientBoostingClassifier( random_state=1 )\n",
        "fm01_GB = fm01_GB.fit( X_train, Y_train[ TARGET_FLAG ] )\n",
        "\n",
        "Y_Pred_train = fm01_GB.predict(X_train)\n",
        "Y_Pred_test = fm01_GB.predict(X_test)\n",
        "\n",
        "print(\"GRADIENT BOOSTING\\n\")\n",
        "print(\"Probability of default\")\n",
        "print(\"Accuracy Train:\",metrics.accuracy_score(Y_train[TARGET_FLAG], Y_Pred_train))\n",
        "print(\"Accuracy Test:\",metrics.accuracy_score(Y_test[TARGET_FLAG], Y_Pred_test))"
      ],
      "execution_count": null,
      "outputs": [
        {
          "output_type": "stream",
          "name": "stdout",
          "text": [
            "GRADIENT BOOSTING\n",
            "\n",
            "Probability of default\n",
            "Accuracy Train: 0.9236577181208053\n",
            "Accuracy Test: 0.9035234899328859\n"
          ]
        }
      ]
    },
    {
      "cell_type": "code",
      "metadata": {
        "id": "_Vd0sba7hrse"
      },
      "source": [
        "probs = fm01_GB.predict_proba(X_train)\n",
        "p1 = probs[:,1]\n",
        "fpr_train, tpr_train, threshold = metrics.roc_curve( Y_train[TARGET_FLAG], p1)\n",
        "roc_auc_train = metrics.auc(fpr_train, tpr_train)\n",
        "\n",
        "probs = fm01_GB.predict_proba(X_test)\n",
        "p1 = probs[:,1]\n",
        "fpr_test, tpr_test, threshold = metrics.roc_curve( Y_test[TARGET_FLAG], p1)\n",
        "roc_auc_test = metrics.auc(fpr_test, tpr_test)\n",
        "\n",
        "fpr_GB = fpr_test\n",
        "tpr_GB = tpr_test\n",
        "auc_GB = roc_auc_test"
      ],
      "execution_count": null,
      "outputs": []
    },
    {
      "cell_type": "code",
      "metadata": {
        "colab": {
          "base_uri": "https://localhost:8080/"
        },
        "id": "eFjmRD3Nhrun",
        "outputId": "40a5f791-dc5f-4866-ecfd-4999fbed8692"
      },
      "source": [
        "feature_cols = list( X.columns.values )\n",
        "vars_GB_flag = getEnsembleTreeVars( fm01_GB, feature_cols )\n",
        "\n",
        "for i in vars_GB_flag :\n",
        "    print(i)"
      ],
      "execution_count": null,
      "outputs": [
        {
          "output_type": "stream",
          "name": "stdout",
          "text": [
            "('M_DEBTINC', 100)\n",
            "('IMP_DEBTINC', 29)\n",
            "('IMP_DELINQ', 19)\n",
            "('IMP_CLAGE', 13)\n"
          ]
        }
      ]
    },
    {
      "cell_type": "code",
      "metadata": {
        "colab": {
          "base_uri": "https://localhost:8080/",
          "height": 301
        },
        "id": "SAbW7-f3hrwn",
        "outputId": "7f9f1b99-cb4f-4954-ee5e-503d8f5de08a"
      },
      "source": [
        "plt.title('GB ROC CURVE')\n",
        "plt.plot(fpr_train, tpr_train, 'b', label = 'AUC TRAIN = %0.2f' % roc_auc_train)\n",
        "plt.plot(fpr_test, tpr_test, 'b', label = 'AUC TEST = %0.2f' % roc_auc_test, color=\"red\")\n",
        "plt.legend(loc = 'lower right')\n",
        "plt.plot([0, 1], [0, 1],'r--')\n",
        "plt.xlim([0, 1])\n",
        "plt.ylim([0, 1])\n",
        "plt.ylabel('True Positive Rate')\n",
        "plt.xlabel('False Positive Rate')\n",
        "plt.show()"
      ],
      "execution_count": null,
      "outputs": [
        {
          "output_type": "display_data",
          "data": {
            "image/png": "[encoded data removed]",
            "text/plain": [
              "<Figure size 432x288 with 1 Axes>"
            ]
          },
          "metadata": {}
        }
      ]
    },
    {
      "cell_type": "markdown",
      "metadata": {
        "id": "ccj50rJ_iBY_"
      },
      "source": [
        "#### Predict Loss Amount"
      ]
    },
    {
      "cell_type": "code",
      "metadata": {
        "colab": {
          "base_uri": "https://localhost:8080/"
        },
        "id": "oCrrDYiahryu",
        "outputId": "c60095f0-cd75-424d-8800-f6e33ea1fedd"
      },
      "source": [
        "amt_m01_GB = GradientBoostingRegressor(random_state=1)\n",
        "amt_m01_GB = amt_m01_GB.fit( W_train, Z_train[TARGET_LOSS] )\n",
        "\n",
        "Z_Pred_train = amt_m01_GB.predict(W_train)\n",
        "Z_Pred_test = amt_m01_GB.predict(W_test)\n",
        "\n",
        "RMSE_TRAIN = math.sqrt( metrics.mean_squared_error(Z_train[TARGET_LOSS], Z_Pred_train))\n",
        "RMSE_TEST = math.sqrt( metrics.mean_squared_error(Z_test[TARGET_LOSS], Z_Pred_test))\n",
        "RMSE_GB = RMSE_TEST\n",
        "\n",
        "print(\"GB RMSE Train:\", RMSE_TRAIN )\n",
        "print(\"GB RMSE Test:\", RMSE_TEST )"
      ],
      "execution_count": null,
      "outputs": [
        {
          "output_type": "stream",
          "name": "stdout",
          "text": [
            "GB RMSE Train: 1218.1569933684325\n",
            "GB RMSE Test: 2531.037788531138\n"
          ]
        }
      ]
    },
    {
      "cell_type": "code",
      "metadata": {
        "colab": {
          "base_uri": "https://localhost:8080/"
        },
        "id": "I_yjY-9Ug8mo",
        "outputId": "b080817e-622c-4823-e4d0-26216e40c06b"
      },
      "source": [
        "feature_cols = list( X.columns.values )\n",
        "vars_GB_amt = getEnsembleTreeVars( amt_m01_GB, feature_cols )\n",
        "\n",
        "for i in vars_GB_amt :\n",
        "    print(i)"
      ],
      "execution_count": null,
      "outputs": [
        {
          "output_type": "stream",
          "name": "stdout",
          "text": [
            "('LOAN', 100)\n",
            "('IMP_CLNO', 14)\n",
            "('IMP_DEBTINC', 5)\n",
            "('M_DEBTINC', 5)\n"
          ]
        }
      ]
    },
    {
      "cell_type": "markdown",
      "metadata": {
        "id": "Kgn-a8CDiMrG"
      },
      "source": [
        "## ROC Curves"
      ]
    },
    {
      "cell_type": "code",
      "metadata": {
        "colab": {
          "base_uri": "https://localhost:8080/",
          "height": 301
        },
        "id": "VRildG7Lgkpz",
        "outputId": "f51e852a-ae4f-40f0-d93d-279d24df65d2"
      },
      "source": [
        "plt.title('MODELS ROC CURVE')\n",
        "plt.plot(fpr_tree, tpr_tree, 'b', label = 'AUC TREE = %0.2f' % auc_tree, color=\"red\")\n",
        "plt.plot(fpr_RF, tpr_RF, 'b', label = 'AUC RF = %0.2f' % auc_RF, color=\"green\")\n",
        "plt.plot(fpr_GB, tpr_GB, 'b', label = 'AUC GB = %0.2f' % auc_GB, color=\"blue\")\n",
        "plt.legend(loc = 'lower right')\n",
        "plt.plot([0, 1], [0, 1],'r--')\n",
        "plt.xlim([0, 1])\n",
        "plt.ylim([0, 1])\n",
        "plt.ylabel('True Positive Rate')\n",
        "plt.xlabel('False Positive Rate')\n",
        "plt.show()"
      ],
      "execution_count": null,
      "outputs": [
        {
          "output_type": "display_data",
          "data": {
            "image/png": "[encoded data removed]",
            "text/plain": [
              "<Figure size 432x288 with 1 Axes>"
            ]
          },
          "metadata": {}
        }
      ]
    },
    {
      "cell_type": "code",
      "metadata": {
        "colab": {
          "base_uri": "https://localhost:8080/"
        },
        "id": "OZ6WvVfuiR3O",
        "outputId": "99cae0f4-ecd4-4bfa-8dd0-9eec57d9b705"
      },
      "source": [
        "print(\"Root Mean Square Average For Loss Amounts\")\n",
        "print(\"TREE\", RMSE_TREE)\n",
        "print(\"RF\", RMSE_RF)\n",
        "print(\"GB\", RMSE_GB)"
      ],
      "execution_count": null,
      "outputs": [
        {
          "output_type": "stream",
          "name": "stdout",
          "text": [
            "Root Mean Square Average For Loss Amounts\n",
            "TREE 5763.9837632219205\n",
            "RF 3261.0178490237076\n",
            "GB 2531.037788531138\n"
          ]
        }
      ]
    },
    {
      "cell_type": "markdown",
      "metadata": {
        "id": "iGlUx_eCiVAN"
      },
      "source": [
        "## Bingo Bonus"
      ]
    },
    {
      "cell_type": "markdown",
      "metadata": {
        "id": "QQTa6mMWiXwY"
      },
      "source": [
        "#### Decision Tree Classifier - change max_depth"
      ]
    },
    {
      "cell_type": "markdown",
      "metadata": {
        "id": "57DunKgUjEZq"
      },
      "source": [
        "###### Let Python decide"
      ]
    },
    {
      "cell_type": "code",
      "metadata": {
        "colab": {
          "base_uri": "https://localhost:8080/",
          "height": 828
        },
        "id": "mEwHz2rZiT2I",
        "outputId": "0b38d733-8798-498b-8ddd-d0907b0d8ad3"
      },
      "source": [
        "fm01_Tree = tree.DecisionTreeClassifier() \n",
        "fm01_Tree = fm01_Tree.fit( X_train, Y_train[ TARGET_FLAG ] )\n",
        "\n",
        "Y_Pred_train = fm01_Tree.predict(X_train)\n",
        "Y_Pred_test = fm01_Tree.predict(X_test)\n",
        "\n",
        "print(\"Probability of loan default\")\n",
        "print(\"Accuracy Train:\",metrics.accuracy_score(Y_train[TARGET_FLAG], Y_Pred_train))\n",
        "print(\"Accuracy Test:\",metrics.accuracy_score(Y_test[TARGET_FLAG], Y_Pred_test))\n",
        "\n",
        "#build an ROC curve\n",
        "probs = fm01_Tree.predict_proba(X_train) #predict probability value\n",
        "p1 = probs[:,1] #only want the probability of crashing the car\n",
        "fpr_train, tpr_train, threshold = metrics.roc_curve( Y_train[TARGET_FLAG], p1) #give the data of what really happened and the p1 scores\n",
        "roc_auc_train = metrics.auc(fpr_train, tpr_train) #find area under the ROC curve\n",
        "print(\"Area under ROC curve for training data:\", roc_auc_train)\n",
        "\n",
        "probs = fm01_Tree.predict_proba(X_test)\n",
        "p1 = probs[:,1]\n",
        "fpr_test, tpr_test, threshold = metrics.roc_curve( Y_test[TARGET_FLAG], p1)\n",
        "roc_auc_test = metrics.auc(fpr_test, tpr_test)\n",
        "print(\"Area under ROC curve for testing data:\", roc_auc_test)\n",
        "\n",
        "plt.title('TREE ROC CURVE')\n",
        "plt.plot(fpr_train, tpr_train, 'b', label = 'AUC TRAIN = %0.2f' % roc_auc_train)\n",
        "plt.plot(fpr_test, tpr_test, 'b', label = 'AUC TEST = %0.2f' % roc_auc_test, color=\"red\")\n",
        "plt.legend(loc = 'lower right')\n",
        "plt.plot([0, 1], [0, 1],'r--')\n",
        "plt.xlim([0, 1])\n",
        "plt.ylim([0, 1])\n",
        "plt.ylabel('True Positive Rate')\n",
        "plt.xlabel('False Positive Rate')\n",
        "plt.show()\n",
        "\n",
        "#seach variables for the model\n",
        "def getTreeVars( TREE, varNames ) :\n",
        "    tree_ = TREE.tree_\n",
        "    varName = [ varNames[i] if i != _tree.TREE_UNDEFINED else \"undefined!\" for i in tree_.feature ]\n",
        "\n",
        "    nameSet = set()\n",
        "    for i in tree_.feature :\n",
        "        if i != _tree.TREE_UNDEFINED :\n",
        "            nameSet.add( i )\n",
        "    nameList = list( nameSet )\n",
        "    parameter_list = list()\n",
        "    for i in nameList :\n",
        "        parameter_list.append( varNames[i] )\n",
        "    return parameter_list\n",
        "\n",
        "\n",
        "vars_tree_flag = getTreeVars( fm01_Tree, feature_cols ) \n",
        "\n",
        "for i in vars_tree_flag :\n",
        "    print(i)"
      ],
      "execution_count": null,
      "outputs": [
        {
          "output_type": "stream",
          "name": "stdout",
          "text": [
            "Probability of loan default\n",
            "Accuracy Train: 1.0\n",
            "Accuracy Test: 0.875\n",
            "Area under ROC curve for training data: 1.0\n",
            "Area under ROC curve for testing data: 0.7917577911427008\n"
          ]
        },
        {
          "output_type": "display_data",
          "data": {
            "image/png": "[encoded data removed]",
            "text/plain": [
              "<Figure size 432x288 with 1 Axes>"
            ]
          },
          "metadata": {}
        },
        {
          "output_type": "stream",
          "name": "stdout",
          "text": [
            "LOAN\n",
            "z_IMP_REASON_HomeImp\n",
            "z_IMP_REASON_MISSING\n",
            "z_IMP_JOB_Mgr\n",
            "z_IMP_JOB_Office\n",
            "z_IMP_JOB_Other\n",
            "z_IMP_JOB_ProfExe\n",
            "z_IMP_JOB_Sales\n",
            "z_IMP_JOB_Self\n",
            "M_MORTDUE\n",
            "IMP_MORTDUE\n",
            "M_VALUE\n",
            "IMP_VALUE\n",
            "M_YOJ\n",
            "IMP_YOJ\n",
            "M_DEROG\n",
            "IMP_DEROG\n",
            "M_DELINQ\n",
            "IMP_DELINQ\n",
            "IMP_CLAGE\n",
            "M_NINQ\n",
            "IMP_NINQ\n",
            "M_CLNO\n",
            "IMP_CLNO\n",
            "M_DEBTINC\n",
            "IMP_DEBTINC\n"
          ]
        }
      ]
    },
    {
      "cell_type": "markdown",
      "metadata": {
        "id": "peKn9aVFi7lL"
      },
      "source": [
        "###### Accuracy of different max_depth"
      ]
    },
    {
      "cell_type": "code",
      "metadata": {
        "colab": {
          "base_uri": "https://localhost:8080/"
        },
        "id": "ZmsyIIL_i6sO",
        "outputId": "ea085498-8a9a-4b45-da66-311b2798a8c6"
      },
      "source": [
        "#max_depth = 2\n",
        "fm01_Tree = tree.DecisionTreeClassifier( max_depth = 2 ) \n",
        "fm01_Tree = fm01_Tree.fit( X_train, Y_train[ TARGET_FLAG ] )\n",
        "\n",
        "Y_Pred_train = fm01_Tree.predict(X_train)\n",
        "Y_Pred_test = fm01_Tree.predict(X_test)\n",
        "\n",
        "print(\"Probability of loan default\")\n",
        "print(\"Accuracy Train:\",metrics.accuracy_score(Y_train[TARGET_FLAG], Y_Pred_train))\n",
        "print(\"Accuracy Test:\",metrics.accuracy_score(Y_test[TARGET_FLAG], Y_Pred_test))"
      ],
      "execution_count": null,
      "outputs": [
        {
          "output_type": "stream",
          "name": "stdout",
          "text": [
            "Probability of loan default\n",
            "Accuracy Train: 0.8670302013422819\n",
            "Accuracy Test: 0.8481543624161074\n"
          ]
        }
      ]
    },
    {
      "cell_type": "code",
      "metadata": {
        "colab": {
          "base_uri": "https://localhost:8080/"
        },
        "id": "ULgyjWqfjReo",
        "outputId": "0691aebc-ef4f-4cb7-e7c3-5eb75c28d4d9"
      },
      "source": [
        "#max_depth = 3\n",
        "fm01_Tree = tree.DecisionTreeClassifier( max_depth = 3 ) \n",
        "fm01_Tree = fm01_Tree.fit( X_train, Y_train[ TARGET_FLAG ] )\n",
        "\n",
        "Y_Pred_train = fm01_Tree.predict(X_train)\n",
        "Y_Pred_test = fm01_Tree.predict(X_test)\n",
        "\n",
        "print(\"Probability of loan default\")\n",
        "print(\"Accuracy Train:\",metrics.accuracy_score(Y_train[TARGET_FLAG], Y_Pred_train))\n",
        "print(\"Accuracy Test:\",metrics.accuracy_score(Y_test[TARGET_FLAG], Y_Pred_test))"
      ],
      "execution_count": null,
      "outputs": [
        {
          "output_type": "stream",
          "name": "stdout",
          "text": [
            "Probability of loan default\n",
            "Accuracy Train: 0.8873741610738255\n",
            "Accuracy Test: 0.8825503355704698\n"
          ]
        }
      ]
    },
    {
      "cell_type": "code",
      "metadata": {
        "colab": {
          "base_uri": "https://localhost:8080/"
        },
        "id": "R3jqvYyOjTiU",
        "outputId": "cb0bd994-65aa-4e49-843c-0334bd15dc2c"
      },
      "source": [
        "#max_depth = 4\n",
        "fm01_Tree = tree.DecisionTreeClassifier( max_depth = 4 ) \n",
        "fm01_Tree = fm01_Tree.fit( X_train, Y_train[ TARGET_FLAG ] )\n",
        "\n",
        "Y_Pred_train = fm01_Tree.predict(X_train)\n",
        "Y_Pred_test = fm01_Tree.predict(X_test)\n",
        "\n",
        "print(\"Probability of loan default\")\n",
        "print(\"Accuracy Train:\",metrics.accuracy_score(Y_train[TARGET_FLAG], Y_Pred_train))\n",
        "print(\"Accuracy Test:\",metrics.accuracy_score(Y_test[TARGET_FLAG], Y_Pred_test))"
      ],
      "execution_count": null,
      "outputs": [
        {
          "output_type": "stream",
          "name": "stdout",
          "text": [
            "Probability of loan default\n",
            "Accuracy Train: 0.8928271812080537\n",
            "Accuracy Test: 0.886744966442953\n"
          ]
        }
      ]
    },
    {
      "cell_type": "code",
      "metadata": {
        "colab": {
          "base_uri": "https://localhost:8080/"
        },
        "id": "vld2_v7vjVY0",
        "outputId": "57c35f51-9f4b-4008-bb9e-e5fba97ac280"
      },
      "source": [
        "#max_depth = 5\n",
        "fm01_Tree = tree.DecisionTreeClassifier( max_depth = 5 ) \n",
        "fm01_Tree = fm01_Tree.fit( X_train, Y_train[ TARGET_FLAG ] )\n",
        "\n",
        "Y_Pred_train = fm01_Tree.predict(X_train)\n",
        "Y_Pred_test = fm01_Tree.predict(X_test)\n",
        "\n",
        "print(\"Probability of loan default\")\n",
        "print(\"Accuracy Train:\",metrics.accuracy_score(Y_train[TARGET_FLAG], Y_Pred_train))\n",
        "print(\"Accuracy Test:\",metrics.accuracy_score(Y_test[TARGET_FLAG], Y_Pred_test))"
      ],
      "execution_count": null,
      "outputs": [
        {
          "output_type": "stream",
          "name": "stdout",
          "text": [
            "Probability of loan default\n",
            "Accuracy Train: 0.8974412751677853\n",
            "Accuracy Test: 0.886744966442953\n"
          ]
        }
      ]
    },
    {
      "cell_type": "code",
      "metadata": {
        "colab": {
          "base_uri": "https://localhost:8080/"
        },
        "id": "ajAQAnKdjXXE",
        "outputId": "96ca3963-8d23-4ba8-c246-f917640ca7f2"
      },
      "source": [
        "#max_depth = 6\n",
        "fm01_Tree = tree.DecisionTreeClassifier( max_depth = 6 ) \n",
        "fm01_Tree = fm01_Tree.fit( X_train, Y_train[ TARGET_FLAG ] )\n",
        "\n",
        "Y_Pred_train = fm01_Tree.predict(X_train)\n",
        "Y_Pred_test = fm01_Tree.predict(X_test)\n",
        "\n",
        "print(\"Probability of loan default\")\n",
        "print(\"Accuracy Train:\",metrics.accuracy_score(Y_train[TARGET_FLAG], Y_Pred_train))\n",
        "print(\"Accuracy Test:\",metrics.accuracy_score(Y_test[TARGET_FLAG], Y_Pred_test))"
      ],
      "execution_count": null,
      "outputs": [
        {
          "output_type": "stream",
          "name": "stdout",
          "text": [
            "Probability of loan default\n",
            "Accuracy Train: 0.902265100671141\n",
            "Accuracy Test: 0.889261744966443\n"
          ]
        }
      ]
    },
    {
      "cell_type": "code",
      "metadata": {
        "colab": {
          "base_uri": "https://localhost:8080/"
        },
        "id": "XXW6Yyy1jY9b",
        "outputId": "0f10bcb2-4209-4dc4-ae60-e69894770f8a"
      },
      "source": [
        "#max_depth = 7\n",
        "fm01_Tree = tree.DecisionTreeClassifier( max_depth = 7 ) \n",
        "fm01_Tree = fm01_Tree.fit( X_train, Y_train[ TARGET_FLAG ] )\n",
        "\n",
        "Y_Pred_train = fm01_Tree.predict(X_train)\n",
        "Y_Pred_test = fm01_Tree.predict(X_test)\n",
        "\n",
        "print(\"Probability of loan default\")\n",
        "print(\"Accuracy Train:\",metrics.accuracy_score(Y_train[TARGET_FLAG], Y_Pred_train))\n",
        "print(\"Accuracy Test:\",metrics.accuracy_score(Y_test[TARGET_FLAG], Y_Pred_test))"
      ],
      "execution_count": null,
      "outputs": [
        {
          "output_type": "stream",
          "name": "stdout",
          "text": [
            "Probability of loan default\n",
            "Accuracy Train: 0.910234899328859\n",
            "Accuracy Test: 0.8842281879194631\n"
          ]
        }
      ]
    },
    {
      "cell_type": "code",
      "metadata": {
        "colab": {
          "base_uri": "https://localhost:8080/"
        },
        "id": "28atzQu7jdBc",
        "outputId": "6cd07b7f-19c7-4073-a756-a34a47a4c0d3"
      },
      "source": [
        "#max_depth = 10\n",
        "fm01_Tree = tree.DecisionTreeClassifier( max_depth = 10 ) \n",
        "fm01_Tree = fm01_Tree.fit( X_train, Y_train[ TARGET_FLAG ] )\n",
        "\n",
        "Y_Pred_train = fm01_Tree.predict(X_train)\n",
        "Y_Pred_test = fm01_Tree.predict(X_test)\n",
        "\n",
        "print(\"Probability of loan default\")\n",
        "print(\"Accuracy Train:\",metrics.accuracy_score(Y_train[TARGET_FLAG], Y_Pred_train))\n",
        "print(\"Accuracy Test:\",metrics.accuracy_score(Y_test[TARGET_FLAG], Y_Pred_test))"
      ],
      "execution_count": null,
      "outputs": [
        {
          "output_type": "stream",
          "name": "stdout",
          "text": [
            "Probability of loan default\n",
            "Accuracy Train: 0.9305788590604027\n",
            "Accuracy Test: 0.8800335570469798\n"
          ]
        }
      ]
    },
    {
      "cell_type": "markdown",
      "metadata": {
        "id": "SwvMyMH0jfMD"
      },
      "source": [
        "#### Decision Tree & Random Forest Classifier - changing criterion = 'entropy'"
      ]
    },
    {
      "cell_type": "code",
      "metadata": {
        "colab": {
          "base_uri": "https://localhost:8080/"
        },
        "id": "lnjVJ5XAjnKz",
        "outputId": "a3979a3d-abfe-4dcd-f6d2-1ad058894539"
      },
      "source": [
        "fm01_Tree = tree.DecisionTreeClassifier( criterion='entropy', max_depth=4 ) \n",
        "fm01_Tree = fm01_Tree.fit( X_train, Y_train[ TARGET_FLAG ] )\n",
        "\n",
        "Y_Pred_train = fm01_Tree.predict(X_train)\n",
        "Y_Pred_test = fm01_Tree.predict(X_test)\n",
        "\n",
        "print(\"Probability of loan default\")\n",
        "print(\"Accuracy Train:\",metrics.accuracy_score(Y_train[TARGET_FLAG], Y_Pred_train))\n",
        "print(\"Accuracy Test:\",metrics.accuracy_score(Y_test[TARGET_FLAG], Y_Pred_test))"
      ],
      "execution_count": null,
      "outputs": [
        {
          "output_type": "stream",
          "name": "stdout",
          "text": [
            "Probability of loan default\n",
            "Accuracy Train: 0.8886325503355704\n",
            "Accuracy Test: 0.8825503355704698\n"
          ]
        }
      ]
    },
    {
      "cell_type": "code",
      "metadata": {
        "colab": {
          "base_uri": "https://localhost:8080/"
        },
        "id": "wYo9sWgyjnNr",
        "outputId": "4c30c2a1-53a7-46fe-d567-f8b51d61dd67"
      },
      "source": [
        "fm01_RF = RandomForestClassifier( criterion = 'entropy', n_estimators = 25, random_state=1 ) #n_estimators is the no. of decision trees\n",
        "fm01_RF = fm01_RF.fit( X_train, Y_train[ TARGET_FLAG ] )\n",
        "\n",
        "Y_Pred_train = fm01_RF.predict(X_train)\n",
        "Y_Pred_test = fm01_RF.predict(X_test)\n",
        "\n",
        "print(\"RANDOM FOREST\\n\")\n",
        "print(\"Probability of loan default\")\n",
        "print(\"Accuracy Train:\",metrics.accuracy_score(Y_train[TARGET_FLAG], Y_Pred_train))\n",
        "print(\"Accuracy Test:\",metrics.accuracy_score(Y_test[TARGET_FLAG], Y_Pred_test))"
      ],
      "execution_count": null,
      "outputs": [
        {
          "output_type": "stream",
          "name": "stdout",
          "text": [
            "RANDOM FOREST\n",
            "\n",
            "Probability of loan default\n",
            "Accuracy Train: 0.9991610738255033\n",
            "Accuracy Test: 0.912751677852349\n"
          ]
        }
      ]
    },
    {
      "cell_type": "markdown",
      "metadata": {
        "id": "1BPQdfbQkKYJ"
      },
      "source": [
        "#### Decision Tree Classifier - change splitter = 'random'"
      ]
    },
    {
      "cell_type": "code",
      "metadata": {
        "id": "tVHSOHUMjnSw"
      },
      "source": [
        "fm01_Tree = tree.DecisionTreeClassifier( splitter = 'random', max_depth=4 ) \n",
        "fm01_Tree = fm01_Tree.fit( X_train, Y_train[ TARGET_FLAG ] )\n",
        "\n",
        "Y_Pred_train = fm01_Tree.predict(X_train)\n",
        "Y_Pred_test = fm01_Tree.predict(X_test)\n",
        "\n",
        "print(\"Probability of loan default\")\n",
        "print(\"Accuracy Train:\",metrics.accuracy_score(Y_train[TARGET_FLAG], Y_Pred_train))\n",
        "print(\"Accuracy Test:\",metrics.accuracy_score(Y_test[TARGET_FLAG], Y_Pred_test))"
      ],
      "execution_count": null,
      "outputs": []
    }
  ]
}